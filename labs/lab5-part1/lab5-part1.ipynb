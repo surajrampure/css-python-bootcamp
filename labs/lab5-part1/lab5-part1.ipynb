{
 "cells": [
  {
   "cell_type": "markdown",
   "id": "f24a0138",
   "metadata": {},
   "source": [
    "# Lab 5, Part 1 – More NumPy\n",
    "## CSS Summer Bootcamp, Week 1 🥾"
   ]
  },
  {
   "cell_type": "code",
   "execution_count": null,
   "id": "96b4483b",
   "metadata": {},
   "outputs": [],
   "source": [
    "# Run this cell, and don't change it!\n",
    "!pip install otter-grader"
   ]
  },
  {
   "cell_type": "code",
   "execution_count": null,
   "id": "9d10198c",
   "metadata": {},
   "outputs": [],
   "source": [
    "# Run this cell, and don't change it!\n",
    "import otter\n",
    "grader = otter.Notebook()\n",
    "\n",
    "import numpy as np\n",
    "import pandas as pd\n",
    "import json"
   ]
  },
  {
   "cell_type": "markdown",
   "id": "5cdf2ae0",
   "metadata": {},
   "source": [
    "## Question 1 – Joint Probabilities\n",
    "\n",
    "Tomorrow's temperature and tomorrow's humidity are both **random**, and so we can assign probabilities to both (e.g. we can say \"the probability that tomorrow's high temperature is at least 74º is 60%\"). The temperature and humidity are related, and so we might be interested in studying their **joint** distribution. Below, we show their joint distribution in a table.\n",
    "\n",
    "|  | Low Humidity | Medium Humidity | High Humidity |\n",
    "| --- | --- | --- | --- |\n",
    "| **Cool** | 0.2 | 0.01 | 0.01 |\n",
    "| **Warm** | 0.05 | 0.1 | 0.1 |\n",
    "| **Hot** | 0.07 | 0.06 | 0.4 |\n",
    "\n",
    "For instance, the above table tells us that **the probability that it is warm and that there is high humidity tomorrow is 0.1**, and **the probability that it is cool and there is medium humidity tomorrow is 0.01**. Note that the probabilities in the table add up to 1 (100%)."
   ]
  },
  {
   "cell_type": "markdown",
   "id": "b73e49ba",
   "metadata": {
    "deletable": false,
    "editable": false
   },
   "source": [
    "### Question 1a\n",
    "\n",
    "Assign `probs` to a 2D array containing the information above. It should have 3 rows and 3 columns, in the exact same order as the above table.\n",
    "\n",
    "<!--\n",
    "BEGIN QUESTION\n",
    "name: q1a\n",
    "-->"
   ]
  },
  {
   "cell_type": "code",
   "execution_count": null,
   "id": "c05e0a1a",
   "metadata": {},
   "outputs": [],
   "source": [
    "probs = ...\n",
    "probs"
   ]
  },
  {
   "cell_type": "code",
   "execution_count": null,
   "id": "3632c069",
   "metadata": {
    "deletable": false,
    "editable": false
   },
   "outputs": [],
   "source": [
    "grader.check(\"q1a\")"
   ]
  },
  {
   "cell_type": "markdown",
   "id": "71bfa7de",
   "metadata": {
    "deletable": false,
    "editable": false
   },
   "source": [
    "### Question 1b\n",
    "\n",
    "To find the probability that it is cool tomorrow, we need to add three probabilities:\n",
    "- The probability it is cool and there is low humidity\n",
    "- The probability it is cool and there is medium humidity\n",
    "- The probability it is cool and there is high humidity\n",
    "\n",
    "We'd have to perform a similar calculation to find the probability it is warm tomorrow and the probability it is hot tomorrow.\n",
    "\n",
    "Below, **using a single call to `np.sum` with the correct `axis` argument**, assign `temp_probs` to an **array with 3 elements in it**, corresponding to the probability it is cool, warm, and hot tomorrow (in that order). If you compute it correctly, the elements in `temp_probs` should sum to 1.\n",
    "\n",
    "<!--\n",
    "BEGIN QUESTION\n",
    "name: q1b\n",
    "-->"
   ]
  },
  {
   "cell_type": "code",
   "execution_count": null,
   "id": "1addc268",
   "metadata": {},
   "outputs": [],
   "source": [
    "temp_probs = ...\n",
    "temp_probs"
   ]
  },
  {
   "cell_type": "code",
   "execution_count": null,
   "id": "819b6476",
   "metadata": {
    "deletable": false,
    "editable": false
   },
   "outputs": [],
   "source": [
    "grader.check(\"q1b\")"
   ]
  },
  {
   "cell_type": "markdown",
   "id": "bb5b9914",
   "metadata": {
    "deletable": false,
    "editable": false
   },
   "source": [
    "### Question 1c\n",
    "\n",
    "Similarly, assign `humid_probs` to an **array with 3 elements in it**, corresponding to the probability tomorrow's humidity is low, medium, or high (in that order). The elements in `humid_probs` should also sum to 1.\n",
    "\n",
    "<!--\n",
    "BEGIN QUESTION\n",
    "name: q1c\n",
    "-->"
   ]
  },
  {
   "cell_type": "code",
   "execution_count": null,
   "id": "a8d5a316",
   "metadata": {},
   "outputs": [],
   "source": [
    "humid_probs = ...\n",
    "humid_probs"
   ]
  },
  {
   "cell_type": "code",
   "execution_count": null,
   "id": "396d3985",
   "metadata": {
    "deletable": false,
    "editable": false
   },
   "outputs": [],
   "source": [
    "grader.check(\"q1c\")"
   ]
  },
  {
   "cell_type": "markdown",
   "id": "ceaa76df",
   "metadata": {},
   "source": [
    "### Question 1d\n",
    "\n",
    "Below, we see the table from the start of the question.\n",
    "\n",
    "|  | Low Humidity | Medium Humidity | High Humidity |\n",
    "| --- | --- | --- | --- |\n",
    "| **Cool** | 0.2 | 0.01 | 0.01 |\n",
    "| **Warm** | 0.05 | 0.1 | 0.1 |\n",
    "| **Hot** | 0.07 | 0.06 | 0.4 |\n",
    "\n",
    "Now, run the cells below."
   ]
  },
  {
   "cell_type": "code",
   "execution_count": null,
   "id": "fc0f6be1",
   "metadata": {},
   "outputs": [],
   "source": [
    "probs"
   ]
  },
  {
   "cell_type": "code",
   "execution_count": null,
   "id": "dc515813",
   "metadata": {},
   "outputs": [],
   "source": [
    "probs[:, 0] / np.sum(probs[:, 0])"
   ]
  },
  {
   "cell_type": "markdown",
   "id": "5ba88346",
   "metadata": {},
   "source": [
    "**Question:** How do we interpret the first number, 0.625, in the context of temperature and humidity?\n",
    "\n",
    "***Hint:*** Think in terms of conditional probabilities."
   ]
  }
 ],
 "metadata": {
  "kernelspec": {
   "display_name": "Python 3 (ipykernel)",
   "language": "python",
   "name": "python3"
  },
  "language_info": {
   "codemirror_mode": {
    "name": "ipython",
    "version": 3
   },
   "file_extension": ".py",
   "mimetype": "text/x-python",
   "name": "python",
   "nbconvert_exporter": "python",
   "pygments_lexer": "ipython3",
   "version": "3.9.7"
  }
 },
 "nbformat": 4,
 "nbformat_minor": 5
}
