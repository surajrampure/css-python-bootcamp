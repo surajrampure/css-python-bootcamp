{
 "cells": [
  {
   "cell_type": "markdown",
   "id": "b32ec783",
   "metadata": {},
   "source": [
    "# Lab 4, Part 3 – NumPy\n",
    "## CSS Summer Bootcamp, Week 1 🥾"
   ]
  },
  {
   "cell_type": "code",
   "execution_count": null,
   "id": "5d6779db",
   "metadata": {},
   "outputs": [],
   "source": [
    "# Run this cell, and don't change it!\n",
    "!pip install otter-grader"
   ]
  },
  {
   "cell_type": "code",
   "execution_count": null,
   "id": "6d358b8b",
   "metadata": {},
   "outputs": [],
   "source": [
    "# Run this cell, and don't change it!\n",
    "import otter\n",
    "grader = otter.Notebook()\n",
    "\n",
    "from ipywidgets import widgets\n",
    "from PIL import Image\n",
    "import io\n",
    "import pandas as pd"
   ]
  },
  {
   "cell_type": "markdown",
   "id": "e738f383",
   "metadata": {},
   "source": [
    "## Question 1 – NumPy Fundamentals\n",
    "\n",
    "In this question, we'll take a closer look at a few functions in NumPy."
   ]
  },
  {
   "cell_type": "code",
   "execution_count": null,
   "id": "85ca06ad",
   "metadata": {},
   "outputs": [],
   "source": [
    "import numpy as np"
   ]
  },
  {
   "cell_type": "markdown",
   "id": "a55f800e",
   "metadata": {},
   "source": [
    "Before working on this section you may want to make sure you understand the following key examples:"
   ]
  },
  {
   "cell_type": "code",
   "execution_count": null,
   "id": "ea488e04",
   "metadata": {},
   "outputs": [],
   "source": [
    "x = np.array([5, 9, 1, 0, -8, 6])\n",
    "y = np.arange(6)"
   ]
  },
  {
   "cell_type": "code",
   "execution_count": null,
   "id": "929c7199",
   "metadata": {},
   "outputs": [],
   "source": [
    "2 * x - 5"
   ]
  },
  {
   "cell_type": "code",
   "execution_count": null,
   "id": "94de8cfa",
   "metadata": {},
   "outputs": [],
   "source": [
    "x + y"
   ]
  },
  {
   "cell_type": "markdown",
   "id": "68d27629",
   "metadata": {
    "deletable": false,
    "editable": false
   },
   "source": [
    "### Question 1a\n",
    "\n",
    "It is often said that \"one dog year is equal to seven human years.\" [This isn't entirely accurate](https://www.akc.org/expert-advice/health/how-to-calculate-dog-years-to-human-years/), but we will assume it is true for this question.\n",
    "\n",
    "Below, implement the function `dog_to_human`, which takes in an array of ages in dog years and outputs an array of human years (these are arrays – not lists!). Example behavior is shown below.\n",
    "\n",
    "```py\n",
    ">>> dog_to_human(np.array([3, 8, 11, 4, 9]))\n",
    "array([21, 56, 77, 28, 63])\n",
    "\n",
    ">>> dog_to_human(np.arange(10))\n",
    "array([0, 7, 14, 21, 28, 35, 42, 49, 56, 63, 72, 81])\n",
    "```\n",
    "\n",
    "\n",
    "**Here's the catch: you cannot use a for loop, and your function can only have one line.** This is not a trick question; it should be very straightforward given what we covered in lecture.\n",
    "\n",
    "***Hint:*** review how arithmetic operations work with arrays.\n",
    "\n",
    "<!--\n",
    "BEGIN QUESTION\n",
    "name: q1a\n",
    "points: 1\n",
    "-->"
   ]
  },
  {
   "cell_type": "code",
   "execution_count": null,
   "id": "268fb8fc",
   "metadata": {},
   "outputs": [],
   "source": [
    "def dog_to_human(ages):\n",
    "    ..."
   ]
  },
  {
   "cell_type": "code",
   "execution_count": null,
   "id": "3795441a",
   "metadata": {
    "deletable": false,
    "editable": false
   },
   "outputs": [],
   "source": [
    "grader.check(\"q1a\")"
   ]
  },
  {
   "cell_type": "markdown",
   "id": "6040b9d7",
   "metadata": {
    "deletable": false,
    "editable": false
   },
   "source": [
    "### Question 1b\n",
    "\n",
    "Suppose you're a waiter, and you've kept track of all of the bills you've given to tables along with the tips they gave you over a period of time in two separate arrays, `bills` and `tips`. One number of interest to you is the tip percentage each table gave you. Tip percentages are calculated according to the formula\n",
    "\n",
    "$$\\text{Tip Percentage} = 100 \\cdot \\frac{\\text{Tip}}{\\text{Bill}}$$\n",
    "\n",
    "Below, implement the function `tip_percentage`, which takes in two arrays `bills` and `tips` and returns an array of tip percentages. Example behavior is shown below.\n",
    "\n",
    "```py\n",
    ">>> tip_percentage(np.array([25, 50, 75]), np.array([15, 15, 15]))\n",
    "array([60., 30., 20.])\n",
    "# Note: 60. is the same as 60.0; numpy is just weird\n",
    "\n",
    ">>> tip_percentage(np.array([50, 70, 100, 95, 25]), np.array([10, 10, 25, 35, 7]))\n",
    "array([20., 14.28571429, 25., 36.84210526, 28.])\n",
    "```\n",
    "\n",
    "**Again, you cannot use a for loop, and your function can only have one line.**\n",
    "\n",
    "<!--\n",
    "BEGIN QUESTION\n",
    "name: q1b\n",
    "points: 1\n",
    "-->"
   ]
  },
  {
   "cell_type": "code",
   "execution_count": null,
   "id": "a7cdd3c4",
   "metadata": {},
   "outputs": [],
   "source": [
    "def tip_percentage(bills, tips):\n",
    "    ..."
   ]
  },
  {
   "cell_type": "code",
   "execution_count": null,
   "id": "68fb817e",
   "metadata": {
    "deletable": false,
    "editable": false
   },
   "outputs": [],
   "source": [
    "grader.check(\"q1b\")"
   ]
  },
  {
   "cell_type": "markdown",
   "id": "9d355bfb",
   "metadata": {},
   "source": [
    "### Question 1c\n",
    "\n",
    "The [Basel problem](https://en.wikipedia.org/wiki/Basel_problem) was a mathematical challenge first issued in 1650. The challenge was to determine the value of the following infinite sum, which we'll call the \"Basel sum\":\n",
    "\n",
    "$$\\sum_{k = 1}^n \\frac{1}{k^2} = \\frac{1}{1^2} + \\frac{1}{2^2} + \\frac{1}{3^2} + \\frac{1}{4^2} + \\frac{1}{5^2} + ... + \\frac{1}{10000^2} + ...$$"
   ]
  },
  {
   "cell_type": "markdown",
   "id": "38c4ccb8",
   "metadata": {},
   "source": [
    "Leonard Euler (the same person who $e$ is named after) determined the value of the Basel sum is exactly $\\frac{\\pi^2}{6}$.\n",
    "\n",
    "In this subpart, we'll try and prove to ourselves that Euler is right, without using any fancy math. Instead, we'll use what we know about for loops and arrays – and along the way, we'll show you how much faster `numpy` arrays are at certain tasks than for loops.\n",
    "\n",
    "First, we should acknowledge that while the above sum is infinite, computers don't understand the idea of infinity. So we'll have to settle for summing a lot terms of the above summation and checking to see if the result is close to $\\frac{\\pi^2}{6}$. We'll sum ten million (`10**7`) terms.\n",
    "\n",
    "#### For Loop\n",
    "\n",
    "First, we'll sum ten million terms of the Basel sum using a for loop, and store our answer in `basel_sum_for`. This has already been done for you, just run the following cell."
   ]
  },
  {
   "cell_type": "code",
   "execution_count": null,
   "id": "47171777",
   "metadata": {},
   "outputs": [],
   "source": [
    "%%time\n",
    "\n",
    "basel_sum_for = 0\n",
    "for i in range(1, 10**7 + 1):\n",
    "    basel_sum_for += 1 / (i**2)\n",
    "    \n",
    "print('result using for loop: ', basel_sum_for, '\\n\\n')"
   ]
  },
  {
   "cell_type": "markdown",
   "id": "0adb28a8",
   "metadata": {},
   "source": [
    "The number next to `total:` above tells us the amount of time it took to run the above cell.\n",
    "\n",
    "The resulting value does look pretty close to $\\frac{\\pi^2}{6}$:"
   ]
  },
  {
   "cell_type": "code",
   "execution_count": null,
   "id": "25c0f160",
   "metadata": {},
   "outputs": [],
   "source": [
    "# np.pi is a variable built into numpy\n",
    "\n",
    "(np.pi ** 2) / 6"
   ]
  },
  {
   "cell_type": "markdown",
   "id": "ec7e937e",
   "metadata": {
    "deletable": false,
    "editable": false
   },
   "source": [
    "#### Arrays\n",
    "\n",
    "Now, instead of using a for loop, it's your turn to compute the Basel sum using an array.\n",
    "\n",
    "Below, assign `basel_array` to an array with ten million elements, each of which is one term of the Basel sum sequence. `basel_array[0]` should be $\\frac{1}{1^2}$, `basel_array[1]` should be $\\frac{1}{2^2}$, and so on.\n",
    "\n",
    "After you assign `basel_array` correctly, assign `basel_sum_arr` to the sum of your ten million-element array `basel_arr`, using `np.sum`. The result you get should be very close to `basel_sum_for`.\n",
    "\n",
    "**To compute `basel_arr`, start by calling `np.arange` with the arguments that were used with `range` in the for loop above. Both `basel_arr` and `basel_arr_sum` should be computed in one line each!**\n",
    "\n",
    "<!--\n",
    "BEGIN QUESTION\n",
    "name: q1c\n",
    "points: 2\n",
    "-->"
   ]
  },
  {
   "cell_type": "code",
   "execution_count": null,
   "id": "231e2bc5",
   "metadata": {},
   "outputs": [],
   "source": [
    "%%time\n",
    "\n",
    "basel_arr = ...\n",
    "    \n",
    "basel_sum_arr = ...\n",
    "print('result using numpy arrays: ', basel_sum_arr, '\\n\\n')"
   ]
  },
  {
   "cell_type": "code",
   "execution_count": null,
   "id": "1591d09b",
   "metadata": {
    "deletable": false,
    "editable": false
   },
   "outputs": [],
   "source": [
    "grader.check(\"q1c\")"
   ]
  },
  {
   "cell_type": "markdown",
   "id": "164da7cf",
   "metadata": {},
   "source": [
    "If you did things correctly, you should see that `basel_sum_arr` is pretty close to `basel_sum_for`. However, the time it took for `basel_sum_arr` to be computed is roughly a quarter of the time it took for `basel_sum_for` to be computed! Hopefully, this drives home the point that NumPy arrays are quite powerful."
   ]
  },
  {
   "cell_type": "markdown",
   "id": "402238c6",
   "metadata": {},
   "source": [
    "### Question 1d\n",
    "\n",
    "Below, we load in the year-wise global population dataset we looked at in Lab 2A, but this time as an array."
   ]
  },
  {
   "cell_type": "code",
   "execution_count": null,
   "id": "b6379749",
   "metadata": {},
   "outputs": [],
   "source": [
    "population = pd.read_csv('data/world_population_2022.csv')['Population'].to_numpy()\n",
    "population"
   ]
  },
  {
   "cell_type": "markdown",
   "id": "f383610d",
   "metadata": {},
   "source": [
    "The first year in the dataset is 1950."
   ]
  },
  {
   "cell_type": "code",
   "execution_count": null,
   "id": "b4c530ef",
   "metadata": {},
   "outputs": [],
   "source": [
    "# Population in 1950\n",
    "population[0]"
   ]
  },
  {
   "cell_type": "markdown",
   "id": "00c491d5",
   "metadata": {},
   "source": [
    "The last year in the dataset is 2022."
   ]
  },
  {
   "cell_type": "code",
   "execution_count": null,
   "id": "948af504",
   "metadata": {},
   "outputs": [],
   "source": [
    "population[72]"
   ]
  },
  {
   "cell_type": "code",
   "execution_count": null,
   "id": "4a208d55",
   "metadata": {},
   "outputs": [],
   "source": [
    "len(population)"
   ]
  },
  {
   "cell_type": "markdown",
   "id": "0e683436",
   "metadata": {},
   "source": [
    "Answer the following subproblems involving `population`."
   ]
  },
  {
   "cell_type": "markdown",
   "id": "a2503bad",
   "metadata": {
    "deletable": false,
    "editable": false
   },
   "source": [
    "#### Part 1\n",
    "\n",
    "Assign `num_above_5_bill` to the **number of years** that the world's population has been above 5,000,000.\n",
    "\n",
    "***Hint:*** Use Boolean indexing. Don't count manually, and don't use a `for`-loop!\n",
    "\n",
    "<!--\n",
    "BEGIN QUESTION\n",
    "name: q1d-part1\n",
    "-->"
   ]
  },
  {
   "cell_type": "code",
   "execution_count": null,
   "id": "7c534db0",
   "metadata": {},
   "outputs": [],
   "source": [
    "num_above_5_bill = np.sum(population >= 5 * (10 ** 9))\n",
    "num_above_5_bill"
   ]
  },
  {
   "cell_type": "code",
   "execution_count": null,
   "id": "3ff1e3ff",
   "metadata": {
    "deletable": false,
    "editable": false
   },
   "outputs": [],
   "source": [
    "grader.check(\"q1d-part1\")"
   ]
  },
  {
   "cell_type": "markdown",
   "id": "242371c7",
   "metadata": {
    "deletable": false,
    "editable": false
   },
   "source": [
    "#### Part 2\n",
    "\n",
    "Assign `changes` to an array containing the **differences** in yearly populations. `changes` should have 1 fewer element than `population`. For example, the first element in `changes` should be `37322630`, since that's the difference between the population in 1951 and the population in 1950.\n",
    "\n",
    "***Hint:*** This only involves a single line of code. If you're not sure how to proceed, take a look at the slide titled \"Even more functions...\" in the most recent lecture.\n",
    "\n",
    "<!--\n",
    "BEGIN QUESTION\n",
    "name: q1d-part2\n",
    "-->"
   ]
  },
  {
   "cell_type": "code",
   "execution_count": null,
   "id": "086de0bf",
   "metadata": {
    "scrolled": true
   },
   "outputs": [],
   "source": [
    "changes = ...\n",
    "changes"
   ]
  },
  {
   "cell_type": "code",
   "execution_count": null,
   "id": "6dce6c33",
   "metadata": {
    "deletable": false,
    "editable": false
   },
   "outputs": [],
   "source": [
    "grader.check(\"q1d-part2\")"
   ]
  },
  {
   "cell_type": "markdown",
   "id": "ce68b63b",
   "metadata": {},
   "source": [
    "#### Part 3\n",
    "\n",
    "The function `np.argmax` returns the position (index) of the largest element in an array."
   ]
  },
  {
   "cell_type": "code",
   "execution_count": null,
   "id": "6204c7b0",
   "metadata": {},
   "outputs": [],
   "source": [
    "np.argmax(np.array([5, 2, 1, 9, 3]))"
   ]
  },
  {
   "cell_type": "markdown",
   "id": "7a645ae3",
   "metadata": {
    "deletable": false,
    "editable": false
   },
   "source": [
    "Using `np.argmax` (and perhaps other arithmetic), determine the year that saw the largest population increase over the previous year, in terms of raw number of people. For instance, if the answer is 1982, what that would mean is that the difference between the population in 1982 and 1981 is larger than the difference between the populations in any other two consecutive years in the dataset. Assign your result to `biggest_change`.\n",
    "\n",
    "<!--\n",
    "BEGIN QUESTION\n",
    "name: q1d-part3\n",
    "-->"
   ]
  },
  {
   "cell_type": "code",
   "execution_count": null,
   "id": "6eb20e81",
   "metadata": {},
   "outputs": [],
   "source": [
    "biggest_change = ...\n",
    "biggest_change"
   ]
  },
  {
   "cell_type": "code",
   "execution_count": null,
   "id": "38849f07",
   "metadata": {
    "deletable": false,
    "editable": false
   },
   "outputs": [],
   "source": [
    "grader.check(\"q1d-part3\")"
   ]
  },
  {
   "cell_type": "markdown",
   "id": "ea10c4f0",
   "metadata": {
    "deletable": false,
    "editable": false
   },
   "source": [
    "#### Part 4\n",
    "\n",
    "Recall, to compute the percentage increase between an initial value and a final value, we use the formula:\n",
    "\n",
    "$$\\text{% change} = 100\\% \\cdot \\frac{\\text{Final} - \\text{Initial}}{\\text{Initial}}$$\n",
    "\n",
    "What year saw the largest population increase over the previous year, **as a percentage**? Assign your result to `biggest_change_pct`.\n",
    "\n",
    "***Hint:*** This is tricky. Our answer still only uses one line, and uses both `changes` and `population`.\n",
    "\n",
    "\n",
    "<!--\n",
    "BEGIN QUESTION\n",
    "name: q1d-part4\n",
    "-->"
   ]
  },
  {
   "cell_type": "code",
   "execution_count": null,
   "id": "e8b1acfe",
   "metadata": {},
   "outputs": [],
   "source": [
    "biggest_change_pct = ...\n",
    "biggest_change_pct"
   ]
  },
  {
   "cell_type": "code",
   "execution_count": null,
   "id": "9433f572",
   "metadata": {
    "deletable": false,
    "editable": false
   },
   "outputs": [],
   "source": [
    "grader.check(\"q1d-part4\")"
   ]
  },
  {
   "cell_type": "markdown",
   "id": "776daf0c",
   "metadata": {},
   "source": [
    "## Question 2 – #nofilter\n",
    "\n",
    "In this question, you will write code that applies greyscale, sepia, and x-ray filters to images! Run the cell below to get started."
   ]
  },
  {
   "cell_type": "code",
   "execution_count": null,
   "id": "391fdf6f",
   "metadata": {
    "scrolled": false
   },
   "outputs": [],
   "source": [
    "# Don't worry about what this code is doing, just run it.\n",
    "import skimage.io as skio\n",
    "import matplotlib.pyplot as plt\n",
    "\n",
    "def show_image(image_array):\n",
    "    plt.figure(figsize = (10, 5))\n",
    "    plt.imshow(image_array)\n",
    "    plt.axis('off');\n",
    "    \n",
    "geisel = skio.imread('images/geisel.jpeg')\n",
    "show_image(geisel)\n",
    "print('Our beautiful campus.')"
   ]
  },
  {
   "cell_type": "markdown",
   "id": "850460ba",
   "metadata": {},
   "source": [
    "Images are made up of pixels. One of the most common ways to represent the color of a pixel is using the RGB format. In RGB, each color is described by three numbers – a red (R) value, a green (G) value, and a blue (B) value – each describing the \"amount\" of that base color that is present. The larger R is, the more red there is.\n",
    "\n",
    "R, G, and B are each numbers between 0 and 255 inclusive, and we often express them together in a list or array (in the order R, then G, then B). So for example, `[255, 0, 0]` refers to the color red, and `[92, 45, 99]` refers to a dark-ish purple. [This tool](https://convertingcolors.com/rgb-color-92_45_99.html?search=RGB(92,%2045,%2099)) helps visualize what different RGB values look like.\n",
    "\n",
    "<img src='images/rgbmodel.png' width = 250>\n",
    "\n",
    "One way to apply filters to images is to apply mathematical functions to R, G, and B to calculate a new color for each pixel. That's exactly what you'll do in this question.\n",
    "\n",
    "***Note:*** The code in this problem looks deceptively long and complicated – you only have to fill in ~7 lines total."
   ]
  },
  {
   "cell_type": "markdown",
   "id": "d79c8900",
   "metadata": {
    "deletable": false,
    "editable": false
   },
   "source": [
    "### Question 2a – Greyscale filter\n",
    "\n",
    "The greyscale filter works like this:\n",
    "\n",
    "$$\n",
    "\\begin{align*}\n",
    "\\text{new R} &= \\frac{\\text{old R} + \\text{old G} + \\text{old B}}{3} \\\\\n",
    "\\text{new G} &= \\text{new B} = \\text{new R}\n",
    "\\end{align*}\n",
    "$$\n",
    "\n",
    "That is, to convert a pixel to greyscale, you average its R, G, and B values.\n",
    "\n",
    "Below, complete the implementation of `greyscale_filter`, which takes in an `np.array` `pixel` and returns a new `np.array` whose values are converted to greyscale. Example behavior is shown below.\n",
    "\n",
    "```py\n",
    ">>> greyscale_filter(np.array([50, 100, 150]))\n",
    "array([100., 100., 100.])\n",
    "\n",
    ">>> greyscale_filter(np.array([132, 213, 100]))\n",
    "array([148.33333333, 148.33333333, 148.33333333])\n",
    "```\n",
    "\n",
    "***Note:*** Do not write `(pixel[0] + pixel[1] + pixel[2]) / 3`! Instead, use `np.mean`, a function which takes in an array and returns the mean of all values in the array.\n",
    "\n",
    "<!--\n",
    "BEGIN QUESTION\n",
    "name: q5a\n",
    "points: 1\n",
    "-->"
   ]
  },
  {
   "cell_type": "code",
   "execution_count": null,
   "id": "dc9e9084",
   "metadata": {},
   "outputs": [],
   "source": [
    "def greyscale_filter(pixel):\n",
    "    # Don't add any more lines!\n",
    "    average = ...\n",
    "    return np.array([average, average, average])"
   ]
  },
  {
   "cell_type": "code",
   "execution_count": null,
   "id": "ef0f603f",
   "metadata": {
    "deletable": false,
    "editable": false
   },
   "outputs": [],
   "source": [
    "grader.check(\"q5a\")"
   ]
  },
  {
   "cell_type": "markdown",
   "id": "9281d66e",
   "metadata": {},
   "source": [
    "Now that you've implemented your first filter function, it's time to see it in action. Run the cell below to convert our Geisel image to greyscale and display it. It may take ~10 seconds."
   ]
  },
  {
   "cell_type": "code",
   "execution_count": null,
   "id": "d0d05001",
   "metadata": {},
   "outputs": [],
   "source": [
    "# Don't worry about what this code is doing, just run it.\n",
    "def apply_filter_to_image(image, filter_fn):\n",
    "    new_image = np.zeros(image.shape)\n",
    "    for x in range(image.shape[0]):\n",
    "        for y in range(image.shape[1]):\n",
    "            new_image[x][y] = filter_fn(image[x][y])\n",
    "    \n",
    "    return new_image.astype(int)\n",
    "\n",
    "geisel_greyscale = apply_filter_to_image(geisel, greyscale_filter)\n",
    "\n",
    "show_image(geisel_greyscale)"
   ]
  },
  {
   "cell_type": "markdown",
   "id": "61a84e9e",
   "metadata": {},
   "source": [
    "Cool!"
   ]
  },
  {
   "cell_type": "markdown",
   "id": "67c46274",
   "metadata": {
    "deletable": false,
    "editable": false
   },
   "source": [
    "### Question 2b – X-Ray filter\n",
    "\n",
    "Another fun filter is the X-ray filter, which follows this rule:\n",
    "\n",
    "$$\n",
    "\\begin{align*}\n",
    "\\text{new R} &= 255 - \\frac{\\text{old R} + \\text{old G} + \\text{old B}}{3} \\\\\n",
    "\\text{new G} &= \\text{new B} = \\text{new R}\n",
    "\\end{align*}\n",
    "$$\n",
    "\n",
    "\n",
    "Below, complete the implementation of `xray_filter`, which takes in an `np.array` `pixel` and returns a new `np.array` whose values are converted to x-ray. Example behavior is shown below.\n",
    "\n",
    "```py\n",
    ">>> xray_filter(np.array([50, 100, 150]))\n",
    "array([155., 155., 155.])\n",
    "\n",
    ">>> xray_filter(np.array([132, 213, 100]))\n",
    "array([106.66666667, 106.66666667, 106.66666667])\n",
    "```\n",
    "\n",
    "***Note:*** `xray_filter` can be written in terms of `greyscale_filter`! In your work, you should not call `np.mean` or index into `pixel` at all. Instead, call `xray_filter` and see how you can use the properties of arrays to compute the rule above.\n",
    "\n",
    "***Hint:*** `5 - np.array([1, 2, 3])` evaluates to `np.array([4, 3, 2])`.\n",
    "\n",
    "<!--\n",
    "BEGIN QUESTION\n",
    "name: q2b\n",
    "points: 1\n",
    "-->"
   ]
  },
  {
   "cell_type": "code",
   "execution_count": null,
   "id": "e8715dda",
   "metadata": {},
   "outputs": [],
   "source": [
    "def xray_filter(pixel):\n",
    "    ..."
   ]
  },
  {
   "cell_type": "code",
   "execution_count": null,
   "id": "7477ced6",
   "metadata": {
    "deletable": false,
    "editable": false
   },
   "outputs": [],
   "source": [
    "grader.check(\"q2b\")"
   ]
  },
  {
   "cell_type": "markdown",
   "id": "68ce2d38",
   "metadata": {},
   "source": [
    "Let's see what the X-ray filter looks like:"
   ]
  },
  {
   "cell_type": "code",
   "execution_count": null,
   "id": "8256f229",
   "metadata": {},
   "outputs": [],
   "source": [
    "# Run this cell.\n",
    "geisel_xray = apply_filter_to_image(geisel, xray_filter)\n",
    "show_image(geisel_xray)"
   ]
  },
  {
   "cell_type": "markdown",
   "id": "e059f7bf",
   "metadata": {},
   "source": [
    "Spooky!"
   ]
  },
  {
   "cell_type": "markdown",
   "id": "3acad0d4",
   "metadata": {},
   "source": [
    "### Question 2c – Sepia filter\n",
    "\n",
    "The last filter we will apply is the [sepia](https://raw.pics.io/sepia-image) filter, which will give our images a \"historic\" feel. The sepia filter follows this more complicated rule:\n",
    "\n",
    "$$\n",
    "\\begin{align*}\n",
    "\\text{new R} &= (0.393 \\cdot \\text{old R}) + (0.769 \\cdot \\text{old G}) + (0.189 \\cdot \\text{old B}) \\\\\n",
    "\\text{new G} &= (0.349 \\cdot \\text{old R}) + (0.686 \\cdot \\text{old G}) + (0.168 \\cdot \\text{old B}) \\\\\n",
    "\\text{new B} &= (0.272 \\cdot \\text{old R}) + (0.534 \\cdot \\text{old G}) + (0.131 \\cdot \\text{old B})\n",
    "\\end{align*}\n",
    "$$\n",
    "\n",
    "If any of $\\text{new R}$, $\\text{new G}$, or $\\text{new B}$ are greater than 255, we set them equal to 255.\n",
    "\n",
    "In this question you will implement `sepia_filter` – but we want to let you know of a few `numpy` functions that you need to use (that will make your life easy)!\n",
    "\n",
    "The first of these is `np.dot`. `np.dot` takes in two arrays, multiplies their elements pairwise, and sums together the result. If `x` and `y` are two arrays, `np.dot(x, y)` calculates `x[0]*y[0] + x[1]*y[1] + x[2]*y[2] + ...`. Here's an example:"
   ]
  },
  {
   "cell_type": "code",
   "execution_count": null,
   "id": "c76f362c",
   "metadata": {},
   "outputs": [],
   "source": [
    "a = np.array([5, 1, 2])\n",
    "b = np.array([1, -1, 4])\n",
    "\n",
    "# Equal to 5*1 + 1*(-1) + 2 * 4\n",
    "np.dot(a, b)"
   ]
  },
  {
   "cell_type": "markdown",
   "id": "fe0fd6bd",
   "metadata": {},
   "source": [
    "You should use `np.dot` to calculate $\\text{new R}$, $\\text{new G}$, and $\\text{new B}$; it is **way** easier than manually writing out the formulas.\n",
    "\n",
    "The other function we want you to know about is `np.clip`. `np.clip` takes in three arguments: an array, a lower bound, and an upper bound. It returns a new array where every element less than the lower bound is replaced with the lower bound, and every element greater than the upper bound is replaced with the upper bound. Here's an example:"
   ]
  },
  {
   "cell_type": "code",
   "execution_count": null,
   "id": "ac9a99a2",
   "metadata": {},
   "outputs": [],
   "source": [
    "numbers = np.array([15, -1, 25, 18, 26, 4, 5, -4])\n",
    "\n",
    "np.clip(numbers, 0, 20)"
   ]
  },
  {
   "cell_type": "markdown",
   "id": "3905aa6d",
   "metadata": {},
   "source": [
    "You will need to use `np.clip` before returning your results, because the dot products you perform may bring some RGB values below 0 or above 255, which is invalid."
   ]
  },
  {
   "cell_type": "markdown",
   "id": "76f02a93",
   "metadata": {
    "deletable": false,
    "editable": false
   },
   "source": [
    "In the cell below, complete the implementation of `sepia_filter`. Example behavior is shown below.\n",
    "\n",
    "```py\n",
    ">>> sepia_filter(np.array([50, 100, 150]))\n",
    "array([124.9 , 111.25,  86.65])\n",
    "\n",
    ">>> sepia_filter(np.array([132, 213, 100]))\n",
    "array([234.573, 208.986, 162.746])\n",
    "```\n",
    "\n",
    "<!--\n",
    "BEGIN QUESTION\n",
    "name: q5c\n",
    "points: 2\n",
    "-->"
   ]
  },
  {
   "cell_type": "code",
   "execution_count": null,
   "id": "ecd918f3",
   "metadata": {},
   "outputs": [],
   "source": [
    "def sepia_filter(pixel):\n",
    "    # Don't change any of red_coef, green_coef, or blue_coef\n",
    "    red_coef = np.array([0.393, 0.769, 0.189])\n",
    "    green_coef = np.array([0.349, 0.686, 0.168])\n",
    "    blue_coef = np.array([0.272, 0.534, 0.131])\n",
    "    \n",
    "    # Remember to use np.dot (3 times) and np.clip at the end!\n",
    "    ..."
   ]
  },
  {
   "cell_type": "code",
   "execution_count": null,
   "id": "d24cebdf",
   "metadata": {
    "deletable": false,
    "editable": false
   },
   "outputs": [],
   "source": [
    "grader.check(\"q5c\")"
   ]
  },
  {
   "cell_type": "markdown",
   "id": "ff814e6f",
   "metadata": {},
   "source": [
    "Time to enjoy the fruits of our labor once again:"
   ]
  },
  {
   "cell_type": "code",
   "execution_count": null,
   "id": "a968aefd",
   "metadata": {},
   "outputs": [],
   "source": [
    "# Run this cell\n",
    "geisel_sepia = apply_filter_to_image(geisel, sepia_filter)\n",
    "show_image(geisel_sepia)"
   ]
  },
  {
   "cell_type": "markdown",
   "id": "184164e5",
   "metadata": {},
   "source": [
    "### Fun Demo\n",
    "\n",
    "Now that you've done all of the work necessary to implement three cool filters, it's only right that you get the chance to try them out on your own images.\n",
    "\n",
    "**First**, run this cell. It will show you an \"Upload\" button which you can click to upload an image from your computer. **You must upload a `.jpg` image!** It will also show you a dropdown menu which will allow you to select from one of the three filters we created in this question. (Smaller images work faster.)"
   ]
  },
  {
   "cell_type": "code",
   "execution_count": null,
   "id": "0d3b2741",
   "metadata": {},
   "outputs": [],
   "source": [
    "def extract_array_from_upload(uploader):\n",
    "    content = list(uploader.value.values())[0]['content']\n",
    "    img = Image.open(io.BytesIO(content))\n",
    "    arr = np.asarray(img)\n",
    "    return arr\n",
    "\n",
    "uploader = widgets.FileUpload(\n",
    "    accept='.jpg',\n",
    "    multiple=False\n",
    ")\n",
    "\n",
    "filter_select = widgets.Dropdown(\n",
    "    options=['greyscale', 'x-ray', 'sepia'],\n",
    "    value='sepia'\n",
    ")\n",
    "\n",
    "display(uploader)\n",
    "display(filter_select)"
   ]
  },
  {
   "cell_type": "markdown",
   "id": "547a8be5",
   "metadata": {},
   "source": [
    "Then, run the following cell to perform all of the necessary computation and output your filtered image."
   ]
  },
  {
   "cell_type": "code",
   "execution_count": null,
   "id": "753ee680",
   "metadata": {},
   "outputs": [],
   "source": [
    "original_image = extract_array_from_upload(uploader)\n",
    "print('Original image:')\n",
    "show_image(original_image)\n",
    "plt.show()\n",
    "\n",
    "filter_map = {'greyscale': greyscale_filter, 'x-ray': xray_filter, 'sepia': sepia_filter}\n",
    "image_converted = (apply_filter_to_image(original_image, filter_map[filter_select.value]))\n",
    "print('Filtered image')\n",
    "show_image(image_converted)"
   ]
  },
  {
   "cell_type": "markdown",
   "id": "42d9db63",
   "metadata": {},
   "source": [
    "Who needs Instagram? 😎"
   ]
  },
  {
   "cell_type": "markdown",
   "id": "72057ce4",
   "metadata": {},
   "source": [
    "## Question 3 – The Birthday \"Paradox\"\n",
    "\n",
    "The Birthday \"Paradox\" involves the following question:\n",
    "\n",
    "> How many students do you need in a class so that there is a 50% chance that at least two students have the same birthday?\n",
    "\n",
    "What do you think the answer is? 10? 30? 150?\n",
    "\n",
    "It turns out that we can find the answer by simulating, using functions built into `np.random`. Let’s assume that all birth dates are equally likely (and there are no leap years). Here's how we'd go about carrying out the simulation:\n",
    "\n",
    "1. Generate random integers between 1 and 365, one at a time. \n",
    "2. Do this until two numbers are the same – this is the smallest class size in one “simulation” such that two students have the same birthday.\n",
    "    - Pretend we’re drawing birthdays out of a hat, writing them down, and putting them back in. We stop once we draw the same birthday twice.\n",
    "3. Repeat step 1 many times.\n"
   ]
  },
  {
   "cell_type": "markdown",
   "id": "172bbd23",
   "metadata": {
    "deletable": false,
    "editable": false
   },
   "source": [
    "### Question 3a\n",
    "\n",
    "Complete the implementation of the function `one_sum()` so that it follows steps 1 and 2 above. That is, it should randomly select integers between 1 and 365 repeatedly until it sees two of the same integer. When it sees two of the same integer, it should return the number of integers it has drawn (including the duplicate).\n",
    "\n",
    "So for instance, if the sequence of numbers we draw is\n",
    "\n",
    "12, 322, 19, 215, 103, 98, 9, 322\n",
    "\n",
    "`one_sim` should return 8.\n",
    "\n",
    "***Hint:*** You'll need a loop of some sort. 🤔\n",
    "\n",
    "<!--\n",
    "BEGIN QUESTION\n",
    "name: q3a\n",
    "-->"
   ]
  },
  {
   "cell_type": "code",
   "execution_count": null,
   "id": "5a974e8e",
   "metadata": {},
   "outputs": [],
   "source": [
    "def one_sim():\n",
    "    ..."
   ]
  },
  {
   "cell_type": "markdown",
   "id": "6bba20d4",
   "metadata": {},
   "source": [
    "Once you've implemented `one_sim`, run the cell below several times to get a feel for the range of values that are typical."
   ]
  },
  {
   "cell_type": "code",
   "execution_count": null,
   "id": "060c5acc",
   "metadata": {
    "scrolled": true
   },
   "outputs": [],
   "source": [
    "one_sim()"
   ]
  },
  {
   "cell_type": "markdown",
   "id": "d97067e9",
   "metadata": {
    "deletable": false,
    "editable": false
   },
   "source": [
    "### Question 3b\n",
    "\n",
    "Now, assign `class_sizes` to an array containing the results of calling `one_sim()` 100,000 times.\n",
    "\n",
    "***Hint:*** You'll need to write another loop, and that's fine. It might take a while to run.\n",
    "\n",
    "<!--\n",
    "BEGIN QUESTION\n",
    "name: q3b\n",
    "-->"
   ]
  },
  {
   "cell_type": "code",
   "execution_count": null,
   "id": "6d107aea",
   "metadata": {},
   "outputs": [],
   "source": [
    "class_sizes = ...\n",
    "class_sizes"
   ]
  },
  {
   "cell_type": "code",
   "execution_count": null,
   "id": "f70e15d2",
   "metadata": {
    "deletable": false,
    "editable": false
   },
   "outputs": [],
   "source": [
    "grader.check(\"q3b\")"
   ]
  },
  {
   "cell_type": "markdown",
   "id": "05cb0a13",
   "metadata": {},
   "source": [
    "Now that we've run our simulation many times, let's take a look at the results. Run the cell below."
   ]
  },
  {
   "cell_type": "code",
   "execution_count": null,
   "id": "d981a20d",
   "metadata": {},
   "outputs": [],
   "source": [
    "import matplotlib.pyplot as plt\n",
    "plt.figure(figsize=(10, 5))\n",
    "plt.hist(class_sizes, density=True, bins=np.arange(0, 101, 1), ec='black')\n",
    "plt.xlabel('class size')\n",
    "plt.ylabel('density');"
   ]
  },
  {
   "cell_type": "markdown",
   "id": "dcb30d55",
   "metadata": {},
   "source": [
    "The histogram above contains class sizes on the x-axis and **density** on the y-axis. The y-axis is defined so that the total area of the histogram adds up to 1. To calculate probabilities using this histogram, we can just calculate areas.\n",
    "\n",
    "These results may be surprising! It turns out that you don't need very many people in a class in order for the chance that two people share a birthday to be quite high.\n",
    "\n",
    "Let's try and find the class size that divides the histogram in two. That class size will have the property that **50% of the time, a class with that many students will have two people that share the same birthday**."
   ]
  },
  {
   "cell_type": "code",
   "execution_count": null,
   "id": "664932d8",
   "metadata": {},
   "outputs": [],
   "source": [
    "np.median(class_sizes)"
   ]
  },
  {
   "cell_type": "markdown",
   "id": "899bcc93",
   "metadata": {},
   "source": [
    "Much smaller than you expected, right?"
   ]
  },
  {
   "cell_type": "code",
   "execution_count": null,
   "id": "20d24eed",
   "metadata": {},
   "outputs": [],
   "source": [
    "import matplotlib.pyplot as plt\n",
    "plt.figure(figsize=(10, 5))\n",
    "plt.hist(class_sizes, density=True, bins=np.arange(0, 101, 1), ec='black')\n",
    "plt.xlabel('class size')\n",
    "plt.ylabel('density');\n",
    "plt.axvline(x=np.median(class_sizes), color='red', linewidth=3);"
   ]
  }
 ],
 "metadata": {
  "kernelspec": {
   "display_name": "Python 3 (ipykernel)",
   "language": "python",
   "name": "python3"
  },
  "language_info": {
   "codemirror_mode": {
    "name": "ipython",
    "version": 3
   },
   "file_extension": ".py",
   "mimetype": "text/x-python",
   "name": "python",
   "nbconvert_exporter": "python",
   "pygments_lexer": "ipython3",
   "version": "3.9.7"
  }
 },
 "nbformat": 4,
 "nbformat_minor": 5
}
