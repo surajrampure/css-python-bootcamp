{
 "cells": [
  {
   "cell_type": "markdown",
   "id": "348e6471",
   "metadata": {},
   "source": [
    "# Lab 2B\n",
    "## CSS Summer Bootcamp, Week 1 🥾\n",
    "\n",
    "Welcome to Lab 2B of Week 1!"
   ]
  },
  {
   "cell_type": "code",
   "execution_count": null,
   "id": "fb2d6f7c",
   "metadata": {},
   "outputs": [],
   "source": [
    "# Run this cell, and don't change it!\n",
    "!pip install otter-grader"
   ]
  },
  {
   "cell_type": "code",
   "execution_count": null,
   "id": "27c44085",
   "metadata": {},
   "outputs": [],
   "source": [
    "# Run this cell, and don't change it!\n",
    "import otter\n",
    "grader = otter.Notebook()\n",
    "\n",
    "import numpy as np\n",
    "import pandas as pd"
   ]
  },
  {
   "cell_type": "markdown",
   "id": "66ad793c",
   "metadata": {},
   "source": [
    "## Question 1 – Bug Fixing 🐞\n",
    "\n",
    "In each subpart, you'll be presented with an implementation of a function with mistakes in it. Your job is to understand what the function is supposed to do and fix the implementation."
   ]
  },
  {
   "cell_type": "markdown",
   "id": "0342a564",
   "metadata": {},
   "source": [
    "### Question 1a\n",
    "\n",
    "Alexa is trying to write a function `sphere_volume` that takes in `r`, the radius of a sphere, and returns the volume of that sphere, according to the formula\n",
    "\n",
    "$$V = \\frac{4}{3} \\pi r^3$$\n",
    "\n",
    "Here is Alexa's implementation:"
   ]
  },
  {
   "cell_type": "code",
   "execution_count": null,
   "id": "c1aa0234",
   "metadata": {},
   "outputs": [],
   "source": [
    "def sphere_volume(r):\n",
    "    sphere_volume = (4 / 3) * 3.14159 * r ** 3\n",
    "    print(sphere_volume)"
   ]
  },
  {
   "cell_type": "markdown",
   "id": "dbc0ee1e",
   "metadata": {},
   "source": [
    "Alexa's implementation works... kind of. If we call `sphere_volume(5)`, we get some result:"
   ]
  },
  {
   "cell_type": "code",
   "execution_count": null,
   "id": "932307d7",
   "metadata": {},
   "outputs": [],
   "source": [
    "sphere_volume(5)"
   ]
  },
  {
   "cell_type": "markdown",
   "id": "d5351cc2",
   "metadata": {},
   "source": [
    "But when we assign the result of `sphere_volume(5)` to some variable, things don't seem to be working correctly."
   ]
  },
  {
   "cell_type": "code",
   "execution_count": null,
   "id": "3248c9a6",
   "metadata": {},
   "outputs": [],
   "source": [
    "v = sphere_volume(5)"
   ]
  },
  {
   "cell_type": "code",
   "execution_count": null,
   "id": "64523d7e",
   "metadata": {},
   "outputs": [],
   "source": [
    "v"
   ]
  },
  {
   "cell_type": "code",
   "execution_count": null,
   "id": "7cb8b194",
   "metadata": {},
   "outputs": [],
   "source": [
    "print(v)"
   ]
  },
  {
   "cell_type": "markdown",
   "id": "37fea7ab",
   "metadata": {},
   "source": [
    "**What is the issue with Alexa's function?** Once you come up with an answer, **call over an instructor or TA and explain your understanding**."
   ]
  },
  {
   "cell_type": "markdown",
   "id": "46dd465c",
   "metadata": {
    "deletable": false,
    "editable": false
   },
   "source": [
    "**Now, in the cell below, fix Alexa's function so that it works correctly.** Also fix it so that if `r` is less than 0, the value 0 is returned.\n",
    "\n",
    "<!--\n",
    "BEGIN QUESTION\n",
    "name: q1a\n",
    "points: 1\n",
    "-->"
   ]
  },
  {
   "cell_type": "code",
   "execution_count": null,
   "id": "31dd6960",
   "metadata": {},
   "outputs": [],
   "source": [
    "def sphere_volume_fixed(r):\n",
    "    ..."
   ]
  },
  {
   "cell_type": "code",
   "execution_count": null,
   "id": "d2f7acb5",
   "metadata": {
    "deletable": false,
    "editable": false
   },
   "outputs": [],
   "source": [
    "grader.check(\"q1a\")"
   ]
  },
  {
   "cell_type": "markdown",
   "id": "58a803de",
   "metadata": {},
   "source": [
    "### Question 1b\n",
    "\n",
    "Blythe is trying to write a function `quadratic_equation` that takes in values of `a`, `b`, and `c`, corresponding to the quadratic function $f(x) = ax^2 + bx + c$, and returns the value(s) of x such that\n",
    "\n",
    "$$x = \\frac{-b \\pm \\sqrt{b^2 - 4ac}}{2a}$$\n",
    "\n",
    "Specifically:\n",
    "- If $b^2 - 4ac > 0$, `quadratic_equation` should return a list with two elements, one element being $\\frac{-b + \\sqrt{b^2 - 4ac}}{2a}$ and the other element being $\\frac{-b - \\sqrt{b^2 - 4ac}}{2a}$ (in that order).\n",
    "- If $b^2 - 4ac = 0$, `quadratic_equation` should return a list with just one element, $\\frac{-b}{2a}$.\n",
    "- If $b^2 - 4ac < 0$, `quadratic_equation` should return the boolean `False`.\n",
    "\n",
    "Here is Blythe's implementation:"
   ]
  },
  {
   "cell_type": "code",
   "execution_count": null,
   "id": "30c3fcf1",
   "metadata": {},
   "outputs": [],
   "source": [
    "def quadratic_equation(a, b, c):\n",
    "    d = b^2 - 4 * a * c\n",
    "    if d > 0:\n",
    "        return [(-b + d**0.5)/(2 * a) and (-b - d**0.5)/(2 * a)]\n",
    "    else if d = 0:\n",
    "        return [-b/(2 * a)]\n",
    "    else:\n",
    "        return 'False'"
   ]
  },
  {
   "cell_type": "markdown",
   "id": "127300ad",
   "metadata": {
    "deletable": false,
    "editable": false
   },
   "source": [
    "Blythe's implementation is on the right track, but is riddled with syntax errors.\n",
    "\n",
    "**In the cell below, fix Blythe's function so that it works correctly.** \n",
    "\n",
    "<!--\n",
    "BEGIN QUESTION\n",
    "name: q1b\n",
    "points: 2\n",
    "-->"
   ]
  },
  {
   "cell_type": "code",
   "execution_count": null,
   "id": "e201eced",
   "metadata": {},
   "outputs": [],
   "source": [
    "def quadratic_equation_fixed(a, b, c):\n",
    "    ..."
   ]
  },
  {
   "cell_type": "code",
   "execution_count": null,
   "id": "cb4ddeac",
   "metadata": {
    "deletable": false,
    "editable": false
   },
   "outputs": [],
   "source": [
    "grader.check(\"q1b\")"
   ]
  },
  {
   "cell_type": "markdown",
   "id": "c38afba0",
   "metadata": {},
   "source": [
    "### Question 1c\n",
    "\n",
    "Claire is trying to a function `sum_digits` that takes in a positive integer `n` and returns the sum of the digits of `n`. Here's how Claire wants `sum_digits` to work:\n",
    "\n",
    "1. Start with `n`, and define a new variable `total` to be 0.\n",
    "2. Determine the last digit of `n` (by computing `n % 10`) and add it to `total`.\n",
    "3. Remove the last digit of `n` (by computing `n // 10`).\n",
    "4. Repeat steps 2 and 3 until there are no digits left."
   ]
  },
  {
   "cell_type": "code",
   "execution_count": null,
   "id": "d9eedf5b",
   "metadata": {},
   "outputs": [],
   "source": [
    "def sum_digits(n):\n",
    "    total = n\n",
    "    while n > 0:\n",
    "        last_digit = n % 10\n",
    "        total = last_digit\n",
    "        n //= 10\n",
    "    return total"
   ]
  },
  {
   "cell_type": "markdown",
   "id": "b35eec37",
   "metadata": {},
   "source": [
    "Claire's implementation only works properly for single-digit numbers."
   ]
  },
  {
   "cell_type": "code",
   "execution_count": null,
   "id": "5ffe01aa",
   "metadata": {},
   "outputs": [],
   "source": [
    "# Should be 4\n",
    "sum_digits(4)"
   ]
  },
  {
   "cell_type": "code",
   "execution_count": null,
   "id": "7a2c5789",
   "metadata": {},
   "outputs": [],
   "source": [
    "# Should be 5 + 1 + 9 = 15\n",
    "sum_digits(519)"
   ]
  },
  {
   "cell_type": "markdown",
   "id": "622e6970",
   "metadata": {},
   "source": [
    "**Choose one alternative that would fix Claire's function and make it work correctly.**\n",
    "\n",
    "1. Change `while n > 0` to `while n > 10`\n",
    "2. Change `last_digit = n % 10` to `last_digit = n // 10` and change `n //= 10` to `n %= 10`\n",
    "3. Change `total = n` to `total = 0` and change `total = last_digit` to `total += last_digit`\n",
    "4. Change `def sum_digits(n):` to `def sum_digits(519):` and change `return total` to `return 15`\n",
    "\n",
    "Now, implement the `sum_digits_fixed` function using the fix you chose and see how that fix changes the behavior of the function. If the function does not work with your choice, we implore you to understand why that option does not work. **You should only make the change you selected, no other changes are needed to make the function work properly.**"
   ]
  },
  {
   "cell_type": "code",
   "execution_count": null,
   "id": "d46e2d1d",
   "metadata": {},
   "outputs": [],
   "source": [
    "def sum_digits_fixed(n):\n",
    "    ...\n",
    "    \n",
    "# Once you make your fixes, try out your fixed function below\n",
    "# sum_digits_fixed(4) # Should be 4\n",
    "# sum_digits_fixed(519) # Should be 5 + 1 + 9 = 15"
   ]
  },
  {
   "cell_type": "code",
   "execution_count": null,
   "id": "bafa9697",
   "metadata": {
    "deletable": false,
    "editable": false
   },
   "outputs": [],
   "source": [
    "grader.check(\"q1c\")"
   ]
  },
  {
   "cell_type": "markdown",
   "id": "e8914ec1",
   "metadata": {},
   "source": [
    "**Once your function works correctly and passes all test cases, call over an instructor or TA to explain which fix you made and why!**"
   ]
  },
  {
   "cell_type": "markdown",
   "id": "da6e3a47",
   "metadata": {},
   "source": [
    "### Question 1d\n",
    "\n",
    "Darshan is trying to write a function `is_858` which takes in an integer `pn` and returns the boolean `True` if `pn` corresponds to a valid phone number with a 858 area code and `False` otherwise. A number is a valid phone number if it has exactly 10 digits.\n",
    "\n",
    "Here is Darshan's implementation:"
   ]
  },
  {
   "cell_type": "code",
   "execution_count": null,
   "id": "8b193d89",
   "metadata": {},
   "outputs": [],
   "source": [
    "def is_858(pn):\n",
    "    pn_str = str(pn)\n",
    "    return (pn_str[858] == [0, 1, 2]) and (pn_str == 10)"
   ]
  },
  {
   "cell_type": "markdown",
   "id": "f6d7910b",
   "metadata": {},
   "source": [
    "The above cell runs without any issues, but when we call the function we get a `TypeError`:"
   ]
  },
  {
   "cell_type": "code",
   "execution_count": null,
   "id": "f8b783cd",
   "metadata": {},
   "outputs": [],
   "source": [
    "# Should be True\n",
    "is_858(8585342200)"
   ]
  },
  {
   "cell_type": "markdown",
   "id": "b2ee2af1",
   "metadata": {
    "deletable": false,
    "editable": false
   },
   "source": [
    "**In the cell below, fix Darshan's function so that it works correctly.** \n",
    "\n",
    "<!--\n",
    "BEGIN QUESTION\n",
    "name: q1d\n",
    "points: 2\n",
    "-->"
   ]
  },
  {
   "cell_type": "code",
   "execution_count": null,
   "id": "9cb86ab1",
   "metadata": {},
   "outputs": [],
   "source": [
    "def is_858_fixed(pn):\n",
    "    ..."
   ]
  },
  {
   "cell_type": "code",
   "execution_count": null,
   "id": "a1d0ee01",
   "metadata": {
    "deletable": false,
    "editable": false
   },
   "outputs": [],
   "source": [
    "grader.check(\"q1d\")"
   ]
  },
  {
   "cell_type": "markdown",
   "id": "16678a52",
   "metadata": {},
   "source": [
    "### Question 1e\n",
    "\n",
    "Elon is trying to write a function `largest_index` which takes in a list of integers `values` and returns the index of the largest element in `largest_index`. If the largest element of `values` is not unique, `largest_index` should return the index of the first occurrence of it.\n",
    "\n",
    "Here is Elon's implementation:"
   ]
  },
  {
   "cell_type": "code",
   "execution_count": null,
   "id": "ab8e6c43",
   "metadata": {},
   "outputs": [],
   "source": [
    "def largest_index(values):\n",
    "    return max(values.index(values))"
   ]
  },
  {
   "cell_type": "markdown",
   "id": "bc3aa4b8",
   "metadata": {},
   "source": [
    "The above cell runs without any issues, but when we call the function we get a `TypeError`:"
   ]
  },
  {
   "cell_type": "code",
   "execution_count": null,
   "id": "47418333",
   "metadata": {},
   "outputs": [],
   "source": [
    "# Should be 1, since the largest element (9) is at index 1\n",
    "largest_index([2, 9, 1, 0, 8])"
   ]
  },
  {
   "cell_type": "markdown",
   "id": "f94b1843",
   "metadata": {
    "deletable": false,
    "editable": false
   },
   "source": [
    "**In the cell below, fix Elon's function so that it works correctly.** \n",
    "\n",
    "<!--\n",
    "BEGIN QUESTION\n",
    "name: q1e\n",
    "points: 2\n",
    "-->"
   ]
  },
  {
   "cell_type": "code",
   "execution_count": null,
   "id": "414e2170",
   "metadata": {},
   "outputs": [],
   "source": [
    "def largest_index_fixed(values):\n",
    "    ..."
   ]
  },
  {
   "cell_type": "code",
   "execution_count": null,
   "id": "b74aa66e",
   "metadata": {
    "deletable": false,
    "editable": false
   },
   "outputs": [],
   "source": [
    "grader.check(\"q1e\")"
   ]
  },
  {
   "cell_type": "markdown",
   "id": "ad7357bb",
   "metadata": {},
   "source": [
    "## Question 2 – FizzBuzz, Again\n",
    "\n",
    "In Lab 2A, you completed the implementation of `single_number`, which took in a value of `n` and returned the `n`th number in the FizzBuzz sequence. Here's a complete implementation of `single_number`:"
   ]
  },
  {
   "cell_type": "code",
   "execution_count": null,
   "id": "23ab846f",
   "metadata": {},
   "outputs": [],
   "source": [
    "def single_number(n):\n",
    "    if n % 15 == 0:\n",
    "        return 'fizz buzz'\n",
    "    elif n % 5 == 0:\n",
    "        return 'buzz'\n",
    "    elif n % 3 == 0:\n",
    "        return 'fizz'\n",
    "    return str(n)"
   ]
  },
  {
   "cell_type": "markdown",
   "id": "e74181a9",
   "metadata": {
    "deletable": false,
    "editable": false
   },
   "source": [
    "Now, complete the implementation of the function `fizz_buzz_sequence`, which takes in an integer (`n`) greater than or equal to 1 and returns a list of length `n` containing the first `n` elements of the FizzBuzz sequence.\n",
    "\n",
    "For instance, `fizz_buzz_sequence(8)` should evaluate to the list `['1', '2', 'fizz', '4', 'buzz', 'fizz', '7', '8']`.\n",
    "\n",
    "***Hint:*** You only need to write a single line of code, and it should involve `single_number`.\n",
    "\n",
    "<!--\n",
    "BEGIN QUESTION\n",
    "name: q2\n",
    "points: 1\n",
    "-->"
   ]
  },
  {
   "cell_type": "code",
   "execution_count": null,
   "id": "b7f48eca",
   "metadata": {},
   "outputs": [],
   "source": [
    "def fizz_buzz_sequence(n):\n",
    "    i = 1\n",
    "    sequence = []\n",
    "    for i in range(1, n + 1):\n",
    "        ...\n",
    "    return sequence"
   ]
  },
  {
   "cell_type": "code",
   "execution_count": null,
   "id": "4402c08f",
   "metadata": {
    "deletable": false,
    "editable": false
   },
   "outputs": [],
   "source": [
    "grader.check(\"q2\")"
   ]
  },
  {
   "cell_type": "markdown",
   "id": "92686679",
   "metadata": {},
   "source": [
    "## Question 3 – `for`-loop Fundamentals 🔂"
   ]
  },
  {
   "cell_type": "markdown",
   "id": "56727430",
   "metadata": {},
   "source": [
    "In this problem, you will practice writing `for`-loops. For reference, the function `sum_first_n` defined below computes the sum of the first `n` positive integers."
   ]
  },
  {
   "cell_type": "code",
   "execution_count": null,
   "id": "a3bc2ce2",
   "metadata": {},
   "outputs": [],
   "source": [
    "def sum_first_n(n):\n",
    "    total = 0\n",
    "    for i in range(1, n + 1):\n",
    "        total += i # Same as total = total + i\n",
    "    return total"
   ]
  },
  {
   "cell_type": "code",
   "execution_count": null,
   "id": "38863579",
   "metadata": {},
   "outputs": [],
   "source": [
    "# 1 + 2 + 3\n",
    "sum_first_n(3)"
   ]
  },
  {
   "cell_type": "code",
   "execution_count": null,
   "id": "20ff67b9",
   "metadata": {},
   "outputs": [],
   "source": [
    "# 1 + 2 + 3 + 4 + 5 + 6 + 7 + 8 + 9 + 10\n",
    "sum_first_n(10)"
   ]
  },
  {
   "cell_type": "markdown",
   "id": "48938cc1",
   "metadata": {
    "deletable": false,
    "editable": false
   },
   "source": [
    "### Question 3a\n",
    "\n",
    "Complete the implementation of the function `sum_first_n_squares`, which takes in an integer `n` and returns the sum of the squares of the first `n` positive integers. Example behavior is shown below. (The code next to `>>>` is an example function call, and the following line is the desired output of that function call.)\n",
    "\n",
    "```py\n",
    ">>> sum_first_n_squares(3) \n",
    "14 # 1^2 + 2^2 + 3^2\n",
    "\n",
    ">>> sum_first_n_squares(10)\n",
    "385 # 1^2 + 2^2 + 3^2 + ... + 9^2 + 10^2\n",
    "```\n",
    "**Hint:** Start with the example for loop given above; you should not have to modify much.\n",
    "\n",
    "<!--\n",
    "BEGIN QUESTION\n",
    "name: q3a\n",
    "points: 2\n",
    "-->"
   ]
  },
  {
   "cell_type": "code",
   "execution_count": null,
   "id": "214fb311",
   "metadata": {},
   "outputs": [],
   "source": [
    "def sum_first_n_squares(n):\n",
    "    ..."
   ]
  },
  {
   "cell_type": "code",
   "execution_count": null,
   "id": "bef4c3d9",
   "metadata": {
    "deletable": false,
    "editable": false
   },
   "outputs": [],
   "source": [
    "grader.check(\"q3a\")"
   ]
  },
  {
   "cell_type": "markdown",
   "id": "5bea383f",
   "metadata": {
    "deletable": false,
    "editable": false
   },
   "source": [
    "### Question 3b\n",
    "\n",
    "Complete the implementation of the function `only_uppercase`, which takes in a string `s` and returns only the uppercase characters in `s`. Example behavior is shown below.\n",
    "\n",
    "```py\n",
    ">>> only_uppercase('University of California, SaN DIEgo')\n",
    "'UCSNDIE'\n",
    "\n",
    ">>> only_uppercase('now THiS!')\n",
    "'THS'\n",
    "```\n",
    "**Hint**: Use `.isupper()` on each character individually.\n",
    "\n",
    "<!--\n",
    "BEGIN QUESTION\n",
    "name: q3b\n",
    "points: 2\n",
    "-->"
   ]
  },
  {
   "cell_type": "code",
   "execution_count": null,
   "id": "76c0eaa3",
   "metadata": {},
   "outputs": [],
   "source": [
    "def only_uppercase(s):\n",
    "    output = ''\n",
    "    for char in s:\n",
    "        ...\n",
    "    return output"
   ]
  },
  {
   "cell_type": "code",
   "execution_count": null,
   "id": "e3bfc441",
   "metadata": {
    "deletable": false,
    "editable": false
   },
   "outputs": [],
   "source": [
    "grader.check(\"q3b\")"
   ]
  },
  {
   "cell_type": "markdown",
   "id": "3cb25883",
   "metadata": {
    "deletable": false,
    "editable": false
   },
   "source": [
    "### Question 3c\n",
    "\n",
    "Complete the implementation of the function `alternating_product`, which takes in a list of numbers `values` and returns the product of every other element in `values`, starting with the element at position `0`. Example behavior is shown below.\n",
    "\n",
    "```py\n",
    ">>> alternating_product([2, 8.5, 1, 9])\n",
    "2 # 2 * 1\n",
    "\n",
    ">>> alternating_product([2, 8.5, 1, 9, 4.5])\n",
    "9.0 # 2 * 1 * 4.5\n",
    "```\n",
    "\n",
    "***Hint:*** Review how `range` works from lecture – in particular, `range(start, stop, d)`.\n",
    "\n",
    "<!--\n",
    "BEGIN QUESTION\n",
    "name: q3c\n",
    "points: 2\n",
    "-->"
   ]
  },
  {
   "cell_type": "code",
   "execution_count": null,
   "id": "95b69921",
   "metadata": {},
   "outputs": [],
   "source": [
    "def alternating_product(values):\n",
    "    ..."
   ]
  },
  {
   "cell_type": "code",
   "execution_count": null,
   "id": "4acd98a0",
   "metadata": {
    "deletable": false,
    "editable": false
   },
   "outputs": [],
   "source": [
    "grader.check(\"q3c\")"
   ]
  },
  {
   "cell_type": "markdown",
   "id": "5bcf9661",
   "metadata": {},
   "source": [
    "## Question 4 – Billboard Charts 📈\n",
    "\n",
    "Run the cell below to load in data from the Billboard charts."
   ]
  },
  {
   "cell_type": "code",
   "execution_count": null,
   "id": "c2ef3864",
   "metadata": {},
   "outputs": [],
   "source": [
    "billboard = pd.read_csv('data/billboard-2010.csv')\n",
    "billboard"
   ]
  },
  {
   "cell_type": "markdown",
   "id": "106146c0",
   "metadata": {},
   "source": [
    "Artists and fans alike like to keep track of the most consecutive weeks a song has been ranked #1 on the Billboard 200. For example, run the cell below to look at data regarding Drake's hit \"One Dance\" from 2016 (don't worry about the code):"
   ]
  },
  {
   "cell_type": "code",
   "execution_count": null,
   "id": "90b6965a",
   "metadata": {},
   "outputs": [],
   "source": [
    "billboard.loc[billboard['Name'] == 'One Dance', ['Artists', 'Name', 'Week', 'Weekly.rank']].sort_values('Week').head(15)"
   ]
  },
  {
   "cell_type": "markdown",
   "id": "56f8698d",
   "metadata": {
    "deletable": false,
    "editable": false
   },
   "source": [
    "According to the above table, it seems like One Dance was ranked #1 for 9 consecutive weeks at one point – pretty impressive!\n",
    "\n",
    "Below, complete the implementation of the function `top_streak`, which takes in a list `charts` representing the position of a song in the Billboard 200 over several consecutive weeks and returns the most consecutive weeks that song was ranked #1. Example behavior is shown below.\n",
    "\n",
    "```py\n",
    ">>> one_streak([13, 3, 2, 1, 2, 1, 1, 1, 1, 1, 1, 1, 1, 1, 2, 3, 2, 5, 7, 8])\n",
    "9\n",
    "\n",
    ">>> one_streak([4, 1, 1, 1, 2, 3, 11, 1, 1, 1, 1, 1])\n",
    "5\n",
    "\n",
    ">>> one_streak([5, 4, 1, 1, 1, 3, 2, 1, 2, 3])\n",
    "3\n",
    "```\n",
    "\n",
    "<!--\n",
    "BEGIN QUESTION\n",
    "name: q4\n",
    "points: 2\n",
    "-->"
   ]
  },
  {
   "cell_type": "code",
   "execution_count": null,
   "id": "0d98e3b8",
   "metadata": {},
   "outputs": [],
   "source": [
    "def one_streak(charts):\n",
    "    longest = ...\n",
    "    current = ...\n",
    "    for num in charts:\n",
    "        if num == 1:\n",
    "            current = ...\n",
    "        else:\n",
    "            longest = ...\n",
    "            current = ...\n",
    "\n",
    "    # Ask yourself – why are we returning max(longest, current) instead of just current?\n",
    "    return max(longest, current)"
   ]
  },
  {
   "cell_type": "code",
   "execution_count": null,
   "id": "673ffa9a",
   "metadata": {
    "deletable": false,
    "editable": false
   },
   "outputs": [],
   "source": [
    "grader.check(\"q4\")"
   ]
  },
  {
   "cell_type": "markdown",
   "id": "dc5a8257",
   "metadata": {},
   "source": [
    "## Question 5 – Prime Factorization\n",
    "\n",
    "A prime number is a natural number greater than 1 that cannot be written as a product of smaller natural numbers. For instance, 2 and 3 are prime, while 6 and 24 are not (because $6 = 2 \\cdot 3$ and $24 = 2 \\cdot 12$). Natural numbers that are not prime (and not equal to 1) are called composite.\n",
    "\n",
    "The _Fundamental Theorem of Arithmetic_ states that every natural number greater than 1 can be written as the product of prime factors, and that every natural number has a unique representation in this form. (If $a$ is a factor of $b$, then $\\frac{b}{a}$ is a whole number.)\n",
    "\n",
    "For example, 12 can be written as $2^2 \\cdot 3$, and 1200 can be written as $2^4 \\cdot 3 \\cdot 5^2$. \n",
    "\n",
    "To compute the prime factorization of a number, one strategy is to repeatedly divide by the smallest prime factor that divides that number. For instance, here's the process of prime factoring 1200 (\"pf\" stands for \"prime factor\"):\n",
    "\n",
    "\\begin{align*}\n",
    "    1200 &= 1200 \\\\\n",
    "    &= 2 \\cdot 600 \\ \\ \\ \\text{(2 is the smallest pf of 1200)} \\\\\n",
    "    &= 2 \\cdot 2 \\cdot 300 \\ \\ \\ \\text{(2 is the smallest pf of 600)} \\\\\n",
    "    &= 2 \\cdot 2 \\cdot 2 \\cdot 150 \\ \\ \\ \\text{(2 is the smallest pf of 300)} \\\\\n",
    "    &= 2 \\cdot 2 \\cdot 2 \\cdot 2 \\cdot 75 \\ \\ \\ \\text{(2 is the smallest pf of 150)} \\\\\n",
    "    &= 2 \\cdot 2 \\cdot 2 \\cdot 2 \\cdot 3 \\cdot 25 \\ \\ \\ \\text{(3 is the smallest pf of 75)} \\\\\n",
    "    &= 2 \\cdot 2 \\cdot 2 \\cdot 2 \\cdot 3 \\cdot 5 \\cdot 5 \\ \\ \\ \\text{(5 is the smallest pf of 25)} \\\\\n",
    "    &= 2^4 \\cdot 3 \\cdot 5^2\n",
    "\\end{align*}\n"
   ]
  },
  {
   "cell_type": "markdown",
   "id": "c04d8ce0",
   "metadata": {},
   "source": [
    "In this question, you will write functions to compute the \"prime factorization\" of an integer!"
   ]
  },
  {
   "cell_type": "markdown",
   "id": "368d74ff",
   "metadata": {
    "deletable": false,
    "editable": false
   },
   "source": [
    "### Question 5a\n",
    "\n",
    "First, we need a way to compute the **smallest prime factor** of a natural number `n`, e.g. to find that 5 is the smallest prime factor of 25. This is not a math class, so we won't go into the theory behind the approach, but it turns out that to find the smallest prime factor of `n`, all you need to do is start counting up from 2, each time checking if the number that you're on is a factor of `n`. The first one that is a factor of `n` will be the smallest prime factor!\n",
    "\n",
    "For instance, let's try to find the smallest prime factor of 25.\n",
    "- Is 2 a factor of 25? No. (So `25 % 2` is not 0.)\n",
    "- Is 3 a factor of 25? No.\n",
    "- Is 4 a factor of 25? No. (If it was, 2 would have been a factor of 25.)\n",
    "- Is 5 a factor of 25? **Yes!** So 5 is the smallest prime factor of 25.\n",
    "\n",
    "Below, complete the implementation of the function `smallest_prime_factor`, which takes in a natural number `n` and returns its smallest prime factor, using the approach above.\n",
    "\n",
    "***Hint:*** You could do this with either a `for` or `while`-loop. Our solution uses a `while`-loop. Also – if `d` is a factor of `n`, then what should `n % d` be?\n",
    "\n",
    "<!--\n",
    "BEGIN QUESTION\n",
    "name: q5a\n",
    "-->"
   ]
  },
  {
   "cell_type": "code",
   "execution_count": null,
   "id": "29259fec",
   "metadata": {},
   "outputs": [],
   "source": [
    "def smallest_prime_factor(n):\n",
    "    ...\n",
    "    \n",
    "# Remember to test your function out on your own!"
   ]
  },
  {
   "cell_type": "code",
   "execution_count": null,
   "id": "1db861fb",
   "metadata": {
    "deletable": false,
    "editable": false
   },
   "outputs": [],
   "source": [
    "grader.check(\"q5a\")"
   ]
  },
  {
   "cell_type": "markdown",
   "id": "8aaaf235",
   "metadata": {
    "deletable": false,
    "editable": false
   },
   "source": [
    "### Question 5b\n",
    "\n",
    "Now, complete the implementation of the function `prime_factors`, which **prints** the prime factorization of the input natural number `n`. For instance, `prime_factors(1200)` would print\n",
    "\n",
    "```\n",
    "2\n",
    "2\n",
    "2\n",
    "2\n",
    "3\n",
    "5\n",
    "5\n",
    "```\n",
    "\n",
    "***Hint:*** You'll need a `while`-loop.\n",
    "\n",
    "<!--\n",
    "BEGIN QUESTION\n",
    "name: q5b\n",
    "-->"
   ]
  },
  {
   "cell_type": "code",
   "execution_count": null,
   "id": "10445a6e",
   "metadata": {},
   "outputs": [],
   "source": [
    "def prime_factors(n):\n",
    "    ..."
   ]
  },
  {
   "cell_type": "code",
   "execution_count": null,
   "id": "4668e76b",
   "metadata": {},
   "outputs": [],
   "source": [
    "# Should print 2 and 11\n",
    "prime_factors(22)"
   ]
  },
  {
   "cell_type": "code",
   "execution_count": null,
   "id": "719e8cd6",
   "metadata": {},
   "outputs": [],
   "source": [
    "# Should print 2, 2, 2, 2, 3, 3\n",
    "prime_factors(144)"
   ]
  },
  {
   "cell_type": "markdown",
   "id": "ec3694dd",
   "metadata": {},
   "source": [
    "**Once your function works correctly, call over an instructor or TA to show them!**"
   ]
  }
 ],
 "metadata": {
  "kernelspec": {
   "display_name": "Python 3 (ipykernel)",
   "language": "python",
   "name": "python3"
  },
  "language_info": {
   "codemirror_mode": {
    "name": "ipython",
    "version": 3
   },
   "file_extension": ".py",
   "mimetype": "text/x-python",
   "name": "python",
   "nbconvert_exporter": "python",
   "pygments_lexer": "ipython3",
   "version": "3.9.7"
  }
 },
 "nbformat": 4,
 "nbformat_minor": 5
}
