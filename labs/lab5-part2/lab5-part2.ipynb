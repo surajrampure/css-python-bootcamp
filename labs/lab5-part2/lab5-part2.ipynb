{
 "cells": [
  {
   "cell_type": "markdown",
   "id": "946aa99d",
   "metadata": {},
   "source": [
    "# Lab 5, Part 2 – Conclusion\n",
    "## CSS Summer Bootcamp, Week 1 🥾"
   ]
  },
  {
   "cell_type": "code",
   "execution_count": null,
   "id": "d956bdc2",
   "metadata": {},
   "outputs": [],
   "source": [
    "# Run this cell, and don't change it!\n",
    "!pip install otter-grader"
   ]
  },
  {
   "cell_type": "code",
   "execution_count": null,
   "id": "bb511fc5",
   "metadata": {},
   "outputs": [],
   "source": [
    "# Run this cell, and don't change it!\n",
    "import otter\n",
    "grader = otter.Notebook()\n",
    "\n",
    "import numpy as np\n",
    "import pandas as pd\n",
    "import json"
   ]
  },
  {
   "cell_type": "markdown",
   "id": "d4bb91d6",
   "metadata": {},
   "source": [
    "## Question 1: Round the World ✈️\n",
    "\n",
    "In this section, we will work with data about large airports around the world. Specifically, we're going to work towards **finding the distance between a sequence of airports**. When travelers fly to multiple airports around the world on a single itinerary, they take what is known as a \"round-the-world\" (RTW) trip.\n",
    "\n",
    "<img src=https://www.ana.co.jp/www2/amc/partner-flight-awards/roundtheworld_en.jpg width=40%>"
   ]
  },
  {
   "cell_type": "markdown",
   "id": "b9e26ceb",
   "metadata": {},
   "source": [
    "This question has many subparts – think of it as a mini-project – but the end result is really cool!"
   ]
  },
  {
   "cell_type": "markdown",
   "id": "9b31b6e0",
   "metadata": {
    "deletable": false,
    "editable": false
   },
   "source": [
    "### Question 1a\n",
    "\n",
    "Along with this lab, we've uploaded a file with the extension `.json` that contains information about airports around the world. Your job in this question is to figure out what that file is called and to load it into your notebook as a Python dictionary!\n",
    "\n",
    "To see what the file is called, click the \"Jupyter\" button in the top left of your notebook window. Then, navigate in the file explorer to the folder for this lab, and check in the data folder. You'll see a file that ends in `.json`. Below, assign `file_name` to the name of this file (including the extension) as a string. **Make sure to include `'data/'` at the start of the file name!**\n",
    "\n",
    "<!--\n",
    "BEGIN QUESTION\n",
    "name: q1a\n",
    "-->"
   ]
  },
  {
   "cell_type": "code",
   "execution_count": null,
   "id": "2f870dcc",
   "metadata": {},
   "outputs": [],
   "source": [
    "file_name = ...\n",
    "file_name"
   ]
  },
  {
   "cell_type": "code",
   "execution_count": null,
   "id": "c4f6a2c3",
   "metadata": {
    "deletable": false,
    "editable": false
   },
   "outputs": [],
   "source": [
    "grader.check(\"q1a\")"
   ]
  },
  {
   "cell_type": "markdown",
   "id": "47242529",
   "metadata": {
    "deletable": false,
    "editable": false
   },
   "source": [
    "### Question 1b\n",
    "\n",
    "Now, use the `with open` structure we learned about in lecture to load the file from the previous subpart as a **dictionary**. Store it in the variable `airports`.\n",
    "\n",
    "***Hint:*** We've already run `import json`.\n",
    "\n",
    "<!--\n",
    "BEGIN QUESTION\n",
    "name: q1b\n",
    "-->"
   ]
  },
  {
   "cell_type": "code",
   "execution_count": null,
   "id": "7085ab24",
   "metadata": {},
   "outputs": [],
   "source": [
    "airports = ...\n",
    "airports"
   ]
  },
  {
   "cell_type": "code",
   "execution_count": null,
   "id": "4a350045",
   "metadata": {
    "deletable": false,
    "editable": false
   },
   "outputs": [],
   "source": [
    "grader.check(\"q1b\")"
   ]
  },
  {
   "cell_type": "markdown",
   "id": "9d6e90f3",
   "metadata": {},
   "source": [
    "### Question 1c\n",
    "\n",
    "The dictionary `airports` contains four pieces of information for each airport:\n",
    "- Code (stored as the key)\n",
    "- Name\n",
    "- Latitude\n",
    "- Longitude"
   ]
  },
  {
   "cell_type": "code",
   "execution_count": null,
   "id": "ebd75ae1",
   "metadata": {},
   "outputs": [],
   "source": [
    "airports['SAN']"
   ]
  },
  {
   "cell_type": "markdown",
   "id": "be484161",
   "metadata": {
    "deletable": false,
    "editable": false
   },
   "source": [
    "As mentioned at the start of the question, we're eventually going to write a function that takes in a list of airport codes and returns the total distance between them all. To do this, we'll need an easy way of accessing the latitudes and longitudes of an airport, given its code.\n",
    "\n",
    "Below, complete the implementation of the function `lat_lon`, which takes in a string `code` and returns the latitude and longitude of the airport whose code is `code` **as a tuple**. Example behavior is given below.\n",
    "\n",
    "```py\n",
    ">>> lat_lon('SAN')\n",
    "(32.7336006165, -117.190002441)\n",
    "\n",
    ">>> lat_lon('DTW')\n",
    "(42.212398529052734, -83.35340118408203)\n",
    "```\n",
    "\n",
    "<!--\n",
    "BEGIN QUESTION\n",
    "name: q1c\n",
    "-->"
   ]
  },
  {
   "cell_type": "code",
   "execution_count": null,
   "id": "8602e523",
   "metadata": {},
   "outputs": [],
   "source": [
    "def lat_lon(code):\n",
    "    ...\n",
    "    \n",
    "# Uncomment this, but test the function out on your own inputs!\n",
    "# lat_lon('SAN')"
   ]
  },
  {
   "cell_type": "code",
   "execution_count": null,
   "id": "3facc473",
   "metadata": {
    "deletable": false,
    "editable": false
   },
   "outputs": [],
   "source": [
    "grader.check(\"q1c\")"
   ]
  },
  {
   "cell_type": "markdown",
   "id": "319d6719",
   "metadata": {
    "deletable": false,
    "editable": false
   },
   "source": [
    "### Question 1d\n",
    "\n",
    "Great! Now we're able to easily access the latitude and longitude of an airport.\n",
    "\n",
    "Next, we need to be able to find the **distance** between two locations on the surface of Earth, given their latitudes and longitudes. As you know, Earth is a sphere. To find the distance between two points on Earth's surface, we must use the **Haversine distance** formula.\n",
    "\n",
    "<img src='https://miro.medium.com/max/564/1*c6YJw_Cv8u3O42CaAOrLRw.png' width=20%>\n",
    "\n",
    "Buckle up! Per [Wikipedia](https://en.wikipedia.org/wiki/Haversine_formula), the Haversine distance $d$ between two points is\n",
    "\n",
    "$$d = 2 r \\arcsin \\left( \\sqrt{ \\sin^2 \\left( \\frac{\\text{lat}_2 - \\text{lat}_1}{2} \\right) + \\cos \\left( \\text{lat}_1 \\right) \\cdot \\cos \\left( \\text{lat}_2 \\right) \\cdot \\sin^2 \\left(  \\frac{\\text{lon}_2 - \\text{lon}_1}{2} \\right)          } \\right)$$\n",
    "where...\n",
    "- $(\\text{lat}_1, \\text{lon}_1)$ are the latitude and longitude of the first point, and $(\\text{lat}_2, \\text{lon}_2)$ are the latitude and longitude of the second point **in radians**\n",
    "- $r$ is the radius of the Earth (in your calculation, use 3958.8, the Earth's radius in miles)\n",
    "- $\\sin^2 (x)$ means the same as $(\\sin(x))^2$\n",
    "\n",
    "Below, complete the implementation of the function `haversine_distance`, which takes in the latitudes and longitudes of two points on Earth's surface and returns the distance between them in miles, as per the above formula. Example behavior is given below.\n",
    "\n",
    "```py\n",
    "# Test your function on this exact set of arguments!\n",
    ">>> haversine_distance(32.7336006165, -117.190002441, 42.212398529052734, -83.35340118408203)\n",
    "1952.4829738365934\n",
    "```\n",
    "\n",
    "***Note:*** The formula above only works when the latitudes and longitudes are in **radians**, but the information we have is in terms of **degrees**. As such, we've added in a line at the top of `haversine_distance` that converts the input arguments from degrees to radians; don't change this.\n",
    "\n",
    "It's a good idea to break the calculation into smaller pieces, and save those smaller pieces to variables. Also, **don't spend more than 10 minutes on this subpart!** If you're stuck, ask us for help! 😄\n",
    "\n",
    "<!--\n",
    "BEGIN QUESTION\n",
    "name: q1d\n",
    "-->"
   ]
  },
  {
   "cell_type": "code",
   "execution_count": null,
   "id": "15fa5bbb",
   "metadata": {},
   "outputs": [],
   "source": [
    "def haversine_distance(lat1, lon1, lat2, lon2):\n",
    "    # Note: the latitudes and longitudes in our data are stored in degrees\n",
    "    # but like most mathematical formulas, Haversine distance requires them to be in radians\n",
    "    lat1, lon1, lat2, lon2 = np.radians(lat1), np.radians(lon1), np.radians(lat2), np.radians(lon2)\n",
    "    \n",
    "    ...\n",
    "    \n",
    "# Uncomment the following line once you've finished\n",
    "# The result should be close to 1952.4829738365934\n",
    "# haversine_distance(32.7336006165, -117.190002441, 42.212398529052734, -83.35340118408203)"
   ]
  },
  {
   "cell_type": "code",
   "execution_count": null,
   "id": "c1c96ad4",
   "metadata": {
    "deletable": false,
    "editable": false
   },
   "outputs": [],
   "source": [
    "grader.check(\"q1d\")"
   ]
  },
  {
   "cell_type": "markdown",
   "id": "dea3ff29",
   "metadata": {
    "deletable": false,
    "editable": false
   },
   "source": [
    "### Question 1e\n",
    "\n",
    "Now, complete the implementation of the function `airport_distance`, which takes in the codes of two airports as strings and returns the Haversine distance between the two airports. Example behavior is given below.\n",
    "\n",
    "```py\n",
    ">>> airport_distance('SAN', 'DTW')\n",
    "1952.4829738365934\n",
    "\n",
    ">>> airport_distance('LAX', 'SYD')\n",
    "7494.520943620303\n",
    "\n",
    ">>> airport_distance('JFK', 'AMS')\n",
    "3633.5227886711236\n",
    "```\n",
    "\n",
    "***Hint:*** Use the work you did in Questions 1c and 1d. Our solution is only three lines long, and uses two of the previous functions you defined!\n",
    "\n",
    "<!--\n",
    "BEGIN QUESTION\n",
    "name: q1e\n",
    "-->"
   ]
  },
  {
   "cell_type": "code",
   "execution_count": null,
   "id": "be841e39",
   "metadata": {},
   "outputs": [],
   "source": [
    "def airport_distance(code1, code2):\n",
    "    ..."
   ]
  },
  {
   "cell_type": "code",
   "execution_count": null,
   "id": "c616fa73",
   "metadata": {
    "deletable": false,
    "editable": false
   },
   "outputs": [],
   "source": [
    "grader.check(\"q1e\")"
   ]
  },
  {
   "cell_type": "markdown",
   "id": "efdfb154",
   "metadata": {
    "deletable": false,
    "editable": false
   },
   "source": [
    "### Question 1f\n",
    "\n",
    "We're finally ready to put everything together and solve our original problem. Recall, our goal at the start of this section was to find the distance between a sequence of airports. That's what you'll do here.\n",
    "\n",
    "Below, complete the implementation of the function `total_ticket_distance`, which takes in a list of airport codes and returns the total distance between all airports, if one were to fly from airport 0 to airport 1, then airport 1 to airport 2, then airport 2 to airport 3, and so on.\n",
    "\n",
    "For example, `total_ticket_distance(['EWR', 'SFO', 'LHR', 'HKG'])` should return the distance between `'EWR'` and `'SFO'`, plus the distance between `'SFO'` and `'LHR'`, plus the distance between `'LHR'` and `'HKG'`. Example behavior is shown below.\n",
    "\n",
    "```py\n",
    ">>> total_ticket_distance(['EWR', 'SFO', 'LHR', 'HKG'])\n",
    "13897.246208798144\n",
    "\n",
    ">>> total_ticket_distance(['SAN', 'LAX', 'OAK', 'SEA'])\n",
    "1118.577286339682\n",
    "\n",
    "```\n",
    "\n",
    "Remember to rely on your previously defined functions – don't repeat yourself!\n",
    "\n",
    "<!--\n",
    "BEGIN QUESTION\n",
    "name: q1f\n",
    "-->"
   ]
  },
  {
   "cell_type": "code",
   "execution_count": null,
   "id": "77eb271f",
   "metadata": {},
   "outputs": [],
   "source": [
    "def total_ticket_distance(codes):\n",
    "    ..."
   ]
  },
  {
   "cell_type": "code",
   "execution_count": null,
   "id": "7f50b771",
   "metadata": {
    "deletable": false,
    "editable": false
   },
   "outputs": [],
   "source": [
    "grader.check(\"q1f\")"
   ]
  },
  {
   "cell_type": "markdown",
   "id": "9e2470a3",
   "metadata": {},
   "source": [
    "Nice job! We can verify our work by using the site [Great Circle Mapper](http://www.gcmap.com/mapui?P=EWR-SFO-LHR-HKG), which does the same thing. The aforementioned link computes the distance EWR -> SFO -> LHR -> HKG; its result should be ~1% off from yours above (which is to be expected)."
   ]
  },
  {
   "cell_type": "markdown",
   "id": "84f479ec",
   "metadata": {},
   "source": [
    "### Question 1g\n",
    "\n",
    "Now that you're able to calculate the distance traveled on a **route** consisting of several cities (this is what `total_ticket_distance` does), your friend has come to you with a favor to ask. They want to give you a list of cities that they're interested in visiting, and want you to come up with the order that they should visit these cities in **in order to minimize travel distance**.\n",
    "\n",
    "For example, they may say they're interested in visiting BOS, DEN, and SAN. There are 6 possible orders in which they could fly between these cities (ignore what happens before their trip and after their trip):\n",
    "- BOS -> DEN -> SAN\n",
    "- BOS -> SAN -> DEN\n",
    "- DEN -> BOS -> SAN\n",
    "- DEN -> SAN -> BOS\n",
    "- SAN -> BOS -> DEN\n",
    "- SAN -> DEN -> BOS\n",
    "\n",
    "Some of these routes are further than others. The longest possible route is SAN -> BOS -> DEN (and the equivalent reverse route DEN -> BOS -> SAN), at 4332.02 miles. The shortest possible route is SAN -> DEN -> BOS (and the equivalent reverse route BOS -> DEN -> SAN), at 2601.74 miles. In this case, you would advise your friend to fly SAN -> DEN -> BOS (and in our case, to visit us first 😊).\n",
    "\n",
    "Before we set you off to compute the **best route**, there's a module (and function) you need to know about: `itertools`. Below, we import the `permutations` function from `itertools`. `permutations` takes in a collection and returns a **list of tuples** containing all possible ways of ordering the elements in the collection."
   ]
  },
  {
   "cell_type": "code",
   "execution_count": null,
   "id": "a418c1c9",
   "metadata": {},
   "outputs": [],
   "source": [
    "from itertools import permutations"
   ]
  },
  {
   "cell_type": "code",
   "execution_count": null,
   "id": "b0863e1e",
   "metadata": {},
   "outputs": [],
   "source": [
    "list(permutations([1, 2, -3]))"
   ]
  },
  {
   "cell_type": "markdown",
   "id": "99882ab0",
   "metadata": {
    "deletable": false,
    "editable": false
   },
   "source": [
    "Below, complete the implementation of the function `optimal_route`, which takes in a **set** containing airport codes and returns a **tuple** of airport codes whose total travel distance is as short as possible. Example behavior is given below. \n",
    "\n",
    "```py\n",
    ">>> optimal_route({'SAN', 'DEN', 'BOS'})\n",
    "('BOS', 'DEN', 'SAN')\n",
    "\n",
    ">>> optimal_route({'SAN', 'BOM', 'LHR', 'CDG', 'SLC', 'MSP'})\n",
    "('SAN', 'SLC', 'MSP', 'LHR', 'CDG', 'BOM')\n",
    "```\n",
    "\n",
    "***Note:*** It's possible that your function returns the desired tuples in reverse order, and that's fine. (After all, the distance from A to B to C in the air is the same as the distance from C to B to A.)\n",
    "\n",
    "<!--\n",
    "BEGIN QUESTION\n",
    "name: q1g\n",
    "-->"
   ]
  },
  {
   "cell_type": "code",
   "execution_count": null,
   "id": "b5bcdad9",
   "metadata": {},
   "outputs": [],
   "source": [
    "def optimal_route(codes_set):\n",
    "    # Don't change these two lines.\n",
    "    # You will need to update min_route and min_dist\n",
    "    # within your loop.\n",
    "    min_route = None\n",
    "    min_dist = np.inf\n",
    "    \n",
    "    ...\n",
    "    \n",
    "    return min_route"
   ]
  },
  {
   "cell_type": "code",
   "execution_count": null,
   "id": "eb56d1bc",
   "metadata": {
    "deletable": false,
    "editable": false
   },
   "outputs": [],
   "source": [
    "grader.check(\"q1g\")"
   ]
  },
  {
   "cell_type": "markdown",
   "id": "35cb0710",
   "metadata": {},
   "source": [
    "Note that the algorithm you (almost certainly) used is very _inefficient_. In fact, adding just a single new airport increases the amount of time it takes to find the optimal route dramatically! Take a look:"
   ]
  },
  {
   "cell_type": "code",
   "execution_count": null,
   "id": "460bc8cf",
   "metadata": {},
   "outputs": [],
   "source": [
    "%%time\n",
    "optimal_route({'SIN', 'DTW', 'LAX', 'EWR', 'DPS'})"
   ]
  },
  {
   "cell_type": "code",
   "execution_count": null,
   "id": "5bf0548f",
   "metadata": {},
   "outputs": [],
   "source": [
    "%%time\n",
    "optimal_route({'SIN', 'DTW', 'LAX', 'EWR', 'DPS', 'SAN'})"
   ]
  },
  {
   "cell_type": "markdown",
   "id": "a5109e3d",
   "metadata": {},
   "source": [
    "What you likely saw above is that it took ~4x longer to find the optimal route with 6 airports than with 5. What if we add 1 more?"
   ]
  },
  {
   "cell_type": "code",
   "execution_count": null,
   "id": "9dd3f933",
   "metadata": {},
   "outputs": [],
   "source": [
    "%%time\n",
    "optimal_route({'SIN', 'DTW', 'LAX', 'EWR', 'DPS', 'SAN', 'YYZ'})"
   ]
  },
  {
   "cell_type": "markdown",
   "id": "f8911719",
   "metadata": {},
   "source": [
    "Woah! It took ~7x longer to find the optimal route with 7 airports than with 6. If we had even just 10 airports, this process would take quite a while! This may be one of those instances where it's easier to open up a map and look for the optimal solution ourselves than it is to have Python figure it out for us."
   ]
  },
  {
   "cell_type": "markdown",
   "id": "e0964a41",
   "metadata": {},
   "source": [
    "That's it!"
   ]
  }
 ],
 "metadata": {
  "kernelspec": {
   "display_name": "Python 3 (ipykernel)",
   "language": "python",
   "name": "python3"
  },
  "language_info": {
   "codemirror_mode": {
    "name": "ipython",
    "version": 3
   },
   "file_extension": ".py",
   "mimetype": "text/x-python",
   "name": "python",
   "nbconvert_exporter": "python",
   "pygments_lexer": "ipython3",
   "version": "3.9.7"
  }
 },
 "nbformat": 4,
 "nbformat_minor": 5
}
