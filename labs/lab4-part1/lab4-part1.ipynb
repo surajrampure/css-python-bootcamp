{
 "cells": [
  {
   "cell_type": "markdown",
   "id": "1fd2c8e7",
   "metadata": {},
   "source": [
    "# Lab 4, Part 1: Dictionaries\n",
    "## CSS Summer Bootcamp, Week 1 🥾"
   ]
  },
  {
   "cell_type": "code",
   "execution_count": null,
   "id": "44b23cf7",
   "metadata": {},
   "outputs": [],
   "source": [
    "# Run this cell, and don't change it!\n",
    "!pip install otter-grader"
   ]
  },
  {
   "cell_type": "code",
   "execution_count": null,
   "id": "44ee5858",
   "metadata": {},
   "outputs": [],
   "source": [
    "# Run this cell, and don't change it!\n",
    "import otter\n",
    "grader = otter.Notebook()\n",
    "\n",
    "import numpy as np\n",
    "import pandas as pd\n",
    "import json\n",
    "from ipywidgets import interact, widgets\n",
    "from IPython.display import HTML, display, clear_output\n",
    "import plotly.express as px"
   ]
  },
  {
   "cell_type": "markdown",
   "id": "d20155a9",
   "metadata": {},
   "source": [
    "## Question 1 – Dictionary Fundamentals\n",
    "\n",
    "In this question, you will solidify your understanding of the syntax necessary for working with dictionaries. You'll also learn how to read in data from external files."
   ]
  },
  {
   "cell_type": "markdown",
   "id": "d5066890",
   "metadata": {},
   "source": [
    "### Question 1a\n",
    "\n",
    "Below, we create a dictionary that we first looked at in lecture."
   ]
  },
  {
   "cell_type": "code",
   "execution_count": null,
   "id": "2d17a3c1",
   "metadata": {},
   "outputs": [],
   "source": [
    "# DO NOT EDIT THIS CELL – just run it!\n",
    "\n",
    "more_slang = {\n",
    "    'haha': 'that was not funny',\n",
    "    'smh': 'shake my head',\n",
    "    'lol': 'laugh out loud',\n",
    "    'GOAT': 'greatest of all time'\n",
    "}"
   ]
  },
  {
   "cell_type": "markdown",
   "id": "e410f07c",
   "metadata": {
    "deletable": false,
    "editable": false
   },
   "source": [
    "In the cell below, add a new key-value pair to `more_slang`, corresponding to the abbreviation `'ofr'`. The value can be any string consisting of three words whose first letter is `'o'`, second letter is `'f'`, and third letter is `'o'`. You should not change the cell above.\n",
    "\n",
    "<!--\n",
    "BEGIN QUESTION\n",
    "name: q1a\n",
    "points: 1\n",
    "-->"
   ]
  },
  {
   "cell_type": "code",
   "execution_count": null,
   "id": "d725376b",
   "metadata": {},
   "outputs": [],
   "source": [
    "..."
   ]
  },
  {
   "cell_type": "code",
   "execution_count": null,
   "id": "b48c9913",
   "metadata": {
    "deletable": false,
    "editable": false
   },
   "outputs": [],
   "source": [
    "grader.check(\"q1a\")"
   ]
  },
  {
   "cell_type": "markdown",
   "id": "ab80ca42",
   "metadata": {
    "deletable": false,
    "editable": false
   },
   "source": [
    "### Question 1b\n",
    "\n",
    "**Reminder:** The keys of a dictionary can be strings, numbers, bools, or even `None` – just not a list or other dictionary. On the other hand, values in a dictionary can be anything!\n",
    "\n",
    "In the cell below, we've created a new dictionary `even_more_slang` which is a copy of your `more_slang` from 1a. (We did this in order to make the autograder work correctly.)\n",
    "\n",
    "Your job is to add another key-value pair to `even_more_slang`. The key should be the string `'explicit'`, and the value should be another dictionary. In this nested dictionary, the two keys should be the strings `'lmao'` and `'fml'`, and the values should be four-word and three-word strings that abbreviate to `'lmao'` and `'fml'`, respectively. Don't use any swear words – we don't want to lose our jobs! 😅\n",
    "\n",
    "That is, after running your cell, `even_more_slang['explicit']['fml']` should be a string consisting of three words.\n",
    "\n",
    "<!--\n",
    "BEGIN QUESTION\n",
    "name: q1b\n",
    "points: 1\n",
    "-->"
   ]
  },
  {
   "cell_type": "code",
   "execution_count": null,
   "id": "b111deb7",
   "metadata": {},
   "outputs": [],
   "source": [
    "even_more_slang = more_slang.copy() # Don't change this\n",
    "\n",
    "explicit_dict = {\n",
    "    ...\n",
    "}\n",
    "\n",
    "..."
   ]
  },
  {
   "cell_type": "code",
   "execution_count": null,
   "id": "3b67c9f2",
   "metadata": {
    "deletable": false,
    "editable": false
   },
   "outputs": [],
   "source": [
    "grader.check(\"q1b\")"
   ]
  },
  {
   "cell_type": "markdown",
   "id": "9b0d9345",
   "metadata": {},
   "source": [
    "### Question 1c\n",
    "\n",
    "Run the cell below to load in a dictionary (stored as a JSON file on the computer) that contains Yelp data for the restaurant Bonchon in Berkeley, CA."
   ]
  },
  {
   "cell_type": "code",
   "execution_count": null,
   "id": "7a8a8a04",
   "metadata": {},
   "outputs": [],
   "source": [
    "with open('data/bonchon.json', 'r') as j:\n",
    "    maps_data = json.load(j)\n",
    "maps_data"
   ]
  },
  {
   "cell_type": "markdown",
   "id": "5f18e95b",
   "metadata": {
    "deletable": false,
    "editable": false
   },
   "source": [
    "The dictionary above is quite unwieldy, and contains many nested dictionaries! Let's try and extract some data from it programatically (that is, using code).\n",
    "\n",
    "Assign `maps_data_keys` to the list of all of `maps_data`'s keys. \n",
    "\n",
    "***Hint:*** `len(maps_data_keys)` will tell you that there are 6 keys, so the list you create should have length 6. `'long_name'` is not a key of `maps_data`. Also, we looked at a way to compute this list in lecture without having to create it manually.\n",
    "\n",
    "<!--\n",
    "BEGIN QUESTION\n",
    "name: q1c\n",
    "points: 1\n",
    "-->"
   ]
  },
  {
   "cell_type": "code",
   "execution_count": null,
   "id": "59fe64d5",
   "metadata": {},
   "outputs": [],
   "source": [
    "maps_data_keys = ...\n",
    "maps_data_keys"
   ]
  },
  {
   "cell_type": "code",
   "execution_count": null,
   "id": "59f862e7",
   "metadata": {
    "deletable": false,
    "editable": false
   },
   "outputs": [],
   "source": [
    "grader.check(\"q1c\")"
   ]
  },
  {
   "cell_type": "markdown",
   "id": "b4e49039",
   "metadata": {
    "deletable": false,
    "editable": false
   },
   "source": [
    "### Question 1d\n",
    "\n",
    "Finally, assign `key_1`, `key_2`, and `key_3` below so that `maps_data[key_1][key_2][key_3]` evaluates to the latitude of the location whose data is stored in `maps_data`. We've done `key_2` for you.\n",
    "\n",
    "***Hint:*** Work one step at a time. You know that `key_1` must be one of the six keys in `maps_data_keys`, which you found above. Then, given what we've set `key_2` to, what must `key_3` be?\n",
    "\n",
    "<!--\n",
    "BEGIN QUESTION\n",
    "name: q1d\n",
    "points: 1\n",
    "-->"
   ]
  },
  {
   "cell_type": "code",
   "execution_count": null,
   "id": "c3d2c05c",
   "metadata": {},
   "outputs": [],
   "source": [
    "key_1 = ...\n",
    "key_2 = 'location'\n",
    "key_3 = ...\n",
    "\n",
    "maps_data[key_1][key_2][key_3]"
   ]
  },
  {
   "cell_type": "code",
   "execution_count": null,
   "id": "cf24906b",
   "metadata": {
    "deletable": false,
    "editable": false
   },
   "outputs": [],
   "source": [
    "grader.check(\"q1d\")"
   ]
  },
  {
   "cell_type": "markdown",
   "id": "236c6e6d",
   "metadata": {},
   "source": [
    "## Question 2 – Emojify \n",
    "\n",
    "The default keyboard on iOS suggests emojis for you to use in place of boring, ordinary words.\n",
    "\n",
    "<img src = \"https://support.apple.com/library/content/dam/edam/applecare/images/en_US/iOS/ios12-iphone-x-messages-replace-words-with-emoji.jpg\" width=200>\n",
    "\n",
    "In this question, you will replicate some of that behavior using dictionaries!\n",
    "\n",
    "In Python, emojis can be included as part of a string. For example:"
   ]
  },
  {
   "cell_type": "code",
   "execution_count": null,
   "id": "90345b73",
   "metadata": {},
   "outputs": [],
   "source": [
    "'🤤'"
   ]
  },
  {
   "cell_type": "markdown",
   "id": "22cb0159",
   "metadata": {},
   "source": [
    "If you remove the quotes from the emoji above, you will see `SyntaxError: invalid character in identifier`. Make sure that throughout this question, your emojis are contained within strings! (Fun fact, they cannot currently be used as variable names. Try it and see what error you get!)"
   ]
  },
  {
   "cell_type": "markdown",
   "id": "beb517dd",
   "metadata": {
    "deletable": false,
    "editable": false
   },
   "source": [
    "### Question 2a\n",
    "\n",
    "[getemoji.com](https://getemoji.com) allows you to copy and paste emojis. To select an emoji, double click it to highlight it.\n",
    "\n",
    "In the cell below, define a dictionary `fav_emojis` that has the following five keys:\n",
    "- `'happy'`\n",
    "- `'annoyed'`\n",
    "- `'tired'`\n",
    "- `'love'`\n",
    "- `'food'`\n",
    "\n",
    "The values corresponding to these five keys must be an emoji, but they can be any emoji you want, **as long as**:\n",
    "- it is copied from the site above\n",
    "- it is not in the \"New Emojis\" category at the bottom\n",
    "\n",
    "Have fun with it! We've chosen an emoji for `'happy'` for you, but feel free to change it.\n",
    "\n",
    "Some troubleshooting tips:\n",
    "- After defining your dictionary, you may see some emoijs displayed with `'\\U001...'` instead of their actual graphic. **If this happens, pick different emojis**.\n",
    "- If you fail the test case that says your emojis are invalid, and you're certain you correctly defined your dictionary, you may consider choosing other emojis that are more generic that are more likely to be recognized by our autograder. This most likely won't be a problem.\n",
    "\n",
    "<!--\n",
    "BEGIN QUESTION\n",
    "name: q2a\n",
    "points: 2\n",
    "-->"
   ]
  },
  {
   "cell_type": "code",
   "execution_count": null,
   "id": "1affbb72",
   "metadata": {},
   "outputs": [],
   "source": [
    "fav_emojis = {\n",
    "    'happy': '😀',\n",
    "    ...\n",
    "}\n",
    "\n",
    "fav_emojis"
   ]
  },
  {
   "cell_type": "code",
   "execution_count": null,
   "id": "3d6215b0",
   "metadata": {
    "deletable": false,
    "editable": false
   },
   "outputs": [],
   "source": [
    "grader.check(\"q2a\")"
   ]
  },
  {
   "cell_type": "markdown",
   "id": "8041fc53",
   "metadata": {
    "deletable": false,
    "editable": false
   },
   "source": [
    "### Question 2b\n",
    "\n",
    "Now, complete the implementation of the function `emojify`, which takes in a string `message` and returns a new string with all instances of any of the keys in `fav_emojis` replaced with their corresponding emoji value. Example behavior is shown below, though the emojis will be different, depending on what you put in `fav_emojis`. (If you passed the previous question, you don't need to change your emojis!)\n",
    "\n",
    "```py\n",
    ">>> emojify('Filing taxes makes me tired and want food.')\n",
    "'Filing taxes makes me 😵 and want 🌽.'\n",
    "\n",
    ">>> emojify('I LOVE love life right now. I am so happy – why do you look so annoyed?!')\n",
    "'I 💋 💋 life right now. I am so 😀 – why do you look so 💀?!'\n",
    "\n",
    ">>> emojify(\"It's not you, it's me... I don't make you haPPy, I make you tired.\")\n",
    "\"It's not you, it's me... I don't make you 😀, I make you 😵.\"\n",
    "```\n",
    "\n",
    "<!--\n",
    "BEGIN QUESTION\n",
    "name: q2b\n",
    "points: 2\n",
    "-->"
   ]
  },
  {
   "cell_type": "code",
   "execution_count": null,
   "id": "ef90d2f3",
   "metadata": {},
   "outputs": [],
   "source": [
    "def emojify(message):\n",
    "    # This line ensures your code replaces correctly if any of\n",
    "    # the keys in fav_emojis appears in uppercase in the message\n",
    "    message = message.lower()\n",
    "\n",
    "    ...\n",
    "    \n",
    "    # Don't change this\n",
    "    return message"
   ]
  },
  {
   "cell_type": "code",
   "execution_count": null,
   "id": "4426fb65",
   "metadata": {
    "deletable": false,
    "editable": false
   },
   "outputs": [],
   "source": [
    "grader.check(\"q2b\")"
   ]
  },
  {
   "cell_type": "markdown",
   "id": "290fcf1f",
   "metadata": {},
   "source": [
    "### Fun Demo\n",
    "\n",
    "Run the cell below to produce a text box (don't worry about the code itself). Type text in the text box and watch it get emojified live!"
   ]
  },
  {
   "cell_type": "code",
   "execution_count": null,
   "id": "8f425d48",
   "metadata": {},
   "outputs": [],
   "source": [
    "def emojify_live(type_here):\n",
    "    display(HTML('<h2>' + emojify(type_here) + '</h2>'))\n",
    "interact(emojify_live, type_here=\"I LOVE food\");"
   ]
  },
  {
   "cell_type": "markdown",
   "id": "c9aa1da8",
   "metadata": {},
   "source": [
    "## Question 3 – Value Counts and State of the Union\n",
    "\n",
    "In this question you will implement one function, `value_counts`, and we will use it for a particularly interesting application – analyzing State of the Union speeches from recent US Presidents.\n",
    "\n",
    "### Question 3a\n",
    "\n",
    "`value_counts` will take in a list `vals` and return a dictionary describing the number of times each element in `vals` appeared. Specifically, the keys of the returned dictionary should be the elements of `vals`, and the values of the returned dictionary should be the number of times the keys occurred in `vals`.\n",
    "\n",
    "Example behavior is shown below.\n",
    "\n",
    "```py\n",
    ">>> value_counts(['the', 'dog', 'jumped', 'over', 'the', 'fence', 'over', 'there'])\n",
    "{'fence': 1, 'there': 1, 'jumped': 1, 'the': 2, 'dog': 1, 'over': 2}\n",
    "\n",
    ">>> value_counts(['just dance', 'down', 'dancing queen', 'dancing queen', 'dancing queen', 'just dance'])\n",
    "{'dancing queen': 3, 'down': 1, 'just dance': 2}\n",
    "\n",
    ">>> value_counts([4, 5, 1, 9, 9, 3, 2, 4, 9, 9, '9', 5])\n",
    "{1: 1, 2: 1, 3: 1, 4: 2, 5: 2, 9: 4, '9': 1}\n",
    "```\n",
    "\n",
    "In the second example, the value for `'dancing queen'` is 3 because `'dancing queen'` appeared three times in the list `['just dance', 'down', 'dancing queen', 'dancing queen', 'dancing queen', 'just dance']`. Note, the order in which the keys are displayed in your dictionary is not important."
   ]
  },
  {
   "cell_type": "markdown",
   "id": "7c263fe2",
   "metadata": {},
   "source": [
    "A method that will be useful is `.count(...)`, which can be used to determine the number of appearances of a particular value in a list."
   ]
  },
  {
   "cell_type": "code",
   "execution_count": null,
   "id": "bdefb3e4",
   "metadata": {},
   "outputs": [],
   "source": [
    "[4, 5, 1, 9, 9, 3, 2, 4, 9, 9, '9', 5].count(9)"
   ]
  },
  {
   "cell_type": "markdown",
   "id": "385ba170",
   "metadata": {
    "deletable": false,
    "editable": false
   },
   "source": [
    "You should use `.count` in your implementation of `value_counts`.\n",
    "\n",
    "**In the cell below, implement `value_counts` so that it matches the behavior described above.**\n",
    "\n",
    "***Hint:*** You'll need to figure out how to loop through all of the **unique** values in `vals`. Is there a type of collection that we know about that does not contain duplicates?\n",
    "\n",
    "<!--\n",
    "BEGIN QUESTION\n",
    "name: q3a\n",
    "points: 2\n",
    "-->"
   ]
  },
  {
   "cell_type": "code",
   "execution_count": null,
   "id": "23ca1cc9",
   "metadata": {},
   "outputs": [],
   "source": [
    "def value_counts(vals):\n",
    "    ..."
   ]
  },
  {
   "cell_type": "code",
   "execution_count": null,
   "id": "8dd2ec2e",
   "metadata": {
    "deletable": false,
    "editable": false
   },
   "outputs": [],
   "source": [
    "grader.check(\"q3a\")"
   ]
  },
  {
   "cell_type": "markdown",
   "id": "bbf7ec4d",
   "metadata": {},
   "source": [
    "### State of the Union Addresses\n",
    "\n",
    "**Note:** The rest of the cells in this question rely on your `value_counts` function being completed and correct. You will not have to write code in the rest of this question, but you'll need to answer a written question.\n",
    "\n",
    "Each year, the sitting US President delivers a [State of the Union](https://en.wikipedia.org/wiki/State_of_the_Union) (SOTU) address detailing the \"current condition of the nation\". In the remainder of this question, we will use your `value_counts` function to visualize the most common words in speeches by Presidents George (W.) Bush, Barack Obama, and Donald Trump.\n",
    "\n",
    "We will load in three lists:\n",
    "- `bush_sotu`, which contains all of the words used by George Bush in his **eight** SOTU speeches\n",
    "- `obama_sotu`, which contains all of the words used by Barack Obama in his **eight** SOTU speeches\n",
    "- `trump_sotu`, which contains all of the words used by Donald Trump in his **2017** SOTU speech only\n",
    "\n",
    "Run the cell below to read this information."
   ]
  },
  {
   "cell_type": "code",
   "execution_count": null,
   "id": "858fd54d",
   "metadata": {},
   "outputs": [],
   "source": [
    "def load_clean_split(path):\n",
    "    f = open(path, 'r')\n",
    "    text = f.read().lower()\n",
    "    characters_to_remove = ['.', ',', '!', '(', ')', ':', '\"', '-', \"'\", ';', '\\n']\n",
    "    for char in characters_to_remove:\n",
    "        if char == '\\n':\n",
    "            text = text.replace(char, ' ')\n",
    "        else:\n",
    "            text = text.replace(char, ' ')\n",
    "\n",
    "    return [word for word in text.split(' ') if word != '']\n",
    "\n",
    "def sort_by_value(d):\n",
    "    sorted_keys = sorted(d, key = d.get, reverse = True)\n",
    "    return sorted_keys, [d[k] for k in sorted_keys]\n",
    "\n",
    "bush_sotu = load_clean_split('data/bush-sotu.txt')\n",
    "print('words by Bush: ', len(bush_sotu))\n",
    "\n",
    "obama_sotu = load_clean_split('data/obama-sotu.txt')\n",
    "print('words by Obama: ', len(obama_sotu))\n",
    "\n",
    "trump_sotu = load_clean_split('data/trump-sotu.txt')\n",
    "print('words by Trump: ', len(trump_sotu))"
   ]
  },
  {
   "cell_type": "markdown",
   "id": "89dd5d60",
   "metadata": {},
   "source": [
    "Let's take a look at `bush_sotu`:"
   ]
  },
  {
   "cell_type": "code",
   "execution_count": null,
   "id": "07cb5b22",
   "metadata": {},
   "outputs": [],
   "source": [
    "bush_sotu"
   ]
  },
  {
   "cell_type": "markdown",
   "id": "aa32baf0",
   "metadata": {},
   "source": [
    "There are lots of words here! As we mentioned before, we want to determine the number of occurrences of each word. Run the cell below to compute the frequency of each word in the speeches of Bush, Obama, and Trump. This cell may take up to 30 seconds to run."
   ]
  },
  {
   "cell_type": "code",
   "execution_count": null,
   "id": "356a7882",
   "metadata": {},
   "outputs": [],
   "source": [
    "bush_dict = value_counts(bush_sotu)\n",
    "print('unique words by Bush: ', len(bush_dict))\n",
    "\n",
    "obama_dict = value_counts(obama_sotu)\n",
    "print('unique words by Obama: ', len(obama_dict))\n",
    "\n",
    "trump_dict = value_counts(trump_sotu)\n",
    "print('unique words by Trump: ', len(trump_dict))"
   ]
  },
  {
   "cell_type": "markdown",
   "id": "23302e06",
   "metadata": {},
   "source": [
    "Note, there are far fewer unique words by Trump since we're only using the text of one of his speeches, while we're using the text from all eight of both Bush and Obama's speeches.\n",
    "\n",
    "Let's look at `bush_dict`:"
   ]
  },
  {
   "cell_type": "code",
   "execution_count": null,
   "id": "7b8cd00d",
   "metadata": {},
   "outputs": [],
   "source": [
    "bush_dict"
   ]
  },
  {
   "cell_type": "markdown",
   "id": "48279301",
   "metadata": {},
   "source": [
    "Dictionaries aren't ordered. However, we can extract two lists from the above dictionary, corresponding to words and their frequencies in sorted order. After doing so, we can visualize the frequencies of the most common words used by each President.\n",
    "\n",
    "Note, we're going to ignore some of the more common words like \"the\", \"that\", and \"its\" because they won't really tell us anything about the content of a President's speeches.\n",
    "\n",
    "Run the cell below to get things set up; don't worry about the code itself."
   ]
  },
  {
   "cell_type": "code",
   "execution_count": null,
   "id": "6d8aadda",
   "metadata": {},
   "outputs": [],
   "source": [
    "words_to_ignore = ['the', 'and', 'to', 'of', 'in', 'we', 'a', 'our', 'is', 'that', 'will', 'for',\n",
    "                   'are', 'have', 'this', 'i', 'on', 'with', 'by', 'their', 'it', 'you', 'be', 'they',\n",
    "                   'not', 'from', 'must', 'all', 'has', 'so', 'as', 'can', 's', 'us', 'who', 'or', 'at',\n",
    "                   'them', 'these', 'an', 'new', 'he', 'him', 'his', 'she', 'her', 'hers', \n",
    "                   'but', 'was', 'my', 've', 'do', 'than', 'its', 't', 'nt', 're', 'if', 'also']\n",
    "\n",
    "def create_freq_df(words, counts):\n",
    "    df = pd.DataFrame().assign(word=words, count=counts)\n",
    "    return df[~df['word'].isin(words_to_ignore)].head(50)\n",
    "\n",
    "bush_table = create_freq_df(*sort_by_value(bush_dict))\n",
    "obama_table = create_freq_df(*sort_by_value(obama_dict))\n",
    "trump_table = create_freq_df(*sort_by_value(trump_dict))\n",
    "\n",
    "def plot_frequency(name):\n",
    "    name_to_table = {\n",
    "        'George Bush': bush_table,\n",
    "        'Barack Obama': obama_table,\n",
    "        'Donald Trump': trump_table\n",
    "    }\n",
    "    fig = px.bar(name_to_table[name], x = 'word', y = 'count', title = 'Frequency of words used by ' + name)\n",
    "    fig.show()\n",
    "    \n",
    "DEFAULT = 'George Bush'\n",
    "\n",
    "dropdown_pres = widgets.Dropdown(options = ['George Bush', 'Barack Obama', 'Donald Trump'],\n",
    "                                   value = DEFAULT)\n",
    "\n",
    "def dropdown_pres_eventhandler(change):\n",
    "    if change['name'] == 'value' and (change['new'] != change['old']):\n",
    "        clear_output()\n",
    "        display(dropdown_pres)\n",
    "        plot_frequency(change['new'])"
   ]
  },
  {
   "cell_type": "markdown",
   "id": "4be9e1c4",
   "metadata": {},
   "source": [
    "Finally, run this cell to produce an interactive visualization of word frequencies. You'll be able to change the President whose word counts we've visualizing via a dropdown menu."
   ]
  },
  {
   "cell_type": "code",
   "execution_count": null,
   "id": "51bbb45a",
   "metadata": {
    "scrolled": false
   },
   "outputs": [],
   "source": [
    "display(dropdown_pres)\n",
    "plot_frequency(DEFAULT)\n",
    "dropdown_pres.observe(dropdown_pres_eventhandler)"
   ]
  },
  {
   "cell_type": "markdown",
   "id": "683d2d21",
   "metadata": {},
   "source": [
    "### Question 3b\n",
    "\n",
    "Look at the word frequencies for all three US Presidents in the plot above. Did you notice anything interesting? Try and find a word or two that one President used very frequently that other Presidents did not use very often. In the cell below, tell us which President and word(s) you found, and try and give a reason why.\n",
    "\n",
    "Note: there's no right answer here – we're just looking to make sure you played around with the plots above and thought about your answer. Have fun with it!"
   ]
  },
  {
   "cell_type": "markdown",
   "id": "dd77a3a4",
   "metadata": {},
   "source": [
    "_Replace this cell with your answer!_"
   ]
  }
 ],
 "metadata": {
  "kernelspec": {
   "display_name": "Python 3 (ipykernel)",
   "language": "python",
   "name": "python3"
  },
  "language_info": {
   "codemirror_mode": {
    "name": "ipython",
    "version": 3
   },
   "file_extension": ".py",
   "mimetype": "text/x-python",
   "name": "python",
   "nbconvert_exporter": "python",
   "pygments_lexer": "ipython3",
   "version": "3.9.7"
  }
 },
 "nbformat": 4,
 "nbformat_minor": 5
}
