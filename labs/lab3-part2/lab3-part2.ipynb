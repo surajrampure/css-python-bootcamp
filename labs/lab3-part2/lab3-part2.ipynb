{
 "cells": [
  {
   "cell_type": "markdown",
   "id": "34a8f36d",
   "metadata": {},
   "source": [
    "# Lab 3, Part 2: `while`-loops\n",
    "## CSS Summer Bootcamp, Week 1 🥾"
   ]
  },
  {
   "cell_type": "code",
   "execution_count": null,
   "id": "5fff48bc",
   "metadata": {},
   "outputs": [],
   "source": [
    "# Run this cell, and don't change it!\n",
    "!pip install otter-grader"
   ]
  },
  {
   "cell_type": "code",
   "execution_count": null,
   "id": "a6d36fab",
   "metadata": {},
   "outputs": [],
   "source": [
    "# Run this cell, and don't change it!\n",
    "import otter\n",
    "grader = otter.Notebook()\n",
    "\n",
    "import numpy as np\n",
    "import pandas as pd\n",
    "from IPython.display import YouTubeVideo, HTML\n",
    "from ipywidgets import interact"
   ]
  },
  {
   "cell_type": "markdown",
   "id": "337655ff",
   "metadata": {},
   "source": [
    "## Question 1 – Bug Fixing (again)\n",
    "\n",
    "Claire is trying to a function `sum_digits` that takes in a positive integer `n` and returns the sum of the digits of `n`. Here's how Claire wants `sum_digits` to work:\n",
    "\n",
    "1. Start with `n`, and define a new variable `total` to be 0.\n",
    "2. Determine the last digit of `n` (by computing `n % 10`) and add it to `total`.\n",
    "3. Remove the last digit of `n` (by computing `n // 10`).\n",
    "4. Repeat steps 2 and 3 until there are no digits left."
   ]
  },
  {
   "cell_type": "code",
   "execution_count": null,
   "id": "9aad21bd",
   "metadata": {},
   "outputs": [],
   "source": [
    "def sum_digits(n):\n",
    "    total = n\n",
    "    while n > 0:\n",
    "        last_digit = n % 10\n",
    "        total = last_digit\n",
    "        n //= 10\n",
    "    return total"
   ]
  },
  {
   "cell_type": "markdown",
   "id": "1aac19bb",
   "metadata": {},
   "source": [
    "Claire's implementation only works properly for single-digit numbers."
   ]
  },
  {
   "cell_type": "code",
   "execution_count": null,
   "id": "769f3d10",
   "metadata": {},
   "outputs": [],
   "source": [
    "# Should be 4\n",
    "sum_digits(4)"
   ]
  },
  {
   "cell_type": "code",
   "execution_count": null,
   "id": "8323f950",
   "metadata": {},
   "outputs": [],
   "source": [
    "# Should be 5 + 1 + 9 = 15\n",
    "sum_digits(519)"
   ]
  },
  {
   "cell_type": "markdown",
   "id": "b2fd8f9a",
   "metadata": {},
   "source": [
    "**Choose one alternative that would fix Claire's function and make it work correctly.**\n",
    "\n",
    "1. Change `while n > 0` to `while n > 10`\n",
    "2. Change `last_digit = n % 10` to `last_digit = n // 10` and change `n //= 10` to `n %= 10`\n",
    "3. Change `total = n` to `total = 0` and change `total = last_digit` to `total += last_digit`\n",
    "4. Change `def sum_digits(n):` to `def sum_digits(519):` and change `return total` to `return 15`\n",
    "\n",
    "Now, implement the `sum_digits_fixed` function using the fix you chose and see how that fix changes the behavior of the function. If the function does not work with your choice, we implore you to understand why that option does not work. **You should only make the change you selected, no other changes are needed to make the function work properly.**"
   ]
  },
  {
   "cell_type": "code",
   "execution_count": null,
   "id": "96dd9998",
   "metadata": {},
   "outputs": [],
   "source": [
    "def sum_digits_fixed(n):\n",
    "    ...\n",
    "    \n",
    "# Once you make your fixes, try out your fixed function below\n",
    "# sum_digits_fixed(4) # Should be 4\n",
    "# sum_digits_fixed(519) # Should be 5 + 1 + 9 = 15"
   ]
  },
  {
   "cell_type": "code",
   "execution_count": null,
   "id": "29e76ebd",
   "metadata": {
    "deletable": false,
    "editable": false
   },
   "outputs": [],
   "source": [
    "grader.check(\"q1\")"
   ]
  },
  {
   "cell_type": "markdown",
   "id": "4fc72f01",
   "metadata": {},
   "source": [
    "**Once your function works correctly and passes all test cases, call over an instructor or TA to explain which fix you made and why!**"
   ]
  },
  {
   "cell_type": "markdown",
   "id": "5291e0c1",
   "metadata": {},
   "source": [
    "## Question 2 – Hailstone Sequence\n",
    "\n",
    "Run the following cell and watch the video that pops up. It's short."
   ]
  },
  {
   "cell_type": "code",
   "execution_count": null,
   "id": "55034414",
   "metadata": {},
   "outputs": [],
   "source": [
    "YouTubeVideo('m4CjXk_b8zo', width = 600, height = 300)"
   ]
  },
  {
   "cell_type": "markdown",
   "id": "b6b3740d",
   "metadata": {
    "deletable": false,
    "editable": false
   },
   "source": [
    "The video above describes the [Collatz conjecture](https://en.wikipedia.org/wiki/Collatz_conjecture), which says the following:\n",
    "\n",
    "1. Pick a positive integer `n` as the start.\n",
    "2. If `n` is even, divide it by 2.\n",
    "3. If `n` is odd, multiply it by 3 and add 1.\n",
    "4. Continue this process until `n` is 1.\n",
    "\n",
    "The number `n` will travel up and down but eventually end at 1 (at least for all numbers that have ever been tried -- nobody has ever proved that the sequence will terminate). Analogously, a hailstone travels up and down in the atmosphere before eventually landing on earth.\n",
    "\n",
    "For instance, if we start with $n = 10$:\n",
    "\n",
    "$$10 \\rightarrow 5 \\rightarrow 16 \\rightarrow 8 \\rightarrow 4 \\rightarrow 2 \\rightarrow 1$$\n",
    "\n",
    "This sequence of values is often called the **hailstone sequence** for a given `n`. **For $n = 10$, we'd say the hailstone sequence is of length 7.**\n",
    "\n",
    "Below, implement the function `hailstone` that takes in an integer `n`, **prints** out the hailstone sequence starting at `n` (including `n` and `1`), and **returns** the length of the sequence.\n",
    "\n",
    "Hints and ideas:\n",
    "- First, write out the hailstone sequence for an arbitrary number by hand on paper to make sure you understand how it works.\n",
    "- How can you implement steps 2 and 3 from above in code?\n",
    "\n",
    "<!--\n",
    "BEGIN QUESTION\n",
    "name: q2\n",
    "-->"
   ]
  },
  {
   "cell_type": "code",
   "execution_count": null,
   "id": "5a13ec39",
   "metadata": {},
   "outputs": [],
   "source": [
    "def hailstone(n):\n",
    "    count = 1\n",
    "    print(n)\n",
    "    while n != 1:\n",
    "        ...\n",
    "    return count"
   ]
  },
  {
   "cell_type": "code",
   "execution_count": null,
   "id": "fbd44a8d",
   "metadata": {
    "deletable": false,
    "editable": false
   },
   "outputs": [],
   "source": [
    "grader.check(\"q2\")"
   ]
  },
  {
   "cell_type": "markdown",
   "id": "e21fdb01",
   "metadata": {},
   "source": [
    "Below, call `hailstone(27)`. Can you find a longer sequence?"
   ]
  },
  {
   "cell_type": "code",
   "execution_count": null,
   "id": "045dc34f",
   "metadata": {},
   "outputs": [],
   "source": [
    "hailstone(27)"
   ]
  },
  {
   "cell_type": "markdown",
   "id": "249928b4",
   "metadata": {},
   "source": [
    "## Question 3 – Prime Factorization\n",
    "\n",
    "A prime number is a natural number greater than 1 that cannot be written as a product of smaller natural numbers. For instance, 2 and 3 are prime, while 6 and 24 are not (because $6 = 2 \\cdot 3$ and $24 = 2 \\cdot 12$). Natural numbers that are not prime (and not equal to 1) are called composite.\n",
    "\n",
    "The _Fundamental Theorem of Arithmetic_ states that every natural number greater than 1 can be written as the product of prime factors, and that every natural number has a unique representation in this form. (If $a$ is a factor of $b$, then $\\frac{b}{a}$ is a whole number.)\n",
    "\n",
    "For example, 12 can be written as $2^2 \\cdot 3$, and 1200 can be written as $2^4 \\cdot 3 \\cdot 5^2$. \n",
    "\n",
    "To compute the prime factorization of a number, one strategy is to repeatedly divide by the smallest prime factor that divides that number. For instance, here's the process of prime factoring 1200 (\"pf\" stands for \"prime factor\"):\n",
    "\n",
    "\\begin{align*}\n",
    "    1200 &= 1200 \\\\\n",
    "    &= 2 \\cdot 600 \\ \\ \\ \\text{(2 is the smallest pf of 1200)} \\\\\n",
    "    &= 2 \\cdot 2 \\cdot 300 \\ \\ \\ \\text{(2 is the smallest pf of 600)} \\\\\n",
    "    &= 2 \\cdot 2 \\cdot 2 \\cdot 150 \\ \\ \\ \\text{(2 is the smallest pf of 300)} \\\\\n",
    "    &= 2 \\cdot 2 \\cdot 2 \\cdot 2 \\cdot 75 \\ \\ \\ \\text{(2 is the smallest pf of 150)} \\\\\n",
    "    &= 2 \\cdot 2 \\cdot 2 \\cdot 2 \\cdot 3 \\cdot 25 \\ \\ \\ \\text{(3 is the smallest pf of 75)} \\\\\n",
    "    &= 2 \\cdot 2 \\cdot 2 \\cdot 2 \\cdot 3 \\cdot 5 \\cdot 5 \\ \\ \\ \\text{(5 is the smallest pf of 25)} \\\\\n",
    "    &= 2^4 \\cdot 3 \\cdot 5^2\n",
    "\\end{align*}\n"
   ]
  },
  {
   "cell_type": "markdown",
   "id": "3124faf2",
   "metadata": {},
   "source": [
    "In this question, you will write functions to compute the \"prime factorization\" of an integer!"
   ]
  },
  {
   "cell_type": "markdown",
   "id": "1e4d1619",
   "metadata": {
    "deletable": false,
    "editable": false
   },
   "source": [
    "### Question 3a\n",
    "\n",
    "First, we need a way to compute the **smallest prime factor** of a natural number `n`, e.g. to find that 5 is the smallest prime factor of 25. This is not a math class, so we won't go into the theory behind the approach, but it turns out that to find the smallest prime factor of `n`, all you need to do is start counting up from 2, each time checking if the number that you're on is a factor of `n`. The first one that is a factor of `n` will be the smallest prime factor!\n",
    "\n",
    "For instance, let's try to find the smallest prime factor of 25.\n",
    "- Is 2 a factor of 25? No. (So `25 % 2` is not 0.)\n",
    "- Is 3 a factor of 25? No.\n",
    "- Is 4 a factor of 25? No. (If it was, 2 would have been a factor of 25.)\n",
    "- Is 5 a factor of 25? **Yes!** So 5 is the smallest prime factor of 25.\n",
    "\n",
    "Below, complete the implementation of the function `smallest_prime_factor`, which takes in a natural number `n` and returns its smallest prime factor, using the approach above.\n",
    "\n",
    "***Hint:*** You could do this with either a `for` or `while`-loop. Our solution uses a `while`-loop. Also – if `d` is a factor of `n`, then what should `n % d` be?\n",
    "\n",
    "<!--\n",
    "BEGIN QUESTION\n",
    "name: q3a\n",
    "-->"
   ]
  },
  {
   "cell_type": "code",
   "execution_count": null,
   "id": "fb9b4d9b",
   "metadata": {},
   "outputs": [],
   "source": [
    "def smallest_prime_factor(n):\n",
    "    ...\n",
    "    \n",
    "# Remember to test your function out on your own!"
   ]
  },
  {
   "cell_type": "code",
   "execution_count": null,
   "id": "5b74e7f3",
   "metadata": {
    "deletable": false,
    "editable": false
   },
   "outputs": [],
   "source": [
    "grader.check(\"q3a\")"
   ]
  },
  {
   "cell_type": "markdown",
   "id": "41373174",
   "metadata": {
    "deletable": false,
    "editable": false
   },
   "source": [
    "### Question 3b\n",
    "\n",
    "Now, complete the implementation of the function `prime_factors`, which **prints** the prime factorization of the input natural number `n`. For instance, `prime_factors(1200)` would print\n",
    "\n",
    "```\n",
    "2\n",
    "2\n",
    "2\n",
    "2\n",
    "3\n",
    "5\n",
    "5\n",
    "```\n",
    "\n",
    "***Hint:*** You'll need a `while`-loop.\n",
    "\n",
    "<!--\n",
    "BEGIN QUESTION\n",
    "name: q3b\n",
    "-->"
   ]
  },
  {
   "cell_type": "code",
   "execution_count": null,
   "id": "ec8534bb",
   "metadata": {},
   "outputs": [],
   "source": [
    "def prime_factors(n):\n",
    "    ..."
   ]
  },
  {
   "cell_type": "code",
   "execution_count": null,
   "id": "e72e6943",
   "metadata": {},
   "outputs": [],
   "source": [
    "# Should print 2 and 11\n",
    "prime_factors(22)"
   ]
  },
  {
   "cell_type": "code",
   "execution_count": null,
   "id": "ad099fb8",
   "metadata": {},
   "outputs": [],
   "source": [
    "# Should print 2, 2, 2, 2, 3, 3\n",
    "prime_factors(144)"
   ]
  },
  {
   "cell_type": "markdown",
   "id": "deed6c8f",
   "metadata": {},
   "source": [
    "**Once your function works correctly, call over an instructor or TA to show them!**"
   ]
  }
 ],
 "metadata": {
  "kernelspec": {
   "display_name": "Python 3 (ipykernel)",
   "language": "python",
   "name": "python3"
  },
  "language_info": {
   "codemirror_mode": {
    "name": "ipython",
    "version": 3
   },
   "file_extension": ".py",
   "mimetype": "text/x-python",
   "name": "python",
   "nbconvert_exporter": "python",
   "pygments_lexer": "ipython3",
   "version": "3.9.7"
  }
 },
 "nbformat": 4,
 "nbformat_minor": 5
}
