{
 "cells": [
  {
   "cell_type": "markdown",
   "id": "27f74ede",
   "metadata": {},
   "source": [
    "# Lab 3, Part 1: Lists and `for`-loops\n",
    "## CSS Summer Bootcamp, Week 1 🥾"
   ]
  },
  {
   "cell_type": "code",
   "execution_count": null,
   "id": "a63d8a39",
   "metadata": {},
   "outputs": [],
   "source": [
    "# Run this cell, and don't change it!\n",
    "!pip install otter-grader"
   ]
  },
  {
   "cell_type": "code",
   "execution_count": null,
   "id": "e7336af7",
   "metadata": {},
   "outputs": [],
   "source": [
    "# Run this cell, and don't change it!\n",
    "import otter\n",
    "grader = otter.Notebook()\n",
    "\n",
    "import numpy as np\n",
    "import pandas as pd\n",
    "from IPython.display import YouTubeVideo, HTML\n",
    "from ipywidgets import interact"
   ]
  },
  {
   "cell_type": "markdown",
   "id": "85014e47",
   "metadata": {},
   "source": [
    "## Question 1 – Bug Fixing 🐞\n",
    "\n",
    "In each subpart, you'll be presented with an implementation of a function with mistakes in it. Your job is to understand what the function is supposed to do and fix the implementation."
   ]
  },
  {
   "cell_type": "markdown",
   "id": "2182c599",
   "metadata": {},
   "source": [
    "### Question 1a\n",
    "\n",
    "Alexa is trying to write a function `sphere_volume` that takes in `r`, the radius of a sphere, and returns the volume of that sphere, according to the formula\n",
    "\n",
    "$$V = \\frac{4}{3} \\pi r^3$$\n",
    "\n",
    "Here is Alexa's implementation:"
   ]
  },
  {
   "cell_type": "code",
   "execution_count": null,
   "id": "3fa7f649",
   "metadata": {},
   "outputs": [],
   "source": [
    "def sphere_volume(r):\n",
    "    sphere_volume = (4 / 3) * 3.14159 * r ** 3\n",
    "    print(sphere_volume)"
   ]
  },
  {
   "cell_type": "markdown",
   "id": "5725ee2c",
   "metadata": {},
   "source": [
    "Alexa's implementation works... kind of. If we call `sphere_volume(5)`, we get some result:"
   ]
  },
  {
   "cell_type": "code",
   "execution_count": null,
   "id": "4331950c",
   "metadata": {},
   "outputs": [],
   "source": [
    "sphere_volume(5)"
   ]
  },
  {
   "cell_type": "markdown",
   "id": "d83c2057",
   "metadata": {},
   "source": [
    "But when we assign the result of `sphere_volume(5)` to some variable, things don't seem to be working correctly."
   ]
  },
  {
   "cell_type": "code",
   "execution_count": null,
   "id": "1ebfdad0",
   "metadata": {},
   "outputs": [],
   "source": [
    "v = sphere_volume(5)"
   ]
  },
  {
   "cell_type": "code",
   "execution_count": null,
   "id": "32d9c136",
   "metadata": {},
   "outputs": [],
   "source": [
    "v"
   ]
  },
  {
   "cell_type": "code",
   "execution_count": null,
   "id": "cf802c5b",
   "metadata": {},
   "outputs": [],
   "source": [
    "print(v)"
   ]
  },
  {
   "cell_type": "markdown",
   "id": "11859dd6",
   "metadata": {},
   "source": [
    "**What is the issue with Alexa's function?** Once you come up with an answer, **call over an instructor or TA and explain your understanding**."
   ]
  },
  {
   "cell_type": "markdown",
   "id": "d464c641",
   "metadata": {
    "deletable": false,
    "editable": false
   },
   "source": [
    "**Now, in the cell below, fix Alexa's function so that it works correctly.** Also fix it so that if `r` is less than 0, the value 0 is returned.\n",
    "\n",
    "<!--\n",
    "BEGIN QUESTION\n",
    "name: q1a\n",
    "points: 1\n",
    "-->"
   ]
  },
  {
   "cell_type": "code",
   "execution_count": null,
   "id": "2a0b7198",
   "metadata": {},
   "outputs": [],
   "source": [
    "def sphere_volume_fixed(r):\n",
    "    ..."
   ]
  },
  {
   "cell_type": "code",
   "execution_count": null,
   "id": "275a4297",
   "metadata": {
    "deletable": false,
    "editable": false
   },
   "outputs": [],
   "source": [
    "grader.check(\"q1a\")"
   ]
  },
  {
   "cell_type": "markdown",
   "id": "8c9ca1df",
   "metadata": {},
   "source": [
    "### Question 1b\n",
    "\n",
    "Blythe is trying to write a function `quadratic_equation` that takes in values of `a`, `b`, and `c`, corresponding to the quadratic function $f(x) = ax^2 + bx + c$, and returns the value(s) of x such that\n",
    "\n",
    "$$x = \\frac{-b \\pm \\sqrt{b^2 - 4ac}}{2a}$$\n",
    "\n",
    "Specifically:\n",
    "- If $b^2 - 4ac > 0$, `quadratic_equation` should return a list with two elements, one element being $\\frac{-b + \\sqrt{b^2 - 4ac}}{2a}$ and the other element being $\\frac{-b - \\sqrt{b^2 - 4ac}}{2a}$ (in that order).\n",
    "- If $b^2 - 4ac = 0$, `quadratic_equation` should return a list with just one element, $\\frac{-b}{2a}$.\n",
    "- If $b^2 - 4ac < 0$, `quadratic_equation` should return the boolean `False`.\n",
    "\n",
    "Here is Blythe's implementation:"
   ]
  },
  {
   "cell_type": "code",
   "execution_count": null,
   "id": "b0c829c2",
   "metadata": {},
   "outputs": [],
   "source": [
    "def quadratic_equation(a, b, c):\n",
    "    d = b^2 - 4 * a * c\n",
    "    if d > 0:\n",
    "        return [(-b + d**0.5)/(2 * a) and (-b - d**0.5)/(2 * a)]\n",
    "    else if d = 0:\n",
    "        return [-b/(2 * a)]\n",
    "    else:\n",
    "        return 'False'"
   ]
  },
  {
   "cell_type": "markdown",
   "id": "862ec574",
   "metadata": {
    "deletable": false,
    "editable": false
   },
   "source": [
    "Blythe's implementation is on the right track, but is riddled with syntax errors.\n",
    "\n",
    "**In the cell below, fix Blythe's function so that it works correctly.** \n",
    "\n",
    "<!--\n",
    "BEGIN QUESTION\n",
    "name: q1b\n",
    "points: 2\n",
    "-->"
   ]
  },
  {
   "cell_type": "code",
   "execution_count": null,
   "id": "496e7f43",
   "metadata": {},
   "outputs": [],
   "source": [
    "def quadratic_equation_fixed(a, b, c):\n",
    "    ..."
   ]
  },
  {
   "cell_type": "code",
   "execution_count": null,
   "id": "4035bb66",
   "metadata": {
    "deletable": false,
    "editable": false
   },
   "outputs": [],
   "source": [
    "grader.check(\"q1b\")"
   ]
  },
  {
   "cell_type": "markdown",
   "id": "4ade5355",
   "metadata": {},
   "source": [
    "### Question 1c\n",
    "\n",
    "Darshan is trying to write a function `is_858` which takes in an integer `pn` and returns the boolean `True` if `pn` corresponds to a valid phone number with a 858 area code and `False` otherwise. A number is a valid phone number if it has exactly 10 digits.\n",
    "\n",
    "Here is Darshan's implementation:"
   ]
  },
  {
   "cell_type": "code",
   "execution_count": null,
   "id": "da164cec",
   "metadata": {},
   "outputs": [],
   "source": [
    "def is_858(pn):\n",
    "    pn_str = str(pn)\n",
    "    return (pn_str[858] == [0, 1, 2]) and (pn_str == 10)"
   ]
  },
  {
   "cell_type": "markdown",
   "id": "df81eed5",
   "metadata": {},
   "source": [
    "The above cell runs without any issues, but when we call the function we get a `TypeError`:"
   ]
  },
  {
   "cell_type": "code",
   "execution_count": null,
   "id": "f366854a",
   "metadata": {},
   "outputs": [],
   "source": [
    "# Should be True\n",
    "is_858(8585342200)"
   ]
  },
  {
   "cell_type": "markdown",
   "id": "52b6eeef",
   "metadata": {
    "deletable": false,
    "editable": false
   },
   "source": [
    "**In the cell below, fix Darshan's function so that it works correctly.** \n",
    "\n",
    "<!--\n",
    "BEGIN QUESTION\n",
    "name: q1c\n",
    "points: 2\n",
    "-->"
   ]
  },
  {
   "cell_type": "code",
   "execution_count": null,
   "id": "c5762bb5",
   "metadata": {},
   "outputs": [],
   "source": [
    "def is_858_fixed(pn):\n",
    "    ..."
   ]
  },
  {
   "cell_type": "code",
   "execution_count": null,
   "id": "7f7e6554",
   "metadata": {
    "deletable": false,
    "editable": false
   },
   "outputs": [],
   "source": [
    "grader.check(\"q1c\")"
   ]
  },
  {
   "cell_type": "markdown",
   "id": "f8fc2f2d",
   "metadata": {},
   "source": [
    "### Question 1d\n",
    "\n",
    "Elon is trying to write a function `largest_index` which takes in a list of integers `values` and returns the index of the largest element in `largest_index`. If the largest element of `values` is not unique, `largest_index` should return the index of the first occurrence of it.\n",
    "\n",
    "Here is Elon's implementation:"
   ]
  },
  {
   "cell_type": "code",
   "execution_count": null,
   "id": "92569541",
   "metadata": {},
   "outputs": [],
   "source": [
    "def largest_index(values):\n",
    "    return max(values.index(values))"
   ]
  },
  {
   "cell_type": "markdown",
   "id": "a40abf43",
   "metadata": {},
   "source": [
    "The above cell runs without any issues, but when we call the function we get a `TypeError`:"
   ]
  },
  {
   "cell_type": "code",
   "execution_count": null,
   "id": "8b9c3dcf",
   "metadata": {},
   "outputs": [],
   "source": [
    "# Should be 1, since the largest element (9) is at index 1\n",
    "largest_index([2, 9, 1, 0, 8])"
   ]
  },
  {
   "cell_type": "markdown",
   "id": "6f0fe480",
   "metadata": {
    "deletable": false,
    "editable": false
   },
   "source": [
    "**In the cell below, fix Elon's function so that it works correctly.** \n",
    "\n",
    "<!--\n",
    "BEGIN QUESTION\n",
    "name: q1d\n",
    "points: 2\n",
    "-->"
   ]
  },
  {
   "cell_type": "code",
   "execution_count": null,
   "id": "499204dd",
   "metadata": {},
   "outputs": [],
   "source": [
    "def largest_index_fixed(values):\n",
    "    ..."
   ]
  },
  {
   "cell_type": "code",
   "execution_count": null,
   "id": "64c390c3",
   "metadata": {
    "deletable": false,
    "editable": false
   },
   "outputs": [],
   "source": [
    "grader.check(\"q1d\")"
   ]
  },
  {
   "cell_type": "markdown",
   "id": "ac454677",
   "metadata": {
    "deletable": false,
    "editable": false
   },
   "source": [
    "## Question 2 – Fibonacci Sequence\n",
    "\n",
    "The Fibonacci sequence is a sequence of integers defined recursively as follows:\n",
    "\n",
    "$$F_0 = 0 \\\\ F_1 = 1 \\\\ F_i = F_{i-1} + F_{i - 2}, i \\geq 2$$\n",
    "\n",
    "The first few numbers in the sequence are\n",
    "\n",
    "$$0, 1, 1, 2, 3, 5, 8, 13, 21, 34, 55$$\n",
    "\n",
    "To find the $n$th number in the Fibonacci sequence (that is, $F_n$), you need to first find $F_{n-1}$ and $F_{n-2}$. But to find $F_{n-1}$ you need to find $F_{n-2}$ and $F_{n-3}$, and to find $F_{n-2}$ you need to find $F_{n-3}$ and $F_{n-4}$. What this means is to find any number in the Fibonacci sequence, you need to find all prior numbers in the sequence as well.\n",
    "\n",
    "Below, complete the implementation of the function `fib`, which takes in a positive integer `n` and returns the first `n+1` numbers in the Fibonacci sequence (i.e. $F_0$, $F_1$, $F_2$, ..., $F_n$). Example behavior is given below.\n",
    "\n",
    "```py\n",
    ">>> fib(5)\n",
    "[0, 1, 1, 2, 3, 5]\n",
    "```\n",
    "\n",
    "<!--\n",
    "BEGIN QUESTION\n",
    "name: q2\n",
    "-->"
   ]
  },
  {
   "cell_type": "code",
   "execution_count": null,
   "id": "f14db140",
   "metadata": {},
   "outputs": [],
   "source": [
    "def fib(n):\n",
    "    ...\n",
    "\n",
    "# Test out your function on your own inputs!\n",
    "# fib(5)"
   ]
  },
  {
   "cell_type": "code",
   "execution_count": null,
   "id": "6da212f2",
   "metadata": {
    "deletable": false,
    "editable": false
   },
   "outputs": [],
   "source": [
    "grader.check(\"q2\")"
   ]
  },
  {
   "cell_type": "markdown",
   "id": "523c5d0b",
   "metadata": {
    "deletable": false,
    "editable": false
   },
   "source": [
    "## Question 3 – Big Tippers\n",
    "Suppose we are waiters at a restaurant, and we keep track of the tips that we receive in a given night. Specifically, we store in a list the first names of our customers along with the tip that they gave, like so:\n",
    "\n",
    "`[name_1, tip_1, name_2, tip_2, name_3, tip_3, ...]`\n",
    "\n",
    "So for instance, our list may look like `['suraj', 15, 'isaac', 9, 'angela', 19]`.\n",
    "\n",
    "Below, complete the implementation of the function `big_tippers`, which takes in a list `tips` as described above and returns only the names of the customers who tipped more than the average tip.\n",
    "\n",
    "If we take the list `['suraj', 15, 'isaac', 9, 'angela', 19]` to be our tips, then the average tip is $\\frac{15 + 9 + 19}{3} = 14.33$, and both `'suraj'` and `'angela'` tipped more than that, so your function should return `['suraj', 'angela']`.\n",
    "\n",
    "***Hint:*** Use two `for`-loops; one to compute the average tip, and a second to figure out who tipped more than average. In both loops, you'll have to be creative with your use of `range`.\n",
    "\n",
    "<!--\n",
    "BEGIN QUESTION\n",
    "name: q3\n",
    "-->"
   ]
  },
  {
   "cell_type": "code",
   "execution_count": null,
   "id": "5fee721c",
   "metadata": {},
   "outputs": [],
   "source": [
    "def big_tippers(tips):\n",
    "    # Loop 1 – determine the average tip\n",
    "    ...\n",
    "        \n",
    "    # Loop 2 – determine who tipped more than average\n",
    "    names = []\n",
    "    ...\n",
    "\n",
    "    return names\n",
    "\n",
    "# big_tippers(['suraj', 15, 'isaac', 9, 'angela', 19])"
   ]
  },
  {
   "cell_type": "code",
   "execution_count": null,
   "id": "79026386",
   "metadata": {
    "deletable": false,
    "editable": false
   },
   "outputs": [],
   "source": [
    "grader.check(\"q3\")"
   ]
  }
 ],
 "metadata": {
  "kernelspec": {
   "display_name": "Python 3 (ipykernel)",
   "language": "python",
   "name": "python3"
  },
  "language_info": {
   "codemirror_mode": {
    "name": "ipython",
    "version": 3
   },
   "file_extension": ".py",
   "mimetype": "text/x-python",
   "name": "python",
   "nbconvert_exporter": "python",
   "pygments_lexer": "ipython3",
   "version": "3.9.7"
  }
 },
 "nbformat": 4,
 "nbformat_minor": 5
}
