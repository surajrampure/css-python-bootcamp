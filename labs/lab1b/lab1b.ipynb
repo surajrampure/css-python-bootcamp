{
 "cells": [
  {
   "cell_type": "markdown",
   "id": "03058531",
   "metadata": {},
   "source": [
    "# Lab 1B\n",
    "## CSS Summer Bootcamp, Week 1 🥾\n",
    "\n",
    "Welcome to Lab 1B of Week 1!"
   ]
  },
  {
   "cell_type": "code",
   "execution_count": 1,
   "id": "18a50161",
   "metadata": {},
   "outputs": [],
   "source": [
    "# Run this cell, and don't change it!\n",
    "!pip install otter-grader"
   ]
  },
  {
   "cell_type": "code",
   "execution_count": 2,
   "id": "03214a07",
   "metadata": {},
   "outputs": [],
   "source": [
    "# Run this cell, and don't change it!\n",
    "import otter\n",
    "grader = otter.Notebook()\n",
    "\n",
    "import numpy as np"
   ]
  },
  {
   "cell_type": "markdown",
   "id": "fa8308fb",
   "metadata": {},
   "source": [
    "## Question 1 – Errors\n",
    "\n",
    "In this question, you will identify why certain lines of code cause an error or have unexpected behavior."
   ]
  },
  {
   "cell_type": "markdown",
   "id": "cf746f5b",
   "metadata": {},
   "source": [
    "### Question 1a\n",
    "\n",
    "The following cell contains an error."
   ]
  },
  {
   "cell_type": "code",
   "execution_count": 3,
   "id": "7b4dece9",
   "metadata": {},
   "outputs": [],
   "source": [
    "8 = 10 - 2"
   ]
  },
  {
   "cell_type": "markdown",
   "id": "e3120f67",
   "metadata": {
    "deletable": false,
    "editable": false
   },
   "source": [
    "Choose the best explanation of what's wrong with the code, and then assign the integer 1, 2, 3, or 4 to `reason_1a` below to indicate your answer.\n",
    "\n",
    "1. Python already knows `8 = 10 - 2`.\n",
    "\n",
    "2. `8` is a number, and numbers can't be variable names. In Python, \"`x = 10 - 2`\" means \"assign `x` as the name for the value of `10 - 2`.\"\n",
    "\n",
    "3. It should be `10 - 2 = 8`.\n",
    "\n",
    "4. I don't get an error message. This is a trick question.\n",
    "\n",
    "<!--\n",
    "BEGIN QUESTION\n",
    "name: q1a\n",
    "points: 1\n",
    "-->"
   ]
  },
  {
   "cell_type": "code",
   "execution_count": 4,
   "id": "1d2dd43a",
   "metadata": {},
   "outputs": [],
   "source": [
    "# Your answer should be in the format reason_1a = n, where n is either 1, 2, 3, or 4\n",
    "reason_1a = ..."
   ]
  },
  {
   "cell_type": "code",
   "execution_count": null,
   "id": "b874ab8c",
   "metadata": {
    "deletable": false,
    "editable": false
   },
   "outputs": [],
   "source": [
    "grader.check(\"q1a\")"
   ]
  },
  {
   "cell_type": "markdown",
   "id": "b9739e23",
   "metadata": {},
   "source": [
    "### Question 1b\n",
    "\n",
    "The following cell contains an error."
   ]
  },
  {
   "cell_type": "code",
   "execution_count": 7,
   "id": "d70fcacb",
   "metadata": {},
   "outputs": [],
   "source": [
    "four = 3\n",
    "nine = four times four"
   ]
  },
  {
   "cell_type": "markdown",
   "id": "30706219",
   "metadata": {
    "deletable": false,
    "editable": false
   },
   "source": [
    "Choose the best explanation of what's wrong with the code and assign the integer 1, 2, 3, or 4 to `reason_1b` below to indicate your answer.\n",
    "\n",
    "1. The `times` operation only applies to numbers, not the word `four`.\n",
    "\n",
    "2. The variable name `four` cannot be assigned to the number 3.\n",
    "\n",
    "3. four times four is sixteen, not nine.\n",
    "\n",
    "4. The variable name `four` cannot be followed directly by another variable name.\n",
    "\n",
    "<!--\n",
    "BEGIN QUESTION\n",
    "name: q1b\n",
    "points: 1\n",
    "-->"
   ]
  },
  {
   "cell_type": "code",
   "execution_count": 8,
   "id": "c4421ba3",
   "metadata": {},
   "outputs": [],
   "source": [
    "# Your answer should be in the format reason_1b = n, where n is either 1, 2, 3, or 4\n",
    "reason_1b = ..."
   ]
  },
  {
   "cell_type": "code",
   "execution_count": null,
   "id": "e69ce69e",
   "metadata": {
    "deletable": false,
    "editable": false
   },
   "outputs": [],
   "source": [
    "grader.check(\"q1b\")"
   ]
  },
  {
   "cell_type": "markdown",
   "id": "c4595cba",
   "metadata": {},
   "source": [
    "### Question 1c\n",
    "\n",
    "When Amelia runs the following cell, she expects the value of `eight` to be `8`, stored as an `int`."
   ]
  },
  {
   "cell_type": "code",
   "execution_count": 11,
   "id": "1683ab82",
   "metadata": {},
   "outputs": [],
   "source": [
    "def add(a, b):\n",
    "    print(a + b)\n",
    "    \n",
    "eight = add(3, 5)"
   ]
  },
  {
   "cell_type": "markdown",
   "id": "a656c97e",
   "metadata": {
    "deletable": false,
    "editable": false
   },
   "source": [
    "What data type does the variable `eight` contain? In other words, is `eight` an `int`, `str`, or neither? Assign your answer to the variable name `eight_type` below **as a string**, i.e. if you think the answer is `int`, write `eight_type = 'int'` below.\n",
    "\n",
    "<!--\n",
    "BEGIN QUESTION\n",
    "name: q1c\n",
    "points: 1\n",
    "-->"
   ]
  },
  {
   "cell_type": "code",
   "execution_count": 12,
   "id": "0846ae8f",
   "metadata": {},
   "outputs": [],
   "source": [
    "eight_type = ..."
   ]
  },
  {
   "cell_type": "code",
   "execution_count": null,
   "id": "98e3c401",
   "metadata": {
    "deletable": false,
    "editable": false
   },
   "outputs": [],
   "source": [
    "grader.check(\"q1c\")"
   ]
  },
  {
   "cell_type": "markdown",
   "id": "4ecaa2e1",
   "metadata": {},
   "source": [
    "### Question 1d\n",
    "\n",
    "Sam wants to create and print a string consisting of his name, age, and house address, as follows."
   ]
  },
  {
   "cell_type": "code",
   "execution_count": 15,
   "id": "a76f4165",
   "metadata": {},
   "outputs": [],
   "source": [
    "name = 'Sam'\n",
    "age = 51\n",
    "house_number = 1436\n",
    "house_street = 'Durant Avenue'\n",
    "\n",
    "sam_greeting = 'My name is ' + name + ', I am ' + age + ' years old, and I live at ' + house_number + ' ' + house_street\n",
    "print(sam_greeting)"
   ]
  },
  {
   "cell_type": "markdown",
   "id": "76331e1a",
   "metadata": {
    "deletable": false,
    "editable": false
   },
   "source": [
    "However, it errors. In the cell below, assign `sam_greeting_fixed` to a fixed version of `sam_greeting` that doesn't error. Start by copying the right-hand side of the `sam_greeting` assignment statement above. Your answer must still involve `+`.\n",
    "\n",
    "<!--\n",
    "BEGIN QUESTION\n",
    "name: q1d\n",
    "points: 1\n",
    "-->"
   ]
  },
  {
   "cell_type": "code",
   "execution_count": 16,
   "id": "02d93b5d",
   "metadata": {},
   "outputs": [],
   "source": [
    "sam_greeting_fixed = ...\n",
    "\n",
    "# If your sam_greeting_fixed is correct, the following print statement should print\n",
    "# 'My name is Sam, I am 51 years old, and I live at 1436 Durant Avenue'\n",
    "print(sam_greeting_fixed)"
   ]
  },
  {
   "cell_type": "code",
   "execution_count": null,
   "id": "20f6d4a6",
   "metadata": {
    "deletable": false,
    "editable": false
   },
   "outputs": [],
   "source": [
    "grader.check(\"q1d\")"
   ]
  },
  {
   "cell_type": "markdown",
   "id": "1a314b31",
   "metadata": {},
   "source": [
    "<span style='color:red'><b>Once you finish Question 1, call over an instructor or TA and explain your answers to them!</b></span>"
   ]
  },
  {
   "cell_type": "markdown",
   "id": "f20d7822",
   "metadata": {},
   "source": [
    "## Question 2 – Functions in Variables?\n",
    "\n",
    "_Taken from Data 6, Summer 2022 @ UC Berkeley._\n",
    "\n",
    "We have seen how variables can bind to values. They can also bind to function names! For example, consider the following cell, which binds `another_name_for_len` to the len function:"
   ]
  },
  {
   "cell_type": "code",
   "execution_count": 19,
   "id": "cfd4a8c7",
   "metadata": {},
   "outputs": [],
   "source": [
    "# Demo: Just run this cell\n",
    "another_name_for_len = len\n",
    "s = 'this string has length 25'\n",
    "print(s)\n",
    "print('length:', len(s))\n",
    "another_name_for_len(s)"
   ]
  },
  {
   "cell_type": "markdown",
   "id": "3dd3b916",
   "metadata": {
    "deletable": false,
    "editable": false
   },
   "source": [
    "### Question 2a\n",
    "\n",
    "In the below cell, assign `mystery_cast` to a function name such that when run, the last line `str(mystery_cast(5.00)) + '3'` evaluates to the string `'53'`.\n",
    "\n",
    "***Hint:*** Try casting!\n",
    "\n",
    "<!--\n",
    "BEGIN QUESTION\n",
    "name: q2a\n",
    "points: 1\n",
    "-->"
   ]
  },
  {
   "cell_type": "code",
   "execution_count": 20,
   "id": "4a11b393",
   "metadata": {},
   "outputs": [],
   "source": [
    "mystery_cast = ...\n",
    "str(mystery_cast(5.00)) + '3'"
   ]
  },
  {
   "cell_type": "code",
   "execution_count": null,
   "id": "c286eb6f",
   "metadata": {
    "deletable": false,
    "editable": false
   },
   "outputs": [],
   "source": [
    "grader.check(\"q2a\")"
   ]
  },
  {
   "cell_type": "markdown",
   "id": "870990d4",
   "metadata": {
    "deletable": false,
    "editable": false
   },
   "source": [
    "### Question 2b\n",
    "\n",
    "Assign `mystery_func` to a function such that when run, `g(mystery_func(2, g(h(1, 5), 3)), 4)` evaluates to the integer `10`.\n",
    "\n",
    "<!--\n",
    "BEGIN QUESTION\n",
    "name: q2b\n",
    "points: 1\n",
    "-->"
   ]
  },
  {
   "cell_type": "code",
   "execution_count": 23,
   "id": "c37636ae",
   "metadata": {},
   "outputs": [],
   "source": [
    "mystery_func = ...\n",
    "\n",
    "# Do not edit any code below this line\n",
    "g = min\n",
    "h = max\n",
    "g(mystery_func(2, g(h(10, 5), 15)), 20)"
   ]
  },
  {
   "cell_type": "code",
   "execution_count": null,
   "id": "c5aec6b0",
   "metadata": {
    "deletable": false,
    "editable": false
   },
   "outputs": [],
   "source": [
    "grader.check(\"q2b\")"
   ]
  },
  {
   "cell_type": "markdown",
   "id": "28c18097",
   "metadata": {},
   "source": [
    "## Question 3 – BMI"
   ]
  },
  {
   "cell_type": "markdown",
   "id": "b992130f",
   "metadata": {},
   "source": [
    "From Wikipedia, a human's [Body Mass Index](https://en.wikipedia.org/wiki/Body_mass_index) (BMI) \"is a convenient rule of thumb used to broadly categorize a person as underweight, normal weight, overweight, or obese based on tissue mass (muscle, fat, and bone) and height.\"\n",
    "\n",
    "BMI is defined according to the following formula:\n",
    "\n",
    "$$\\text{BMI} = \\frac{\\text{mass in kg}}{\\text{height in meters}^2}$$\n",
    "\n",
    "Unfortunately, we've been provided with a dataset that contains weights in pounds (lbs) and heights in inches. Fortunately, we can use the following conversion factors to convert from weights in pounds to masses in kilograms, and from heights in inches to heights in meters."
   ]
  },
  {
   "cell_type": "code",
   "execution_count": 26,
   "id": "389e616e",
   "metadata": {},
   "outputs": [],
   "source": [
    "in_to_cm = 2.54 # Don't change this!\n",
    "cm_to_m = 1 / 100 # Don't change this!"
   ]
  },
  {
   "cell_type": "code",
   "execution_count": 27,
   "id": "c036309c",
   "metadata": {},
   "outputs": [],
   "source": [
    "in_to_cm * cm_to_m"
   ]
  },
  {
   "cell_type": "code",
   "execution_count": 28,
   "id": "9b0b2a8f",
   "metadata": {},
   "outputs": [],
   "source": [
    "lb_to_kg = 1 / 2.2 # Don't change this!\n",
    "lb_to_kg"
   ]
  },
  {
   "cell_type": "markdown",
   "id": "1dfbe4d3",
   "metadata": {
    "deletable": false,
    "editable": false
   },
   "source": [
    "### Question 3a\n",
    "\n",
    "Joe Biden is 5'11\" and weighs 178 pounds ([source](https://www.serialupdates.me/joe-biden-us-new-president-real-name-wiki-height-weight-age-wife/)... questionable, we know). Using the above conversion factors and the provided variables below, determine Joe Biden's height in meters (`biden_height_m`) and mass in kilograms (`biden_mass_kg`). Your answers should only involve variable names and arithmetic operators; no numerical constants.\n",
    "\n",
    "<!--\n",
    "BEGIN QUESTION\n",
    "name: q3a\n",
    "points: 1\n",
    "-->"
   ]
  },
  {
   "cell_type": "code",
   "execution_count": 29,
   "id": "a67bbe04",
   "metadata": {},
   "outputs": [],
   "source": [
    "biden_height_in = 5 * 12 + 11 # Don't change this!\n",
    "biden_weight_lb = 178 # Don't change this!\n",
    "\n",
    "biden_height_m = ...\n",
    "biden_mass_kg = ..."
   ]
  },
  {
   "cell_type": "code",
   "execution_count": null,
   "id": "c6ac72b6",
   "metadata": {
    "deletable": false,
    "editable": false
   },
   "outputs": [],
   "source": [
    "grader.check(\"q3a\")"
   ]
  },
  {
   "cell_type": "markdown",
   "id": "73114cbe",
   "metadata": {
    "deletable": false,
    "editable": false
   },
   "source": [
    "### Question 3b\n",
    "\n",
    "Assign `biden_bmi` to Joe Biden's BMI, calculated according to the formula provided in the question.\n",
    "\n",
    "<!--\n",
    "BEGIN QUESTION\n",
    "name: q3b\n",
    "points: 1\n",
    "-->"
   ]
  },
  {
   "cell_type": "code",
   "execution_count": 34,
   "id": "5a6d93b5",
   "metadata": {},
   "outputs": [],
   "source": [
    "biden_bmi = ...\n",
    "biden_bmi"
   ]
  },
  {
   "cell_type": "code",
   "execution_count": null,
   "id": "f37f72fa",
   "metadata": {
    "deletable": false,
    "editable": false
   },
   "outputs": [],
   "source": [
    "grader.check(\"q3b\")"
   ]
  },
  {
   "cell_type": "markdown",
   "id": "9a07206b",
   "metadata": {
    "deletable": false,
    "editable": false
   },
   "source": [
    "### Question 3c\n",
    "\n",
    "As we covered in the most recent lecture, we use functions to encapsulate computation so that we don't write repetitive code. Below, complete the implementation of the function `bmi_from_in_lb`, which takes in a person's height in inches and weight in pounds and returns their BMI. You will need to use the logic you wrote in 2a and 2b. If your implementation is correct, `bmi_from_in_lb(biden_height_in, biden_weight_lb)` should evaluate to the correct answer for 2b. We will also test your function with other arguments, so you need to make sure it works in all cases.\n",
    "\n",
    "**This occurs commonly when writing code – first you test out a calculation for just one example, then you write it as a function so that it can be used for any example. That's what you're practicing here.**\n",
    "\n",
    "**Hint:** We've defined the variables `height_m`, `mass_kg`, and `bmi` to break your calculation into smaller steps. Use them!\n",
    "\n",
    "<!--\n",
    "BEGIN QUESTION\n",
    "name: q3c\n",
    "points: 2\n",
    "-->"
   ]
  },
  {
   "cell_type": "code",
   "execution_count": 37,
   "id": "51564ca5",
   "metadata": {},
   "outputs": [],
   "source": [
    "def bmi_from_in_lb(height_in, weight_lb):\n",
    "    height_m = ...\n",
    "    mass_kg = ...\n",
    "    bmi = ...\n",
    "    return bmi\n",
    "\n",
    "# Uncomment this after you've implemented the function to see if you're on the right track!\n",
    "# You should also test it out with other values.\n",
    "# bmi_from_in_lb(biden_height_in, biden_weight_lb) "
   ]
  },
  {
   "cell_type": "code",
   "execution_count": null,
   "id": "643ad218",
   "metadata": {
    "deletable": false,
    "editable": false
   },
   "outputs": [],
   "source": [
    "grader.check(\"q3c\")"
   ]
  },
  {
   "cell_type": "markdown",
   "id": "7d560fe6",
   "metadata": {},
   "source": [
    "Once you've completed Question 3, run the cell below. It loads in a table (more specifically, a \"DataFrame\") containing the heights and weights of real people (downloaded from [here](https://www.kaggle.com/mustafaali96/weight-height?select=weight-height.csv)), and stores it in the variable `humans`."
   ]
  },
  {
   "cell_type": "code",
   "execution_count": 41,
   "id": "99e7d632",
   "metadata": {
    "scrolled": true
   },
   "outputs": [],
   "source": [
    "import pandas as pd\n",
    "humans = pd.read_csv('data/weight-height.csv')\n",
    "humans.head()"
   ]
  },
  {
   "cell_type": "markdown",
   "id": "36109890",
   "metadata": {},
   "source": [
    "The preview above only shows the first 5 rows of `humans`, but it actually has 10,000 rows.\n",
    "\n",
    "The cell below uses your `bmi_from_in_lb` function to compute the BMI of each person in `humans`. It also draws a scatter plot of all heights and weights, with the size and color of the points representing BMIs."
   ]
  },
  {
   "cell_type": "code",
   "execution_count": 42,
   "id": "26ee9d2d",
   "metadata": {},
   "outputs": [],
   "source": [
    "import plotly.express as px\n",
    "\n",
    "def bmi_on_humans(r):\n",
    "    return bmi_from_in_lb(r['Height'], r['Weight'])\n",
    "\n",
    "humans['BMI'] = humans.apply(bmi_on_humans, axis=1)\n",
    "\n",
    "np.random.seed(55)\n",
    "small_humans = humans.sample(25)\n",
    "\n",
    "df = small_humans\n",
    "fig = px.scatter(df, x=\"Height\", y=\"Weight\", color=\"BMI\", size=\"BMI\",\n",
    "                 title=\"Height, Weight, and BMI\",\n",
    "                 labels = {'Weight': 'Weight (lbs)', 'Height': 'Height (in)'},\n",
    "                 width=800,height=600)\n",
    "\n",
    "fig.show()"
   ]
  },
  {
   "cell_type": "markdown",
   "id": "412d9422",
   "metadata": {},
   "source": [
    "The plot above is interactive – hover over different points to see what happens!\n",
    "\n",
    "A question for you to think about – **as height increases, does BMI tend to increase or decrease?**"
   ]
  },
  {
   "cell_type": "markdown",
   "id": "2a98db8e",
   "metadata": {},
   "source": [
    "## Question 4 – Interest Rates\n",
    "\n",
    "Throughout this question, you can refer to [this](https://www.getsmarteraboutmoney.ca/calculators/compound-interest-calculator/) calculator to see if your calculations are correct."
   ]
  },
  {
   "cell_type": "markdown",
   "id": "7258ad63",
   "metadata": {
    "deletable": false,
    "editable": false
   },
   "source": [
    "### Question 4a\n",
    "\n",
    "The formula for the \"future value\" of an investment given an initial investment (or \"present value\") $\\text{PV}$, average annual growth rate $i$, and number of years $t$:\n",
    "\n",
    "$$\\text{FV} = \\text{PV} \\cdot (1 + i)^t$$\n",
    "\n",
    "Suppose I invest $30420 in the stock market on my 25th birthday, and suppose my investment grows on average 12% per year. How much will my investment be worth on my 65th birthday? Assign the answer to `fv_q3a` below.\n",
    "\n",
    "<!--\n",
    "BEGIN QUESTION\n",
    "name: q4a\n",
    "points: 1\n",
    "-->"
   ]
  },
  {
   "cell_type": "code",
   "execution_count": 43,
   "id": "eb04df5a",
   "metadata": {},
   "outputs": [],
   "source": [
    "fv_q3a = ...\n",
    "fv_q3a"
   ]
  },
  {
   "cell_type": "code",
   "execution_count": null,
   "id": "c99cbcc3",
   "metadata": {
    "deletable": false,
    "editable": false
   },
   "outputs": [],
   "source": [
    "grader.check(\"q4a\")"
   ]
  },
  {
   "cell_type": "markdown",
   "id": "449bb8f3",
   "metadata": {
    "deletable": false,
    "editable": false
   },
   "source": [
    "### Question 4b\n",
    "\n",
    "Similar to what we did in Question 2, let's encapsulate the above calculation in a function, so that we can easily repeat it for any initial investment, growth rate, and time period.\n",
    "\n",
    "Complete the implementation of `future_value_calculator` below. If your implementation is correct, `future_value_calculator(30420, 0.12, 25, 65)` should evaluate to the correct answer from Question 3a. We will also test your function with other arguments, so you need to make sure it works in all cases.\n",
    "\n",
    "<!--\n",
    "BEGIN QUESTION\n",
    "name: q4b\n",
    "points: 2\n",
    "-->"
   ]
  },
  {
   "cell_type": "code",
   "execution_count": 47,
   "id": "760e553b",
   "metadata": {},
   "outputs": [],
   "source": [
    "def future_value_calculator(present_value, growth_rate, year_1, year_2):\n",
    "    time = ...\n",
    "    multiplier = ...\n",
    "    ...\n",
    "\n",
    "# Uncomment this after you've implemented the function to see if you're on the right track!\n",
    "# You should also test it out with other values.\n",
    "# future_value_calculator(30420, 0.12, 25, 65)"
   ]
  },
  {
   "cell_type": "code",
   "execution_count": null,
   "id": "35655011",
   "metadata": {
    "deletable": false,
    "editable": false
   },
   "outputs": [],
   "source": [
    "grader.check(\"q4b\")"
   ]
  },
  {
   "cell_type": "markdown",
   "id": "58166dc5",
   "metadata": {
    "deletable": false,
    "editable": false
   },
   "source": [
    "### Question 4c\n",
    "\n",
    "Suppose we're now interested in determining the **amount an investment grew**. For example, if I invest \\\\$100 and it turns into \\\\$500, I profited \\\\$500 - \\\\$100 = \\\\$400 through that investment.\n",
    "\n",
    "Below, complete the implementation of `profit_calculator`, which takes in the same arguments as `future_value_calculator` but returns the amount that investment grew.\n",
    "\n",
    "**Hint:** You will need to call `future_value_calculator`.\n",
    "\n",
    "<!--\n",
    "BEGIN QUESTION\n",
    "name: q4c\n",
    "points: 1\n",
    "-->"
   ]
  },
  {
   "cell_type": "code",
   "execution_count": 51,
   "id": "217bd671",
   "metadata": {},
   "outputs": [],
   "source": [
    "def profit_calculator(present_value, growth_rate, year_1, year_2):\n",
    "    future_value = ...\n",
    "    profit = ...\n",
    "    return profit\n",
    "\n",
    "# Uncomment this after you've implemented the function to see if you're on the right track!\n",
    "# You should also test it out with other values.\n",
    "# profit_calculator(30420, 0.12, 25, 65)"
   ]
  },
  {
   "cell_type": "code",
   "execution_count": null,
   "id": "a51e3b7a",
   "metadata": {
    "deletable": false,
    "editable": false
   },
   "outputs": [],
   "source": [
    "grader.check(\"q4c\")"
   ]
  },
  {
   "cell_type": "markdown",
   "id": "abad428a",
   "metadata": {},
   "source": [
    "### Fun Demo \n",
    "\n",
    "Run the following cell. It will present you with a graph and a slider. Change the slider to see what happens to the graph."
   ]
  },
  {
   "cell_type": "code",
   "execution_count": 55,
   "id": "977ffda4",
   "metadata": {},
   "outputs": [],
   "source": [
    "from ipywidgets import interact\n",
    "import matplotlib.pyplot as plt\n",
    "\n",
    "# Don't worry about the code, just play with the slider that appears after running.\n",
    "def plot_growth_rate(growth_rate):\n",
    "    T = 25\n",
    "    x = np.arange(1, T + 1)\n",
    "    y = [profit_calculator(100, growth_rate, 0, xi) for xi in x]\n",
    "    \n",
    "    if y[-1] > 60000:\n",
    "        color = 'green'\n",
    "    elif y[-1] > 20000:\n",
    "        color = 'blue'\n",
    "    else:\n",
    "        color = 'red'\n",
    "    \n",
    "    plt.figure(figsize = (10, 5))\n",
    "    plt.plot(x, y, color = color)\n",
    "    plt.xlim(0, 25)\n",
    "    plt.ylim(0, 100000)\n",
    "    plt.xlabel('Number of Years')\n",
    "    plt.ylabel('Profit on Investment');\n",
    "    plt.title('Profit on $100 investment over time')\n",
    "    \n",
    "interact(plot_growth_rate, growth_rate=(0.0, 0.5, 0.01));"
   ]
  },
  {
   "cell_type": "markdown",
   "id": "96dc847e",
   "metadata": {},
   "source": [
    "You did all of the calculation necessary above – we just provided you with the plotting code. Nice work!"
   ]
  },
  {
   "cell_type": "markdown",
   "id": "5e64fea2",
   "metadata": {},
   "source": [
    "## Question 5 – String Cleaning 🧹\n",
    "\n",
    "One issue you'll likely run into when working with real-world data is that the same quantity will be formatted in different ways. This commonly arises when working with phone numbers. For instance, `'(858) 534-2200'`, `'858-534-2200'`, and `'+1 858 534 2200'` all refer to the same phone number.\n",
    "\n",
    "Your job is to complete the implementation of the function `standardize_number`, which takes in a phone number that follows one of the three example formats provided in the previous paragraph and returns a \"standardized\" version of the phone number that has no punctuation or country code (`'+1'`) at the front. For instance, the following three expressions should all evaluate to `'8585342200'`:\n",
    "- `standardize_number('(858) 534-2200')`\n",
    "- `standardize_number('858-534-2200')`\n",
    "- `standardize_number('+1 858 534 2200')`"
   ]
  },
  {
   "cell_type": "markdown",
   "id": "28d8b534",
   "metadata": {
    "deletable": false,
    "editable": false
   },
   "source": [
    "***Hint:*** To \"remove\" something from a string, use the `replace` method. For example:\n",
    "```py\n",
    ">>> 'hello'.replace('l', '')\n",
    "'heo'\n",
    "```\n",
    "\n",
    "<!--\n",
    "BEGIN QUESTION\n",
    "name: q5\n",
    "points: 1\n",
    "-->"
   ]
  },
  {
   "cell_type": "code",
   "execution_count": 56,
   "id": "90ac816d",
   "metadata": {},
   "outputs": [],
   "source": [
    "def standardize_number(number):\n",
    "    ..."
   ]
  },
  {
   "cell_type": "markdown",
   "id": "bf052394",
   "metadata": {},
   "source": [
    "**Once you're done**, make sure to run the following three lines of code. Your function should behave as expected on all three."
   ]
  },
  {
   "cell_type": "code",
   "execution_count": 57,
   "id": "29b50739",
   "metadata": {},
   "outputs": [],
   "source": [
    "standardize_number('(858) 534-2200')"
   ]
  },
  {
   "cell_type": "code",
   "execution_count": 58,
   "id": "49289032",
   "metadata": {},
   "outputs": [],
   "source": [
    "standardize_number('510-925-8613')"
   ]
  },
  {
   "cell_type": "code",
   "execution_count": 59,
   "id": "7e39efc3",
   "metadata": {},
   "outputs": [],
   "source": [
    "standardize_number('+1 210 883 9461')"
   ]
  },
  {
   "cell_type": "markdown",
   "id": "50c138ca",
   "metadata": {},
   "source": [
    "If everything above looks good, **call over an instructor or TA to show them your work!**"
   ]
  },
  {
   "cell_type": "markdown",
   "id": "0ddf67f2",
   "metadata": {
    "deletable": false,
    "editable": false
   },
   "source": [
    "---\n",
    "\n",
    "To double-check your work, the cell below will rerun all of the autograder tests."
   ]
  },
  {
   "cell_type": "code",
   "execution_count": null,
   "id": "171e0d77",
   "metadata": {
    "deletable": false,
    "editable": false
   },
   "outputs": [],
   "source": [
    "grader.check_all()"
   ]
  }
 ],
 "metadata": {
  "kernelspec": {
   "display_name": "Python 3 (ipykernel)",
   "language": "python",
   "name": "python3"
  },
  "language_info": {
   "codemirror_mode": {
    "name": "ipython",
    "version": 3
   },
   "file_extension": ".py",
   "mimetype": "text/x-python",
   "name": "python",
   "nbconvert_exporter": "python",
   "pygments_lexer": "ipython3",
   "version": "3.9.7"
  }
 },
 "nbformat": 4,
 "nbformat_minor": 5
}
