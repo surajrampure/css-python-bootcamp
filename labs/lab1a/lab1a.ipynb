{
 "cells": [
  {
   "cell_type": "markdown",
   "id": "53159177",
   "metadata": {},
   "source": [
    "# Lab 1A\n",
    "\n",
    "## CSS Summer Bootcamp, Week 1 🥾\n",
    "\n",
    "Labs are designed to give you hands-on experience with the content of the preceeding lecture period. In labs, you'll see two types of questions:\n",
    "- **Autograded questions**, where we automatically grade your work.\n",
    "- **Understanding questions**, where you'll need to explain your answer to an instructor or TA."
   ]
  },
  {
   "cell_type": "markdown",
   "id": "ac6130a4",
   "metadata": {},
   "source": [
    "## Note: Variables\n",
    "\n",
    "We haven't covered the idea of a variable in lecture just yet – we will do so in Lecture 1B. For now, think of variables as places to \"store\" values in Python.\n",
    "\n",
    "For instance, below we define `x` to \"store\" the value `5`."
   ]
  },
  {
   "cell_type": "code",
   "execution_count": null,
   "id": "048ebf66",
   "metadata": {},
   "outputs": [],
   "source": [
    "x = 3 + 2"
   ]
  },
  {
   "cell_type": "markdown",
   "id": "73390053",
   "metadata": {},
   "source": [
    "We can check the value of the `x` variable by placing `x` on the last line of a cell and running that cell:"
   ]
  },
  {
   "cell_type": "code",
   "execution_count": null,
   "id": "962b0da9",
   "metadata": {},
   "outputs": [],
   "source": [
    "x"
   ]
  },
  {
   "cell_type": "markdown",
   "id": "97f14037",
   "metadata": {},
   "source": [
    "We can use `x` as a substitute for `5` in calculations:"
   ]
  },
  {
   "cell_type": "code",
   "execution_count": null,
   "id": "ff4d2af3",
   "metadata": {},
   "outputs": [],
   "source": [
    "x ** 2 + 2 * x + 1"
   ]
  },
  {
   "cell_type": "markdown",
   "id": "0ce45fe8",
   "metadata": {},
   "source": [
    "Many of the questions in this lab will ask you to assign some answer to a variable. This is so that we can automatically grade your work. Don't hesitate to ask questions!"
   ]
  },
  {
   "cell_type": "markdown",
   "id": "aee947be",
   "metadata": {},
   "source": [
    "## Question 1 – Dot Product 🔴\n",
    "\n",
    "In this problem, we'll expose you to a key idea in linear algebra that you'll touch upon again in a few weeks. Along the way, we'll build our Python-writing muscles, too. If you're not familiar with vectors, don't worry – just treat them like lists of numbers.\n",
    "\n",
    "In linear algebra, the **dot product** of two vectors $\\vec{a} = \\begin{bmatrix} a_1 \\\\ a_2 \\\\ \\vdots \\\\ a_n \\end{bmatrix}$ and $\\vec{b} = \\begin{bmatrix} b_1 \\\\ b_2 \\\\ \\vdots \\\\ b_n \\end{bmatrix}$ is defined as follows:\n",
    "\n",
    "$$\\vec{a} \\cdot \\vec{b} = \\begin{bmatrix} a_1 \\\\ a_2 \\\\ \\vdots \\\\ a_n \\end{bmatrix} \\cdot \\begin{bmatrix} b_1 \\\\ b_2 \\\\ \\vdots \\\\ b_n \\end{bmatrix} = a_1 b_1 + a_2 b_2 + ... + a_n b_n $$\n",
    "\n",
    "For example, if $\\vec{a} = \\begin{bmatrix} 2 \\\\ 3 \\\\ 5\\end{bmatrix}$ and $\\vec{b} = \\begin{bmatrix} 0 \\\\ -1 \\\\ 2 \\end{bmatrix}$, then\n",
    "\n",
    "$$\\vec{a} \\cdot \\vec{b} = 2 \\cdot 0 + 3 \\cdot (-1) + 5 \\cdot 2 = 0 - 3 + 10 = \\boxed{7}$$\n",
    "\n",
    "so we'd say the dot product between these two vectors is 7."
   ]
  },
  {
   "cell_type": "markdown",
   "id": "b5b48e78",
   "metadata": {},
   "source": [
    "### Question 1a\n",
    "\n",
    "In the cell below, write an expression that evaluates to the dot product between the vectors $\\vec{a} = \\begin{bmatrix} 3 \\\\ 5 \\\\ -1 \\\\ 4 \\end{bmatrix}$ and $\\vec{b} = \\begin{bmatrix} 4 \\\\ 1 \\\\ -2 \\\\ 8 \\end{bmatrix}$. Write your answer as a single expression – that is, a single line of code – and have Python perform all of the calculations (don't simplify anything yourself)."
   ]
  },
  {
   "cell_type": "code",
   "execution_count": null,
   "id": "2cf42cd7",
   "metadata": {},
   "outputs": [],
   "source": [
    "# Your expression goes here"
   ]
  },
  {
   "cell_type": "markdown",
   "id": "573efc60",
   "metadata": {
    "deletable": false,
    "editable": false
   },
   "source": [
    "Once you're confident that your expression is correct, copy it to the right of the `=` sign in the cell below, replacing the `...`.\n",
    "\n",
    "<!--\n",
    "BEGIN QUESTION\n",
    "name: q1a\n",
    "-->"
   ]
  },
  {
   "cell_type": "code",
   "execution_count": null,
   "id": "a2c9c6a3",
   "metadata": {},
   "outputs": [],
   "source": [
    "dot_product = ..."
   ]
  },
  {
   "cell_type": "markdown",
   "id": "22d517e6",
   "metadata": {
    "deletable": false,
    "editable": false
   },
   "source": [
    "### Question 1b\n",
    "\n",
    "The dot product of two vectors has another **equivalent** definition:\n",
    "\n",
    "$$\\vec{a} \\cdot \\vec{b} = \\big|\\vec{a} \\big| \\big|\\vec{b}\\big| \\cos \\theta$$\n",
    "\n",
    "Here, $\\big| \\vec{a} \\big|$ refers to the **length** of $\\vec{a}$, $\\big| \\vec{b} \\big|$ refers to the length of $\\vec{b}$, and $\\theta$ is the angle between vectors $\\vec{a}$ and $\\vec{b}$. \n",
    "\n",
    "The length of a vector $\\vec{a} = \\begin{bmatrix} a_1 \\\\ a_2 \\\\ \\vdots \\\\ a_n \\end{bmatrix}$ can be computed using the following formula:\n",
    "\n",
    "$$\\big| \\vec{a} \\big| = \\sqrt{a_1^2 + a_2^2 + ... + a_n^2}$$\n",
    "\n",
    "(This is known as the \"$L_2$ norm\" of $\\vec{a}$, and can be thought of as an extension of the Pythagorean theorem, $c^2 = a^2 + b^2$, to multiple dimensions.)\n",
    "\n",
    "**In the cells below**, assign `length_a` to the length of the vector $\\vec{a} = \\begin{bmatrix} 3 \\\\ 5 \\\\ -1 \\\\ 4 \\end{bmatrix}$ and `length_b` to the length of the vector $\\vec{b} = \\begin{bmatrix} 4 \\\\ 1 \\\\ -2 \\\\ 8 \\end{bmatrix}$. Again, compute the lengths using Python expressions, and have Python do all of the calculation.\n",
    "\n",
    "<!--\n",
    "BEGIN QUESTION\n",
    "name: q1b\n",
    "-->"
   ]
  },
  {
   "cell_type": "code",
   "execution_count": null,
   "id": "69a1c080",
   "metadata": {},
   "outputs": [],
   "source": [
    "length_a = ..."
   ]
  },
  {
   "cell_type": "code",
   "execution_count": null,
   "id": "f8e4bbe8",
   "metadata": {},
   "outputs": [],
   "source": [
    "length_b = ..."
   ]
  },
  {
   "cell_type": "markdown",
   "id": "65c2367d",
   "metadata": {},
   "source": [
    "### Question 1c\n",
    "\n",
    "If we re-arrange the definition of the dot product provided in the previous question, $\\vec{a} \\cdot \\vec{b} = \\big|\\vec{a} \\big| \\big|\\vec{b}\\big| \\cos \\theta$, we get\n",
    "\n",
    "$$\\cos \\theta = \\frac{\\vec{a} \\cdot \\vec{b}}{\\big|\\vec{a} \\big| \\big|\\vec{b}\\big|}$$\n",
    "\n",
    "We have all of the pieces we need to \"fill in\" the right side of this equation:\n",
    "- We know $\\vec{a} \\cdot \\vec{b}$, as we computed it in Question 1a.\n",
    "- We know $\\big|\\vec{a} \\big|$ and $\\big|\\vec{b} \\big|$, as we computed both in Question 1b.\n",
    "\n",
    "This means that we have all of the information we need to find the **cosine of the angle** between $\\begin{bmatrix} 3 \\\\ 5 \\\\ -1 \\\\ 4 \\end{bmatrix}$ and $\\begin{bmatrix} 4 \\\\ 1 \\\\ -2 \\\\ 8 \\end{bmatrix}$. But, this also means we have all of the information we need to find the **angle** between these two vectors, because\n",
    "\n",
    "$$\\cos \\theta = \\frac{\\vec{a} \\cdot \\vec{b}}{\\big|\\vec{a} \\big| \\big|\\vec{b}\\big|} \\implies \\boxed{ \\theta = \\cos^{-1} \\left(  \\frac{\\vec{a} \\cdot \\vec{b}}{\\big|\\vec{a} \\big| \\big|\\vec{b}\\big|} \\right) }$$\n",
    "\n",
    "To find the angle between these two vectors, we need to find the **inverse cosine** of some quantity. This seems like a job for the `math` module!"
   ]
  },
  {
   "cell_type": "code",
   "execution_count": null,
   "id": "4e52a670",
   "metadata": {},
   "outputs": [],
   "source": [
    "import math"
   ]
  },
  {
   "cell_type": "markdown",
   "id": "dff97c0b",
   "metadata": {},
   "source": [
    "**Your Job:** Read [the documentation](https://docs.python.org/3/library/math.html) for the `math` module, and try and find a function that computes the inverse cosine of the input you provide it. Then, use that function to find the angle between the vectors $\\begin{bmatrix} 3 \\\\ 5 \\\\ -1 \\\\ 4 \\end{bmatrix}$ and $\\begin{bmatrix} 4 \\\\ 1 \\\\ -2 \\\\ 8 \\end{bmatrix}$, **in degrees**.\n",
    "\n",
    "Some guidance:\n",
    "- The inverse cosine function is also known as the \"arc cosine\" function.\n",
    "- The output of the aforementioned function will be in **radians**, but we want an answer in **degrees**. See if you can find a function that converts an input in radians to degrees!\n",
    "- We've provided the equivalent of $\\frac{\\vec{a} \\cdot \\vec{b}}{\\big|\\vec{a} \\big| \\big|\\vec{b}\\big|}$ in the cell below; **use it in your answer**.\n",
    "\n",
    "Once you compute the answer, **call an instructor or TA over**. We'll check your work."
   ]
  },
  {
   "cell_type": "code",
   "execution_count": null,
   "id": "cd7533c1",
   "metadata": {},
   "outputs": [],
   "source": [
    "# Use this expression in your answer\n",
    "dot_product / (length_a * length_b)"
   ]
  },
  {
   "cell_type": "code",
   "execution_count": null,
   "id": "b8f48898",
   "metadata": {},
   "outputs": [],
   "source": [
    "# Your expression goes here"
   ]
  },
  {
   "cell_type": "markdown",
   "id": "d604c578",
   "metadata": {},
   "source": [
    "***Hint:*** Your answer should be between 30º and 40º!\n",
    "\n",
    "If you've finished Question 1, congrats! You'll be happy to know that the cosine definition of the dot product is used a lot in machine learning. For instance, we can use **cosine similarity** to quantify how **similar** two sentences are."
   ]
  },
  {
   "cell_type": "markdown",
   "id": "5b87ac98",
   "metadata": {},
   "source": [
    "## Note: Autograder\n",
    "\n",
    "Question 1 was not \"autograded\", that is, your notebook never told you whether your answers were correct or not. Moving forward, though, we will more heavily rely on an autograder to grade your work. The autograding system we will use is called `otter`. Run the two cells below – the first one installs `otter` (if it's not already on DataHub) and the second one imports and activates it."
   ]
  },
  {
   "cell_type": "code",
   "execution_count": null,
   "id": "d210e503",
   "metadata": {},
   "outputs": [],
   "source": [
    "# Run this cell, and don't change it!\n",
    "!pip install otter-grader"
   ]
  },
  {
   "cell_type": "code",
   "execution_count": null,
   "id": "52c817f7",
   "metadata": {},
   "outputs": [],
   "source": [
    "# Run this cell, and don't change it!\n",
    "import otter\n",
    "grader = otter.Notebook()"
   ]
  },
  {
   "cell_type": "markdown",
   "id": "13e13565",
   "metadata": {
    "deletable": false,
    "editable": false
   },
   "source": [
    "Here's how it works. In the cell below, you should see `otter_example = ...`. Replace the `...` with an integer between 0 and 10, inclusive.\n",
    "\n",
    "<!--\n",
    "BEGIN QUESTION\n",
    "name: example_q\n",
    "points: 0\n",
    "-->"
   ]
  },
  {
   "cell_type": "code",
   "execution_count": null,
   "id": "10064e4c",
   "metadata": {},
   "outputs": [],
   "source": [
    "otter_example = ..."
   ]
  },
  {
   "cell_type": "code",
   "execution_count": null,
   "id": "92d16328",
   "metadata": {
    "deletable": false,
    "editable": false
   },
   "outputs": [],
   "source": [
    "grader.check(\"example_q\")"
   ]
  },
  {
   "cell_type": "markdown",
   "id": "6bfa8701",
   "metadata": {},
   "source": [
    "Above this cell, you should see a cell that says `grader.check('example_q')`. This function call **autogrades** your work for this \"question\", and tells you whether your answers were on the right track or not. \n",
    "\n",
    "If you entered an integer between 0 and 10 inclusive, you should see something like \"**example_q** passed!\", but if not, you'll see one or more tests fail. Just so that you're familiar with what failed tests look like, try changing `otter_example` to a float, like `5.0`, and re-run the `grader.check` cell.\n",
    "\n",
    "Now is a good time to ask questions if you're not sure how the autograding system works."
   ]
  },
  {
   "cell_type": "markdown",
   "id": "1ddbd5e2",
   "metadata": {},
   "source": [
    "## Question 2 – Vaccination Rates in Los Angeles County 💉"
   ]
  },
  {
   "cell_type": "markdown",
   "id": "100441aa",
   "metadata": {},
   "source": [
    "In this problem, we'll quantify the \"dissimilarity\" between the COVID vaccination rates in three different cities in Los Angeles County. To do this, we will use three percentages:\n",
    "- the percentage of residents aged 12 and up who have received at least one dose of a COVID vaccine,\n",
    "- the percentage of residents aged 12 and up who are fully vaccinated, and\n",
    "- the percentage of residents aged 12 and up who have received a booster dose.\n",
    "\n",
    "The data as of January 5th, 2022 for the cities of Lancaster, Compton, and Malibu are shown in the table below (source: [lacounty.gov](http://publichealth.lacounty.gov/media/coronavirus/vaccine/vaccine-dashboard.htm)).\n",
    "\n",
    "| Percent of Residents       | Lancaster  | Compton  | Malibu |\n",
    "|-------------------------------------------|-------------|-----------|-----------|\n",
    "| First Dose         | 68 | 75 | 69 | \n",
    "| Fully Vaccinated           | 62 | 67 | 62 | \n",
    "| Boosted     | 18 | 15 | 31 | \n",
    "\n",
    "We define the **dissimilarity** between two cities as the largest absolute difference between their 3 respective percentages.\n",
    "\n",
    "For example, if \n",
    "* City A's percentage for *First Dose* is 3 more than City B's percentage, and \n",
    "* City A's percentage for *Fully Vaccinated* is 2 less than than City B's percentage, and \n",
    "* City A's percentage for *Boosted* is 4 less than City B's percentage,\n",
    "\n",
    "then we would say the dissimilarity between City A and City B is 4, since the largest of 3, 2, and 4 is 4."
   ]
  },
  {
   "cell_type": "markdown",
   "id": "63e7ada0",
   "metadata": {},
   "source": [
    "### Question 2a\n",
    "Using this method, compute the dissimilarity between Lancaster and Compton. Write your answer as a single expression – that is, a single line of code – and have Python perform all of the calculations (don't simplify anything yourself).\n",
    "\n",
    "Assign your answer to the variable `dissimilarity`."
   ]
  },
  {
   "cell_type": "code",
   "execution_count": null,
   "id": "261b7570",
   "metadata": {},
   "outputs": [],
   "source": [
    "dissimilarity = ...\n",
    "dissimilarity"
   ]
  },
  {
   "cell_type": "code",
   "execution_count": null,
   "id": "26b20a70",
   "metadata": {
    "deletable": false,
    "editable": false
   },
   "outputs": [],
   "source": [
    "grader.check(\"q2a\")"
   ]
  },
  {
   "cell_type": "markdown",
   "id": "5b9214f5",
   "metadata": {},
   "source": [
    "### Question 2b\n",
    "\n",
    "Which pair of cities is **most** dissimilar, according to this measurement? Assign either 1, 2, or 3 to the name `most_dissimilar` below.\n",
    "\n",
    "1. Lancaster and Compton\n",
    "2. Lancaster and Malibu\n",
    "3. Compton and Malibu\n",
    "\n",
    "***Hint:*** Remember that you can create as many cells as you want! Hit **H** on your keyboard while in command mode to see a list of all keyboard shortcuts."
   ]
  },
  {
   "cell_type": "code",
   "execution_count": null,
   "id": "336736a5",
   "metadata": {},
   "outputs": [],
   "source": [
    "most_dissimilar = ..."
   ]
  },
  {
   "cell_type": "code",
   "execution_count": null,
   "id": "7e109409",
   "metadata": {
    "deletable": false,
    "editable": false
   },
   "outputs": [],
   "source": [
    "grader.check(\"q5_2\")"
   ]
  },
  {
   "cell_type": "markdown",
   "id": "a26d3097",
   "metadata": {},
   "source": [
    "Once you've completed the question, **call an instructor or TA over**. We'll take a look at your work."
   ]
  },
  {
   "cell_type": "markdown",
   "id": "701d890b",
   "metadata": {},
   "source": [
    "## Question 3 – Separating Digits\n",
    "\n",
    "### Question 3a\n",
    "\n",
    "At the end of Lecture 1A, we learned about the integer division (`//`) and modulo/remainder (`%`) operators."
   ]
  },
  {
   "cell_type": "code",
   "execution_count": null,
   "id": "9c62757d",
   "metadata": {},
   "outputs": [],
   "source": [
    "17 // 4"
   ]
  },
  {
   "cell_type": "code",
   "execution_count": null,
   "id": "99257930",
   "metadata": {},
   "outputs": [],
   "source": [
    "17 % 4"
   ]
  },
  {
   "cell_type": "markdown",
   "id": "71585e20",
   "metadata": {},
   "source": [
    "In division, the number we are dividing from is known as the dividend, and the number we are dividing by is known as the divisor.\n",
    "\n",
    "If the dividend `x` is a 2-digit positive integer, and the divisor `d` is 10, then `x // d` and `x % d` have special properties! In the 2 cells below, evaluate `x // 10` and `x % 10`, where `x` is a 2-digit positive integer."
   ]
  },
  {
   "cell_type": "code",
   "execution_count": null,
   "id": "a8f2b893",
   "metadata": {},
   "outputs": [],
   "source": []
  },
  {
   "cell_type": "code",
   "execution_count": null,
   "id": "954e20ed",
   "metadata": {},
   "outputs": [],
   "source": []
  },
  {
   "cell_type": "markdown",
   "id": "1bbb44ca",
   "metadata": {},
   "source": [
    "What did you notice? Once you've made your observation, **call an instructor or TA over to explain it to them.**"
   ]
  },
  {
   "cell_type": "markdown",
   "id": "795c5411",
   "metadata": {},
   "source": [
    "### Question 3b\n",
    "\n",
    "What if `x` is not a 2-digit positive integer, but a longer positive integer? In that case, what are `x // 10` and `x % 10`? Try it out for yourself below."
   ]
  },
  {
   "cell_type": "code",
   "execution_count": null,
   "id": "55edace8",
   "metadata": {},
   "outputs": [],
   "source": []
  },
  {
   "cell_type": "code",
   "execution_count": null,
   "id": "c34d4ced",
   "metadata": {},
   "outputs": [],
   "source": []
  },
  {
   "cell_type": "markdown",
   "id": "025ff38c",
   "metadata": {},
   "source": [
    "### Question 3c\n",
    "\n",
    "Let's see if we can extend the pattern we've observed to other number systems.\n",
    "\n",
    "A quick primer on number systems: In **base 10**, our standard number systems, there are 10 \"digits\" or \"symbols\" we use to represent numbers – 0, 1, 2, 3, 4, 5, 6, 7, 8, and 9. The integer 89, in base 10, can be expressed as\n",
    "\n",
    "$$8 \\cdot 10^1 + 9 \\cdot 10^0$$\n",
    "\n",
    "The integer 342, in base 10, can be expressed as\n",
    "\n",
    "$$3 \\cdot 10^2 + 4 \\cdot 10^1 + 2 \\cdot 10^0$$\n",
    "\n",
    "In 342:\n",
    "- 2 is the \"ones digit\", so we multiply it by 1.\n",
    "- 4 is the \"tens digit\", so we multiply it by 10.\n",
    "- 3 is the \"hundreds digit\", so we multiply it by 100.\n",
    "\n",
    "<br>\n",
    "\n",
    "Another common number system is the **hexadecimal** system, which refers to **base 16**. (Hexadecimal is often used to represent colors on the computer.) For example, the integer 37 in hexadecimal is equivalent to\n",
    "\n",
    "$$3 \\cdot 16^1 + 7 \\cdot 16^0 = 48 + 7 = 56$$\n",
    "\n",
    "37 in base 16 is equal to 56 in base 10. More compactly, we might say $37_{16} = 56_{10}$.\n",
    "\n",
    "Since there are 10 digits in base 10 (0 through 9), there are 16 digits in base 16 (0 through 15). However, since we don't have symbols for the \"digits\" 10, 11, 12, 13, 14, and 15, we use letters instead. In base 16, A means 10, B means 11, C means 12, D means 13, E means 14, and F means 15. So for instance, $F3B_{16}$ is equal to $3899_{10}$, because:\n",
    "\n",
    "$$F3B_{16} = 15 \\cdot 16^{2} + 3 \\cdot 16^1 + 11 \\cdot 16^0 = 3899_{10}$$\n",
    "\n",
    "<br>\n",
    "\n",
    "How do the `//` and `%` operators relate to all this? We can use them to convert numbers from base 10 to base 16, i.e. the opposite of what we did in the line above! See if you can make sense of the code below."
   ]
  },
  {
   "cell_type": "code",
   "execution_count": null,
   "id": "3634d57a",
   "metadata": {},
   "outputs": [],
   "source": [
    "3899 // 16"
   ]
  },
  {
   "cell_type": "code",
   "execution_count": null,
   "id": "e95765bc",
   "metadata": {},
   "outputs": [],
   "source": [
    "3899 // (16 ** 2)"
   ]
  },
  {
   "cell_type": "code",
   "execution_count": null,
   "id": "fc0f0e98",
   "metadata": {},
   "outputs": [],
   "source": [
    "3899 % (16 ** 2)"
   ]
  },
  {
   "cell_type": "code",
   "execution_count": null,
   "id": "a56573f1",
   "metadata": {},
   "outputs": [],
   "source": [
    "59 // 16"
   ]
  },
  {
   "cell_type": "code",
   "execution_count": null,
   "id": "214f755a",
   "metadata": {},
   "outputs": [],
   "source": [
    "59 % 16"
   ]
  },
  {
   "cell_type": "markdown",
   "id": "d0beaab6",
   "metadata": {},
   "source": [
    "Now is a good time to ask questions if you're not sure what's going on. \n",
    "\n",
    "Once you're comfortable with the above calculation, **your job is to convert $763164_{16}$ to base 10**. Once you figure it out, call an instructor or TA over! (***Hint:*** It should resemble a word!) Remember that you can add as many cells as you'd like."
   ]
  },
  {
   "cell_type": "code",
   "execution_count": null,
   "id": "9be2e955",
   "metadata": {},
   "outputs": [],
   "source": []
  },
  {
   "cell_type": "code",
   "execution_count": null,
   "id": "f064910c",
   "metadata": {},
   "outputs": [],
   "source": []
  },
  {
   "cell_type": "markdown",
   "id": "40718b16",
   "metadata": {},
   "source": [
    "## Question 4 – Markdown\n",
    "\n",
    "[Markdown](https://en.wikipedia.org/wiki/Markdown) isn't a programming language – it's a \"markup language\", which means that it is designed to format text to look nice. But like a programming language, Markdown has a set of rules (syntax) that govern how it works. Think of it like a fancy Google Docs.\n",
    "\n",
    "Here are some of the most important rules in Markdown:\n",
    "\n",
    "- Double asterisks (`**`) are how we make words bold. `My name is **Billy**` renders to \"My name is **Billy**.\n",
    "- Underscores (`_`) are how we make words italicized. `How are _you_?` renders to How are _you_?, and `what is **_up_**` renders to what is **_up_**.\n",
    "- Hashtags (`#`, `##`, `###`) are how we create titles/headings. The more hashtags you include, the smaller the title is. The title for this question was generated using `## Question 5 – Markdown`.\n",
    "- Unbulleted and bulleted lists are created the same way they're created in a standard word processor, like Google Docs.\n",
    "\n",
    "Markdown is important to learn because Jupyter Notebooks are often full of Markdown cells (just like this lab). We use them frequently to explain our work to others.\n",
    "\n",
    "### Task\n",
    "\n",
    "Your job is to recreate the output in the following screenshot, using the Markdown cell below. Feel free to replace \"Taco Stand\" and \"country\" with your own favorite food and music genre, and feel free to change the image to any other image that is publicly available on the internet.\n",
    "\n",
    "<center><img src='images/ex.png' width=65%></center>\n",
    "\n",
    "***Hint:*** First, figure out how to recreate everything other than the image. The syntax for Markdown can be found [here](https://www.markdownguide.org/basic-syntax/). This page also contains information on how to embed images, but you'll find that in default Markdown there's no way to control the size of the image that appears. To specify the width (or height) of the image you're embedding, you'll need to use HTML instead; see [this page](https://www.w3schools.com/html/html_images.asp) for more details (you can put HTML directly in a Markdown cell). If you want to embed the exact same image as us, use [this link](https://ucsdtritons.com/images/2011/3/16/CRIGMQCZAINDDIB.20110316235149.jpg).\n",
    "\n",
    "Once you're done with your recreation, let an instructor or TA know."
   ]
  },
  {
   "cell_type": "markdown",
   "id": "f0bc2cb7",
   "metadata": {
    "deletable": false,
    "editable": false
   },
   "source": [
    "---\n",
    "\n",
    "To double-check your work, the cell below will rerun all of the autograder tests."
   ]
  },
  {
   "cell_type": "code",
   "execution_count": null,
   "id": "480f57ab",
   "metadata": {
    "deletable": false,
    "editable": false
   },
   "outputs": [],
   "source": [
    "grader.check_all()"
   ]
  }
 ],
 "metadata": {
  "kernelspec": {
   "display_name": "Python 3 (ipykernel)",
   "language": "python",
   "name": "python3"
  },
  "language_info": {
   "codemirror_mode": {
    "name": "ipython",
    "version": 3
   },
   "file_extension": ".py",
   "mimetype": "text/x-python",
   "name": "python",
   "nbconvert_exporter": "python",
   "pygments_lexer": "ipython3",
   "version": "3.9.7"
  }
 },
 "nbformat": 4,
 "nbformat_minor": 5
}
