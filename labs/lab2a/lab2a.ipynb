{
 "cells": [
  {
   "cell_type": "markdown",
   "id": "bdf8c09b",
   "metadata": {},
   "source": [
    "# Lab 2A\n",
    "## CSS Summer Bootcamp, Week 1 🥾\n",
    "\n",
    "Welcome to Lab 2A of Week 1!"
   ]
  },
  {
   "cell_type": "code",
   "execution_count": null,
   "id": "25094e79",
   "metadata": {},
   "outputs": [],
   "source": [
    "# Run this cell, and don't change it!\n",
    "!pip install otter-grader"
   ]
  },
  {
   "cell_type": "code",
   "execution_count": null,
   "id": "1f07288f",
   "metadata": {},
   "outputs": [],
   "source": [
    "# Run this cell, and don't change it!\n",
    "import otter\n",
    "grader = otter.Notebook()\n",
    "\n",
    "import numpy as np\n",
    "import pandas as pd"
   ]
  },
  {
   "cell_type": "markdown",
   "id": "ca96e3b9",
   "metadata": {},
   "source": [
    "## Question 1 – List Basics\n",
    "\n",
    "The cell below creates a list called `population` that includes estimated world populations in every year from **1950** to **2022**.  (The estimates come from the [International Database](https://www.census.gov/data-tools/demo/idb/#/country?COUNTRY_YEAR=2022&COUNTRY_YR_ANIM=2022), maintained by the US Census Bureau.)\n",
    "\n",
    "Rather than type in the data manually, we've loaded them from a file called `world_population_2022.csv`.  You'll learn how to read in data from `.csv` files next week."
   ]
  },
  {
   "cell_type": "code",
   "execution_count": null,
   "id": "8030da3e",
   "metadata": {},
   "outputs": [],
   "source": [
    "# Don't worry too much about what goes on in this cell.\n",
    "population = pd.read_csv('data/world_population_2022.csv')['Population'].tolist()\n",
    "population"
   ]
  },
  {
   "cell_type": "code",
   "execution_count": null,
   "id": "e3869a98",
   "metadata": {},
   "outputs": [],
   "source": [
    "len(population)"
   ]
  },
  {
   "cell_type": "markdown",
   "id": "bc6c2500",
   "metadata": {},
   "source": [
    "Here's how we get the first element of `population`, which is the world population in the first year in the dataset, 1950."
   ]
  },
  {
   "cell_type": "code",
   "execution_count": null,
   "id": "559d3ac3",
   "metadata": {},
   "outputs": [],
   "source": [
    "population[0]"
   ]
  },
  {
   "cell_type": "markdown",
   "id": "f751b3b5",
   "metadata": {},
   "source": [
    "Notice that we wrote `population[0]`, not `population[1]`, to get the first element.\n",
    "\n",
    "Here are some more examples.  In the examples, we've given names to the things we get out of `population`.  Read and run each cell."
   ]
  },
  {
   "cell_type": "code",
   "execution_count": null,
   "id": "5bf3cae9",
   "metadata": {},
   "outputs": [],
   "source": [
    "# The third element in the list is the population in 1952.\n",
    "population_1952 = population[2]\n",
    "population_1952"
   ]
  },
  {
   "cell_type": "code",
   "execution_count": null,
   "id": "4c3ea30a",
   "metadata": {},
   "outputs": [],
   "source": [
    "# The thirteenth element in the list is the population\n",
    "# in 1962 (which is 1950 + 12).\n",
    "population_1962 = population[12]\n",
    "population_1962"
   ]
  },
  {
   "cell_type": "code",
   "execution_count": null,
   "id": "df9daf1b",
   "metadata": {},
   "outputs": [],
   "source": [
    "# The 73rd element in the list is the population in 2022.\n",
    "population_2022 = population[72]\n",
    "population_2022"
   ]
  },
  {
   "cell_type": "code",
   "execution_count": null,
   "id": "bffd5508",
   "metadata": {},
   "outputs": [],
   "source": [
    "# The list has only 73 elements, so this doesn't work.\n",
    "# (There's no element with 73 other elements before it.)\n",
    "\n",
    "population_2023 = population[73]\n",
    "population_2023\n",
    "\n",
    "# (after running this cell, please place a # before each line above to make sure that it doesn't run again)"
   ]
  },
  {
   "cell_type": "markdown",
   "id": "2775a213",
   "metadata": {},
   "source": [
    "**Your Job:** Set `population_1998` to the world population in 1998, by getting the appropriate element from `population`."
   ]
  },
  {
   "cell_type": "code",
   "execution_count": null,
   "id": "49a0461f",
   "metadata": {},
   "outputs": [],
   "source": [
    "population_1998 = ...\n",
    "population_1998"
   ]
  },
  {
   "cell_type": "code",
   "execution_count": null,
   "id": "fd20fcbc",
   "metadata": {
    "deletable": false,
    "editable": false
   },
   "outputs": [],
   "source": [
    "grader.check(\"q1\")"
   ]
  },
  {
   "cell_type": "markdown",
   "id": "5fe15e65",
   "metadata": {
    "deletable": false,
    "editable": false
   },
   "source": [
    "## Question 2 – FizzBuzz\n",
    "\n",
    "[FizzBuzz](https://en.wikipedia.org/wiki/Fizz_buzz) is a game and common programming challenge. It is described below.\n",
    "\n",
    "> Players generally sit in a circle. The player designated to go first says the number \"1\", and the players then count upwards in turn. However, any number divisible by three is replaced by the word \"fizz\" and any number divisible by five by the word \"buzz\". Numbers divisible by 15 become \"fizz buzz\". A player who hesitates or makes a mistake is eliminated from the game.\n",
    "\n",
    "Complete the implementation of the function `single_number`, which takes in an integer (`n`) greater than or equal to 1 and returns the corresponding number or word in the FizzBuzz sequence, **as a string**. For instance, `single_number(2)` should evaluate to `'2'`, and `single_number(30)` should evaluate to `'fizz buzz'`.\n",
    "\n",
    "_Hint: Use the remainder operator `%`._\n",
    "\n",
    "<!--\n",
    "BEGIN QUESTION\n",
    "name: q2\n",
    "points: 1\n",
    "-->"
   ]
  },
  {
   "cell_type": "code",
   "execution_count": null,
   "id": "fe9a5d38",
   "metadata": {},
   "outputs": [],
   "source": [
    "def single_number(n):\n",
    "    ..."
   ]
  },
  {
   "cell_type": "code",
   "execution_count": null,
   "id": "01cc7ccc",
   "metadata": {
    "deletable": false,
    "editable": false
   },
   "outputs": [],
   "source": [
    "grader.check(\"q2\")"
   ]
  },
  {
   "cell_type": "markdown",
   "id": "c0507c70",
   "metadata": {},
   "source": [
    "Right now, `single_number` only finds, well, a single number in the FizzBuzz sequence. Wouldn't it be nice if we could generate a **list** containing the first `n` numbers in the FizzBuzz sequence, for any `n`? Stay tuned – you'll do just that in Lab 2B 😀."
   ]
  },
  {
   "cell_type": "markdown",
   "id": "2fab31af",
   "metadata": {},
   "source": [
    "## Question 3 – Death and Taxes\n",
    "\n",
    "The United States, like many countries, uses a progressive tax bracket system. This means that as your earnings increase, the percentage of your earnings you owe in tax also increases. In addition, the US tax system uses marginal tax brackets – what this means is that US taxpayers pay different tax percentages on different \"chunks\" of their earnings.\n",
    "\n",
    "Let's suppose the tax brackets for the 2020 tax year are defined by the table below. (This is pretty close to the actual bracket, but for simplicities' sake we'll use 4 brackets instead of 7.)\n",
    "\n",
    "| Tax Rate | Taxable Income |\n",
    "| --- | --- |\n",
    "| 10% | \\\\$0 to \\\\$9,875 |\n",
    "| 12% | \\\\$9,876 to \\\\$40,125 |\n",
    "| 22% | \\\\$40,126 to \\\\$85,525 |\n",
    "| 24% | \\\\$85,526 or more |\n",
    "\n",
    "**You will need to use these numbers throughout this question.**\n",
    "\n",
    "A few notes:\n",
    "- We will assume all incomes are integers.\n",
    "- \"Taxable Income\" refers to the part of ones income that is taxable; in the US there is what's known as a \"standard deduction\" which can be thought of as a discount on your taxes. In this assignment, we won't worry about deductions.\n",
    "\n",
    "If someone has a taxable income of \\\\$60,000, we say they are in the 22% tax bracket. However, such an individual doesn't owe 22% of \\\\$60,000 in taxes. Instead, they owe:\n",
    "- 10% of \\\\$9,875, **plus**\n",
    "- 12% of \\\\$30250 (\\\\$40,125 - \\\\$9,875), **plus**\n",
    "- 22% of \\\\$19,875 (\\\\$60,000 - \\\\$40,125)\n",
    "\n",
    "for a total of \\\\$8,990 ($0.1 \\cdot \\$9,875 + 0.12 \\cdot \\$30,250 + 0.22 \\cdot \\$19,875 = \\$8,990$). This makes their effective tax rate $\\frac{8990}{60000} \\approx 0.1498$, or about 14.98%.\n",
    "\n",
    "If you want to read more about the US federal income tax system, click [here](https://www.taxpolicycenter.org/briefing-book/how-do-federal-income-tax-rates-work)."
   ]
  },
  {
   "cell_type": "markdown",
   "id": "8f02a80b",
   "metadata": {
    "deletable": false,
    "editable": false
   },
   "source": [
    "### Question 3a\n",
    "\n",
    "Complete the implementation of the function `tax_bracket`, which takes in a taxable income (`income`) and returns the tax bracket it is in. For instance, `tax_bracket(60000)` should evaluate to `0.22` and `tax_bracket(402150)` should evaluate to `0.24`.\n",
    "\n",
    "_Hint: Use `elif`._\n",
    "\n",
    "<!--\n",
    "BEGIN QUESTION\n",
    "name: q3a\n",
    "points: 2\n",
    "-->"
   ]
  },
  {
   "cell_type": "code",
   "execution_count": null,
   "id": "e049587b",
   "metadata": {},
   "outputs": [],
   "source": [
    "def tax_bracket(income):\n",
    "    ..."
   ]
  },
  {
   "cell_type": "code",
   "execution_count": null,
   "id": "7dde07c9",
   "metadata": {
    "deletable": false,
    "editable": false
   },
   "outputs": [],
   "source": [
    "grader.check(\"q3a\")"
   ]
  },
  {
   "cell_type": "markdown",
   "id": "156753d8",
   "metadata": {
    "deletable": false,
    "editable": false
   },
   "source": [
    "### Question 3b\n",
    "\n",
    "Complete the implementation of `tax_owed`, which takes in a taxable income (`income`) and returns the amount of tax owed by an individual with that taxable income. For instance, `tax_owed(60000)` should evaluate to `8990.0`.\n",
    "\n",
    "Note: The code you write for this question might get a little long – but that's okay! Take it one step at a time.\n",
    "\n",
    "For your convenience, here's the tax bracket table again:\n",
    "\n",
    "| Tax Rate | Taxable Income |\n",
    "| --- | --- |\n",
    "| 10% | \\\\$0 to \\\\$9,875 |\n",
    "| 12% | \\\\$9,876 to \\\\$40,125 |\n",
    "| 22% | \\\\$40,126 to \\\\$85,525 |\n",
    "| 24% | \\\\$85,526 or more |\n",
    "\n",
    "<!--\n",
    "BEGIN QUESTION\n",
    "name: q3b\n",
    "points: 2\n",
    "-->"
   ]
  },
  {
   "cell_type": "code",
   "execution_count": null,
   "id": "6717e5f2",
   "metadata": {},
   "outputs": [],
   "source": [
    "def tax_owed(income):\n",
    "    ..."
   ]
  },
  {
   "cell_type": "code",
   "execution_count": null,
   "id": "60658546",
   "metadata": {
    "deletable": false,
    "editable": false
   },
   "outputs": [],
   "source": [
    "grader.check(\"q3b\")"
   ]
  },
  {
   "cell_type": "markdown",
   "id": "bc73ca21",
   "metadata": {
    "deletable": false,
    "editable": false
   },
   "source": [
    "### Question 3c\n",
    "\n",
    "Finally, complete the implementation of `effective_tax_rate`, which takes in a taxable income (`income`) and returns the effective tax rate for an individual with that taxable income, as a decimal. For instance, `effective_tax_rate(60000)` should evaluate to approximately `0.149833`.\n",
    "\n",
    "If `income` is less than or equal to 0, `effective_tax_rate` should evaluate to `0`.\n",
    "\n",
    "_Hint: You should use your `tax_owed` function. Our entire solution is only three lines, and two of them are for handling the case when `income <= 0`._\n",
    "\n",
    "<!--\n",
    "BEGIN QUESTION\n",
    "name: q3c\n",
    "points: 1\n",
    "-->"
   ]
  },
  {
   "cell_type": "code",
   "execution_count": null,
   "id": "39ba1e62",
   "metadata": {},
   "outputs": [],
   "source": [
    "def effective_tax_rate(income):\n",
    "    ..."
   ]
  },
  {
   "cell_type": "code",
   "execution_count": null,
   "id": "e974150c",
   "metadata": {
    "deletable": false,
    "editable": false
   },
   "outputs": [],
   "source": [
    "grader.check(\"q3c\")"
   ]
  },
  {
   "cell_type": "markdown",
   "id": "2a7e866b",
   "metadata": {},
   "source": [
    "### Fun Demo\n",
    "\n",
    "You just did all of the math necessary to build an income tax calculator, like the ones you see on many financial websites. Run the following cell once you've completed the rest of this question!"
   ]
  },
  {
   "cell_type": "code",
   "execution_count": null,
   "id": "60fc2286",
   "metadata": {},
   "outputs": [],
   "source": [
    "# Don't worry about the code, just play with the slider that appears after running.\n",
    "from ipywidgets import interact\n",
    "from IPython.display import display, HTML\n",
    "\n",
    "def plot_income_calculator(income):\n",
    "    s = f'''\n",
    "    <h3>{'${:,.2f}'.format(income)}</h3>\n",
    "    Taxable Income\n",
    "    \n",
    "    <h2>{'${:,.2f}'.format(tax_owed(income))}</h2>\n",
    "    Tax Owed\n",
    "    \n",
    "    <h3>{'{:,.1f}'.format((100 * effective_tax_rate(income))) + '%'}</h3>\n",
    "    Effective Tax Rate\n",
    "    \n",
    "    '''\n",
    "    display(HTML(s))\n",
    "    \n",
    "interact(plot_income_calculator, income=(0, 200000, 1000));"
   ]
  },
  {
   "cell_type": "markdown",
   "id": "33931580",
   "metadata": {},
   "source": [
    "## Question 4 – String Theory\n",
    "\n",
    "In this question, we will develop your ability to work with strings and indexes."
   ]
  },
  {
   "cell_type": "markdown",
   "id": "61fe4752",
   "metadata": {
    "deletable": false,
    "editable": false
   },
   "source": [
    "### Question 4a\n",
    "\n",
    "Implement the function `is_ing`, which accepts a string `s` and returns `True` if the argument ends in `'ing'` and `False` if it does not.\n",
    "\n",
    "Your function should **not** be case sensitive. That is, if `s` ends in `'InG'`, you should also still return `True`. Use `.lower()`.\n",
    "\n",
    "Try to limit your solution to 2 lines – one line for converting to lowercase, and one line for your logic.\n",
    "\n",
    "<!--\n",
    "BEGIN QUESTION\n",
    "name: q4a\n",
    "points: 1\n",
    "-->"
   ]
  },
  {
   "cell_type": "code",
   "execution_count": null,
   "id": "5fee0ff8",
   "metadata": {},
   "outputs": [],
   "source": [
    "def is_ing(s):\n",
    "    ..."
   ]
  },
  {
   "cell_type": "code",
   "execution_count": null,
   "id": "892f84f9",
   "metadata": {
    "deletable": false,
    "editable": false
   },
   "outputs": [],
   "source": [
    "grader.check(\"q4a\")"
   ]
  },
  {
   "cell_type": "markdown",
   "id": "23e7d386",
   "metadata": {
    "deletable": false,
    "editable": false
   },
   "source": [
    "### Question 4b\n",
    "\n",
    "Often times, we will want to \"extract\" a substring from a larger string based on some special characters. For example, we may be interested in extracting the middle three digits from a phone number (which are known as the \"prefix\"):\n",
    "\n",
    "`'858-534-2200' -> '534'`\n",
    "\n",
    "Implement the function `extract`, which accepts a string `s` and character `char` and returns a string containing everything in `s` between the first and second/last occurrences of `char`, respectively, as shown above. If there are fewer or more than 2 occurrences of `char` in `s`, return an empty string. (`char` is a string of length 1.)\n",
    "\n",
    "Note: You should do this using the string indexing techniques that we covered in Lecture 2A. There's actually another way to do this, using `split`. In fact, `s.split(char)[1]` does exactly what we're asking you to do – but, don't use it here.\n",
    "\n",
    "_Hint: look [here](https://www.w3schools.com/python/python_ref_string.asp)._\n",
    "\n",
    "<!--\n",
    "BEGIN QUESTION\n",
    "name: q4b\n",
    "points: 2\n",
    "-->"
   ]
  },
  {
   "cell_type": "code",
   "execution_count": null,
   "id": "162c4324",
   "metadata": {},
   "outputs": [],
   "source": [
    "def extract(s, char):\n",
    "    # Check for the number of occurrences of char here\n",
    "    ...\n",
    "    \n",
    "    pos1 = ...\n",
    "    pos2 = ...\n",
    "    ...\n",
    "\n",
    "# Uncomment this once you've implemented `extract`,\n",
    "# but remember to come up with your own examples as well!\n",
    "# extract('858z534z2200','z')"
   ]
  },
  {
   "cell_type": "code",
   "execution_count": null,
   "id": "ef92f9fa",
   "metadata": {
    "deletable": false,
    "editable": false
   },
   "outputs": [],
   "source": [
    "grader.check(\"q4b\")"
   ]
  },
  {
   "cell_type": "markdown",
   "id": "65a2e8e1",
   "metadata": {},
   "source": [
    "Once you're done, call over an instructor or TA so that we can verify your work."
   ]
  },
  {
   "cell_type": "markdown",
   "id": "e438bc44",
   "metadata": {
    "deletable": false,
    "editable": false
   },
   "source": [
    "### Question 4c\n",
    "\n",
    "Complete the implementation of the function `pump`, which takes in a string `base` and integer `rep` and returns a string with the same first and last characters as `base`, and with everything except the first and last characters in `base` repeated `rep` times.\n",
    "\n",
    "For example, if `base` is `'zebra'` and `rep` is `4`, the returned string should be `'zebrebrebrebra'`.\n",
    "\n",
    "<!--\n",
    "BEGIN QUESTION\n",
    "name: q4c\n",
    "points: 2\n",
    "-->"
   ]
  },
  {
   "cell_type": "code",
   "execution_count": null,
   "id": "fb4eb099",
   "metadata": {},
   "outputs": [],
   "source": [
    "def pump(base, rep):\n",
    "    first = ...\n",
    "    last = base[-1]\n",
    "    middle = ...\n",
    "    middle_repeated = ...\n",
    "    output = ...\n",
    "    return output"
   ]
  },
  {
   "cell_type": "code",
   "execution_count": null,
   "id": "2f49f8f0",
   "metadata": {
    "deletable": false,
    "editable": false
   },
   "outputs": [],
   "source": [
    "grader.check(\"q4c\")"
   ]
  },
  {
   "cell_type": "markdown",
   "id": "61c7bf32",
   "metadata": {},
   "source": [
    "## Question 5 – Funny Business\n",
    "\n",
    "Your friend Terrance has defined the function `some_equal`, which takes in three arguments, `a`, `b`, and `c`.\n",
    "\n",
    "Terrance wants `some_equal` to return `True` if at least two of `a`, `b`, and `c` are equal to one another, and `False` otherwise."
   ]
  },
  {
   "cell_type": "code",
   "execution_count": null,
   "id": "dc63abb8",
   "metadata": {},
   "outputs": [],
   "source": [
    "def some_equal(a, b, c):\n",
    "    return a == b or b == c or a == c or 1/0"
   ]
  },
  {
   "cell_type": "markdown",
   "id": "1c839d81",
   "metadata": {},
   "source": [
    "Sometimes, `some_equal` works:"
   ]
  },
  {
   "cell_type": "code",
   "execution_count": null,
   "id": "189fb5df",
   "metadata": {},
   "outputs": [],
   "source": [
    "some_equal('hey', 'hi', 'hey')"
   ]
  },
  {
   "cell_type": "code",
   "execution_count": null,
   "id": "772bfd40",
   "metadata": {},
   "outputs": [],
   "source": [
    "some_equal(3, 3, 3)"
   ]
  },
  {
   "cell_type": "markdown",
   "id": "102b5fe7",
   "metadata": {},
   "source": [
    "But other times..."
   ]
  },
  {
   "cell_type": "code",
   "execution_count": null,
   "id": "676b5d68",
   "metadata": {},
   "outputs": [],
   "source": [
    "some_equal(1, 2, 4)"
   ]
  },
  {
   "cell_type": "markdown",
   "id": "4481f032",
   "metadata": {},
   "source": [
    "Terrance shows you his code and asks, \"Why don't I get a `division by zero` error in the first two examples?\"\n",
    "\n",
    "Your job is to use the internet to figure out what's happening and to come up with an answer for Terrance **in your own words**. **Once you have your answer, call an instructor or TA over and explain it to them.**\n",
    "\n",
    "_Hint: Search online for \"short-circuiting in Python\". Don't hesitate to ask if you're not sure!_"
   ]
  }
 ],
 "metadata": {
  "kernelspec": {
   "display_name": "Python 3 (ipykernel)",
   "language": "python",
   "name": "python3"
  },
  "language_info": {
   "codemirror_mode": {
    "name": "ipython",
    "version": 3
   },
   "file_extension": ".py",
   "mimetype": "text/x-python",
   "name": "python",
   "nbconvert_exporter": "python",
   "pygments_lexer": "ipython3",
   "version": "3.9.7"
  }
 },
 "nbformat": 4,
 "nbformat_minor": 5
}
