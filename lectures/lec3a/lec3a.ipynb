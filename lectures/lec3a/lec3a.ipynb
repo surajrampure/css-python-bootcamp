{
 "cells": [
  {
   "cell_type": "code",
   "execution_count": null,
   "id": "c8df54a7",
   "metadata": {},
   "outputs": [],
   "source": [
    "# Run this cell.\n",
    "from IPython.display import display, IFrame\n",
    "\n",
    "def show_luhn():\n",
    "    src = \"https://docs.google.com/presentation/d/e/2PACX-1vStANayDVtSTg6aGkt4yMIJ5herCeocWVRUF2gBLPjXI9FaSaVRxwrZrmmc7bN_qGQzpj6MtKY7ISOW/embed?start=false&loop=false&delayms=60000\"\n",
    "    width = 960\n",
    "    height = 567\n",
    "    display(IFrame(src, width, height))"
   ]
  },
  {
   "cell_type": "markdown",
   "id": "cd79c492",
   "metadata": {
    "slideshow": {
     "slide_type": "slide"
    }
   },
   "source": [
    "# Lecture 3A – More Iteration\n",
    "\n",
    "## CSS Summer Bootcamp, Week 1 🥾\n",
    "\n",
    "#### Suraj Rampure"
   ]
  },
  {
   "cell_type": "markdown",
   "id": "be399441",
   "metadata": {
    "slideshow": {
     "slide_type": "slide"
    }
   },
   "source": [
    "### Today's agenda\n",
    "\n",
    "- 9:05-9:15: start with a warmup problem (\"missing number\").\n",
    "- 9:15-9:35: review Questions 2-3 from Lab 2B on your own (remember what the questions are about, try and solve them if you didn't get a chance to finish them).\n",
    "- 9:35-9:50: take up Questions 2 and 3 together.\n",
    "- 9:50-10:30: walk through 2 more examples of problems involving `for`-loops together.\n",
    "- 10:30-11:30: work through Lab 3, Part 1 (Lists and `for`-loops).\n",
    "- 11:30-12:30: take up Lab 3, Part 1 and start covering `while`-loops.\n",
    "- 12:30-1: lunch.\n",
    "- 1-1:15: finish covering `while`-loops.\n",
    "- 1:15-2:15: work through Lab 3, Part 2 (`while`-loops).\n",
    "- 2:15-2:45: take up Lab 3, Part 2.\n",
    "- 2:45-3:30: introduce dictionaries (Lecture 3B).\n",
    "- 3:30-4:30: start working on Lab 3, Part 3 (dictionaries)."
   ]
  },
  {
   "cell_type": "markdown",
   "id": "e34d67a0",
   "metadata": {
    "slideshow": {
     "slide_type": "slide"
    }
   },
   "source": [
    "## Example: Missing number"
   ]
  },
  {
   "cell_type": "markdown",
   "id": "80ef8c77",
   "metadata": {
    "slideshow": {
     "slide_type": "slide"
    }
   },
   "source": [
    "### Example: Missing number\n",
    "\n",
    "***Task:*** Complete the implementation of the function `missing_number`, which takes in a list `nums` containing unique integers between `1` and `n`, and returns the only number in the range `1` to `n` that is missing from `nums`.\n",
    "\n",
    "Example behavior is shown below.\n",
    "\n",
    "```py\n",
    ">>> missing_number([1, 2, 6, 4, 5])\n",
    "3\n",
    ">>> missing_number([7, 2, 3, 5, 9, 8, 4, 1])\n",
    "6\n",
    "```"
   ]
  },
  {
   "cell_type": "markdown",
   "id": "4f1e1fee",
   "metadata": {
    "slideshow": {
     "slide_type": "fragment"
    }
   },
   "source": [
    "Idea:\n",
    "- The smallest number that could be in `nums` is 1. The largest number that could be in `nums` is `len(nums) + 1`.\n",
    "- For each number in that range, check to see if it’s in `nums`. If it’s not, return it!"
   ]
  },
  {
   "cell_type": "markdown",
   "id": "f19caa23",
   "metadata": {
    "slideshow": {
     "slide_type": "slide"
    }
   },
   "source": [
    "<h3><span style='color:purple'>Activity</span></h3>\n",
    "\n",
    "Complete the implementation of `missing_number` using the approach described on the previous slide."
   ]
  },
  {
   "cell_type": "code",
   "execution_count": null,
   "id": "6501dc68",
   "metadata": {},
   "outputs": [],
   "source": [
    "def missing_number(nums):\n",
    "    ..."
   ]
  },
  {
   "cell_type": "code",
   "execution_count": null,
   "id": "a703a32b",
   "metadata": {},
   "outputs": [],
   "source": []
  },
  {
   "cell_type": "markdown",
   "id": "f81dde27",
   "metadata": {},
   "source": [
    "Your implementation should work correctly below."
   ]
  },
  {
   "cell_type": "code",
   "execution_count": null,
   "id": "03ec138d",
   "metadata": {},
   "outputs": [],
   "source": [
    "# Should be 3\n",
    "missing_number([1, 2, 6, 4, 5])"
   ]
  },
  {
   "cell_type": "code",
   "execution_count": null,
   "id": "05546950",
   "metadata": {},
   "outputs": [],
   "source": [
    "# Should be 6\n",
    "missing_number([7, 2, 3, 5, 9, 8, 4, 1])"
   ]
  },
  {
   "cell_type": "markdown",
   "id": "a45e5391",
   "metadata": {
    "slideshow": {
     "slide_type": "slide"
    }
   },
   "source": [
    "### Another idea\n",
    "\n",
    "It turns out that there's a solution that doesn't involve a loop at all!"
   ]
  },
  {
   "cell_type": "markdown",
   "id": "d12fa0c1",
   "metadata": {
    "slideshow": {
     "slide_type": "fragment"
    }
   },
   "source": [
    "Fact: The sum of the first $n$ natural numbers is $\\frac{n(n+1)}{2}$. That is,\n",
    "\n",
    "$$1 + 2 + 3 + ... + n = \\frac{n(n+1)}{2}$$"
   ]
  },
  {
   "cell_type": "markdown",
   "id": "f867504b",
   "metadata": {
    "slideshow": {
     "slide_type": "fragment"
    }
   },
   "source": [
    "Idea: \n",
    "- Use the above formula to figure out what the sum of our list should be **if no numbers were missing**. \n",
    "- From that, subtract the sum of the numbers that are actually in our list.\n",
    "- The difference will be the number that's missing!"
   ]
  },
  {
   "cell_type": "code",
   "execution_count": null,
   "id": "497852ba",
   "metadata": {},
   "outputs": [],
   "source": [
    "def missing_number_no_loop(nums):\n",
    "    n = len(nums) + 1\n",
    "    big_sum = n * (n + 1) / 2\n",
    "    actual_sum = sum(nums)\n",
    "    return big_sum - actual_sum"
   ]
  },
  {
   "cell_type": "code",
   "execution_count": null,
   "id": "c06901f9",
   "metadata": {},
   "outputs": [],
   "source": [
    "# Should be 3\n",
    "missing_number_no_loop([1, 2, 6, 4, 5])"
   ]
  },
  {
   "cell_type": "code",
   "execution_count": null,
   "id": "2014a9e4",
   "metadata": {},
   "outputs": [],
   "source": [
    "# Should be 6\n",
    "missing_number_no_loop([7, 2, 3, 5, 9, 8, 4, 1])"
   ]
  },
  {
   "cell_type": "markdown",
   "id": "56fb8fa8",
   "metadata": {
    "slideshow": {
     "slide_type": "fragment"
    }
   },
   "source": [
    "Question: Why do we see `3.0` and `6.0` instead of `3` and `6`?"
   ]
  },
  {
   "cell_type": "markdown",
   "id": "ed566bb1",
   "metadata": {
    "slideshow": {
     "slide_type": "slide"
    }
   },
   "source": [
    "## Example: Billboard Charts 📈\n"
   ]
  },
  {
   "cell_type": "code",
   "execution_count": null,
   "id": "3a5fcadf",
   "metadata": {
    "slideshow": {
     "slide_type": "slide"
    }
   },
   "outputs": [],
   "source": [
    "import pandas as pd\n",
    "billboard = pd.read_csv('data/billboard-2010.csv')\n",
    "billboard"
   ]
  },
  {
   "cell_type": "markdown",
   "id": "2584c62f",
   "metadata": {
    "slideshow": {
     "slide_type": "slide"
    }
   },
   "source": [
    "Artists and fans alike like to keep track of the most consecutive weeks a song has been ranked #1 on the Billboard 200. For example, run the cell below to look at data regarding Drake's hit \"One Dance\" from 2016 (don't worry about the code):"
   ]
  },
  {
   "cell_type": "code",
   "execution_count": null,
   "id": "9aff6046",
   "metadata": {},
   "outputs": [],
   "source": [
    "billboard.loc[billboard['Name'] == 'One Dance', ['Artists', 'Name', 'Week', 'Weekly.rank']].sort_values('Week').head(15)"
   ]
  },
  {
   "cell_type": "markdown",
   "id": "1650566d",
   "metadata": {},
   "source": [
    "According to the above table, it seems like One Dance was ranked #1 for 9 consecutive weeks at one point – pretty impressive!\n",
    "\n",
    "Below, complete the implementation of the function `top_streak`, which takes in a list `charts` representing the position of a song in the Billboard 200 over several consecutive weeks and returns the most consecutive weeks that song was ranked #1. Example behavior is shown below.\n",
    "\n",
    "```py\n",
    ">>> one_streak([13, 3, 2, 1, 2, 1, 1, 1, 1, 1, 1, 1, 1, 1, 2, 3, 2, 5, 7, 8])\n",
    "9\n",
    "\n",
    ">>> one_streak([4, 1, 1, 1, 2, 3, 11, 1, 1, 1, 1, 1])\n",
    "5\n",
    "\n",
    ">>> one_streak([5, 4, 1, 1, 1, 3, 2, 1, 2, 3])\n",
    "3\n",
    "```"
   ]
  },
  {
   "cell_type": "code",
   "execution_count": null,
   "id": "d7de3193",
   "metadata": {},
   "outputs": [],
   "source": [
    "def one_streak(charts):\n",
    "    longest = ...\n",
    "    current = ...\n",
    "    for num in charts:\n",
    "        if num == 1:\n",
    "            current = ...\n",
    "        else:\n",
    "            longest = ...\n",
    "            current = ...\n",
    "\n",
    "    # Ask yourself – why are we returning max(longest, current) instead of just current?\n",
    "    return max(longest, current)"
   ]
  },
  {
   "cell_type": "code",
   "execution_count": null,
   "id": "2f3f2195",
   "metadata": {},
   "outputs": [],
   "source": [
    "# Should be 9\n",
    "one_streak([13, 3, 2, 1, 2, 1, 1, 1, 1, 1, 1, 1, 1, 1, 2, 3, 2, 5, 7, 8])"
   ]
  },
  {
   "cell_type": "code",
   "execution_count": null,
   "id": "37addccc",
   "metadata": {},
   "outputs": [],
   "source": [
    "# Should be 5\n",
    "one_streak([4, 1, 1, 1, 2, 3, 11, 1, 1, 1, 1, 1])"
   ]
  },
  {
   "cell_type": "code",
   "execution_count": null,
   "id": "a100b9d9",
   "metadata": {},
   "outputs": [],
   "source": [
    "# Should be 3\n",
    "one_streak([5, 4, 1, 1, 1, 3, 2, 1, 2, 3])"
   ]
  },
  {
   "cell_type": "code",
   "execution_count": null,
   "id": "61ce92fb",
   "metadata": {
    "scrolled": true
   },
   "outputs": [],
   "source": [
    "# Should be 1\n",
    "one_streak([1, 2, 3, 4, 5])"
   ]
  },
  {
   "cell_type": "markdown",
   "id": "c8bcebef",
   "metadata": {
    "slideshow": {
     "slide_type": "slide"
    }
   },
   "source": [
    "## Example: Luhn's algorithm"
   ]
  },
  {
   "cell_type": "markdown",
   "id": "82d513db",
   "metadata": {
    "slideshow": {
     "slide_type": "slide"
    }
   },
   "source": [
    "<center><img src='images/alg.png' width=70%></center>"
   ]
  },
  {
   "cell_type": "markdown",
   "id": "94e46f4b",
   "metadata": {
    "slideshow": {
     "slide_type": "slide"
    }
   },
   "source": [
    "### Check digits and Luhn's algorithm\n",
    "\n",
    "- Credit cards (among other numbers) have a “check digit”. \n",
    "- A check digit, typically the very last digit in the number, is mathematically determined using the rest of the digits number.\n",
    "- That means there’s a formula that we can apply to the first 15 digits of your credit card number to determine the 16th digit."
   ]
  },
  {
   "cell_type": "markdown",
   "id": "5d6b8fcc",
   "metadata": {
    "slideshow": {
     "slide_type": "fragment"
    }
   },
   "source": [
    "- **Question 🤔:** What’s the purpose of a check digit?\n",
    "- **Answer 🙋:** to make sure a credit card number was written down correctly.\n",
    "\n",
    "Luhn’s algorithm is a very common procedure for validating credit card numbers. It’s used by all major US credit card companies!\n"
   ]
  },
  {
   "cell_type": "code",
   "execution_count": null,
   "id": "a565b7df",
   "metadata": {
    "slideshow": {
     "slide_type": "slide"
    }
   },
   "outputs": [],
   "source": [
    "show_luhn()"
   ]
  },
  {
   "cell_type": "markdown",
   "id": "0a63c473",
   "metadata": {
    "slideshow": {
     "slide_type": "slide"
    }
   },
   "source": [
    "### Luhn's algorithm, summarized\n",
    "\n",
    "1. Ignore the very last digit.\n",
    "2. Starting with the first digit, consider every digit in an even position (index 0, 2, 4, …). Multiply each of these numbers by 2. If the result is greater than 9, add its digits.\n",
    "3. Add the resulting numbers. We’ll call this “even sum”.\n",
    "4. Take all digits in odd positions and add them all. We’ll call this “odd sum”.\n",
    "5. Add both the even and odd sums. We’ll call this result “total sum”.\n",
    "6. A valid credit card number is one where total sum + check digit is a multiple of 10.\n",
    "\n",
    "[Click here to read more](https://gizmodo.com/how-credit-card-numbers-work-1493331190)."
   ]
  },
  {
   "cell_type": "markdown",
   "id": "6ce6b370",
   "metadata": {
    "slideshow": {
     "slide_type": "slide"
    }
   },
   "source": [
    "<h3><span style='color:purple'>Activity</span></h3>\n",
    "\n",
    "Complete the implementation of the function `luhns_algorithm`, which takes in a credit card number `cc` and returns `True` if it is valid according to Luhn’s algorithm and `False` otherwise."
   ]
  },
  {
   "cell_type": "code",
   "execution_count": null,
   "id": "f26833fd",
   "metadata": {
    "slideshow": {
     "slide_type": "-"
    }
   },
   "outputs": [],
   "source": [
    "def luhns_algorithm(cc):\n",
    "    ..."
   ]
  },
  {
   "cell_type": "markdown",
   "id": "036039a7",
   "metadata": {
    "slideshow": {
     "slide_type": "slide"
    }
   },
   "source": [
    "## `while`-loops"
   ]
  },
  {
   "cell_type": "markdown",
   "id": "d7b7075c",
   "metadata": {
    "slideshow": {
     "slide_type": "slide"
    }
   },
   "source": [
    "### Motivation\n",
    "\n",
    "- When we wrote `for`-loops, we knew in advance **the number of times that our loop would be run**.\n",
    "    - It would be run once for each element in the provided sequence!\n",
    "- Sometimes, we need to write loops where we **don't know the number of times to iterate in advance**."
   ]
  },
  {
   "cell_type": "markdown",
   "id": "0a416400",
   "metadata": {
    "slideshow": {
     "slide_type": "slide"
    }
   },
   "source": [
    "### `while`-loops\n",
    "\n",
    "The `while`-loop is the other type of loop in Python."
   ]
  },
  {
   "cell_type": "markdown",
   "id": "1f36c963",
   "metadata": {
    "slideshow": {
     "slide_type": "fragment"
    }
   },
   "source": [
    "```py\n",
    "while <boolean expression>:\n",
    "    <while body>\n",
    "```\n",
    "        \n",
    "Read this as: \"while this condition is true, repeat this code\"."
   ]
  },
  {
   "cell_type": "markdown",
   "id": "1e229bbd",
   "metadata": {
    "slideshow": {
     "slide_type": "slide"
    }
   },
   "source": [
    "### Example: blastoff"
   ]
  },
  {
   "cell_type": "code",
   "execution_count": null,
   "id": "948ab851",
   "metadata": {},
   "outputs": [],
   "source": [
    "i = 0\n",
    "while i < 10:\n",
    "    print(i)\n",
    "    i += 1\n",
    "print('blastoff 🚀')"
   ]
  },
  {
   "cell_type": "markdown",
   "id": "4c87368e",
   "metadata": {},
   "source": [
    "- First, Python checks if the condition (`i < 10`) is True. If it is, it runs the indented code.\n",
    "- After running the indented code, Python again checks if the condition (`i < 10`) is True. If it is, it runs the indented code.\n",
    "- The process is repeated until the condition (`i < 10`) is no longer True.\n",
    "- **Note that we manually had to increment `i` (i.e. write `i += 1`), which we did not have to do in a `for`-loop!**"
   ]
  },
  {
   "cell_type": "markdown",
   "id": "f9b45005",
   "metadata": {
    "slideshow": {
     "slide_type": "slide"
    }
   },
   "source": [
    "### Example: doubling time\n",
    "\n",
    "Let's write a function `doubling_time`, which takes in the population of a country, `pop`, and a growth rate, `r`, and returns the number of times `pop` must be multiplied by `r` until it is doubled."
   ]
  },
  {
   "cell_type": "code",
   "execution_count": null,
   "id": "12a2020c",
   "metadata": {},
   "outputs": [],
   "source": [
    "def doubling_time(pop, r):\n",
    "    initial = pop\n",
    "    t = 0\n",
    "    while pop < 2 * initial:\n",
    "        pop = pop * r\n",
    "        t += 1\n",
    "    return t"
   ]
  },
  {
   "cell_type": "code",
   "execution_count": null,
   "id": "0bc54866",
   "metadata": {},
   "outputs": [],
   "source": [
    "doubling_time(100, 1.04)"
   ]
  },
  {
   "cell_type": "code",
   "execution_count": null,
   "id": "a6197ba5",
   "metadata": {},
   "outputs": [],
   "source": []
  },
  {
   "cell_type": "markdown",
   "id": "051d7737",
   "metadata": {},
   "source": [
    "Note that we can't use a `for`-loop here, because we don't know how many times to repeat the doubling line beforehand."
   ]
  },
  {
   "cell_type": "markdown",
   "id": "a9c58759",
   "metadata": {
    "slideshow": {
     "slide_type": "slide"
    }
   },
   "source": [
    "<h3><span style='color:purple'>Activity</span></h3>\n",
    "\n",
    "Earlier in the lecture, you defined the function `num_above`. It looked something like this:"
   ]
  },
  {
   "cell_type": "code",
   "execution_count": null,
   "id": "fd670187",
   "metadata": {},
   "outputs": [],
   "source": [
    "def num_above(values, t):\n",
    "    count = 0\n",
    "    for val in values:\n",
    "        if val > t:\n",
    "            count += 1\n",
    "    return count\n",
    "\n",
    "num_above([1, 2, 5, 8, 7, 9], 3)"
   ]
  },
  {
   "cell_type": "markdown",
   "id": "f5a9a736",
   "metadata": {},
   "source": [
    "This is the type of task that **we prefer a `for`-loop for**, as the code is much more concise. However, we _could_ write a `while`-loop to do the same thing! Try doing so."
   ]
  },
  {
   "cell_type": "code",
   "execution_count": null,
   "id": "1416675c",
   "metadata": {},
   "outputs": [],
   "source": [
    "def num_above_while(values, t):\n",
    "    count = 0\n",
    "    i = 0\n",
    "    # YOUR CODE HERE\n",
    "    ...\n",
    "    #\n",
    "    return count"
   ]
  },
  {
   "cell_type": "code",
   "execution_count": null,
   "id": "dc75361b",
   "metadata": {},
   "outputs": [],
   "source": [
    "# Should also evaluate to 4\n",
    "num_above_while([1, 2, 5, 8, 7, 9], 3)"
   ]
  },
  {
   "cell_type": "code",
   "execution_count": null,
   "id": "ba61cfa9",
   "metadata": {},
   "outputs": [],
   "source": []
  },
  {
   "cell_type": "code",
   "execution_count": null,
   "id": "b855cbab",
   "metadata": {},
   "outputs": [],
   "source": []
  },
  {
   "cell_type": "markdown",
   "id": "b1c57479",
   "metadata": {
    "slideshow": {
     "slide_type": "slide"
    }
   },
   "source": [
    "## Example: Persistency"
   ]
  },
  {
   "cell_type": "markdown",
   "id": "598e6e1e",
   "metadata": {
    "slideshow": {
     "slide_type": "slide"
    }
   },
   "source": [
    "### Persistency\n",
    "\n",
    "We define the _persistency_ of a two-digit positive integer as being the **number of times we must multiply its digits until the product is less than 9**.\n",
    "\n",
    "For example:\n",
    "\n",
    "$$89 \\xrightarrow[]{8 \\cdot 9} 72 \\xrightarrow[]{7 \\cdot 2}  14 \\xrightarrow[]{1 \\cdot 4} 4$$\n",
    "\n",
    "As such, the **persistency of 89 is 3**."
   ]
  },
  {
   "cell_type": "markdown",
   "id": "8e1ea2ff",
   "metadata": {
    "slideshow": {
     "slide_type": "slide"
    }
   },
   "source": [
    "<h3><span style='color:purple'>Activity</span></h3>\n",
    "\n",
    "Complete the implementation of the function `persistency`, which takes in a two-digit positive integer `n` and returns its persistency."
   ]
  },
  {
   "cell_type": "code",
   "execution_count": null,
   "id": "0a937c5b",
   "metadata": {},
   "outputs": [],
   "source": [
    "def persistency(n):\n",
    "    ..."
   ]
  },
  {
   "cell_type": "markdown",
   "id": "ae206072",
   "metadata": {},
   "source": [
    "Test out your implementation below."
   ]
  },
  {
   "cell_type": "code",
   "execution_count": null,
   "id": "16521f64",
   "metadata": {},
   "outputs": [],
   "source": [
    "persistency(89)"
   ]
  },
  {
   "cell_type": "code",
   "execution_count": null,
   "id": "6db80a8c",
   "metadata": {},
   "outputs": [],
   "source": [
    "persistency(38)"
   ]
  },
  {
   "cell_type": "markdown",
   "id": "7127eea7",
   "metadata": {
    "slideshow": {
     "slide_type": "fragment"
    }
   },
   "source": [
    "There's only one two-digit positive integer with a persistency greater than 3. Can you find it?"
   ]
  },
  {
   "cell_type": "code",
   "execution_count": null,
   "id": "b187bceb",
   "metadata": {},
   "outputs": [],
   "source": []
  },
  {
   "cell_type": "markdown",
   "id": "06141a8b",
   "metadata": {
    "slideshow": {
     "slide_type": "slide"
    }
   },
   "source": [
    "### Example: `input`\n",
    "\n",
    "The `input()` function can be used to show a text box in your notebook. You can use this to simulate text input (e.g. typing in a password on a website, searching something on Google)."
   ]
  },
  {
   "cell_type": "code",
   "execution_count": null,
   "id": "b73f3502",
   "metadata": {},
   "outputs": [],
   "source": [
    "name = input('Enter your name: ')\n",
    "print('Hi, ' + name + ' 👋')"
   ]
  },
  {
   "cell_type": "markdown",
   "id": "146feb02",
   "metadata": {
    "slideshow": {
     "slide_type": "slide"
    }
   },
   "source": [
    "### Dictionary\n",
    "\n",
    "Below, we read in all of the words in the dictionary. (We'll learn more about the `open` function later this week.)"
   ]
  },
  {
   "cell_type": "code",
   "execution_count": null,
   "id": "aa6fed5b",
   "metadata": {},
   "outputs": [],
   "source": [
    "f = open('data/words.txt', 'r')\n",
    "dictionary = f.read().split('\\n')\n",
    "dictionary[:10]"
   ]
  },
  {
   "cell_type": "markdown",
   "id": "13ac46de",
   "metadata": {},
   "source": [
    "**Goal:** Repeatedly ask the user to input a word. Each time, tell them if their word was in the dictionary. Keep track of the number of words that were and were not in the dictionary."
   ]
  },
  {
   "cell_type": "code",
   "execution_count": null,
   "id": "4bb282ee",
   "metadata": {},
   "outputs": [],
   "source": [
    "in_count = 0\n",
    "out_count = 0\n",
    "while True:\n",
    "    user_word = input('Enter a word (or hit enter to stop): ')\n",
    "    if user_word == '':\n",
    "        break\n",
    "    \n",
    "    if user_word in dictionary:\n",
    "        print(user_word + ' is in the dictionary!\\n')\n",
    "        in_count += 1\n",
    "    else:\n",
    "        print(user_word + ' is not in the dictionary.\\n')\n",
    "        out_count += 1\n",
    "\n",
    "print('\\nWord(s) in dictionary:', in_count, '\\nWord(s) not in dictionary:', out_count)"
   ]
  },
  {
   "cell_type": "code",
   "execution_count": null,
   "id": "9a31a9c7",
   "metadata": {},
   "outputs": [],
   "source": []
  }
 ],
 "metadata": {
  "celltoolbar": "Slideshow",
  "kernelspec": {
   "display_name": "Python 3 (ipykernel)",
   "language": "python",
   "name": "python3"
  },
  "language_info": {
   "codemirror_mode": {
    "name": "ipython",
    "version": 3
   },
   "file_extension": ".py",
   "mimetype": "text/x-python",
   "name": "python",
   "nbconvert_exporter": "python",
   "pygments_lexer": "ipython3",
   "version": "3.9.7"
  },
  "livereveal": {
   "scroll": true,
   "transition": "none"
  }
 },
 "nbformat": 4,
 "nbformat_minor": 5
}
