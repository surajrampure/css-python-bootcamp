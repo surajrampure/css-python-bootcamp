{
 "cells": [
  {
   "cell_type": "code",
   "execution_count": null,
   "id": "53378db3",
   "metadata": {
    "slideshow": {
     "slide_type": "skip"
    }
   },
   "outputs": [],
   "source": [
    "# Run this cell.\n",
    "\n",
    "from IPython.display import display, IFrame\n",
    "\n",
    "def show_def():\n",
    "    src = \"https://docs.google.com/presentation/d/e/2PACX-1vRKMMwGtrQOeLefj31fCtmbNOaJuKY32eBz1VwHi_5ui0AGYV3MoCjPUtQ_4SB1f9x4Iu6gbH0vFvmB/embed?start=false&loop=false&delayms=60000\"\n",
    "    width = 960 \n",
    "    height = 569\n",
    "    display(IFrame(src, width, height))"
   ]
  },
  {
   "cell_type": "markdown",
   "id": "cd79c492",
   "metadata": {
    "slideshow": {
     "slide_type": "slide"
    }
   },
   "source": [
    "# Lecture 1B – Variables, Strings, and Functions\n",
    "\n",
    "## CSS Summer Bootcamp, Week 1 🥾\n",
    "\n",
    "#### Suraj Rampure"
   ]
  },
  {
   "cell_type": "markdown",
   "id": "be399441",
   "metadata": {
    "slideshow": {
     "slide_type": "slide"
    }
   },
   "source": [
    "### Agenda\n",
    "\n",
    "- Errors.\n",
    "- Variables.\n",
    "- Strings 🧵.\n",
    "- Functions."
   ]
  },
  {
   "cell_type": "markdown",
   "id": "f824182a",
   "metadata": {
    "slideshow": {
     "slide_type": "slide"
    }
   },
   "source": [
    "## Errors"
   ]
  },
  {
   "cell_type": "markdown",
   "id": "9a6b800e",
   "metadata": {
    "slideshow": {
     "slide_type": "slide"
    }
   },
   "source": [
    "### Syntax\n",
    "\n",
    "- A language's **syntax** describes how to interpret expressions in that language."
   ]
  },
  {
   "cell_type": "markdown",
   "id": "0c0ec9f4",
   "metadata": {
    "slideshow": {
     "slide_type": "fragment"
    }
   },
   "source": [
    "- In English, the sentence \"Does with cat had dog?\" does not have any meaning; it is invalid syntactically. "
   ]
  },
  {
   "cell_type": "markdown",
   "id": "73e4aa98",
   "metadata": {
    "slideshow": {
     "slide_type": "fragment"
    }
   },
   "source": [
    "- Similarly, in Python we often write expressions that are invalid syntactically. **When we do so, Python gives us a `SyntaxError`.**"
   ]
  },
  {
   "cell_type": "code",
   "execution_count": null,
   "id": "1e83cc04",
   "metadata": {},
   "outputs": [],
   "source": [
    "3 + * 4"
   ]
  },
  {
   "cell_type": "markdown",
   "id": "b879e82c",
   "metadata": {
    "slideshow": {
     "slide_type": "slide"
    }
   },
   "source": [
    "### Errors in Python\n",
    "\n",
    "- You should **expect** to run into errors while writing code – everyone does!\n",
    "- Error messages are informative: **read them**."
   ]
  },
  {
   "cell_type": "code",
   "execution_count": null,
   "id": "33726031",
   "metadata": {},
   "outputs": [],
   "source": [
    "# Python tells us exactly where the error is, in this case!\n",
    "3 + 4 / 2 + * 5"
   ]
  },
  {
   "cell_type": "code",
   "execution_count": null,
   "id": "b77c0e5c",
   "metadata": {},
   "outputs": [],
   "source": [
    "# The error's name is very descriptive\n",
    "15 / 0"
   ]
  },
  {
   "cell_type": "markdown",
   "id": "6abd92bf",
   "metadata": {
    "slideshow": {
     "slide_type": "slide"
    }
   },
   "source": [
    "## Variables"
   ]
  },
  {
   "cell_type": "markdown",
   "id": "2ee5c060",
   "metadata": {
    "slideshow": {
     "slide_type": "slide"
    }
   },
   "source": [
    "### Motivation\n",
    "\n",
    "Below, we compute the number of seconds in a year."
   ]
  },
  {
   "cell_type": "code",
   "execution_count": null,
   "id": "26b61511",
   "metadata": {},
   "outputs": [],
   "source": [
    "60 * 60 * 24 * 365"
   ]
  },
  {
   "cell_type": "markdown",
   "id": "170c20f7",
   "metadata": {
    "slideshow": {
     "slide_type": "fragment"
    }
   },
   "source": [
    "If we want to use the above value later in our notebook to find, say, the number of seconds in 12 years, we'd have to copy-and-paste the expression. **This is inconvenient, and prone to introducing problems.**"
   ]
  },
  {
   "cell_type": "code",
   "execution_count": null,
   "id": "13ddbb38",
   "metadata": {},
   "outputs": [],
   "source": [
    "60 * 60 * 24 * 365 * 12"
   ]
  },
  {
   "cell_type": "markdown",
   "id": "86bdbb19",
   "metadata": {
    "slideshow": {
     "slide_type": "fragment"
    }
   },
   "source": [
    "It would be great if we could **store** the initial value and refer to it later on!"
   ]
  },
  {
   "cell_type": "markdown",
   "id": "3d22fa11",
   "metadata": {
    "slideshow": {
     "slide_type": "slide"
    }
   },
   "source": [
    "### Variables and assignment statements\n",
    "\n",
    "- A **variable** is a place to store a value so that it can be referred to later in our code.\n",
    "\n",
    "$$ \\overbrace{\\texttt{myvariable}}^{\\text{name}} = \\overbrace{\\texttt{2 + 3}}^{\\text{any expression}} $$"
   ]
  },
  {
   "cell_type": "markdown",
   "id": "d81d5262",
   "metadata": {
    "slideshow": {
     "slide_type": "fragment"
    }
   },
   "source": [
    "- **Assignment statements**, like the one above, are used to define variables."
   ]
  },
  {
   "cell_type": "markdown",
   "id": "50fe321a",
   "metadata": {
    "slideshow": {
     "slide_type": "fragment"
    }
   },
   "source": [
    "-  An assignment statement changes the meaning of the **name** to the left of the `=` symbol."
   ]
  },
  {
   "cell_type": "markdown",
   "id": "c3aaf649",
   "metadata": {
    "slideshow": {
     "slide_type": "fragment"
    }
   },
   "source": [
    "- The expression on the right-hand side of the `=` symbol is evaluated before being assigned to the name on the left-hand side.\n",
    "    * e.g. `myvariable` is bound to `5` (value) not `2 + 3` (expression)."
   ]
  },
  {
   "cell_type": "markdown",
   "id": "dd68441d",
   "metadata": {
    "slideshow": {
     "slide_type": "slide"
    }
   },
   "source": [
    "Note that before we use it in an assignment statement, `more_than_1` has no meaning."
   ]
  },
  {
   "cell_type": "code",
   "execution_count": null,
   "id": "c22e02e7",
   "metadata": {},
   "outputs": [],
   "source": [
    "more_than_1"
   ]
  },
  {
   "cell_type": "markdown",
   "id": "f55f1679",
   "metadata": {
    "slideshow": {
     "slide_type": "fragment"
    }
   },
   "source": [
    "After using it in an assignment statement, we can ask Python for its value."
   ]
  },
  {
   "cell_type": "code",
   "execution_count": null,
   "id": "f3534af0",
   "metadata": {
    "slideshow": {
     "slide_type": "-"
    }
   },
   "outputs": [],
   "source": [
    "# Note that an assignment statement doesn't return anything!\n",
    "more_than_1 = 15 - 5"
   ]
  },
  {
   "cell_type": "code",
   "execution_count": null,
   "id": "1e6c522e",
   "metadata": {},
   "outputs": [],
   "source": [
    "more_than_1"
   ]
  },
  {
   "cell_type": "markdown",
   "id": "6a4179f0",
   "metadata": {
    "slideshow": {
     "slide_type": "fragment"
    }
   },
   "source": [
    "Anytime we use `more_than_1` in an expression, `10` is substituted for it."
   ]
  },
  {
   "cell_type": "code",
   "execution_count": null,
   "id": "c3a8d414",
   "metadata": {},
   "outputs": [],
   "source": [
    "more_than_1 * 2"
   ]
  },
  {
   "cell_type": "markdown",
   "id": "9058a077",
   "metadata": {
    "slideshow": {
     "slide_type": "fragment"
    }
   },
   "source": [
    "Note that the above expression **did not change** the value of `more_than_1`, because **we did not re-assign `more_than_1`**!"
   ]
  },
  {
   "cell_type": "code",
   "execution_count": null,
   "id": "49b5dd77",
   "metadata": {},
   "outputs": [],
   "source": [
    "more_than_1"
   ]
  },
  {
   "cell_type": "markdown",
   "id": "24a9f99a",
   "metadata": {
    "slideshow": {
     "slide_type": "slide"
    }
   },
   "source": [
    "### Naming variables\n",
    "\n",
    "- Generally, give your variables helpful names so that you know what they refer to.\n",
    "- Variable names can contain uppercase and lowercase characters, the digits 0-9, and underscores.\n",
    "    - They cannot start with a number.\n",
    "    - They are case sensitive!"
   ]
  },
  {
   "cell_type": "markdown",
   "id": "d183c0d7",
   "metadata": {},
   "source": [
    "The following assignment statements are **valid ✅**, but use poor variable names."
   ]
  },
  {
   "cell_type": "code",
   "execution_count": null,
   "id": "78db5448",
   "metadata": {},
   "outputs": [],
   "source": [
    "six = 15"
   ]
  },
  {
   "cell_type": "code",
   "execution_count": null,
   "id": "dc66d3d7",
   "metadata": {},
   "outputs": [],
   "source": [
    "i_45love_chocolate_9999 = 60 * 60 * 24 * 365"
   ]
  },
  {
   "cell_type": "markdown",
   "id": "c92aa9fc",
   "metadata": {},
   "source": [
    "The following assignment statements are **valid ✅**, and use good variable names. "
   ]
  },
  {
   "cell_type": "code",
   "execution_count": null,
   "id": "824a9ff8",
   "metadata": {},
   "outputs": [],
   "source": [
    "seconds_per_hour = 60 * 60\n",
    "hours_per_year = 24 * 365\n",
    "seconds_per_year = seconds_per_hour * hours_per_year"
   ]
  },
  {
   "cell_type": "markdown",
   "id": "2ccd26b0",
   "metadata": {},
   "source": [
    "The following \"assignment statements\" are **invalid ❌**."
   ]
  },
  {
   "cell_type": "code",
   "execution_count": null,
   "id": "0de1edc2",
   "metadata": {},
   "outputs": [],
   "source": [
    "6 = 15"
   ]
  },
  {
   "cell_type": "code",
   "execution_count": null,
   "id": "2065cd98",
   "metadata": {},
   "outputs": [],
   "source": [
    "3 = 2 + 1"
   ]
  },
  {
   "cell_type": "markdown",
   "id": "7ce53a58",
   "metadata": {
    "slideshow": {
     "slide_type": "slide"
    }
   },
   "source": [
    "### Assignment statements are not mathematical equations!\n",
    "\n",
    "- Unlike in math, where $x = 3$ means the same thing as $3 = x$, assignment statements are **not** \"symmetric\".\n",
    "- An assignment statement assigns (or \"binds\") the name on the left of `=` to the value to the right of `=`, nothing more."
   ]
  },
  {
   "cell_type": "code",
   "execution_count": null,
   "id": "20b04a4a",
   "metadata": {},
   "outputs": [],
   "source": [
    "x = 3\n",
    "x"
   ]
  },
  {
   "cell_type": "code",
   "execution_count": null,
   "id": "d3e3a930",
   "metadata": {},
   "outputs": [],
   "source": [
    "4 = x"
   ]
  },
  {
   "cell_type": "markdown",
   "id": "9b34839c",
   "metadata": {
    "slideshow": {
     "slide_type": "slide"
    }
   },
   "source": [
    "### A variable's value is set at the time of assignment"
   ]
  },
  {
   "cell_type": "code",
   "execution_count": null,
   "id": "61df808c",
   "metadata": {},
   "outputs": [],
   "source": [
    "uc = 2\n",
    "sd = 3 + uc\n",
    "uc, sd"
   ]
  },
  {
   "cell_type": "markdown",
   "id": "c9fbdfa8",
   "metadata": {},
   "source": [
    "Assignment statements are not **promises** – the value of a variable can change!"
   ]
  },
  {
   "cell_type": "code",
   "execution_count": null,
   "id": "7aeaf7e6",
   "metadata": {},
   "outputs": [],
   "source": [
    "uc = 7"
   ]
  },
  {
   "cell_type": "markdown",
   "id": "d7968c1c",
   "metadata": {
    "slideshow": {
     "slide_type": "fragment"
    }
   },
   "source": [
    "Note that even after changing `uc`, we did not change `sd`, so it is still the same as before."
   ]
  },
  {
   "cell_type": "code",
   "execution_count": null,
   "id": "36764a6d",
   "metadata": {},
   "outputs": [],
   "source": [
    "sd"
   ]
  },
  {
   "cell_type": "markdown",
   "id": "a0ebb361",
   "metadata": {
    "slideshow": {
     "slide_type": "slide"
    }
   },
   "source": [
    "### A helpful analogy\n",
    "\n",
    "<center>\n",
    "<img src='images/box.png' width=600>\n",
    "</center>\n",
    "\n",
    "- A common metaphor is that variables are like boxes or containers ([source](https://www.tomasbeuzen.com/python-programming-for-data-science/chapters/chapter1-basics.html)).\n",
    "- Another analogy: an assignment statement is like placing a sticker on a value."
   ]
  },
  {
   "cell_type": "markdown",
   "id": "4a1fa39b",
   "metadata": {
    "slideshow": {
     "slide_type": "slide"
    }
   },
   "source": [
    "<h3><span style='color:purple'>Activity</span></h3>\n",
    "\n",
    "Assume you have run the following three lines of code:\n",
    "\n",
    "```py\n",
    "side_length = 5\n",
    "area = side_length ** 2\n",
    "side_length = side_length + 2\n",
    "```\n",
    "\n",
    "What are the values of `side_length` and `area` after execution?\n",
    "\n",
    "A. `side_length = 5`, `area = 25`\n",
    "\n",
    "B. `side_length = 5`, `area = 49`\n",
    "\n",
    "C. `side_length = 7`, `area = 25`\n",
    "\n",
    "D. `side_length = 7`, `area = 49`\n",
    "\n",
    "E. None of the above\n",
    "\n",
    "**Think about what the answer should be WITHOUT running any code.**"
   ]
  },
  {
   "cell_type": "markdown",
   "id": "a66691cf",
   "metadata": {
    "slideshow": {
     "slide_type": "slide"
    }
   },
   "source": [
    "### Aside: hit ```tab``` to autocomplete a set name"
   ]
  },
  {
   "cell_type": "code",
   "execution_count": null,
   "id": "b7b557eb",
   "metadata": {},
   "outputs": [],
   "source": [
    "..."
   ]
  },
  {
   "cell_type": "markdown",
   "id": "8f02fd3a",
   "metadata": {
    "slideshow": {
     "slide_type": "slide"
    }
   },
   "source": [
    "## Jupyter memory model"
   ]
  },
  {
   "cell_type": "markdown",
   "id": "ddade79e",
   "metadata": {
    "slideshow": {
     "slide_type": "slide"
    }
   },
   "source": [
    "### Be careful...\n",
    "\n",
    "As we just saw, if we try and use a \"name\" that has no meaning in our Jupyter Notebook, we will run into a `NameError`."
   ]
  },
  {
   "cell_type": "code",
   "execution_count": null,
   "id": "523ddbb9",
   "metadata": {},
   "outputs": [],
   "source": [
    "data + 5"
   ]
  },
  {
   "cell_type": "markdown",
   "id": "326f585e",
   "metadata": {
    "slideshow": {
     "slide_type": "fragment"
    }
   },
   "source": [
    "In addition, it is possible to **accidentally** overwrite built-in names in our notebook. **Never do this intentionally!**"
   ]
  },
  {
   "cell_type": "code",
   "execution_count": null,
   "id": "c7a84664",
   "metadata": {},
   "outputs": [],
   "source": [
    "max"
   ]
  },
  {
   "cell_type": "code",
   "execution_count": null,
   "id": "62a4ca81",
   "metadata": {},
   "outputs": [],
   "source": [
    "max(2, 3)"
   ]
  },
  {
   "cell_type": "code",
   "execution_count": null,
   "id": "1ecfb640",
   "metadata": {},
   "outputs": [],
   "source": [
    "max = 9"
   ]
  },
  {
   "cell_type": "code",
   "execution_count": null,
   "id": "83f80739",
   "metadata": {},
   "outputs": [],
   "source": [
    "max(2, 3)"
   ]
  },
  {
   "cell_type": "markdown",
   "id": "a2f003fb",
   "metadata": {},
   "source": [
    "Now we've lost the `max` function in our notebook. So how do we find the maximum of a few numbers now 🤔?"
   ]
  },
  {
   "cell_type": "markdown",
   "id": "8abf8abb",
   "metadata": {
    "slideshow": {
     "slide_type": "slide"
    }
   },
   "source": [
    "### Jupyter memory model\n",
    "\n",
    "Pretend your notebook has a brain 🧠."
   ]
  },
  {
   "cell_type": "markdown",
   "id": "e5e454a0",
   "metadata": {
    "slideshow": {
     "slide_type": "fragment"
    }
   },
   "source": [
    "- Everytime you run a cell with an assignment statement, it remembers that name-value binding."
   ]
  },
  {
   "cell_type": "markdown",
   "id": "ef526ec0",
   "metadata": {
    "slideshow": {
     "slide_type": "fragment"
    }
   },
   "source": [
    "- It will remember all name-value bindings as long as the current session is open, no matter how many cells you create or delete."
   ]
  },
  {
   "cell_type": "markdown",
   "id": "6d9cf2e1",
   "metadata": {
    "slideshow": {
     "slide_type": "fragment"
    }
   },
   "source": [
    "**But, when you open a notebook for the first time in a few hours, your previous session will likely have ended and Jupyter’s brain won’t remember anything!**\n",
    "You’ll need to re-run all of your cells."
   ]
  },
  {
   "cell_type": "markdown",
   "id": "858c520d",
   "metadata": {
    "slideshow": {
     "slide_type": "slide"
    }
   },
   "source": [
    "### Reproducibility\n",
    "\n",
    "A Jupyter Notebook should provide a \"paper trail\" of the code you've written, so that others can **reproduce** the work you've done.\n",
    "\n",
    "The following slides contain examples of practices you **should avoid ❌** when working in Jupyter Notebooks."
   ]
  },
  {
   "cell_type": "markdown",
   "id": "c4d908ba",
   "metadata": {
    "slideshow": {
     "slide_type": "slide"
    }
   },
   "source": [
    "1. **Don't** delete cells that contain assignment statements."
   ]
  },
  {
   "cell_type": "code",
   "execution_count": null,
   "id": "4d90b76d",
   "metadata": {},
   "outputs": [],
   "source": [
    "# To illustrate the issue, run this cell and then delete it.\n",
    "age = 23"
   ]
  },
  {
   "cell_type": "code",
   "execution_count": null,
   "id": "1208ad23",
   "metadata": {},
   "outputs": [],
   "source": [
    "# If the above cell has been run, this cell will run just fine, even if you \n",
    "# delete the cell above. However, once your notebook \"forgets\" all of \n",
    "# the variables it knows about, this cell will error, \n",
    "# since `age` won't be defined anywhere!\n",
    "age + 15"
   ]
  },
  {
   "cell_type": "markdown",
   "id": "3f80eb4e",
   "metadata": {
    "slideshow": {
     "slide_type": "slide"
    }
   },
   "source": [
    "2. **Don't** use a variable in a cell **above** where it is defined."
   ]
  },
  {
   "cell_type": "code",
   "execution_count": null,
   "id": "1e1e7333",
   "metadata": {},
   "outputs": [],
   "source": [
    "# If you run the cell below first, then this cell will run just fine.\n",
    "# However, once your notebook \"forgets\" all of the variables\n",
    "# it knows about, and you run all of its cells in order,\n",
    "# this will cause an error, because you are trying to use\n",
    "# `weather` before its defined!\n",
    "weather - 4"
   ]
  },
  {
   "cell_type": "code",
   "execution_count": null,
   "id": "d483957d",
   "metadata": {},
   "outputs": [],
   "source": [
    "# To illustrate the issue, run this cell FIRST, then the cell above.\n",
    "weather = 72"
   ]
  },
  {
   "cell_type": "markdown",
   "id": "c795b8bd",
   "metadata": {
    "slideshow": {
     "slide_type": "slide"
    }
   },
   "source": [
    "### Accessing variables\n",
    "\n",
    "<center><img src='images/elephant.png' width=20%></center>\n",
    "\n",
    "You can always access the current value of a variable by entering its name in a cell and running the cell. We do this quite frequently."
   ]
  },
  {
   "cell_type": "code",
   "execution_count": null,
   "id": "02fb2664",
   "metadata": {},
   "outputs": [],
   "source": [
    "more_than_1"
   ]
  },
  {
   "cell_type": "markdown",
   "id": "96aac477",
   "metadata": {
    "slideshow": {
     "slide_type": "slide"
    }
   },
   "source": [
    "### Restarting the kernel\n",
    "\n",
    "If something doesn't seem right, you can **force** your notebook to forget everything it currently is remembering. To do so:"
   ]
  },
  {
   "cell_type": "markdown",
   "id": "12ac80f4",
   "metadata": {
    "slideshow": {
     "slide_type": "fragment"
    }
   },
   "source": [
    "1. Save your notebook (by clicking the floppy disk icon or CTRL/CMD + S)."
   ]
  },
  {
   "cell_type": "markdown",
   "id": "5e84bcd5",
   "metadata": {
    "slideshow": {
     "slide_type": "fragment"
    }
   },
   "source": [
    "2. **Restart your kernel**.\n",
    "\n",
    "<center><img src='images/restart-kernel.png' width=40%></center>"
   ]
  },
  {
   "cell_type": "markdown",
   "id": "fcb28955",
   "metadata": {
    "slideshow": {
     "slide_type": "slide"
    }
   },
   "source": [
    "## Strings 🧵"
   ]
  },
  {
   "cell_type": "markdown",
   "id": "d0a2a2c2",
   "metadata": {
    "slideshow": {
     "slide_type": "slide"
    }
   },
   "source": [
    "### Strings\n",
    "\n",
    "- A string (`str`) is a snippet of text of any length.\n",
    "- In Python, a string in either single or double quotes."
   ]
  },
  {
   "cell_type": "code",
   "execution_count": null,
   "id": "46f11447",
   "metadata": {},
   "outputs": [],
   "source": [
    "'woof'"
   ]
  },
  {
   "cell_type": "code",
   "execution_count": null,
   "id": "a8a924af",
   "metadata": {},
   "outputs": [],
   "source": [
    "type('woof')"
   ]
  },
  {
   "cell_type": "code",
   "execution_count": null,
   "id": "9dffa47c",
   "metadata": {},
   "outputs": [],
   "source": [
    "\"woof\""
   ]
  },
  {
   "cell_type": "code",
   "execution_count": null,
   "id": "5ff9ac1e",
   "metadata": {},
   "outputs": [],
   "source": [
    "# A string, not an int!\n",
    "\"1998\""
   ]
  },
  {
   "cell_type": "markdown",
   "id": "eb2988f1",
   "metadata": {
    "slideshow": {
     "slide_type": "slide"
    }
   },
   "source": [
    "### String arithmetic\n",
    "\n",
    "When using the `+` symbol between two strings, the operation is called \"concatenation\"."
   ]
  },
  {
   "cell_type": "code",
   "execution_count": null,
   "id": "fa4e75d0",
   "metadata": {},
   "outputs": [],
   "source": [
    "s1 = 'tiny'\n",
    "s2 = 'panda'"
   ]
  },
  {
   "cell_type": "code",
   "execution_count": null,
   "id": "a1bd4456",
   "metadata": {},
   "outputs": [],
   "source": [
    "s1 + s2"
   ]
  },
  {
   "cell_type": "code",
   "execution_count": null,
   "id": "aa0e097f",
   "metadata": {},
   "outputs": [],
   "source": [
    "s1 + ' ' + s2"
   ]
  },
  {
   "cell_type": "code",
   "execution_count": null,
   "id": "e880359f",
   "metadata": {},
   "outputs": [],
   "source": [
    "s1 * 3"
   ]
  },
  {
   "cell_type": "markdown",
   "id": "c21a7fc5",
   "metadata": {
    "slideshow": {
     "slide_type": "slide"
    }
   },
   "source": [
    "### String methods\n",
    "* Strings are associated with certain functions called **string methods**.\n",
    "* Access string methods with a `.` after the string (dot notation).\n",
    "* Examples include `.upper()`, `title()`, and `.replace()`."
   ]
  },
  {
   "cell_type": "code",
   "execution_count": null,
   "id": "4766828e",
   "metadata": {},
   "outputs": [],
   "source": [
    "my_cool_string = 'computational social science is super cool!'"
   ]
  },
  {
   "cell_type": "code",
   "execution_count": null,
   "id": "380dbbf4",
   "metadata": {},
   "outputs": [],
   "source": [
    "my_cool_string.upper()"
   ]
  },
  {
   "cell_type": "code",
   "execution_count": null,
   "id": "a121afb2",
   "metadata": {},
   "outputs": [],
   "source": [
    "my_cool_string.title()"
   ]
  },
  {
   "cell_type": "code",
   "execution_count": null,
   "id": "07b77271",
   "metadata": {},
   "outputs": [],
   "source": [
    "my_cool_string.replace('super cool', '💯' * 3)"
   ]
  },
  {
   "cell_type": "code",
   "execution_count": null,
   "id": "ba08a92b",
   "metadata": {},
   "outputs": [],
   "source": [
    "# len is not a method, since it doesn't use dot notation\n",
    "len(my_cool_string)"
   ]
  },
  {
   "cell_type": "markdown",
   "id": "2c8bae7e",
   "metadata": {
    "slideshow": {
     "slide_type": "slide"
    }
   },
   "source": [
    "### Special characters in strings\n",
    "\n",
    "Single quotes and double quotes are usually interchangeable, except when the string itself contains a single or double quote."
   ]
  },
  {
   "cell_type": "code",
   "execution_count": null,
   "id": "5e5f4c9c",
   "metadata": {},
   "outputs": [],
   "source": [
    "'my string's full of apostrophes!'"
   ]
  },
  {
   "cell_type": "code",
   "execution_count": null,
   "id": "e4311120",
   "metadata": {},
   "outputs": [],
   "source": [
    "\"my string's full of apostrophes!\""
   ]
  },
  {
   "cell_type": "code",
   "execution_count": null,
   "id": "0f30f058",
   "metadata": {},
   "outputs": [],
   "source": [
    "# Escape the apostrophe with a backslash!\n",
    "'my string\\'s \"full\" of apostrophes!'"
   ]
  },
  {
   "cell_type": "code",
   "execution_count": null,
   "id": "070309c5",
   "metadata": {},
   "outputs": [],
   "source": [
    "print('my string\\'s \"full\" of apostrophes!')"
   ]
  },
  {
   "cell_type": "markdown",
   "id": "53396c41",
   "metadata": {
    "slideshow": {
     "slide_type": "slide"
    }
   },
   "source": [
    "### Aside: ```print```\n",
    "* By default Jupyter Notebooks display the \"raw\" value of the expression of the last line in a cell.\n",
    "* The function ```print``` displays the value in human readable text when it's evaluated."
   ]
  },
  {
   "cell_type": "code",
   "execution_count": null,
   "id": "563c3211",
   "metadata": {},
   "outputs": [],
   "source": [
    "12 # 12 won't be displayed, since Python only shows the value of the last expression\n",
    "23"
   ]
  },
  {
   "cell_type": "code",
   "execution_count": null,
   "id": "c756daf0",
   "metadata": {},
   "outputs": [],
   "source": [
    "# Note, there is no Out[number] to the left! That only appears when displaying a non-printed value.\n",
    "# But both 12 and 23 are displayed.\n",
    "print(12)\n",
    "print(23)"
   ]
  },
  {
   "cell_type": "code",
   "execution_count": null,
   "id": "4bdfe16f",
   "metadata": {},
   "outputs": [],
   "source": [
    "# '\\n' inserts a new line\n",
    "my_newline_str = 'here is a string with two lines.\\nhere is the second line'  \n",
    "my_newline_str"
   ]
  },
  {
   "cell_type": "code",
   "execution_count": null,
   "id": "8c24d2e8",
   "metadata": {},
   "outputs": [],
   "source": [
    "# The quotes disappeared and the newline is rendered!\n",
    "print(my_newline_str)  "
   ]
  },
  {
   "cell_type": "markdown",
   "id": "a4e3d24e",
   "metadata": {
    "slideshow": {
     "slide_type": "slide"
    }
   },
   "source": [
    "### Type conversion to and from strings\n",
    "* Any value can be converted to a string using ```str```.\n",
    "* Some strings can be converted to ```int``` and ```float```."
   ]
  },
  {
   "cell_type": "code",
   "execution_count": null,
   "id": "23ca1983",
   "metadata": {},
   "outputs": [],
   "source": [
    "str(3)"
   ]
  },
  {
   "cell_type": "code",
   "execution_count": null,
   "id": "9f048807",
   "metadata": {},
   "outputs": [],
   "source": [
    "float('3')"
   ]
  },
  {
   "cell_type": "code",
   "execution_count": null,
   "id": "f8bf1297",
   "metadata": {},
   "outputs": [],
   "source": [
    "int('4')"
   ]
  },
  {
   "cell_type": "code",
   "execution_count": null,
   "id": "fdf63d95",
   "metadata": {},
   "outputs": [],
   "source": [
    "int('bunnies')"
   ]
  },
  {
   "cell_type": "code",
   "execution_count": null,
   "id": "ecb8ad02",
   "metadata": {
    "scrolled": false
   },
   "outputs": [],
   "source": [
    "int('4.3')"
   ]
  },
  {
   "cell_type": "markdown",
   "id": "4db03b17",
   "metadata": {
    "slideshow": {
     "slide_type": "slide"
    }
   },
   "source": [
    "<h3><span style='color:purple'>Activity</span></h3>\n",
    "\n",
    "Assume you have run the following statements:\n",
    "\n",
    "```py\n",
    "x = 3\n",
    "y = '4'\n",
    "z = '5.6'\n",
    "```\n",
    "\n",
    "Choose the expression that will be evaluated **without** an error.\n",
    "\n",
    "A. `x + y`\n",
    "\n",
    "B. `x + int(y + z)`\n",
    "\n",
    "C. `str(x) + int(y)`\n",
    "\n",
    "D. `str(x) + z`\n",
    "\n",
    "E. All of them have errors\n",
    "\n",
    "**Think about what the answer should be WITHOUT running any code.**"
   ]
  },
  {
   "cell_type": "markdown",
   "id": "eae9635d",
   "metadata": {
    "slideshow": {
     "slide_type": "slide"
    }
   },
   "source": [
    "## Functions"
   ]
  },
  {
   "cell_type": "markdown",
   "id": "42bece3d",
   "metadata": {
    "slideshow": {
     "slide_type": "slide"
    }
   },
   "source": [
    "### Motivation\n",
    "\n",
    "Suppose you drive to a restaurant 🥘 in LA, located exactly 100 miles away."
   ]
  },
  {
   "cell_type": "markdown",
   "id": "480e9376",
   "metadata": {
    "slideshow": {
     "slide_type": "fragment"
    }
   },
   "source": [
    "- For the first 50 miles, you drive at 80 MPH."
   ]
  },
  {
   "cell_type": "markdown",
   "id": "02aca045",
   "metadata": {
    "slideshow": {
     "slide_type": "fragment"
    }
   },
   "source": [
    "- For the last 50 miles, you drive at 60 MPH."
   ]
  },
  {
   "cell_type": "markdown",
   "id": "8094001f",
   "metadata": {
    "slideshow": {
     "slide_type": "fragment"
    }
   },
   "source": [
    "- **Question:** What is your **average speed** throughout the journey?"
   ]
  },
  {
   "cell_type": "markdown",
   "id": "455b3ba1",
   "metadata": {
    "slideshow": {
     "slide_type": "slide"
    }
   },
   "source": [
    "### Example: Harmonic mean\n",
    "\n",
    "The **harmonic mean** $\\text{HM}$ of two positive numbers, $a$ and $b$, is defined as\n",
    "\n",
    "$$\\text{HM} = \\frac{2}{\\frac{1}{a} + \\frac{1}{b}}$$\n",
    "\n",
    "It is often used to find the average of multiple **rates**."
   ]
  },
  {
   "cell_type": "markdown",
   "id": "b37b4a46",
   "metadata": {
    "slideshow": {
     "slide_type": "fragment"
    }
   },
   "source": [
    "Finding the harmonic mean of 80 and 60 is not hard:"
   ]
  },
  {
   "cell_type": "code",
   "execution_count": null,
   "id": "48ced1cc",
   "metadata": {},
   "outputs": [],
   "source": [
    "2 / (1 / 80 + 1 / 60)"
   ]
  },
  {
   "cell_type": "markdown",
   "id": "bfc8401a",
   "metadata": {},
   "source": [
    "But what if we want to find the harmonic mean of 80 and 70? 80 and 90? 20 and 40? **This would require a lot of copy-pasting, which is prone to error.**"
   ]
  },
  {
   "cell_type": "markdown",
   "id": "41ed6e13",
   "metadata": {
    "slideshow": {
     "slide_type": "slide"
    }
   },
   "source": [
    "It turns out that we can **define** our own \"harmonic mean\" **function** just once, and re-use it multiple times."
   ]
  },
  {
   "cell_type": "code",
   "execution_count": null,
   "id": "a05ada4d",
   "metadata": {},
   "outputs": [],
   "source": [
    "def harmonic_mean(a, b):\n",
    "    return 2 / (1 / a + 1 / b)"
   ]
  },
  {
   "cell_type": "code",
   "execution_count": null,
   "id": "5cc4fb48",
   "metadata": {},
   "outputs": [],
   "source": [
    "harmonic_mean(80, 60)"
   ]
  },
  {
   "cell_type": "code",
   "execution_count": null,
   "id": "ab8cab0a",
   "metadata": {},
   "outputs": [],
   "source": [
    "harmonic_mean(20, 40)"
   ]
  },
  {
   "cell_type": "markdown",
   "id": "cf6a9117",
   "metadata": {
    "slideshow": {
     "slide_type": "fragment"
    }
   },
   "source": [
    "Note that we only had to specify **how** to calculate the harmonic mean **once**!"
   ]
  },
  {
   "cell_type": "markdown",
   "id": "0378f659",
   "metadata": {
    "slideshow": {
     "slide_type": "slide"
    }
   },
   "source": [
    "### Functions\n",
    "\n",
    "Functions are a way to divide our code into small subparts to prevent us from writing repetitive code. Each time we **define** our own function in Python, we will use the following pattern."
   ]
  },
  {
   "cell_type": "code",
   "execution_count": null,
   "id": "924e4884",
   "metadata": {
    "scrolled": false
   },
   "outputs": [],
   "source": [
    "show_def()"
   ]
  },
  {
   "cell_type": "markdown",
   "id": "9c46272c",
   "metadata": {
    "slideshow": {
     "slide_type": "slide"
    }
   },
   "source": [
    "### Functions are \"recipes\"\n",
    "\n",
    "- Functions take in inputs, known as **arguments**, do something, and produce some outputs.\n",
    "- The beauty of functions is that **you don't need to know how they are implemented in order to use them!**\n",
    "    - This is the premise of the idea of **abstraction** in computer science."
   ]
  },
  {
   "cell_type": "code",
   "execution_count": null,
   "id": "40e784a7",
   "metadata": {},
   "outputs": [],
   "source": [
    "harmonic_mean(20, 40)"
   ]
  },
  {
   "cell_type": "code",
   "execution_count": null,
   "id": "d728f680",
   "metadata": {},
   "outputs": [],
   "source": [
    "harmonic_mean(79, 894)"
   ]
  },
  {
   "cell_type": "code",
   "execution_count": null,
   "id": "47340f83",
   "metadata": {},
   "outputs": [],
   "source": [
    "harmonic_mean(-2, 4)"
   ]
  },
  {
   "cell_type": "markdown",
   "id": "8732748a",
   "metadata": {
    "slideshow": {
     "slide_type": "slide"
    }
   },
   "source": [
    "### Parameters and arguments\n",
    "\n",
    "`triple` has one **parameter**, `x`."
   ]
  },
  {
   "cell_type": "code",
   "execution_count": null,
   "id": "88250ed6",
   "metadata": {},
   "outputs": [],
   "source": [
    "def triple(x):\n",
    "    return x * 3"
   ]
  },
  {
   "cell_type": "markdown",
   "id": "ffd73886",
   "metadata": {},
   "source": [
    "When we call `triple` with the **argument** 5, you can pretend that there's an invisible line in the body of `triple` that says `x = 5`."
   ]
  },
  {
   "cell_type": "code",
   "execution_count": null,
   "id": "f36fea38",
   "metadata": {},
   "outputs": [],
   "source": [
    "triple(5)"
   ]
  },
  {
   "cell_type": "markdown",
   "id": "31881ab5",
   "metadata": {},
   "source": [
    "Note that arguments can be of any type!"
   ]
  },
  {
   "cell_type": "code",
   "execution_count": null,
   "id": "c020165e",
   "metadata": {},
   "outputs": [],
   "source": [
    "triple('triton')"
   ]
  },
  {
   "cell_type": "markdown",
   "id": "41891075",
   "metadata": {
    "slideshow": {
     "slide_type": "slide"
    }
   },
   "source": [
    "### Multiple arguments\n",
    "\n",
    "Functions can have any number of arguments."
   ]
  },
  {
   "cell_type": "code",
   "execution_count": null,
   "id": "65893b0e",
   "metadata": {},
   "outputs": [],
   "source": [
    "# Example function with 2 arguments\n",
    "def greeting(your_name, my_name):\n",
    "    print('Hello', your_name, 'my name is', my_name)"
   ]
  },
  {
   "cell_type": "code",
   "execution_count": null,
   "id": "a55f59e7",
   "metadata": {},
   "outputs": [],
   "source": [
    "greeting('Kanga', 'Roo')"
   ]
  },
  {
   "cell_type": "code",
   "execution_count": null,
   "id": "649349b9",
   "metadata": {},
   "outputs": [],
   "source": [
    "greeting('Queen', 'Triton')"
   ]
  },
  {
   "cell_type": "code",
   "execution_count": null,
   "id": "387bf3a6",
   "metadata": {
    "slideshow": {
     "slide_type": "slide"
    }
   },
   "outputs": [],
   "source": [
    "# Example function with no arguments\n",
    "def other_greeting():\n",
    "    return 'Hey – I have no arguments! 😭😡😟😢'"
   ]
  },
  {
   "cell_type": "code",
   "execution_count": null,
   "id": "e68f24db",
   "metadata": {},
   "outputs": [],
   "source": [
    "other_greeting()"
   ]
  },
  {
   "cell_type": "code",
   "execution_count": null,
   "id": "1a18f2f7",
   "metadata": {},
   "outputs": [],
   "source": [
    "# Notice the lack of quotes\n",
    "print(other_greeting())"
   ]
  },
  {
   "cell_type": "markdown",
   "id": "dec84e71",
   "metadata": {
    "slideshow": {
     "slide_type": "slide"
    }
   },
   "source": [
    "### Functions are lazy! 😴\n",
    "\n",
    "The body of a function is not run until you use (call) the function.\n",
    "- Below, we can define `where_is_the_error` without seeing an error message. \n",
    "- It is only when we **call** `where_is_the_error` that Python gives us an error message."
   ]
  },
  {
   "cell_type": "code",
   "execution_count": null,
   "id": "e0d2de91",
   "metadata": {},
   "outputs": [],
   "source": [
    "def where_is_the_error(s):\n",
    "    return (1 / 0) + s"
   ]
  },
  {
   "cell_type": "code",
   "execution_count": null,
   "id": "49c78877",
   "metadata": {},
   "outputs": [],
   "source": [
    "where_is_the_error('css')"
   ]
  },
  {
   "cell_type": "markdown",
   "id": "ca61ed7d",
   "metadata": {
    "slideshow": {
     "slide_type": "slide"
    }
   },
   "source": [
    "### Returning\n",
    "\n",
    "- The `return` keyword specifies what the output of your function should be, i.e. what a call to your function will evaluate to.\n",
    "- Most functions we write will use `return`, but using `return` is not required.\n",
    "- Be careful: `print` and `return` work differently! **Use `return` if you want to be able to \"save\" the output of a function.**"
   ]
  },
  {
   "cell_type": "code",
   "execution_count": null,
   "id": "17058449",
   "metadata": {},
   "outputs": [],
   "source": [
    "def pythagorean(a, b):\n",
    "    '''Computes the hypotenuse length of a triangle with legs a and b.'''\n",
    "    c = (a ** 2 + b ** 2) ** 0.5\n",
    "    print(c)"
   ]
  },
  {
   "cell_type": "code",
   "execution_count": null,
   "id": "b5708a62",
   "metadata": {},
   "outputs": [],
   "source": [
    "x = pythagorean(3, 4)"
   ]
  },
  {
   "cell_type": "code",
   "execution_count": null,
   "id": "2c27e226",
   "metadata": {},
   "outputs": [],
   "source": [
    "# No output – why?\n",
    "x"
   ]
  },
  {
   "cell_type": "markdown",
   "id": "56b4f00d",
   "metadata": {
    "slideshow": {
     "slide_type": "slide"
    }
   },
   "source": [
    "### Aside: `None`\n",
    "\n",
    "On the previous slide, we ran `x = pythagorean(3, 4)`."
   ]
  },
  {
   "cell_type": "code",
   "execution_count": null,
   "id": "1264c4f8",
   "metadata": {},
   "outputs": [],
   "source": [
    "x = pythagorean(3, 4)"
   ]
  },
  {
   "cell_type": "code",
   "execution_count": null,
   "id": "619521b0",
   "metadata": {},
   "outputs": [],
   "source": [
    "x"
   ]
  },
  {
   "cell_type": "markdown",
   "id": "f2732ccc",
   "metadata": {
    "slideshow": {
     "slide_type": "fragment"
    }
   },
   "source": [
    "The variable `x` means _something_ in our notebook, because we don't get a `NameError` when trying to access it. So what is it?"
   ]
  },
  {
   "cell_type": "code",
   "execution_count": null,
   "id": "4277ac04",
   "metadata": {},
   "outputs": [],
   "source": [
    "type(x)"
   ]
  },
  {
   "cell_type": "markdown",
   "id": "1befcdf0",
   "metadata": {
    "slideshow": {
     "slide_type": "fragment"
    }
   },
   "source": [
    "`x` has the value `None`, which means \"nothing\" in Python. Its type is `NoneType`. The value of `None` doesn't appear as output in a Jupyter Notebook."
   ]
  },
  {
   "cell_type": "code",
   "execution_count": null,
   "id": "da706920",
   "metadata": {},
   "outputs": [],
   "source": [
    "None"
   ]
  },
  {
   "cell_type": "markdown",
   "id": "c15819f3",
   "metadata": {
    "slideshow": {
     "slide_type": "slide"
    }
   },
   "source": [
    "### Returning\n",
    "Once a function executes a `return` statement, it stops running."
   ]
  },
  {
   "cell_type": "code",
   "execution_count": null,
   "id": "9b6aaeef",
   "metadata": {},
   "outputs": [],
   "source": [
    "def motivational(quote):\n",
    "    return 0\n",
    "    print(\"Here's a motivational quote:\", quote)"
   ]
  },
  {
   "cell_type": "code",
   "execution_count": null,
   "id": "4be50200",
   "metadata": {},
   "outputs": [],
   "source": [
    "motivational('Fall seven times and stand up eight.')"
   ]
  },
  {
   "cell_type": "markdown",
   "id": "f0d002a3",
   "metadata": {
    "slideshow": {
     "slide_type": "slide"
    }
   },
   "source": [
    "<h3><span style='color:purple'>Activity</span></h3>\n",
    "\n",
    "Suppose we define the function `mystery` as follows.\n",
    "\n",
    "```py\n",
    "def mystery(t):\n",
    "    return t + '0'\n",
    "```\n",
    "\n",
    "What will be the values of `alpha`, `beta`, and `charlie` after running the following code?\n",
    "\n",
    "```py\n",
    "alpha = mystery('19')\n",
    "beta = mystery(19)\n",
    "charlie = mystery('1' + '9')\n",
    "```\n",
    "\n",
    "**Think about what the answer should be WITHOUT running any code.**"
   ]
  },
  {
   "cell_type": "markdown",
   "id": "c686bda0",
   "metadata": {
    "slideshow": {
     "slide_type": "slide"
    }
   },
   "source": [
    "### Scoping\n",
    "\n",
    "The names you choose for a function’s parameters are only known to that function (known as “local scope”). The rest of your notebook is unaffected by parameter names.\n"
   ]
  },
  {
   "cell_type": "code",
   "execution_count": null,
   "id": "b6222515",
   "metadata": {},
   "outputs": [],
   "source": [
    "def what_is_awesome(s):\n",
    "    return s + ' is awesome!'"
   ]
  },
  {
   "cell_type": "code",
   "execution_count": null,
   "id": "e713720b",
   "metadata": {},
   "outputs": [],
   "source": [
    "what_is_awesome('computational social science')"
   ]
  },
  {
   "cell_type": "code",
   "execution_count": null,
   "id": "9c3de12b",
   "metadata": {},
   "outputs": [],
   "source": [
    "s"
   ]
  },
  {
   "cell_type": "markdown",
   "id": "2da6e585",
   "metadata": {
    "slideshow": {
     "slide_type": "slide"
    }
   },
   "source": [
    "### Scoping\n",
    "\n",
    "Similarly, you can choose parameter names that also exist as variable names outside of your function.\n",
    "We do this sometimes, but it can get confusing."
   ]
  },
  {
   "cell_type": "code",
   "execution_count": null,
   "id": "306127dd",
   "metadata": {},
   "outputs": [],
   "source": [
    "number = 20\n",
    "def half(number):\n",
    "    return number / 2"
   ]
  },
  {
   "cell_type": "code",
   "execution_count": null,
   "id": "80464332",
   "metadata": {},
   "outputs": [],
   "source": [
    "# When half(100) is called, from the perspective of half,\n",
    "# number is equal to 100\n",
    "half(100)"
   ]
  },
  {
   "cell_type": "code",
   "execution_count": null,
   "id": "bfa10076",
   "metadata": {},
   "outputs": [],
   "source": [
    "# number itself is unchanged\n",
    "number"
   ]
  },
  {
   "cell_type": "code",
   "execution_count": null,
   "id": "82371c41",
   "metadata": {},
   "outputs": [],
   "source": [
    "half(0)"
   ]
  },
  {
   "cell_type": "code",
   "execution_count": null,
   "id": "e0b62388",
   "metadata": {},
   "outputs": [],
   "source": [
    "half(number)"
   ]
  },
  {
   "cell_type": "markdown",
   "id": "236f24f0",
   "metadata": {
    "slideshow": {
     "slide_type": "slide"
    }
   },
   "source": [
    "### Scoping\n",
    "\n",
    "You can also use variables that don’t overlap with parameter names within your function.\n",
    "\n",
    "In such cases, the function looks “outside” of its definition to the rest of your notebook to see if it can find that variable anywhere."
   ]
  },
  {
   "cell_type": "code",
   "execution_count": null,
   "id": "b97b4c71",
   "metadata": {},
   "outputs": [],
   "source": [
    "def add_number(x):\n",
    "    return x + number"
   ]
  },
  {
   "cell_type": "code",
   "execution_count": null,
   "id": "c69a6fdb",
   "metadata": {},
   "outputs": [],
   "source": [
    "number"
   ]
  },
  {
   "cell_type": "code",
   "execution_count": null,
   "id": "a8a2a457",
   "metadata": {},
   "outputs": [],
   "source": [
    "add_number(5)"
   ]
  },
  {
   "cell_type": "markdown",
   "id": "263257c1",
   "metadata": {
    "slideshow": {
     "slide_type": "slide"
    }
   },
   "source": [
    "<h3><span style='color:purple'>Activity</span></h3>\n",
    "\n",
    "What is the value of `total` after running this code?\n",
    "\n",
    "```py\n",
    "total = 3\n",
    "def square_and_cube(a, b):\n",
    "    return a**2 + total**b\n",
    "total = square_and_cube(1, 2)\n",
    "```\n",
    "\n",
    "\n",
    "**Think about what the answer should be WITHOUT running any code.**"
   ]
  },
  {
   "cell_type": "markdown",
   "id": "07a14375",
   "metadata": {
    "slideshow": {
     "slide_type": "slide"
    }
   },
   "source": [
    "<h3><span style='color:purple'>Activity (Followup)</span></h3>\n",
    "\n",
    "What is the value of `total` after running this code?\n",
    "\n",
    "```py\n",
    "total = 3\n",
    "def square_and_cube(a, b):\n",
    "    return a**2 + total**b\n",
    "total = square_and_cube(1, 2)\n",
    "total = square_and_cube(1, 2)\n",
    "\n",
    "```\n",
    "\n",
    "\n",
    "**Think about what the answer should be WITHOUT running any code.**"
   ]
  }
 ],
 "metadata": {
  "kernelspec": {
   "display_name": "Python 3 (ipykernel)",
   "language": "python",
   "name": "python3"
  },
  "language_info": {
   "codemirror_mode": {
    "name": "ipython",
    "version": 3
   },
   "file_extension": ".py",
   "mimetype": "text/x-python",
   "name": "python",
   "nbconvert_exporter": "python",
   "pygments_lexer": "ipython3",
   "version": "3.9.7"
  },
  "livereveal": {
   "scroll": true,
   "transition": "none"
  }
 },
 "nbformat": 4,
 "nbformat_minor": 5
}
