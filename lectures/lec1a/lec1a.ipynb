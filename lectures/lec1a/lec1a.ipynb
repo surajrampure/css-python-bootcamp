{
 "cells": [
  {
   "cell_type": "markdown",
   "id": "cd79c492",
   "metadata": {
    "slideshow": {
     "slide_type": "slide"
    }
   },
   "source": [
    "# Lecture 1A – Jupyter Notebooks, Arithmetic, and Data Types\n",
    "\n",
    "## CSS Summer Bootcamp, Week 1 🥾\n",
    "\n",
    "#### Suraj Rampure"
   ]
  },
  {
   "cell_type": "markdown",
   "id": "d7ad980b",
   "metadata": {
    "slideshow": {
     "slide_type": "slide"
    }
   },
   "source": [
    "### Hi! 👋\n",
    "\n",
    "I'm **Suraj Rampure** (\"soo-rudge rahm-poo-ray\"), and I'll be leading the first week.\n",
    "- Since Fall 2021, I've been a Lecturer in the Halıcıoğlu Data Science Institute 📈 at UCSD.\n",
    "    - I've taught several lower-division data science courses, including _Principles of Data Science_, _Theoretical Foundations of Data Science_, _Practice and Application of Data Science_, and _History of Data Science_.\n",
    "    - This year, I'm also running the senior capstone program.\n",
    "- I earned my BS ('20) and MS ('21) in EECS from UC Berkeley 🐻, and I'm originally from Windsor, ON 🇨🇦.\n",
    "- Outside of school, I spend my time exploring San Diego's food scene, traveling, and watching TikTok. \n",
    "- Feel free to reach out at **rampure@ucsd.edu**, or visit [**rampure.org**](https://rampure.org) to learn more."
   ]
  },
  {
   "cell_type": "markdown",
   "id": "c3f94f40",
   "metadata": {
    "slideshow": {
     "slide_type": "slide"
    }
   },
   "source": [
    "### Week 1 goals\n",
    "\n",
    "We just heard from Will about what your learning goals are for this summer. This week, our goal is to get you familiarized with:\n",
    "\n",
    "- (Block 1A) How to navigate Jupyter Notebooks. Python basics – arithmetic and data types.\n",
    "- (Block 1B) Defining variables, working with strings, and defining your own functions.\n",
    "- (Block 2A) Working with lists and writing conditional statements (i.e. `if`-statements).\n",
    "- (Blocks 2B and 3A) Iteration (`for`-loops and `while`-loops).\n",
    "- (Blocks 3A and 3B) Other data structures – dictionaries, tuples, sets.\n",
    "- (Block 3B) Reading and writing to files.\n",
    "- (Block 4A) Error handling.\n",
    "- (Blocks 4A and 4B) NumPy.\n",
    "- (Block 5A) Creating classes.\n",
    "- (Block 5B) Moving beyond Jupyter notebooks."
   ]
  },
  {
   "cell_type": "markdown",
   "id": "9e9c7b77",
   "metadata": {
    "slideshow": {
     "slide_type": "slide"
    }
   },
   "source": [
    "### Week 1 structure\n",
    "\n",
    "Each day this week is broken up into two blocks. Each block will comprise of a mix of lecture and lab time.\n",
    "- In lecture, we will introduce new concepts. You're encouraged to follow along with me (details soon).\n",
    "- In lab, you will work on a series of guided problems that allow you to apply what you just learned in lecture."
   ]
  },
  {
   "cell_type": "markdown",
   "id": "ea0b17cd",
   "metadata": {
    "slideshow": {
     "slide_type": "fragment"
    }
   },
   "source": [
    "- **Important ⚠️:** The content this week will be cumulative, and will appear later on throughout the bootcamp."
   ]
  },
  {
   "cell_type": "markdown",
   "id": "1f8b5dd0",
   "metadata": {
    "slideshow": {
     "slide_type": "fragment"
    }
   },
   "source": [
    "- **Please don't be afraid to ask questions!** Students in this bootcamp come from a variety of backgrounds, and that's totally fine. We're here to help 🤝."
   ]
  },
  {
   "cell_type": "markdown",
   "id": "fa386dbc",
   "metadata": {
    "slideshow": {
     "slide_type": "slide"
    }
   },
   "source": [
    "### Accessing content\n",
    "\n",
    "All content for Week 1 will be hosted at\n",
    "\n",
    "<center>\n",
    "\n",
    "<h3><a href='https://rampure.org/css-python-bootcamp/'>rampure.org/css-python-bootcamp</a></h3>\n",
    "    \n",
    "Click the relevant links there to access lectures and labs.\n",
    "    \n",
    "</center>"
   ]
  },
  {
   "cell_type": "markdown",
   "id": "7d5e43cb",
   "metadata": {
    "slideshow": {
     "slide_type": "fragment"
    }
   },
   "source": [
    "<center>Let's get started! 🎉</center>"
   ]
  },
  {
   "cell_type": "markdown",
   "id": "ea818f6e",
   "metadata": {
    "slideshow": {
     "slide_type": "slide"
    }
   },
   "source": [
    "### Agenda\n",
    "\n",
    "- Jupyter Notebooks and Python.\n",
    "- Expressions.\n",
    "- Anatomy of Jupyter Notebooks.\n",
    "- Comments.\n",
    "- Calling functions 📞.\n",
    "- Data types."
   ]
  },
  {
   "cell_type": "markdown",
   "id": "33769711",
   "metadata": {
    "slideshow": {
     "slide_type": "slide"
    }
   },
   "source": [
    "## Jupyter Notebooks and Python"
   ]
  },
  {
   "cell_type": "markdown",
   "id": "03c7ef9c",
   "metadata": {
    "slideshow": {
     "slide_type": "slide"
    }
   },
   "source": [
    "### What is code?\n",
    "\n",
    "- Instructions for computers are written in **programming languages**, and are referred to as **code**.\n",
    "- “Computer programs” are nothing more than **recipes**: we write programs that tell the computer exactly what to do, and it does exactly that – nothing more, and nothing less."
   ]
  },
  {
   "cell_type": "markdown",
   "id": "ee3f0fad",
   "metadata": {
    "slideshow": {
     "slide_type": "slide"
    }
   },
   "source": [
    "### Why Python?\n",
    "\n",
    "<center>\n",
    "<img src='images/python.png' width=600>\n",
    "</center>\n",
    "\n",
    "- Popular.\n",
    "- Variety of uses.\n",
    "    - Web development.\n",
    "    - Data science and machine learning.\n",
    "    - Not really used for developing applications.\n",
    "- Easy to dive right in!"
   ]
  },
  {
   "cell_type": "markdown",
   "id": "ecaef494",
   "metadata": {
    "slideshow": {
     "slide_type": "slide"
    }
   },
   "source": [
    "### Jupyter Notebooks 📓\n",
    "\n",
    "- Often, code is written in a text editor and then run in a command-line interface.\n",
    "\n",
    "<center>\n",
    "<img src='images/terminal.png' width=800>\n",
    "</center>"
   ]
  },
  {
   "cell_type": "markdown",
   "id": "2d6ac7ed",
   "metadata": {
    "slideshow": {
     "slide_type": "fragment"
    }
   },
   "source": [
    "- **Jupyter Notebooks**, on the other hand, allow us to write and run code within a single document. They also allow us to embed text and code. **We will be using Jupyter Notebooks for the entirety of the bootcamp**, though on Friday we'll look at how to use text editors."
   ]
  },
  {
   "cell_type": "markdown",
   "id": "8b16a6a8",
   "metadata": {
    "slideshow": {
     "slide_type": "fragment"
    }
   },
   "source": [
    "- [DataHub](https://datahub.ucsd.edu) is a server that allows you to run Jupyter Notebooks from your web browser without having to install any software locally.\n",
    "    - The links on <a href='https://rampure.org/css-python-bootcamp/'>rampure.org/css-python-bootcamp</a> all bring you to DataHub."
   ]
  },
  {
   "cell_type": "markdown",
   "id": "7972daa3",
   "metadata": {
    "slideshow": {
     "slide_type": "slide"
    }
   },
   "source": [
    "### Aside: lecture slides\n",
    "\n",
    "- The lecture slides you're viewing right now are also in the form of a Jupyter Notebook – we're just using an extension (called _RISE_) to make them look like slides.\n",
    "- When you click a \"lecture\" link on the course website, you'll see the lecture notebook in regular notebook form.\n",
    "- To view it in slides form, click the bar chart button in the toolbar.\n",
    "\n",
    "<center><img src='images/rise.png' width=10%><i>This button!</i></center>"
   ]
  },
  {
   "cell_type": "markdown",
   "id": "cecea782",
   "metadata": {
    "slideshow": {
     "slide_type": "slide"
    }
   },
   "source": [
    "## Expressions"
   ]
  },
  {
   "cell_type": "markdown",
   "id": "e933a3b9",
   "metadata": {
    "slideshow": {
     "slide_type": "slide"
    }
   },
   "source": [
    "### Python as a calculator\n",
    "\n",
    "- An **expression** is a combination of values, operators, and functions that **evaluates** to some **value**."
   ]
  },
  {
   "cell_type": "markdown",
   "id": "e9492334",
   "metadata": {
    "slideshow": {
     "slide_type": "fragment"
    }
   },
   "source": [
    "- For now, let's think of Python like a calculator – it takes expressions and evaluates them."
   ]
  },
  {
   "cell_type": "markdown",
   "id": "e15892c3",
   "metadata": {
    "slideshow": {
     "slide_type": "fragment"
    }
   },
   "source": [
    "- We will enter our expressions in **code cells**. To run a code cell, either:\n",
    "    - **Hit `shift` + `enter` (or `shift` + `return`) on your keyboard (strongly preferred)**, or\n",
    "    - Press the \"▶ Run\" button in the toolbar."
   ]
  },
  {
   "cell_type": "code",
   "execution_count": null,
   "id": "52ed0e4f",
   "metadata": {
    "slideshow": {
     "slide_type": "slide"
    }
   },
   "outputs": [],
   "source": [
    "17"
   ]
  },
  {
   "cell_type": "code",
   "execution_count": null,
   "id": "24b55e7e",
   "metadata": {},
   "outputs": [],
   "source": [
    "-1 + 3.14"
   ]
  },
  {
   "cell_type": "code",
   "execution_count": null,
   "id": "7d782dfc",
   "metadata": {},
   "outputs": [],
   "source": [
    "2 ** 3"
   ]
  },
  {
   "cell_type": "code",
   "execution_count": null,
   "id": "853b8967",
   "metadata": {},
   "outputs": [],
   "source": [
    "(17 - 14) / 2"
   ]
  },
  {
   "cell_type": "code",
   "execution_count": null,
   "id": "12d9a3d3",
   "metadata": {
    "scrolled": true
   },
   "outputs": [],
   "source": [
    "# Only one value is displayed. Why?\n",
    "3 * 4\n",
    "5"
   ]
  },
  {
   "cell_type": "markdown",
   "id": "12cdf159",
   "metadata": {
    "slideshow": {
     "slide_type": "slide"
    }
   },
   "source": [
    "### Arithmetic operations in Python\n",
    "\n",
    "| Operation | Operator | Example | Value | \n",
    "| --- | --- | --- | --- |\n",
    "| Addition | `+` | `2 + 3` | `5` |\n",
    "| Subtraction | `-` | `2 - 3` | `-1` |\n",
    "| Multiplication | `*` | `2 * 3` | `6` |\n",
    "| Division | `/` | `7 / 3` | `2.66667` |\n",
    "| Exponentiation | `**` | `2 ** 0.5` | `1.41421` |\n",
    "| Integer Division | `//` | `7 // 3` | `2` |\n",
    "| Remainder | `%` | `7 % 3` | `1` |"
   ]
  },
  {
   "cell_type": "markdown",
   "id": "e01fefb1",
   "metadata": {
    "slideshow": {
     "slide_type": "slide"
    }
   },
   "source": [
    "### Python uses the typical order of operations – PEMDAS (BEDMAS?)\n",
    "\n",
    "The following _expressions_ evaluate to different values. Why?"
   ]
  },
  {
   "cell_type": "code",
   "execution_count": null,
   "id": "9695e831",
   "metadata": {},
   "outputs": [],
   "source": [
    "3 * 2 ** 2"
   ]
  },
  {
   "cell_type": "code",
   "execution_count": null,
   "id": "07703b4a",
   "metadata": {},
   "outputs": [],
   "source": [
    "(3 * 2) ** 2"
   ]
  },
  {
   "cell_type": "markdown",
   "id": "fa62aa6b",
   "metadata": {
    "slideshow": {
     "slide_type": "slide"
    }
   },
   "source": [
    "<h3><span style='color:purple'>Activity</span></h3>\n",
    "\n",
    "In the cell below, replace the ellipses with an expression that's equivalent to\n",
    "\n",
    "$$(10 + 3^2) \\cdot 8 \\cdot (\\sqrt{49} + 6) + \\left( 5\\frac{1}{3} + 4 \\right) \\cdot \\left( 5 - \\frac{1}{6} \\right) + \\frac{2^3}{3^2} $$\n",
    "\n",
    "Try to use parentheses only when necessary."
   ]
  },
  {
   "cell_type": "code",
   "execution_count": null,
   "id": "83baeb62",
   "metadata": {},
   "outputs": [],
   "source": [
    "..."
   ]
  },
  {
   "cell_type": "markdown",
   "id": "62024f2c",
   "metadata": {
    "slideshow": {
     "slide_type": "slide"
    }
   },
   "source": [
    "## Anatomy of Jupyter Notebooks"
   ]
  },
  {
   "cell_type": "markdown",
   "id": "7e224a65",
   "metadata": {
    "slideshow": {
     "slide_type": "slide"
    }
   },
   "source": [
    "### Cells\n",
    "\n",
    "There are two types of cells in a Jupyter Notebook:"
   ]
  },
  {
   "cell_type": "markdown",
   "id": "dd4e1a25",
   "metadata": {
    "slideshow": {
     "slide_type": "fragment"
    }
   },
   "source": [
    "- **Code cells**, where you write and execute code.\n",
    "    - When run, code cells display the value of the last evaluated expression."
   ]
  },
  {
   "cell_type": "markdown",
   "id": "a66b6093",
   "metadata": {
    "slideshow": {
     "slide_type": "fragment"
    }
   },
   "source": [
    "- **Markdown cells**, where you write text and images that aren't Python code.\n",
    "    - You'll explore Markdown more in Lab 1A.\n",
    "    - Markdown cells are always \"run\", except when you're editing them.\n",
    "    - Read more about Markdown [here](https://www.markdownguide.org/cheat-sheet/)."
   ]
  },
  {
   "cell_type": "markdown",
   "id": "5316d1a3",
   "metadata": {
    "slideshow": {
     "slide_type": "slide"
    }
   },
   "source": [
    "<center><img src='images/mdcell.png' width=90%><i>A code cell and Markdown cell, before and after being \"run\".</i></center>"
   ]
  },
  {
   "cell_type": "markdown",
   "id": "6c5aa9d2",
   "metadata": {
    "slideshow": {
     "slide_type": "slide"
    }
   },
   "source": [
    "### Edit mode vs. command mode\n",
    "\n",
    "When working in Jupyter Notebooks, we use keyboard shortcuts often. But the keyboard shortcuts that apply depend on the **mode** that we're in."
   ]
  },
  {
   "cell_type": "markdown",
   "id": "0aa6247e",
   "metadata": {
    "slideshow": {
     "slide_type": "fragment"
    }
   },
   "source": [
    "<span style='color:#66bb6a'><b>Edit mode</b></span>: when you're actively typing in a cell.\n",
    "\n",
    "<center><img src='images/editmode.png' width=40%></center>"
   ]
  },
  {
   "cell_type": "markdown",
   "id": "be7ead32",
   "metadata": {
    "slideshow": {
     "slide_type": "fragment"
    }
   },
   "source": [
    "<span style='color:#42a5f5'><b>Command mode</b></span>: when you're not actively typing in a cell.\n",
    "\n",
    "<center><img src='images/commandmode.png' width=45%></center>"
   ]
  },
  {
   "cell_type": "markdown",
   "id": "efe084a2",
   "metadata": {
    "slideshow": {
     "slide_type": "fragment"
    }
   },
   "source": [
    "Hit **escape** to switch from edit to command, and **enter** to switch from command to edit."
   ]
  },
  {
   "cell_type": "markdown",
   "id": "8aacfc80",
   "metadata": {
    "slideshow": {
     "slide_type": "slide"
    }
   },
   "source": [
    "### Keyboard shortcuts\n",
    "\n",
    "A few important keyboard shortcuts are listed below. **Don't feel the need to memorize them all!**\n",
    "- You can see them by hitting **H** while in command mode.\n",
    "- You can also just use the toolbar directly, rather than using a shortcut.\n",
    "\n",
    "| Action | Mode | Keyboard shortcut |\n",
    "| --- | --- | --- |\n",
    "| Run cell + jump to next cell | **Either (puts you in edit mode)** | SHIFT + ENTER |\n",
    "| Save the notebook | **Either** | CTRL/CMD + S |\n",
    "| Create new cell above/below | Command | A/B |\n",
    "| Convert cell to Markdown | Command | M |\n",
    "| Convert cell to code | Command | Y |"
   ]
  },
  {
   "cell_type": "markdown",
   "id": "86d30690",
   "metadata": {
    "slideshow": {
     "slide_type": "slide"
    }
   },
   "source": [
    "<h3><span style='color:purple'>Activity</span></h3>\n",
    "\n",
    "Create two cells between this cell and the cell that says \"Your work goes above here!\"\n",
    "- Make the first cell a Markdown cell, and in it, write your name in **bold** (double-click this cell to see how to format text in bold).\n",
    "- In the code cell, try and write an expression that evalutes to the number `10` using only the number `5`."
   ]
  },
  {
   "cell_type": "markdown",
   "id": "925dc8b9",
   "metadata": {},
   "source": [
    "Your work goes above here!"
   ]
  },
  {
   "cell_type": "markdown",
   "id": "76a66404",
   "metadata": {
    "slideshow": {
     "slide_type": "slide"
    }
   },
   "source": [
    "## Comments"
   ]
  },
  {
   "cell_type": "markdown",
   "id": "eab61372",
   "metadata": {
    "slideshow": {
     "slide_type": "slide"
    }
   },
   "source": [
    "What happens when we run the code cell below?"
   ]
  },
  {
   "cell_type": "code",
   "execution_count": null,
   "id": "a12b4b34",
   "metadata": {},
   "outputs": [],
   "source": [
    "3 + 4 # + 5"
   ]
  },
  {
   "cell_type": "markdown",
   "id": "c7acfa4c",
   "metadata": {
    "slideshow": {
     "slide_type": "fragment"
    }
   },
   "source": [
    "Is this one any different?"
   ]
  },
  {
   "cell_type": "code",
   "execution_count": null,
   "id": "782b92ef",
   "metadata": {},
   "outputs": [],
   "source": [
    "# + 5\n",
    "3 + 4"
   ]
  },
  {
   "cell_type": "markdown",
   "id": "a71bd8d7",
   "metadata": {
    "slideshow": {
     "slide_type": "slide"
    }
   },
   "source": [
    "### Comments\n",
    "\n",
    "- Python ignores everything on a line after a `#`, which denotes the start of a comment."
   ]
  },
  {
   "cell_type": "markdown",
   "id": "356fb29c",
   "metadata": {
    "slideshow": {
     "slide_type": "fragment"
    }
   },
   "source": [
    "- Use comments to **improve the readability of your code**. They are for us humans 👨‍👩‍👧‍👦, not for Python 🤖!\n",
    "    - Try and write code that is self-evident, and write comments when necessary."
   ]
  },
  {
   "cell_type": "markdown",
   "id": "92ad1de5",
   "metadata": {
    "slideshow": {
     "slide_type": "slide"
    }
   },
   "source": [
    "Here's an example of how comments can be used to explain code to us that we don't understand."
   ]
  },
  {
   "cell_type": "code",
   "execution_count": null,
   "id": "097ea5b4",
   "metadata": {},
   "outputs": [],
   "source": [
    "# Import necessary libraries\n",
    "import pandas as pd\n",
    "from IPython.display import display, IFrame"
   ]
  },
  {
   "cell_type": "code",
   "execution_count": null,
   "id": "2de1849f",
   "metadata": {},
   "outputs": [],
   "source": [
    "# Table containing the Top 200 songs on Spotify in the US on July 17th\n",
    "# Downloaded from https://charts.spotify.com/charts/view/regional-us-daily/2022-07-17\n",
    "songs = pd.read_csv('data/regional-us-daily-2022-07-17.csv')\n",
    "\n",
    "def play_nth_song(n):\n",
    "    # Finds the Spotify \"code\" (\"serial number\") for the nth ranked song in the table\n",
    "    url = songs.loc[n - 1, 'uri']\n",
    "    code = url[url.rfind(':') + 1 :]\n",
    "    \n",
    "    # Generates and displays a Spotify player for the song corresponding to that code\n",
    "    src = f'https://open.spotify.com/embed/track/{code}'\n",
    "    width = 400\n",
    "    height = 75\n",
    "    display(IFrame(src, width, height))"
   ]
  },
  {
   "cell_type": "markdown",
   "id": "a46dd18b",
   "metadata": {},
   "source": [
    "Run the cell below. You can change the `15` to any integer between 1 and 200."
   ]
  },
  {
   "cell_type": "code",
   "execution_count": null,
   "id": "5b333bac",
   "metadata": {
    "scrolled": true
   },
   "outputs": [],
   "source": [
    "play_nth_song(15)"
   ]
  },
  {
   "cell_type": "markdown",
   "id": "ebee02ec",
   "metadata": {
    "slideshow": {
     "slide_type": "slide"
    }
   },
   "source": [
    "Here's an example of a not-so-useful comment."
   ]
  },
  {
   "cell_type": "code",
   "execution_count": null,
   "id": "ad9fb546",
   "metadata": {
    "slideshow": {
     "slide_type": "-"
    }
   },
   "outputs": [],
   "source": [
    "# Adds 2 and 3\n",
    "2 + 3"
   ]
  },
  {
   "cell_type": "markdown",
   "id": "7e615088",
   "metadata": {
    "slideshow": {
     "slide_type": "slide"
    }
   },
   "source": [
    "## Calling functions 📞"
   ]
  },
  {
   "cell_type": "markdown",
   "id": "0c30161f",
   "metadata": {
    "slideshow": {
     "slide_type": "slide"
    }
   },
   "source": [
    "### Algebraic functions\n",
    "\n",
    "- In math, functions take in some input and return some output.\n",
    "\n",
    "$$f(x, y) = 2x^2 + 3xy - 1$$\n",
    "\n",
    "- We can determine the output of a function even if we pass in complicated things.\n",
    "\n",
    "$$f\\left(\\frac{1+2}{3+4}, (-1)^{15}\\right)$$"
   ]
  },
  {
   "cell_type": "markdown",
   "id": "23412505",
   "metadata": {
    "slideshow": {
     "slide_type": "slide"
    }
   },
   "source": [
    "### Call expressions\n",
    "\n",
    "* **Call expressions** in Python invoke functions – they tell a function to \"run its recipe\".\n",
    "* Functions in Python work the same way functions in math do.\n",
    "* The inputs to functions are called **arguments**."
   ]
  },
  {
   "cell_type": "code",
   "execution_count": null,
   "id": "5545cd28",
   "metadata": {},
   "outputs": [],
   "source": [
    "abs(-12)"
   ]
  },
  {
   "cell_type": "markdown",
   "id": "50251823",
   "metadata": {
    "slideshow": {
     "slide_type": "slide"
    }
   },
   "source": [
    "### Some functions can take a variable number of arguments"
   ]
  },
  {
   "cell_type": "code",
   "execution_count": null,
   "id": "6b88cae6",
   "metadata": {},
   "outputs": [],
   "source": [
    "max(3, -4)"
   ]
  },
  {
   "cell_type": "code",
   "execution_count": null,
   "id": "41c5ee7c",
   "metadata": {},
   "outputs": [],
   "source": [
    "max(2, -3, -6, 10, -4)"
   ]
  },
  {
   "cell_type": "code",
   "execution_count": null,
   "id": "42cbe0bc",
   "metadata": {},
   "outputs": [],
   "source": [
    "# Only two arguments!\n",
    "max(4 + 5, 5 - 4)"
   ]
  },
  {
   "cell_type": "markdown",
   "id": "a2a08a05",
   "metadata": {
    "slideshow": {
     "slide_type": "slide"
    }
   },
   "source": [
    "### Use the ```?``` after a function to see the documentation for a function\n",
    "Or, use the `help` function, e.g. `help(max)`."
   ]
  },
  {
   "cell_type": "code",
   "execution_count": null,
   "id": "f7c3d86b",
   "metadata": {},
   "outputs": [],
   "source": [
    "max?"
   ]
  },
  {
   "cell_type": "markdown",
   "id": "5eafd6d0",
   "metadata": {
    "slideshow": {
     "slide_type": "slide"
    }
   },
   "source": [
    "### Example: `round`"
   ]
  },
  {
   "cell_type": "code",
   "execution_count": null,
   "id": "ed270959",
   "metadata": {},
   "outputs": [],
   "source": [
    "round(1.22)"
   ]
  },
  {
   "cell_type": "code",
   "execution_count": null,
   "id": "18e59bc1",
   "metadata": {},
   "outputs": [],
   "source": [
    "round?"
   ]
  },
  {
   "cell_type": "code",
   "execution_count": null,
   "id": "358ba742",
   "metadata": {},
   "outputs": [],
   "source": [
    "round(1.22222, 3)"
   ]
  },
  {
   "cell_type": "markdown",
   "id": "501748fb",
   "metadata": {
    "slideshow": {
     "slide_type": "slide"
    }
   },
   "source": [
    "### Nested evaluation"
   ]
  },
  {
   "cell_type": "markdown",
   "id": "8b4a58b3",
   "metadata": {},
   "source": [
    "We can **nest** many function calls to create sophisticated expressions."
   ]
  },
  {
   "cell_type": "code",
   "execution_count": null,
   "id": "f4361d8b",
   "metadata": {},
   "outputs": [],
   "source": [
    "min(abs(max(-1, -2, -3, min(4, -2))), max(5, 100))"
   ]
  },
  {
   "cell_type": "markdown",
   "id": "01553faf",
   "metadata": {
    "slideshow": {
     "slide_type": "fragment"
    }
   },
   "source": [
    "...How did that work?"
   ]
  },
  {
   "cell_type": "code",
   "execution_count": null,
   "id": "23badc6a",
   "metadata": {
    "scrolled": false,
    "slideshow": {
     "slide_type": "slide"
    }
   },
   "outputs": [],
   "source": [
    "# Run this cell – the code just helps with the animation that appears afterwards.\n",
    "src = 'https://docs.google.com/presentation/d/e/2PACX-1vQpW0NzwT3LjZsIIDAgtSMRM1cl41Gp_Lf8k9GT-gm5sGAIynw4rsgiEFbIybClD6QtxarKaVKLbR9U/embed?start=false&loop=false&delayms=60000\" frameborder=\"0\" width=\"960\" height=\"569\" allowfullscreen=\"true\" mozallowfullscreen=\"true\" webkitallowfullscreen=\"true\"'\n",
    "width = 960\n",
    "height = 569\n",
    "IFrame(src, width, height)"
   ]
  },
  {
   "cell_type": "markdown",
   "id": "9992c8f7",
   "metadata": {
    "slideshow": {
     "slide_type": "slide"
    }
   },
   "source": [
    "### Import statements\n",
    "- Python doesn't have everything we need built in.\n",
    "- In order to gain additional functionality, we import **modules** via **import statements**.\n",
    "- **Modules** can be thought of as collections Python functions and values.\n",
    "- Call these functions using the syntax `module.function()` (\"dot notation\")."
   ]
  },
  {
   "cell_type": "markdown",
   "id": "b526928d",
   "metadata": {
    "slideshow": {
     "slide_type": "slide"
    }
   },
   "source": [
    "### Example: `import math`\n",
    "\n",
    "`math` has several in-built functions, like `sqrt`, `log`, and `pow`."
   ]
  },
  {
   "cell_type": "code",
   "execution_count": null,
   "id": "7eacb807",
   "metadata": {},
   "outputs": [],
   "source": [
    "import math"
   ]
  },
  {
   "cell_type": "code",
   "execution_count": null,
   "id": "54abb909",
   "metadata": {},
   "outputs": [],
   "source": [
    "math.sqrt(9)"
   ]
  },
  {
   "cell_type": "code",
   "execution_count": null,
   "id": "da86c6e1",
   "metadata": {},
   "outputs": [],
   "source": [
    "math.pow(3, 2)"
   ]
  },
  {
   "cell_type": "code",
   "execution_count": null,
   "id": "4f54f8c0",
   "metadata": {},
   "outputs": [],
   "source": [
    "# What base is log?\n",
    "math.log?"
   ]
  },
  {
   "cell_type": "code",
   "execution_count": null,
   "id": "e19d8c35",
   "metadata": {},
   "outputs": [],
   "source": [
    "# Tab completion for browsing\n",
    "math."
   ]
  },
  {
   "cell_type": "markdown",
   "id": "0ce63031",
   "metadata": {
    "slideshow": {
     "slide_type": "fragment"
    }
   },
   "source": [
    "It also has constants built-in!"
   ]
  },
  {
   "cell_type": "code",
   "execution_count": null,
   "id": "777a42ca",
   "metadata": {},
   "outputs": [],
   "source": [
    "math.pi"
   ]
  },
  {
   "cell_type": "markdown",
   "id": "3ae6871c",
   "metadata": {
    "slideshow": {
     "slide_type": "slide"
    }
   },
   "source": [
    "<h3><span style='color:purple'>Activity</span></h3>\n",
    "\n",
    "Assume you have run the following statements:\n",
    "\n",
    "```py\n",
    "x = 3\n",
    "y = -2\n",
    "```\n",
    "\n",
    "Which of these examples results in an error?\n",
    "\n",
    "A. `abs(x, y)`\n",
    "\n",
    "B. `math.pow(x, abs(y))`\n",
    "\n",
    "C. `round(x, max(abs(y ** 2)))`\n",
    "\n",
    "D. `math.pow(x, math.pow(y, x))`\n",
    "\n",
    "E. More than one of the above\n",
    "\n",
    "**Think about what the answer should be WITHOUT running any code.**"
   ]
  },
  {
   "cell_type": "markdown",
   "id": "f46ad646",
   "metadata": {
    "slideshow": {
     "slide_type": "slide"
    }
   },
   "source": [
    "## Data types"
   ]
  },
  {
   "cell_type": "markdown",
   "id": "ce1f2936",
   "metadata": {
    "slideshow": {
     "slide_type": "slide"
    }
   },
   "source": [
    "### What's the difference? 🧐"
   ]
  },
  {
   "cell_type": "code",
   "execution_count": null,
   "id": "9b258ffd",
   "metadata": {},
   "outputs": [],
   "source": [
    "4 / 2"
   ]
  },
  {
   "cell_type": "code",
   "execution_count": null,
   "id": "0060aeaf",
   "metadata": {},
   "outputs": [],
   "source": [
    "5 - 3"
   ]
  },
  {
   "cell_type": "markdown",
   "id": "a94bc99c",
   "metadata": {
    "slideshow": {
     "slide_type": "fragment"
    }
   },
   "source": [
    "To us, `2.0` and `2` are the same number, $2$. But to Python, these appear to be different! 😱"
   ]
  },
  {
   "cell_type": "markdown",
   "id": "04919900",
   "metadata": {
    "slideshow": {
     "slide_type": "slide"
    }
   },
   "source": [
    "### Data types\n",
    "- Every value in Python has a **type**.\n",
    "    - Use the `type` function to check a value's type.\n",
    "- It's important to understand how different types work with different operations, as the results may not always be what we expect."
   ]
  },
  {
   "cell_type": "markdown",
   "id": "de083fc5",
   "metadata": {
    "slideshow": {
     "slide_type": "slide"
    }
   },
   "source": [
    "### Two numeric data types: ```int``` and ```float``` \n",
    "- ```int``` : An integer of any size.\n",
    "- ```float```: A number with an optional fractional (decimal) part."
   ]
  },
  {
   "cell_type": "markdown",
   "id": "11c05d3e",
   "metadata": {
    "slideshow": {
     "slide_type": "slide"
    }
   },
   "source": [
    "### ```int```\n",
    "- If you use these operations between `int`s (`+`, `-`, `*`, `**`), the result will be another `int`.\n",
    "- `int`s have arbitrary precision in Python, meaning that your calculations will always be exact. "
   ]
  },
  {
   "cell_type": "code",
   "execution_count": null,
   "id": "35579b42",
   "metadata": {},
   "outputs": [],
   "source": [
    "3 + 5"
   ]
  },
  {
   "cell_type": "code",
   "execution_count": null,
   "id": "7010ddc5",
   "metadata": {},
   "outputs": [],
   "source": [
    "type(3 + 5)"
   ]
  },
  {
   "cell_type": "code",
   "execution_count": null,
   "id": "64369408",
   "metadata": {},
   "outputs": [],
   "source": [
    "2 ** 300"
   ]
  },
  {
   "cell_type": "code",
   "execution_count": null,
   "id": "4763752d",
   "metadata": {
    "scrolled": true
   },
   "outputs": [],
   "source": [
    "2 ** 3000"
   ]
  },
  {
   "cell_type": "markdown",
   "id": "cb4bc2eb",
   "metadata": {
    "slideshow": {
     "slide_type": "slide"
    }
   },
   "source": [
    "### ```float```\n",
    "* A float is specified using a **decimal** point.\n",
    "* A float might be printed using scientific notation."
   ]
  },
  {
   "cell_type": "code",
   "execution_count": null,
   "id": "23a5d816",
   "metadata": {},
   "outputs": [],
   "source": [
    "2.0 + 3.2"
   ]
  },
  {
   "cell_type": "code",
   "execution_count": null,
   "id": "d31c71d3",
   "metadata": {},
   "outputs": [],
   "source": [
    "type(2.0 + 3.2)"
   ]
  },
  {
   "cell_type": "code",
   "execution_count": null,
   "id": "e683f535",
   "metadata": {},
   "outputs": [],
   "source": [
    "2.0 ** 300"
   ]
  },
  {
   "cell_type": "markdown",
   "id": "796d206c",
   "metadata": {
    "slideshow": {
     "slide_type": "slide"
    }
   },
   "source": [
    "### The pitfalls of ```float```\n",
    "* `float`s have limited size (but the limit is huge).\n",
    "* `float`s have limited precision of 15-16 decimal places.\n",
    "* After arithmetic, the final few decimal places can be wrong in seemingly-random ways (limited precision!)."
   ]
  },
  {
   "cell_type": "code",
   "execution_count": null,
   "id": "e9d074dd",
   "metadata": {},
   "outputs": [],
   "source": [
    "1 + 0.2"
   ]
  },
  {
   "cell_type": "code",
   "execution_count": null,
   "id": "4ef291f7",
   "metadata": {},
   "outputs": [],
   "source": [
    "1 + 0.1 + 0.1"
   ]
  },
  {
   "cell_type": "code",
   "execution_count": null,
   "id": "de5c67bc",
   "metadata": {},
   "outputs": [],
   "source": [
    "2.0 ** 3000"
   ]
  },
  {
   "cell_type": "markdown",
   "id": "cb40eacc",
   "metadata": {
    "slideshow": {
     "slide_type": "slide"
    }
   },
   "source": [
    "### Type coercion between ```int``` and ```float```\n",
    "- By default, Python changes an `int` to a `float` in a mixed expression involving both types.\n",
    "     - Note that the division of two `int`s automatically returns a `float` value.\n",
    "- A value can be explicity **coerced** (i.e. converted) using the ```int``` and ```float``` functions."
   ]
  },
  {
   "cell_type": "code",
   "execution_count": null,
   "id": "2cc6dcfe",
   "metadata": {
    "slideshow": {
     "slide_type": "-"
    }
   },
   "outputs": [],
   "source": [
    "2.0 + 3"
   ]
  },
  {
   "cell_type": "code",
   "execution_count": null,
   "id": "939c8cee",
   "metadata": {},
   "outputs": [],
   "source": [
    "2 / 1"
   ]
  },
  {
   "cell_type": "code",
   "execution_count": null,
   "id": "2b496b41",
   "metadata": {},
   "outputs": [],
   "source": [
    "# Want an integer back\n",
    "int(2 / 1)"
   ]
  },
  {
   "cell_type": "code",
   "execution_count": null,
   "id": "07acf70b",
   "metadata": {},
   "outputs": [],
   "source": [
    "# int chops off the decimal point, effectively rounding DOWN\n",
    "int(3.9)"
   ]
  },
  {
   "cell_type": "markdown",
   "id": "ab845b81",
   "metadata": {
    "slideshow": {
     "slide_type": "slide"
    }
   },
   "source": [
    "### Be careful converting between ```int``` and ```float```!"
   ]
  },
  {
   "cell_type": "code",
   "execution_count": null,
   "id": "9b203c49",
   "metadata": {},
   "outputs": [],
   "source": [
    "2.51 * 100"
   ]
  },
  {
   "cell_type": "code",
   "execution_count": null,
   "id": "80d8816d",
   "metadata": {},
   "outputs": [],
   "source": [
    "int(2.51 * 100)"
   ]
  },
  {
   "cell_type": "markdown",
   "id": "a0c56f56",
   "metadata": {
    "slideshow": {
     "slide_type": "slide"
    }
   },
   "source": [
    "### The consequences of `float` to `int` conversion errors\n",
    "\n",
    "The Ariane I exploded on launch in 1996, in part due to floating point conversion errors.\n",
    "[Read the story here](https://hownot2code.com/2016/09/02/a-space-error-370-million-for-an-integer-overflow/).\n",
    "\n",
    "<center><img src=\"images/ariane.jpg\" width=\"700\"/></center>"
   ]
  },
  {
   "cell_type": "markdown",
   "id": "5286467d",
   "metadata": {
    "slideshow": {
     "slide_type": "slide"
    }
   },
   "source": [
    "### Aside: \"regular\" division vs. integer division\n",
    "\n",
    "There are two division operators in Python."
   ]
  },
  {
   "cell_type": "markdown",
   "id": "0319cc07",
   "metadata": {
    "slideshow": {
     "slide_type": "fragment"
    }
   },
   "source": [
    "`/` performs regular division, the way you'd expect. **The result is always a float.**"
   ]
  },
  {
   "cell_type": "code",
   "execution_count": null,
   "id": "b9f0a491",
   "metadata": {},
   "outputs": [],
   "source": [
    "16 / 4"
   ]
  },
  {
   "cell_type": "code",
   "execution_count": null,
   "id": "a4838148",
   "metadata": {},
   "outputs": [],
   "source": [
    "17 / 4"
   ]
  },
  {
   "cell_type": "markdown",
   "id": "22d70e29",
   "metadata": {
    "slideshow": {
     "slide_type": "fragment"
    }
   },
   "source": [
    "`//` performs integer division, which means it **only returns the quotient**, typically as an integer."
   ]
  },
  {
   "cell_type": "code",
   "execution_count": null,
   "id": "7372b7fd",
   "metadata": {},
   "outputs": [],
   "source": [
    "16 // 4"
   ]
  },
  {
   "cell_type": "code",
   "execution_count": null,
   "id": "4f2fce74",
   "metadata": {},
   "outputs": [],
   "source": [
    "17 // 4"
   ]
  },
  {
   "cell_type": "markdown",
   "id": "ff889cdb",
   "metadata": {
    "slideshow": {
     "slide_type": "slide"
    }
   },
   "source": [
    "### Aside: modulo operator\n",
    "\n",
    "- `%` refers to the modulo operator.\n",
    "- `a % b` evalutes to the **remainder** when `a` is divided by `b`, typically as an integer."
   ]
  },
  {
   "cell_type": "code",
   "execution_count": null,
   "id": "7e069a8a",
   "metadata": {},
   "outputs": [],
   "source": [
    "17 / 4"
   ]
  },
  {
   "cell_type": "code",
   "execution_count": null,
   "id": "3d53d3b7",
   "metadata": {},
   "outputs": [],
   "source": [
    "17 // 4"
   ]
  },
  {
   "cell_type": "code",
   "execution_count": null,
   "id": "e43ac92f",
   "metadata": {
    "scrolled": true
   },
   "outputs": [],
   "source": [
    "17 % 4"
   ]
  },
  {
   "cell_type": "markdown",
   "id": "67fbc993",
   "metadata": {
    "slideshow": {
     "slide_type": "slide"
    }
   },
   "source": [
    "<center><h3>Break time! 🎉</h3></center>"
   ]
  }
 ],
 "metadata": {
  "kernelspec": {
   "display_name": "Python 3 (ipykernel)",
   "language": "python",
   "name": "python3"
  },
  "language_info": {
   "codemirror_mode": {
    "name": "ipython",
    "version": 3
   },
   "file_extension": ".py",
   "mimetype": "text/x-python",
   "name": "python",
   "nbconvert_exporter": "python",
   "pygments_lexer": "ipython3",
   "version": "3.9.7"
  },
  "livereveal": {
   "scroll": true,
   "transition": "none"
  }
 },
 "nbformat": 4,
 "nbformat_minor": 5
}
