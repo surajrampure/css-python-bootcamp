{
 "cells": [
  {
   "cell_type": "markdown",
   "id": "cd79c492",
   "metadata": {
    "slideshow": {
     "slide_type": "slide"
    }
   },
   "source": [
    "# Lecture 2B – Iteration\n",
    "\n",
    "## CSS Summer Bootcamp, Week 1 🥾\n",
    "\n",
    "#### Suraj Rampure"
   ]
  },
  {
   "cell_type": "markdown",
   "id": "be399441",
   "metadata": {
    "slideshow": {
     "slide_type": "slide"
    }
   },
   "source": [
    "### Agenda\n",
    "\n",
    "- `for`-loops.\n",
    "- `while`-loops.\n",
    "\n",
    "This lecture will have more \"activities\" than usual – get ready to code alongside me!"
   ]
  },
  {
   "cell_type": "markdown",
   "id": "51fa3e54",
   "metadata": {
    "slideshow": {
     "slide_type": "slide"
    }
   },
   "source": [
    "## `for`-loops"
   ]
  },
  {
   "cell_type": "markdown",
   "id": "727a7d39",
   "metadata": {},
   "source": [
    "<center><img src='images/iteration.png' width=60%></center>"
   ]
  },
  {
   "cell_type": "markdown",
   "id": "cadad09c",
   "metadata": {
    "slideshow": {
     "slide_type": "slide"
    }
   },
   "source": [
    "### `for`-loops\n",
    "\n",
    "Loops allow us to repeat the execution of code. There are two types of loops in Python; the `for`-loop is one of them."
   ]
  },
  {
   "cell_type": "markdown",
   "id": "ec779321",
   "metadata": {
    "slideshow": {
     "slide_type": "fragment"
    }
   },
   "source": [
    "\n",
    "```py\n",
    "for <elem> in <sequence>:\n",
    "    <for body>\n",
    "\n",
    "```\n",
    "\n",
    "Read this as: \"for each element of this sequence, repeat this code.\" Note: lists and strings are both examples of sequences."
   ]
  },
  {
   "cell_type": "markdown",
   "id": "8f13eb8e",
   "metadata": {
    "slideshow": {
     "slide_type": "slide"
    }
   },
   "source": [
    "### A first example"
   ]
  },
  {
   "cell_type": "code",
   "execution_count": null,
   "id": "f8dd1df9",
   "metadata": {},
   "outputs": [],
   "source": [
    "for n in [2, 4, 6, 8]:\n",
    "    print(n * 5)"
   ]
  },
  {
   "cell_type": "markdown",
   "id": "53149f27",
   "metadata": {
    "slideshow": {
     "slide_type": "fragment"
    }
   },
   "source": [
    "Note that the line `print(n * 5)` is run 4 times: once for each element in the list `[2, 4, 6, 8]`.\n",
    "- In the first iteration, `n` is 2.\n",
    "- In the second iteration, `n` is 4.\n",
    "- In the third iteration, `n` is 6.\n",
    "- In the fourth iteration, `n` is 8.\n",
    "\n",
    "We never had to explicitly write `n = 2` or `n = 4` anywhere!"
   ]
  },
  {
   "cell_type": "markdown",
   "id": "40abd15d",
   "metadata": {
    "slideshow": {
     "slide_type": "slide"
    }
   },
   "source": [
    "### The body does not need to use the loop variable!\n",
    "\n",
    "In the example below, the **body** of our loop (everything that's indented) does not use `i` (the loop variable). Usually it will, though."
   ]
  },
  {
   "cell_type": "code",
   "execution_count": null,
   "id": "4d7acda2",
   "metadata": {},
   "outputs": [],
   "source": [
    "tips = [5, 2, 3, 8, 9, 0, 2, 1]\n",
    "for i in tips:\n",
    "    print('ignoring i!')"
   ]
  },
  {
   "cell_type": "markdown",
   "id": "49bffca4",
   "metadata": {
    "slideshow": {
     "slide_type": "slide"
    }
   },
   "source": [
    "### Another example\n",
    "\n",
    "Like with any other code, we can have `for`-loops inside of functions."
   ]
  },
  {
   "cell_type": "code",
   "execution_count": null,
   "id": "231e43f2",
   "metadata": {},
   "outputs": [],
   "source": [
    "def modify_verb(verbs):\n",
    "    for verb in verbs:\n",
    "        print(verb + 'ing')"
   ]
  },
  {
   "cell_type": "code",
   "execution_count": null,
   "id": "55f84d5a",
   "metadata": {},
   "outputs": [],
   "source": [
    "modify_verb(['eat', 'run'])"
   ]
  },
  {
   "cell_type": "code",
   "execution_count": null,
   "id": "58d0cb5a",
   "metadata": {},
   "outputs": [],
   "source": [
    "modify_verb(['cry', 'drink', 'sleep'])"
   ]
  },
  {
   "cell_type": "markdown",
   "id": "8973f187",
   "metadata": {
    "slideshow": {
     "slide_type": "slide"
    }
   },
   "source": [
    "### The \"accumulator\" pattern\n",
    "\n",
    "- A `for`-loop looks at each element in a provided sequence once.\n",
    "- Often, we will want to write a `for`-loop that **keeps track** of some running quantity as it runs, e.g. **the number of odd numbers seen so far**."
   ]
  },
  {
   "cell_type": "code",
   "execution_count": null,
   "id": "7660b5ea",
   "metadata": {},
   "outputs": [],
   "source": [
    "numbers = [8, 2, 9, 5, 9, 3, 2]"
   ]
  },
  {
   "cell_type": "code",
   "execution_count": null,
   "id": "bcc2085c",
   "metadata": {},
   "outputs": [],
   "source": [
    "odd_total = 0\n",
    "for val in numbers:\n",
    "    if val % 2 == 1:\n",
    "        odd_total = odd_total + 1"
   ]
  },
  {
   "cell_type": "code",
   "execution_count": null,
   "id": "1f6361f6",
   "metadata": {},
   "outputs": [],
   "source": [
    "odd_total"
   ]
  },
  {
   "cell_type": "markdown",
   "id": "1336459e",
   "metadata": {},
   "source": [
    "- By the time the `for`-loop is done running, `odd_total` is equal to the number of odd numbers in the provided list.\n",
    "- This is the **accumulator** pattern."
   ]
  },
  {
   "cell_type": "markdown",
   "id": "f1109c11",
   "metadata": {
    "slideshow": {
     "slide_type": "slide"
    }
   },
   "source": [
    "<h3><span style='color:purple'>Activity</span></h3>\n",
    "\n",
    "Complete the implementation of the function `num_above`, which takes in a list `values` and a threshold `t` and returns the number of elements in `values` that are above `t`."
   ]
  },
  {
   "cell_type": "code",
   "execution_count": null,
   "id": "7342f2c4",
   "metadata": {},
   "outputs": [],
   "source": [
    "def num_above(values, t):\n",
    "    ..."
   ]
  },
  {
   "cell_type": "markdown",
   "id": "67befc91",
   "metadata": {
    "slideshow": {
     "slide_type": "slide"
    }
   },
   "source": [
    "<h3><span style='color:purple'>Activity</span></h3>\n",
    "\n",
    "In one English sentence, what does the function `not_sure` do?\n",
    "\n",
    "```py\n",
    "def not_sure(word):\n",
    "    output = ''\n",
    "    for letter in word.lower():\n",
    "        if letter in 'aeiou':\n",
    "            output += letter\n",
    "    return output\n",
    "\n",
    "```\n",
    "\n",
    "**Think about what the answer should be WITHOUT running any code.**"
   ]
  },
  {
   "cell_type": "markdown",
   "id": "19b18fad",
   "metadata": {
    "slideshow": {
     "slide_type": "slide"
    }
   },
   "source": [
    "## `range`"
   ]
  },
  {
   "cell_type": "markdown",
   "id": "b408ab34",
   "metadata": {
    "slideshow": {
     "slide_type": "slide"
    }
   },
   "source": [
    "### `range`\n",
    "\n",
    "The function `range` creates a sequence of numbers.\n",
    "- `range()` creates a value whose type is “range” – not list! To convert a range to a list, use `list()`.\n",
    "- `list(range(n))` is a list of all integers from `0` to `n-1`.\n",
    "- `list(range(start, stop))` is a list of all integers from `start` to `stop-1`.\n",
    "- `list(range(start, stop, d))` is a list of integers from `start` to `stop-1`, counting by `d`.\n",
    "- `range` works a lot like indexing – the returned range is inclusive of the starting position and exclusive of the ending position."
   ]
  },
  {
   "cell_type": "code",
   "execution_count": null,
   "id": "3960fd9e",
   "metadata": {},
   "outputs": [],
   "source": [
    "range(10)"
   ]
  },
  {
   "cell_type": "code",
   "execution_count": null,
   "id": "40d54ff5",
   "metadata": {},
   "outputs": [],
   "source": [
    "list(range(10))"
   ]
  },
  {
   "cell_type": "code",
   "execution_count": null,
   "id": "3aafed43",
   "metadata": {},
   "outputs": [],
   "source": [
    "for j in range(10):\n",
    "    print(j)"
   ]
  },
  {
   "cell_type": "code",
   "execution_count": null,
   "id": "60d6e0e4",
   "metadata": {},
   "outputs": [],
   "source": [
    "list(range(3, 8))"
   ]
  },
  {
   "cell_type": "markdown",
   "id": "2d139d37",
   "metadata": {
    "slideshow": {
     "slide_type": "slide"
    }
   },
   "source": [
    "### `for`-loops with `range`\n",
    "\n",
    "Question: Why shouldn't we ever use `sum` as the name of our accumulator variable (i.e. the variable that we're using as `total` below)?"
   ]
  },
  {
   "cell_type": "code",
   "execution_count": null,
   "id": "42b0b40b",
   "metadata": {},
   "outputs": [],
   "source": [
    "# 1 + 2 + 3 + 4 + 5 + 6 + 7 + 8 + 9 + 10\n",
    "total = 0\n",
    "for num in range(1, 11):\n",
    "    total += num\n",
    "    \n",
    "total"
   ]
  },
  {
   "cell_type": "code",
   "execution_count": null,
   "id": "5925fe87",
   "metadata": {},
   "outputs": [],
   "source": [
    "# 3 + 5 + 7 + 9\n",
    "added_up = 0\n",
    "for x in range(3, 11, 2):\n",
    "    added_up += x\n",
    "    \n",
    "added_up"
   ]
  },
  {
   "cell_type": "code",
   "execution_count": null,
   "id": "2fa25d12",
   "metadata": {},
   "outputs": [],
   "source": [
    "for j in range(10, 0, -3):\n",
    "    print(j)\n",
    "print('happy new year 🎉')"
   ]
  },
  {
   "cell_type": "markdown",
   "id": "d0e4edc6",
   "metadata": {
    "slideshow": {
     "slide_type": "slide"
    }
   },
   "source": [
    "### Example: adding lists\n",
    "\n",
    "Suppose we have two lists, and want to add the elements in each list pairwise. Let’s define a function `list_add` to help us.\n",
    "\n",
    "For example, `list_add([1, 2, 3], [4, 5, 6])` should evaluate to `[5, 7, 9]`. (If the lists have different lengths, this doesn’t really make sense.)"
   ]
  },
  {
   "cell_type": "markdown",
   "id": "6543773c",
   "metadata": {
    "slideshow": {
     "slide_type": "fragment"
    }
   },
   "source": [
    "Idea: For each valid position `i`, \n",
    "- Add `a[i]` and `b[i]`.\n",
    "- Append the result to an output list."
   ]
  },
  {
   "cell_type": "code",
   "execution_count": null,
   "id": "38eef7b3",
   "metadata": {},
   "outputs": [],
   "source": [
    "# Remember, the + symbol concatenates two lists – that's not quite what we want!\n",
    "[1, 2, 3] + [4, 5, 6]"
   ]
  },
  {
   "cell_type": "code",
   "execution_count": null,
   "id": "8dd9ffb7",
   "metadata": {
    "slideshow": {
     "slide_type": "slide"
    }
   },
   "outputs": [],
   "source": [
    "def list_add(a, b):\n",
    "    output = []\n",
    "    for i in range(len(a)):\n",
    "        output.append(a[i] + b[i])\n",
    "    return output"
   ]
  },
  {
   "cell_type": "code",
   "execution_count": null,
   "id": "212abc95",
   "metadata": {},
   "outputs": [],
   "source": [
    "list_add([1, 2, 3], [4, 5, 6])"
   ]
  },
  {
   "cell_type": "code",
   "execution_count": null,
   "id": "754c66a6",
   "metadata": {},
   "outputs": [],
   "source": [
    "list_add([9, 1, -5.5, 3, 0], [14, 0, 3, 2, -1])"
   ]
  },
  {
   "cell_type": "code",
   "execution_count": null,
   "id": "808a003b",
   "metadata": {},
   "outputs": [],
   "source": [
    "list_add(['hey', 'hi'], ['hello', 'sup'])"
   ]
  },
  {
   "cell_type": "code",
   "execution_count": null,
   "id": "f29e28a5",
   "metadata": {},
   "outputs": [],
   "source": [
    "# Should this work, necessarily?\n",
    "# Maybe we want to have this throw an error!\n",
    "list_add([1, 2], [1, 2, 3])"
   ]
  },
  {
   "cell_type": "markdown",
   "id": "5c4cfc23",
   "metadata": {
    "slideshow": {
     "slide_type": "slide"
    }
   },
   "source": [
    "<h3><span style='color:purple'>Activity</span></h3>\n",
    "\n",
    "**Without running any code**, try and determine the output of the following 4 lines of code.\n",
    "\n",
    "```PY\n",
    "actions = ['ate', 'slept', 'drank']\n",
    "feelings = ['happy', 'energized', 'confused']\n",
    "for k in range(len(actions)):\n",
    "    print('I ' + actions[k] + ' and I am ' + feelings[-k-1] + '.')\n",
    "```"
   ]
  },
  {
   "cell_type": "markdown",
   "id": "036039a7",
   "metadata": {
    "slideshow": {
     "slide_type": "slide"
    }
   },
   "source": [
    "## `while`-loops"
   ]
  },
  {
   "cell_type": "markdown",
   "id": "d7b7075c",
   "metadata": {
    "slideshow": {
     "slide_type": "slide"
    }
   },
   "source": [
    "### Motivation\n",
    "\n",
    "- When we wrote `for`-loops, we knew in advance **the number of times that our loop would be run**.\n",
    "    - It would be run once for each element in the provided sequence!\n",
    "- Sometimes, we need to write loops where we **don't know the number of times to iterate in advance**."
   ]
  },
  {
   "cell_type": "markdown",
   "id": "0a416400",
   "metadata": {
    "slideshow": {
     "slide_type": "slide"
    }
   },
   "source": [
    "### `while`-loops\n",
    "\n",
    "The `while`-loop is the other type of loop in Python."
   ]
  },
  {
   "cell_type": "markdown",
   "id": "1f36c963",
   "metadata": {
    "slideshow": {
     "slide_type": "fragment"
    }
   },
   "source": [
    "```py\n",
    "while <boolean expression>:\n",
    "    <while body>\n",
    "```\n",
    "        \n",
    "Read this as: \"while this condition is true, repeat this code\"."
   ]
  },
  {
   "cell_type": "markdown",
   "id": "1e229bbd",
   "metadata": {
    "slideshow": {
     "slide_type": "slide"
    }
   },
   "source": [
    "### Example: blastoff"
   ]
  },
  {
   "cell_type": "code",
   "execution_count": null,
   "id": "948ab851",
   "metadata": {},
   "outputs": [],
   "source": [
    "i = 0\n",
    "while i < 10:\n",
    "    print(i)\n",
    "    i += 1\n",
    "print('blastoff 🚀')"
   ]
  },
  {
   "cell_type": "markdown",
   "id": "4c87368e",
   "metadata": {},
   "source": [
    "- First, Python checks if the condition (`i < 10`) is True. If it is, it runs the indented code.\n",
    "- After running the indented code, Python again checks if the condition (`i < 10`) is True. If it is, it runs the indented code.\n",
    "- The process is repeated until the condition (`i < 10`) is no longer True.\n",
    "- **Note that we manually had to increment `i` (i.e. write `i += 1`), which we did not have to do in a `for`-loop!**"
   ]
  },
  {
   "cell_type": "markdown",
   "id": "f9b45005",
   "metadata": {
    "slideshow": {
     "slide_type": "slide"
    }
   },
   "source": [
    "### Example: doubling time\n",
    "\n",
    "Let's write a function `doubling_time`, which takes in the population of a country, `pop`, and a growth rate, `r`, and returns the number of times `pop` must be multiplied by `r` until it is doubled."
   ]
  },
  {
   "cell_type": "code",
   "execution_count": null,
   "id": "12a2020c",
   "metadata": {},
   "outputs": [],
   "source": [
    "def doubling_time(pop, r):\n",
    "    initial = pop\n",
    "    t = 0\n",
    "    while pop < 2 * initial:\n",
    "        pop = pop * r\n",
    "        t += 1\n",
    "    return t"
   ]
  },
  {
   "cell_type": "code",
   "execution_count": null,
   "id": "0bc54866",
   "metadata": {},
   "outputs": [],
   "source": [
    "doubling_time(100, 1.04)"
   ]
  },
  {
   "cell_type": "markdown",
   "id": "051d7737",
   "metadata": {},
   "source": [
    "Note that we can't use a `for`-loop here, because we don't know how many times to repeat the doubling line beforehand."
   ]
  },
  {
   "cell_type": "markdown",
   "id": "a9c58759",
   "metadata": {
    "slideshow": {
     "slide_type": "slide"
    }
   },
   "source": [
    "<h3><span style='color:purple'>Activity</span></h3>\n",
    "\n",
    "Earlier in the lecture, you defined the function `num_above`. It looked something like this:"
   ]
  },
  {
   "cell_type": "code",
   "execution_count": null,
   "id": "fd670187",
   "metadata": {},
   "outputs": [],
   "source": [
    "def num_above(values, t):\n",
    "    count = 0\n",
    "    for val in values:\n",
    "        if val > t:\n",
    "            count += 1\n",
    "    return count\n",
    "\n",
    "num_above([1, 2, 5, 8, 7, 9], 3)"
   ]
  },
  {
   "cell_type": "markdown",
   "id": "f5a9a736",
   "metadata": {},
   "source": [
    "This is the type of task that **we prefer a `for`-loop for**, as the code is much more concise. However, we _could_ write a `while`-loop to do the same thing! Try doing so."
   ]
  },
  {
   "cell_type": "code",
   "execution_count": null,
   "id": "1416675c",
   "metadata": {},
   "outputs": [],
   "source": [
    "def num_above_while(values, t):\n",
    "    count = 0\n",
    "    i = 0\n",
    "    # YOUR CODE HERE\n",
    "    ...\n",
    "    #\n",
    "    return count"
   ]
  },
  {
   "cell_type": "code",
   "execution_count": null,
   "id": "dc75361b",
   "metadata": {},
   "outputs": [],
   "source": [
    "# Should also evaluate to 4\n",
    "num_above_while([1, 2, 5, 8, 7, 9], 3)"
   ]
  },
  {
   "cell_type": "markdown",
   "id": "06141a8b",
   "metadata": {
    "slideshow": {
     "slide_type": "slide"
    }
   },
   "source": [
    "### Example: `input`\n",
    "\n",
    "The `input()` function can be used to show a text box in your notebook. You can use this to simulate text input (e.g. typing in a password on a website, searching something on Google)."
   ]
  },
  {
   "cell_type": "code",
   "execution_count": null,
   "id": "b73f3502",
   "metadata": {},
   "outputs": [],
   "source": [
    "name = input('Enter your name: ')\n",
    "print('Hi, ' + name + ' 👋')"
   ]
  },
  {
   "cell_type": "markdown",
   "id": "146feb02",
   "metadata": {
    "slideshow": {
     "slide_type": "slide"
    }
   },
   "source": [
    "### Dictionary\n",
    "\n",
    "Below, we read in all of the words in the dictionary. (We'll learn more about the `open` function later this week.)"
   ]
  },
  {
   "cell_type": "code",
   "execution_count": null,
   "id": "aa6fed5b",
   "metadata": {},
   "outputs": [],
   "source": [
    "f = open('data/words.txt', 'r')\n",
    "dictionary = f.read().split('\\n')\n",
    "dictionary[:10]"
   ]
  },
  {
   "cell_type": "markdown",
   "id": "13ac46de",
   "metadata": {},
   "source": [
    "**Goal:** Repeatedly ask the user to input a word. Each time, tell them if their word was in the dictionary. Keep track of the number of words that were and were not in the dictionary."
   ]
  },
  {
   "cell_type": "code",
   "execution_count": null,
   "id": "4bb282ee",
   "metadata": {},
   "outputs": [],
   "source": [
    "in_count = 0\n",
    "out_count = 0\n",
    "while True:\n",
    "    user_word = input('Enter a word (or hit enter to stop): ')\n",
    "    if user_word == '':\n",
    "        break\n",
    "    \n",
    "    if user_word in dictionary:\n",
    "        print(user_word + ' is in the dictionary!\\n')\n",
    "        in_count += 1\n",
    "    else:\n",
    "        print(user_word + ' is not in the dictionary.\\n')\n",
    "        out_count += 1\n",
    "\n",
    "print('\\nWord(s) in dictionary:', in_count, '\\nWord(s) not in dictionary:', out_count)"
   ]
  }
 ],
 "metadata": {
  "kernelspec": {
   "display_name": "Python 3 (ipykernel)",
   "language": "python",
   "name": "python3"
  },
  "language_info": {
   "codemirror_mode": {
    "name": "ipython",
    "version": 3
   },
   "file_extension": ".py",
   "mimetype": "text/x-python",
   "name": "python",
   "nbconvert_exporter": "python",
   "pygments_lexer": "ipython3",
   "version": "3.9.7"
  },
  "livereveal": {
   "scroll": true,
   "transition": "none"
  }
 },
 "nbformat": 4,
 "nbformat_minor": 5
}
