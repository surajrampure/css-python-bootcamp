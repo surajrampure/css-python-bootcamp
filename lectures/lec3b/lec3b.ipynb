{
 "cells": [
  {
   "cell_type": "markdown",
   "id": "cd79c492",
   "metadata": {
    "slideshow": {
     "slide_type": "slide"
    }
   },
   "source": [
    "# Lecture 3B – Dictionaries\n",
    "\n",
    "## CSS Summer Bootcamp, Week 1 🥾\n",
    "\n",
    "#### Suraj Rampure"
   ]
  },
  {
   "cell_type": "markdown",
   "id": "90fecd4f",
   "metadata": {
    "slideshow": {
     "slide_type": "slide"
    }
   },
   "source": [
    "## Dictionaries"
   ]
  },
  {
   "cell_type": "markdown",
   "id": "9b44b6e8",
   "metadata": {
    "slideshow": {
     "slide_type": "slide"
    }
   },
   "source": [
    "### Recap: lists\n",
    "\n",
    "A list is an ordered collection of values. Each element of a list has a position, called its index.\n",
    "\n",
    "<center><img src='images/dict_intro.png' width=50%></center>\n",
    "\n",
    "The only way to access an element of a list is by using its position.\n"
   ]
  },
  {
   "cell_type": "markdown",
   "id": "5cb66461",
   "metadata": {
    "slideshow": {
     "slide_type": "slide"
    }
   },
   "source": [
    "### Dictionaries (in real life)\n",
    "\n",
    "How do you use a (real) dictionary?"
   ]
  },
  {
   "cell_type": "markdown",
   "id": "95040d15",
   "metadata": {
    "slideshow": {
     "slide_type": "fragment"
    }
   },
   "source": [
    "1. Pick a word."
   ]
  },
  {
   "cell_type": "markdown",
   "id": "6139ec7c",
   "metadata": {
    "slideshow": {
     "slide_type": "fragment"
    }
   },
   "source": [
    "2. Find that word in the dictionary."
   ]
  },
  {
   "cell_type": "markdown",
   "id": "c9753b5e",
   "metadata": {
    "slideshow": {
     "slide_type": "fragment"
    }
   },
   "source": [
    "3. Read its definition."
   ]
  },
  {
   "cell_type": "markdown",
   "id": "bd5cb932",
   "metadata": {
    "slideshow": {
     "slide_type": "fragment"
    }
   },
   "source": [
    "Dictionaries store a “mapping” between words and definitions."
   ]
  },
  {
   "cell_type": "markdown",
   "id": "c5581cb4",
   "metadata": {
    "slideshow": {
     "slide_type": "slide"
    }
   },
   "source": [
    "### Dictionaries (in Python)\n",
    "\n",
    "Dictionaries in Python store key-value pairs."
   ]
  },
  {
   "cell_type": "code",
   "execution_count": null,
   "id": "ead8f5ef",
   "metadata": {},
   "outputs": [],
   "source": [
    "dog = {'name': 'Junior', 'age': 12, 4: ['kibble', 'treat']}\n",
    "dog"
   ]
  },
  {
   "cell_type": "markdown",
   "id": "9350a7ac",
   "metadata": {
    "slideshow": {
     "slide_type": "fragment"
    }
   },
   "source": [
    "- A key is what we use to look up values.\n",
    "    - Can be numbers, strings, Booleans, `None` (anything that is _immutable_).\n",
    "- A value can be anything!\n",
    "    - Numbers, strings, lists, or even other dictionaries!\n",
    "- In a list, each value has a position; in a dictionary, each value has a key.\n",
    "    - Real-life analogy: keys are words, values are definitions."
   ]
  },
  {
   "cell_type": "markdown",
   "id": "cc4d4655",
   "metadata": {
    "slideshow": {
     "slide_type": "slide"
    }
   },
   "source": [
    "### Dictionary syntax\n",
    "\n",
    "- {curly brackets} denote the start and end of a dictionary.\n",
    "- A colon is used to specify a single key-value pair.\n",
    "\n",
    "```py\n",
    "'age': 12\n",
    "```\n",
    "\n",
    "- A comma is used to separate key-value pairs."
   ]
  },
  {
   "cell_type": "code",
   "execution_count": null,
   "id": "9f8608ea",
   "metadata": {},
   "outputs": [],
   "source": [
    "dog"
   ]
  },
  {
   "cell_type": "markdown",
   "id": "539d6f9e",
   "metadata": {
    "slideshow": {
     "slide_type": "slide"
    }
   },
   "source": [
    "### Access\n",
    "\n",
    "In order to retrieve an element from a dictionary, we use its **key**.\n",
    "\n",
    "```py\n",
    "dict_name[key]\n",
    "```\n",
    "\n",
    "The `dog` dictionary only has three valid keys: `'name'`, `'age'`, and `4`. Attempting to index using anything else will cause a `KeyError`."
   ]
  },
  {
   "cell_type": "code",
   "execution_count": null,
   "id": "f1bffa04",
   "metadata": {},
   "outputs": [],
   "source": [
    "dog"
   ]
  },
  {
   "cell_type": "code",
   "execution_count": null,
   "id": "fc196d62",
   "metadata": {},
   "outputs": [],
   "source": [
    "dog['name']"
   ]
  },
  {
   "cell_type": "code",
   "execution_count": null,
   "id": "37a2f877",
   "metadata": {},
   "outputs": [],
   "source": [
    "dog['age']"
   ]
  },
  {
   "cell_type": "code",
   "execution_count": null,
   "id": "d4e0227c",
   "metadata": {},
   "outputs": [],
   "source": [
    "dog[4]"
   ]
  },
  {
   "cell_type": "code",
   "execution_count": null,
   "id": "0b568d6a",
   "metadata": {},
   "outputs": [],
   "source": [
    "# Dictionary elements don't have positions!m\n",
    "dog[0]"
   ]
  },
  {
   "cell_type": "code",
   "execution_count": null,
   "id": "cca6b046",
   "metadata": {},
   "outputs": [],
   "source": [
    "dog[4][0]"
   ]
  },
  {
   "cell_type": "markdown",
   "id": "88dca33d",
   "metadata": {
    "slideshow": {
     "slide_type": "slide"
    }
   },
   "source": [
    "<h3><span style='color:purple'>Activity</span></h3>\n",
    "\n",
    "After defining `bears`, what are the values of:\n",
    "- `bears['polar']['hungry']`\n",
    "- `bears[None][1]`\n",
    "- `bears['weight_range']`\n",
    "\n",
    "**Think about what the answer should be WITHOUT running any code.**"
   ]
  },
  {
   "cell_type": "code",
   "execution_count": null,
   "id": "19be5c39",
   "metadata": {},
   "outputs": [],
   "source": [
    "bears = {\n",
    "    'polar': {\n",
    "        'color': 'white',\n",
    "        'weight_range': [175, 700],\n",
    "        'hungry': True\n",
    "    },\n",
    "    'grizzly': {\n",
    "        'color': 'brown',\n",
    "        'weight_range': [130, 360],\n",
    "        'endangered': False\n",
    "    },\n",
    "    None: ['koala', 'panda']\n",
    "}"
   ]
  },
  {
   "cell_type": "markdown",
   "id": "a3f8c975",
   "metadata": {
    "slideshow": {
     "slide_type": "slide"
    }
   },
   "source": [
    "## Modification"
   ]
  },
  {
   "cell_type": "markdown",
   "id": "9f5f71f4",
   "metadata": {
    "slideshow": {
     "slide_type": "slide"
    }
   },
   "source": [
    "### Creating dictionaries and adding elements\n",
    "\n",
    "We create an empty dictionary similar to how we create an empty list – but with curly brackets."
   ]
  },
  {
   "cell_type": "code",
   "execution_count": null,
   "id": "e635dbac",
   "metadata": {},
   "outputs": [],
   "source": [
    "slang = {}"
   ]
  },
  {
   "cell_type": "markdown",
   "id": "3e3825e5",
   "metadata": {
    "slideshow": {
     "slide_type": "fragment"
    }
   },
   "source": [
    "To add new key-value pairs to a dictionary, we write\n",
    "\n",
    "```py\n",
    "dict_name[key] = value\n",
    "```"
   ]
  },
  {
   "cell_type": "code",
   "execution_count": null,
   "id": "86fbad6d",
   "metadata": {},
   "outputs": [],
   "source": [
    "slang['btw'] = 'by the way'\n",
    "slang"
   ]
  },
  {
   "cell_type": "code",
   "execution_count": null,
   "id": "a49bf2ed",
   "metadata": {},
   "outputs": [],
   "source": [
    "slang['nw'] = 'no worries'\n",
    "slang"
   ]
  },
  {
   "cell_type": "markdown",
   "id": "b679d525",
   "metadata": {
    "slideshow": {
     "slide_type": "slide"
    }
   },
   "source": [
    "### Keys must be unique\n",
    "\n",
    "Keys in a dictionary must be unique. If a key already exists and you assign it a new value, it replaces the existing value."
   ]
  },
  {
   "cell_type": "code",
   "execution_count": null,
   "id": "b43373a2",
   "metadata": {},
   "outputs": [],
   "source": [
    "slang"
   ]
  },
  {
   "cell_type": "code",
   "execution_count": null,
   "id": "06744531",
   "metadata": {},
   "outputs": [],
   "source": [
    "slang['btw'] = 'bring the windex'\n",
    "slang"
   ]
  },
  {
   "cell_type": "markdown",
   "id": "214c63b0",
   "metadata": {
    "slideshow": {
     "slide_type": "fragment"
    }
   },
   "source": [
    "Multiple keys can have the same value, though."
   ]
  },
  {
   "cell_type": "code",
   "execution_count": null,
   "id": "2e991816",
   "metadata": {},
   "outputs": [],
   "source": [
    "slang['nw'] = 'bring the windex'\n",
    "slang"
   ]
  },
  {
   "cell_type": "markdown",
   "id": "ec209541",
   "metadata": {
    "slideshow": {
     "slide_type": "fragment"
    }
   },
   "source": [
    "Note that we can also modify values, like so."
   ]
  },
  {
   "cell_type": "code",
   "execution_count": null,
   "id": "12a9175c",
   "metadata": {},
   "outputs": [],
   "source": [
    "slang['nw'] += ' please!'\n",
    "slang"
   ]
  },
  {
   "cell_type": "markdown",
   "id": "b2d89c99",
   "metadata": {
    "slideshow": {
     "slide_type": "slide"
    }
   },
   "source": [
    "<h3><span style='color:purple'>Activity</span></h3>\n",
    "\n",
    "After running the cell below, what are the values of:\n",
    "- `numbers['1']`\n",
    "- `numbers['five']`\n",
    "- `numbers[1]`\n",
    "- `numbers[2]`\n",
    "\n",
    "**Think about what the answer should be WITHOUT running any code.**"
   ]
  },
  {
   "cell_type": "code",
   "execution_count": null,
   "id": "a356f427",
   "metadata": {},
   "outputs": [],
   "source": [
    "two = 1\n",
    "numbers = {'1': 2}\n",
    "numbers['five'] = 5\n",
    "numbers[two] = numbers['1']\n",
    "numbers[2] = numbers[1] + numbers['five']"
   ]
  },
  {
   "cell_type": "markdown",
   "id": "1bbb58f9",
   "metadata": {
    "slideshow": {
     "slide_type": "slide"
    }
   },
   "source": [
    "<h3><span style='color:purple'>Activity</span></h3>\n",
    "\n",
    "Consider the following dictionary."
   ]
  },
  {
   "cell_type": "code",
   "execution_count": null,
   "id": "d3649afe",
   "metadata": {},
   "outputs": [],
   "source": [
    "tracks = {\n",
    "    'Drake': ['Best I Ever Had', \"Marvin's Room\", 'Controlla'],\n",
    "    'Lady Gaga': ['Just Dance', 'Paparazzi'],\n",
    "    'DaBaby': ['Rockstar', 'Suge'],\n",
    "    'Olivia Rodrigo': [\"Driver's License\"]\n",
    "}"
   ]
  },
  {
   "cell_type": "markdown",
   "id": "23692d37",
   "metadata": {},
   "source": [
    "How do we..."
   ]
  },
  {
   "cell_type": "markdown",
   "id": "7e274369",
   "metadata": {
    "slideshow": {
     "slide_type": "fragment"
    }
   },
   "source": [
    "- Get all of Lady Gaga’s songs?"
   ]
  },
  {
   "cell_type": "code",
   "execution_count": null,
   "id": "e182ffcc",
   "metadata": {},
   "outputs": [],
   "source": []
  },
  {
   "cell_type": "markdown",
   "id": "0d541504",
   "metadata": {
    "slideshow": {
     "slide_type": "fragment"
    }
   },
   "source": [
    "- Add 'One Dance' to the list of Drake’s songs?"
   ]
  },
  {
   "cell_type": "code",
   "execution_count": null,
   "id": "c59f8329",
   "metadata": {},
   "outputs": [],
   "source": []
  },
  {
   "cell_type": "markdown",
   "id": "5a9a6f51",
   "metadata": {
    "slideshow": {
     "slide_type": "fragment"
    }
   },
   "source": [
    "- Add Maroon 5 as an artist, with songs 'Wake up Call' and 'Payphone'?"
   ]
  },
  {
   "cell_type": "code",
   "execution_count": null,
   "id": "d66de7f1",
   "metadata": {},
   "outputs": [],
   "source": []
  },
  {
   "cell_type": "markdown",
   "id": "e569c3ce",
   "metadata": {
    "slideshow": {
     "slide_type": "slide"
    }
   },
   "source": [
    "## Iteration with dictionaries"
   ]
  },
  {
   "cell_type": "markdown",
   "id": "f3faccc0",
   "metadata": {
    "slideshow": {
     "slide_type": "slide"
    }
   },
   "source": [
    "### Dictionaries 🤝 lists\n",
    "\n",
    "Lists and dictionaries are both **collections**, which are types in Python that are used to store multiple values. (We'll see more of them in the next lecture.)\n",
    "\n",
    "We can easily:\n",
    "- Get the length.\n",
    "- Get the keys and values as a list.\n",
    "- Check to see if a key is present."
   ]
  },
  {
   "cell_type": "code",
   "execution_count": null,
   "id": "faa751f8",
   "metadata": {},
   "outputs": [],
   "source": [
    "more_slang = {\n",
    "    'haha': 'that was not funny',\n",
    "    'smh': 'shake my head',\n",
    "    'lol': 'laugh out loud',\n",
    "    'GOAT': 'greatest of all time'\n",
    "}"
   ]
  },
  {
   "cell_type": "code",
   "execution_count": null,
   "id": "fd4c3ef8",
   "metadata": {},
   "outputs": [],
   "source": [
    "# Number of key-value pairs\n",
    "len(more_slang)"
   ]
  },
  {
   "cell_type": "code",
   "execution_count": null,
   "id": "7ca26af0",
   "metadata": {},
   "outputs": [],
   "source": [
    "# We will do this often!\n",
    "list(more_slang.keys())"
   ]
  },
  {
   "cell_type": "code",
   "execution_count": null,
   "id": "0c0324de",
   "metadata": {},
   "outputs": [],
   "source": [
    "# We will not do this often\n",
    "list(more_slang.values())"
   ]
  },
  {
   "cell_type": "code",
   "execution_count": null,
   "id": "bada6eb9",
   "metadata": {},
   "outputs": [],
   "source": [
    "# Checks if 'smh' is a key\n",
    "'smh' in more_slang"
   ]
  },
  {
   "cell_type": "code",
   "execution_count": null,
   "id": "c1db8b35",
   "metadata": {},
   "outputs": [],
   "source": [
    "# Checks if 'shake my head' is a key\n",
    "# It is not – it is a value\n",
    "'shake my head' in more_slang"
   ]
  },
  {
   "cell_type": "markdown",
   "id": "5587c736",
   "metadata": {
    "slideshow": {
     "slide_type": "slide"
    }
   },
   "source": [
    "### Iteration"
   ]
  },
  {
   "cell_type": "markdown",
   "id": "dd892c6a",
   "metadata": {},
   "source": [
    "We will often iterate through all keys in a dictionary."
   ]
  },
  {
   "cell_type": "code",
   "execution_count": null,
   "id": "c6185653",
   "metadata": {},
   "outputs": [],
   "source": [
    "more_slang"
   ]
  },
  {
   "cell_type": "code",
   "execution_count": null,
   "id": "6147c04d",
   "metadata": {},
   "outputs": [],
   "source": [
    "# Prints all values\n",
    "for abb in more_slang.keys():\n",
    "    print(more_slang[abb])"
   ]
  },
  {
   "cell_type": "code",
   "execution_count": null,
   "id": "abf923a8",
   "metadata": {},
   "outputs": [],
   "source": [
    "# Prints all keys and values\n",
    "for abb in more_slang.keys():\n",
    "    print(abb, 'is short for', more_slang[abb])"
   ]
  },
  {
   "cell_type": "markdown",
   "id": "94765d81",
   "metadata": {
    "slideshow": {
     "slide_type": "slide"
    }
   },
   "source": [
    "### Example: replace slang\n",
    "\n",
    "Let's write a function that takes in a string, `text`, and replaces all abbreviations with their full form."
   ]
  },
  {
   "cell_type": "code",
   "execution_count": null,
   "id": "e5efb48e",
   "metadata": {},
   "outputs": [],
   "source": [
    "more_slang"
   ]
  },
  {
   "cell_type": "code",
   "execution_count": null,
   "id": "76dd3687",
   "metadata": {},
   "outputs": [],
   "source": [
    "def replace_slang(text):\n",
    "    for abb in more_slang.keys():\n",
    "        text = text.replace(abb, more_slang[abb])\n",
    "    return text"
   ]
  },
  {
   "cell_type": "code",
   "execution_count": null,
   "id": "815cfc07",
   "metadata": {},
   "outputs": [],
   "source": [
    "replace_slang('smh, I did not lol')"
   ]
  },
  {
   "cell_type": "code",
   "execution_count": null,
   "id": "4e5de108",
   "metadata": {},
   "outputs": [],
   "source": [
    "replace_slang('serena is the GOAT')"
   ]
  },
  {
   "cell_type": "markdown",
   "id": "f583207d",
   "metadata": {
    "slideshow": {
     "slide_type": "slide"
    }
   },
   "source": [
    "## Example: area codes"
   ]
  },
  {
   "cell_type": "code",
   "execution_count": null,
   "id": "6546507b",
   "metadata": {},
   "outputs": [],
   "source": [
    "# This code reads in a file containing the state corresponding to each area code\n",
    "# and stores it as a dictionary.\n",
    "\n",
    "codes_dict = {}\n",
    "f = open('data/areacodes.txt', 'r')\n",
    "s = f.read()\n",
    "\n",
    "for l in s.split('\\n')[:-1]:\n",
    "    code, state = l.split(' — ')\n",
    "    codes_dict[int(code)] = state"
   ]
  },
  {
   "cell_type": "code",
   "execution_count": null,
   "id": "7d240f11",
   "metadata": {
    "slideshow": {
     "slide_type": "slide"
    }
   },
   "outputs": [],
   "source": [
    "codes_dict"
   ]
  },
  {
   "cell_type": "markdown",
   "id": "872f5694",
   "metadata": {
    "slideshow": {
     "slide_type": "slide"
    }
   },
   "source": [
    "### Area codes\n",
    "\n",
    "`codes_dict` is a dictionary where each key is an area code and each value is the state corresponding to that code.\n",
    "\n",
    "```py\n",
    "codes_dict = {...\n",
    "208: 'Idaho',\n",
    "209: 'California',\n",
    "210: 'Texas',\n",
    "212: 'New York',\n",
    "213: 'California',\n",
    "...}\n",
    "```"
   ]
  },
  {
   "cell_type": "markdown",
   "id": "ca2ec971",
   "metadata": {},
   "source": [
    "Our goal is to create a new dictionary `states_dict` where each key is a **state** and each value is a **list of area codes in that state**. For instance:\n",
    "\n",
    "```py\n",
    "states_dict = {...\n",
    " 'Washington': [206, 253, ...],\n",
    " 'Maine': [207],\n",
    " 'Idaho': [208],\n",
    " 'California': [209, 213, ...],\n",
    " 'Texas': [210, 214, ...],\n",
    " ...}\n",
    "```"
   ]
  },
  {
   "cell_type": "markdown",
   "id": "f42fd260",
   "metadata": {
    "slideshow": {
     "slide_type": "slide"
    }
   },
   "source": [
    "Idea: For each area code (key)..."
   ]
  },
  {
   "cell_type": "markdown",
   "id": "ae338e86",
   "metadata": {
    "slideshow": {
     "slide_type": "fragment"
    }
   },
   "source": [
    "1. Get the corresponding state."
   ]
  },
  {
   "cell_type": "markdown",
   "id": "bc585b33",
   "metadata": {
    "slideshow": {
     "slide_type": "fragment"
    }
   },
   "source": [
    "2. If we've seen the state before, add the area code to that state's list."
   ]
  },
  {
   "cell_type": "markdown",
   "id": "7d5221ea",
   "metadata": {
    "slideshow": {
     "slide_type": "fragment"
    }
   },
   "source": [
    "3. If we haven't seen the state already (i.e. it is the first time we're encountering this state in our loop), make a list for this state and add this area code to it."
   ]
  },
  {
   "cell_type": "markdown",
   "id": "9424b6af",
   "metadata": {
    "slideshow": {
     "slide_type": "slide"
    }
   },
   "source": [
    "Let's try it out!"
   ]
  },
  {
   "cell_type": "code",
   "execution_count": null,
   "id": "04535858",
   "metadata": {},
   "outputs": [],
   "source": [
    "states_dict = {}\n",
    "..."
   ]
  }
 ],
 "metadata": {
  "celltoolbar": "Slideshow",
  "kernelspec": {
   "display_name": "Python 3 (ipykernel)",
   "language": "python",
   "name": "python3"
  },
  "language_info": {
   "codemirror_mode": {
    "name": "ipython",
    "version": 3
   },
   "file_extension": ".py",
   "mimetype": "text/x-python",
   "name": "python",
   "nbconvert_exporter": "python",
   "pygments_lexer": "ipython3",
   "version": "3.9.7"
  },
  "livereveal": {
   "scroll": true,
   "transition": "none"
  }
 },
 "nbformat": 4,
 "nbformat_minor": 5
}
