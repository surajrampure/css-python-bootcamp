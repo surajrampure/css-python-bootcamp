{
 "cells": [
  {
   "cell_type": "markdown",
   "id": "cd79c492",
   "metadata": {
    "slideshow": {
     "slide_type": "slide"
    }
   },
   "source": [
    "# Lecture 4, Part 2 – Collections\n",
    "\n",
    "## CSS Summer Bootcamp, Week 1 🥾\n",
    "\n",
    "#### Suraj Rampure"
   ]
  },
  {
   "cell_type": "markdown",
   "id": "6ecd8195",
   "metadata": {
    "slideshow": {
     "slide_type": "slide"
    }
   },
   "source": [
    "### Collections\n",
    "\n",
    "In Python, there are four built-in types of _collections_, or _containers_, which are types that store other types:\n",
    "- `list`.\n",
    "- `dict`.\n",
    "- `tuple`.\n",
    "- `set`.\n",
    "\n",
    "We've looked at the first two extensively; let's take a look at the other two."
   ]
  },
  {
   "cell_type": "markdown",
   "id": "c8222768",
   "metadata": {
    "slideshow": {
     "slide_type": "slide"
    }
   },
   "source": [
    "### Tuples\n",
    "\n",
    "Tuples, like lists, are used to store multiple values, and are ordered (meaning we access elements by their index). However, unlike lists, **tuples are immutable**.\n",
    "\n",
    "To create a tuple, use (parentheses) rather than [square brackets]."
   ]
  },
  {
   "cell_type": "code",
   "execution_count": null,
   "id": "ab98ffaf",
   "metadata": {},
   "outputs": [],
   "source": [
    "ucsd = ('UC San Diego', 'La Jolla, CA', 1960, 40_000)\n",
    "ucsd"
   ]
  },
  {
   "cell_type": "code",
   "execution_count": null,
   "id": "89de2584",
   "metadata": {},
   "outputs": [],
   "source": [
    "type(ucsd)"
   ]
  },
  {
   "cell_type": "code",
   "execution_count": null,
   "id": "047b5bf3",
   "metadata": {},
   "outputs": [],
   "source": [
    "ucsd[0]"
   ]
  },
  {
   "cell_type": "code",
   "execution_count": null,
   "id": "041ac893",
   "metadata": {},
   "outputs": [],
   "source": [
    "ucsd[4]"
   ]
  },
  {
   "cell_type": "code",
   "execution_count": null,
   "id": "27507424",
   "metadata": {},
   "outputs": [],
   "source": [
    "# This would work if `ucsd` were a list!\n",
    "ucsd[2] = 1998"
   ]
  },
  {
   "cell_type": "markdown",
   "id": "86c8ed49",
   "metadata": {
    "slideshow": {
     "slide_type": "slide"
    }
   },
   "source": [
    "### Why tuples?\n",
    "\n",
    "While tuples may _seem_ like \"worse\" lists, there are times where we need immutable sequences.\n",
    "\n",
    "For one: the keys in a dictionary must be immutable. As such, **tuples can be keys, but lists cannot**."
   ]
  },
  {
   "cell_type": "code",
   "execution_count": null,
   "id": "19009f1d",
   "metadata": {},
   "outputs": [],
   "source": [
    "coords = {}\n",
    "coords[(-1, 4)] = 'UC San Diego'\n",
    "coords[(2, 5)] = 'UC Irvine'\n",
    "coords"
   ]
  },
  {
   "cell_type": "code",
   "execution_count": null,
   "id": "d05ba349",
   "metadata": {},
   "outputs": [],
   "source": [
    "coords[[3, -1]] = 'UC Berkeley'"
   ]
  },
  {
   "cell_type": "markdown",
   "id": "a6ddce9e",
   "metadata": {
    "slideshow": {
     "slide_type": "slide"
    }
   },
   "source": [
    "In addition, when a function returns multiple outputs, the **type** of the output is `tuple`."
   ]
  },
  {
   "cell_type": "code",
   "execution_count": null,
   "id": "8662951b",
   "metadata": {},
   "outputs": [],
   "source": [
    "def f(x, y):\n",
    "    return x + y, y ** 2"
   ]
  },
  {
   "cell_type": "code",
   "execution_count": null,
   "id": "af881d29",
   "metadata": {},
   "outputs": [],
   "source": [
    "out = f(3, 5)\n",
    "out"
   ]
  },
  {
   "cell_type": "code",
   "execution_count": null,
   "id": "9d25db33",
   "metadata": {},
   "outputs": [],
   "source": [
    "type(out)"
   ]
  },
  {
   "cell_type": "code",
   "execution_count": null,
   "id": "7820a899",
   "metadata": {},
   "outputs": [],
   "source": [
    "out[0]"
   ]
  },
  {
   "cell_type": "markdown",
   "id": "025a025b",
   "metadata": {
    "slideshow": {
     "slide_type": "slide"
    }
   },
   "source": [
    "### Sets\n",
    "\n",
    "Sets are **unordered** collections of immutable items. As they don't have order, they **do not allow duplicates**.\n",
    "\n",
    "Create an empty set with `set()`, or initialize one with elements using {curly brackets}. Add elements with the `add` method."
   ]
  },
  {
   "cell_type": "code",
   "execution_count": null,
   "id": "96583b42",
   "metadata": {},
   "outputs": [],
   "source": [
    "bag = {'fries', 'coke'}"
   ]
  },
  {
   "cell_type": "code",
   "execution_count": null,
   "id": "4e775dd6",
   "metadata": {},
   "outputs": [],
   "source": [
    "bag.add('big mac')"
   ]
  },
  {
   "cell_type": "code",
   "execution_count": null,
   "id": "9455fa7f",
   "metadata": {},
   "outputs": [],
   "source": [
    "bag.add(('mcchicken', 'apple pie'))"
   ]
  },
  {
   "cell_type": "code",
   "execution_count": null,
   "id": "1f6c5eba",
   "metadata": {},
   "outputs": [],
   "source": [
    "bag.add(None)"
   ]
  },
  {
   "cell_type": "code",
   "execution_count": null,
   "id": "f0c91d15",
   "metadata": {},
   "outputs": [],
   "source": [
    "# Note that the order they appear in is not the order we added them in!\n",
    "bag"
   ]
  },
  {
   "cell_type": "code",
   "execution_count": null,
   "id": "397a2175",
   "metadata": {},
   "outputs": [],
   "source": [
    "bag.add('big mac')"
   ]
  },
  {
   "cell_type": "code",
   "execution_count": null,
   "id": "6e98b2b7",
   "metadata": {},
   "outputs": [],
   "source": [
    "# There aren't two 'big mac's now – sets don't have duplicates\n",
    "bag"
   ]
  },
  {
   "cell_type": "code",
   "execution_count": null,
   "id": "164e2d32",
   "metadata": {},
   "outputs": [],
   "source": [
    "bag.remove('big mac')"
   ]
  },
  {
   "cell_type": "code",
   "execution_count": null,
   "id": "14dcf351",
   "metadata": {},
   "outputs": [],
   "source": [
    "bag"
   ]
  },
  {
   "cell_type": "code",
   "execution_count": null,
   "id": "09e6040b",
   "metadata": {},
   "outputs": [],
   "source": [
    "# Can't put a list in a set, because lists are mutable\n",
    "bag.add(['mcchicken', 'apple pie'])"
   ]
  },
  {
   "cell_type": "markdown",
   "id": "f42e379a",
   "metadata": {
    "slideshow": {
     "slide_type": "slide"
    }
   },
   "source": [
    "**Question:** Can we add a set inside of another set?"
   ]
  },
  {
   "cell_type": "markdown",
   "id": "34ab56bd",
   "metadata": {
    "slideshow": {
     "slide_type": "slide"
    }
   },
   "source": [
    "### Order really doesn't matter!"
   ]
  },
  {
   "cell_type": "code",
   "execution_count": null,
   "id": "7b8bc3be",
   "metadata": {},
   "outputs": [],
   "source": [
    "{3, 4} == {4, 3}"
   ]
  },
  {
   "cell_type": "code",
   "execution_count": null,
   "id": "e1685f56",
   "metadata": {},
   "outputs": [],
   "source": [
    "[3, 4] == [4, 3]"
   ]
  },
  {
   "cell_type": "markdown",
   "id": "07d5f483",
   "metadata": {
    "slideshow": {
     "slide_type": "slide"
    }
   },
   "source": [
    "### Why sets?\n",
    "\n",
    "Since sets don't have order, we cannot access elements by their position."
   ]
  },
  {
   "cell_type": "code",
   "execution_count": null,
   "id": "aa54f2b0",
   "metadata": {},
   "outputs": [],
   "source": [
    "bag"
   ]
  },
  {
   "cell_type": "code",
   "execution_count": null,
   "id": "28004930",
   "metadata": {},
   "outputs": [],
   "source": [
    "bag[0]"
   ]
  },
  {
   "cell_type": "markdown",
   "id": "0380973c",
   "metadata": {
    "slideshow": {
     "slide_type": "-"
    }
   },
   "source": [
    "The primary use case of sets is to **check for membership** – i.e. to keep track of whether items are in it or not. For this use case, sets are **much faster** than lists. Let's see this in action."
   ]
  },
  {
   "cell_type": "markdown",
   "id": "e1cb6eab",
   "metadata": {
    "slideshow": {
     "slide_type": "slide"
    }
   },
   "source": [
    "### Example: dictionary (of words) 📖"
   ]
  },
  {
   "cell_type": "code",
   "execution_count": null,
   "id": "34513e21",
   "metadata": {},
   "outputs": [],
   "source": [
    "f = open('data/words.txt', 'r')\n",
    "words_list = f.read().split('\\n')\n",
    "words_set = set(words_list)"
   ]
  },
  {
   "cell_type": "markdown",
   "id": "8bbaac41",
   "metadata": {},
   "source": [
    "Both `words_list` and `words_set` contain the same words. However, it's **much** quicker to check if a given word (like `'dog'`) is in `words_set` than if it's in `words_list`."
   ]
  },
  {
   "cell_type": "code",
   "execution_count": null,
   "id": "d17b5219",
   "metadata": {},
   "outputs": [],
   "source": [
    "%%timeit\n",
    "'dog' in words_list"
   ]
  },
  {
   "cell_type": "code",
   "execution_count": null,
   "id": "848620d4",
   "metadata": {},
   "outputs": [],
   "source": [
    "%%timeit\n",
    "'dog' in words_set"
   ]
  },
  {
   "cell_type": "markdown",
   "id": "14d07687",
   "metadata": {
    "slideshow": {
     "slide_type": "fragment"
    }
   },
   "source": [
    "µs refers to \"microseconds\" (one millionth of a second), while ns refers to \"nanoseconds\" (one billionth of a second). The set approach is ~10,000x faster!"
   ]
  },
  {
   "cell_type": "markdown",
   "id": "1d74733c",
   "metadata": {
    "slideshow": {
     "slide_type": "slide"
    }
   },
   "source": [
    "### Sequences vs. iterables\n",
    "\n",
    "Earlier, we provided the following \"pattern\" for `for`-loops:\n",
    "\n",
    "```py\n",
    "for <elem> in <sequence>:\n",
    "    <for body>\n",
    "```"
   ]
  },
  {
   "cell_type": "markdown",
   "id": "7ec2b126",
   "metadata": {
    "slideshow": {
     "slide_type": "fragment"
    }
   },
   "source": [
    "However, **sequences must be ordered**. Sets, as such, are not sequences. You can still iterate over them, though!"
   ]
  },
  {
   "cell_type": "code",
   "execution_count": null,
   "id": "4c2e7d22",
   "metadata": {},
   "outputs": [],
   "source": [
    "bag"
   ]
  },
  {
   "cell_type": "code",
   "execution_count": null,
   "id": "648c65ee",
   "metadata": {},
   "outputs": [],
   "source": [
    "for item in bag:\n",
    "    print('in my bag, I have', item)"
   ]
  },
  {
   "cell_type": "markdown",
   "id": "0df06fac",
   "metadata": {
    "slideshow": {
     "slide_type": "fragment"
    }
   },
   "source": [
    "In Python, an **iterable** is any object that can produce its elements one at a time. Lists, dictionaries, sets, tuples, and strings are all iterables."
   ]
  },
  {
   "cell_type": "markdown",
   "id": "7cf6e8aa",
   "metadata": {
    "slideshow": {
     "slide_type": "slide"
    }
   },
   "source": [
    "### Set operations\n",
    "\n",
    "In mathematics, sets have several operations. Python sets support these as well."
   ]
  },
  {
   "cell_type": "code",
   "execution_count": null,
   "id": "8dcded3f",
   "metadata": {},
   "outputs": [],
   "source": [
    "A = {2, 3, 8, 9}\n",
    "B = {2, 4, 5, 9, 10}"
   ]
  },
  {
   "cell_type": "markdown",
   "id": "0b19d052",
   "metadata": {
    "slideshow": {
     "slide_type": "fragment"
    }
   },
   "source": [
    "The intersection of two sets contains all elements that are in both sets."
   ]
  },
  {
   "cell_type": "code",
   "execution_count": null,
   "id": "a0ce171a",
   "metadata": {},
   "outputs": [],
   "source": [
    "A.intersection(B)"
   ]
  },
  {
   "cell_type": "code",
   "execution_count": null,
   "id": "3f2bf816",
   "metadata": {
    "slideshow": {
     "slide_type": "-"
    }
   },
   "outputs": [],
   "source": [
    "# Symmetric\n",
    "B.intersection(A)"
   ]
  },
  {
   "cell_type": "markdown",
   "id": "804e06ce",
   "metadata": {
    "slideshow": {
     "slide_type": "fragment"
    }
   },
   "source": [
    "The union of two sets contains all elements that are in either set."
   ]
  },
  {
   "cell_type": "code",
   "execution_count": null,
   "id": "51306aeb",
   "metadata": {},
   "outputs": [],
   "source": [
    "A.union(B)"
   ]
  },
  {
   "cell_type": "code",
   "execution_count": null,
   "id": "7781725f",
   "metadata": {},
   "outputs": [],
   "source": [
    "# Symmetric\n",
    "B.union(A)"
   ]
  },
  {
   "cell_type": "markdown",
   "id": "740f5f33",
   "metadata": {
    "slideshow": {
     "slide_type": "slide"
    }
   },
   "source": [
    "The **difference** of two sets contains all elements in one set that are not in the other."
   ]
  },
  {
   "cell_type": "code",
   "execution_count": null,
   "id": "3209a140",
   "metadata": {},
   "outputs": [],
   "source": [
    "A"
   ]
  },
  {
   "cell_type": "code",
   "execution_count": null,
   "id": "5f4e580b",
   "metadata": {},
   "outputs": [],
   "source": [
    "B"
   ]
  },
  {
   "cell_type": "code",
   "execution_count": null,
   "id": "e749864d",
   "metadata": {},
   "outputs": [],
   "source": [
    "A.difference(B)"
   ]
  },
  {
   "cell_type": "code",
   "execution_count": null,
   "id": "e9967117",
   "metadata": {},
   "outputs": [],
   "source": [
    "# Not symmetric!\n",
    "B.difference(A)"
   ]
  },
  {
   "cell_type": "markdown",
   "id": "59629747",
   "metadata": {
    "slideshow": {
     "slide_type": "slide"
    }
   },
   "source": [
    "<h3><span style='color:purple'>Activity</span></h3>\n",
    "\n",
    "Complete the implementation of the function `either_not_both`, which takes in two sets and returns a new set containing all of the elements in either set, **without the elements that are in both sets**."
   ]
  },
  {
   "cell_type": "code",
   "execution_count": null,
   "id": "7326e320",
   "metadata": {},
   "outputs": [],
   "source": [
    "def either_not_both(A, B):\n",
    "    ..."
   ]
  },
  {
   "cell_type": "code",
   "execution_count": null,
   "id": "b58c6de2",
   "metadata": {},
   "outputs": [],
   "source": []
  },
  {
   "cell_type": "markdown",
   "id": "05f6a0ee",
   "metadata": {
    "slideshow": {
     "slide_type": "slide"
    }
   },
   "source": [
    "## List comprehension"
   ]
  },
  {
   "cell_type": "markdown",
   "id": "216e02dc",
   "metadata": {
    "slideshow": {
     "slide_type": "slide"
    }
   },
   "source": [
    "### List comprehension\n",
    "\n",
    "Back to lists for a minute. Consider the following list."
   ]
  },
  {
   "cell_type": "code",
   "execution_count": null,
   "id": "e3a06fa4",
   "metadata": {},
   "outputs": [],
   "source": [
    "ages = [23, 35, 18, 19, 5, 42, 49, 13]"
   ]
  },
  {
   "cell_type": "markdown",
   "id": "9965f3e9",
   "metadata": {},
   "source": [
    "Suppose we want to create a new list containing the elements in `age` all increased by 5. Using what we know now, we'd use a `for`-loop:"
   ]
  },
  {
   "cell_type": "code",
   "execution_count": null,
   "id": "241eaf5a",
   "metadata": {},
   "outputs": [],
   "source": [
    "new_ages = []\n",
    "for age in ages:\n",
    "    new_ages.append(age + 5)\n",
    "new_ages"
   ]
  },
  {
   "cell_type": "markdown",
   "id": "bb3f1403",
   "metadata": {
    "slideshow": {
     "slide_type": "fragment"
    }
   },
   "source": [
    "Is there a more convenient way of creating the same list?"
   ]
  },
  {
   "cell_type": "markdown",
   "id": "e1106944",
   "metadata": {
    "slideshow": {
     "slide_type": "slide"
    }
   },
   "source": [
    "### List comprehension\n",
    "\n",
    "List comprehension is a technique that allows us to **create a list in a single line, using another iterable (list, set, tuple, dict, string).**\n",
    "\n",
    "The general pattern is as follows:\n",
    "\n",
    "```py\n",
    "[<expression> for <item> in <iterable>]\n",
    "```\n",
    "\n",
    "Let's try it out."
   ]
  },
  {
   "cell_type": "code",
   "execution_count": null,
   "id": "360a042e",
   "metadata": {
    "scrolled": true
   },
   "outputs": [],
   "source": [
    "ages"
   ]
  },
  {
   "cell_type": "code",
   "execution_count": null,
   "id": "7da66438",
   "metadata": {},
   "outputs": [],
   "source": [
    "[age + 5 for age in ages]"
   ]
  },
  {
   "cell_type": "code",
   "execution_count": null,
   "id": "aaddaa16",
   "metadata": {},
   "outputs": [],
   "source": [
    "[max(t[0], t[1]) for t in {(1, 2), (3, -1), (9, 2), (3, 8)}]"
   ]
  },
  {
   "cell_type": "markdown",
   "id": "720b303d",
   "metadata": {
    "slideshow": {
     "slide_type": "slide"
    }
   },
   "source": [
    "### List comprehension with conditions\n",
    "\n",
    "List comprehensions can also follow this pattern:\n",
    "\n",
    "```py\n",
    "[<expression> for <item> in <iterable> if <expr>]\n",
    "```"
   ]
  },
  {
   "cell_type": "code",
   "execution_count": null,
   "id": "8b9ffd9e",
   "metadata": {},
   "outputs": [],
   "source": [
    "ages"
   ]
  },
  {
   "cell_type": "code",
   "execution_count": null,
   "id": "5045b133",
   "metadata": {},
   "outputs": [],
   "source": [
    "[age for age in ages if age % 2 == 0]"
   ]
  },
  {
   "cell_type": "code",
   "execution_count": null,
   "id": "dd39d046",
   "metadata": {},
   "outputs": [],
   "source": [
    "[x ** 2 for x in range(1, 11) if x % 2 == 1]"
   ]
  },
  {
   "cell_type": "markdown",
   "id": "e9aeddfb",
   "metadata": {
    "slideshow": {
     "slide_type": "fragment"
    }
   },
   "source": [
    "List comprehensions can get even more sophisticated!"
   ]
  },
  {
   "cell_type": "code",
   "execution_count": null,
   "id": "6275ec5b",
   "metadata": {},
   "outputs": [],
   "source": [
    "[i * 2 if i % 2 == 1 else -i for i in range(1, 11)]"
   ]
  },
  {
   "cell_type": "markdown",
   "id": "ced9aeed",
   "metadata": {
    "slideshow": {
     "slide_type": "slide"
    }
   },
   "source": [
    "<h3><span style='color:purple'>Activity</span></h3>\n",
    "\n",
    "Write a list comprehension that generates the following list.\n",
    "\n",
    "```py\n",
    "[3, 6, '999', 12, 15, '181818', 21, 24, '272727', ..., 93, 96, '999999']\n",
    "```"
   ]
  },
  {
   "cell_type": "code",
   "execution_count": null,
   "id": "7204581d",
   "metadata": {},
   "outputs": [],
   "source": []
  },
  {
   "cell_type": "markdown",
   "id": "6f9a7167",
   "metadata": {
    "slideshow": {
     "slide_type": "slide"
    }
   },
   "source": [
    "## Mutability and immutability"
   ]
  },
  {
   "cell_type": "markdown",
   "id": "603465cf",
   "metadata": {
    "slideshow": {
     "slide_type": "slide"
    }
   },
   "source": [
    "### Motivation: making copies\n",
    "\n",
    "Consider the following dictionary."
   ]
  },
  {
   "cell_type": "code",
   "execution_count": null,
   "id": "3970825e",
   "metadata": {},
   "outputs": [],
   "source": [
    "tracks = {\n",
    "    'Drake': ['Best I Ever Had', \"Marvin's Room\", 'Controlla'],\n",
    "    'Lady Gaga': ['Just Dance', 'Paparazzi'],\n",
    "    'DaBaby': ['Rockstar', 'Suge'],\n",
    "    'Olivia Rodrigo': [\"Driver's License\"]\n",
    "}"
   ]
  },
  {
   "cell_type": "markdown",
   "id": "eee66202",
   "metadata": {
    "slideshow": {
     "slide_type": "fragment"
    }
   },
   "source": [
    "What if we'd like to create a **copy** of `tracks`, and keep `tracks` unchanged?"
   ]
  },
  {
   "cell_type": "markdown",
   "id": "9ac5410a",
   "metadata": {
    "slideshow": {
     "slide_type": "slide"
    }
   },
   "source": [
    "### A naive approach\n",
    "\n",
    "To create a copy of `tracks`, we might create a new variable, `tracks_copy`, and assign it to `tracks`."
   ]
  },
  {
   "cell_type": "code",
   "execution_count": null,
   "id": "7f2e9239",
   "metadata": {},
   "outputs": [],
   "source": [
    "tracks"
   ]
  },
  {
   "cell_type": "code",
   "execution_count": null,
   "id": "8eb3403e",
   "metadata": {},
   "outputs": [],
   "source": [
    "tracks_copy = tracks"
   ]
  },
  {
   "cell_type": "code",
   "execution_count": null,
   "id": "d80bdd67",
   "metadata": {},
   "outputs": [],
   "source": [
    "tracks_copy"
   ]
  },
  {
   "cell_type": "markdown",
   "id": "2ed3b6a3",
   "metadata": {
    "slideshow": {
     "slide_type": "fragment"
    }
   },
   "source": [
    "Now, we _should_ be able to make changes to `tracks_copy` without changing `tracks`... right?"
   ]
  },
  {
   "cell_type": "code",
   "execution_count": null,
   "id": "8eaf0a48",
   "metadata": {},
   "outputs": [],
   "source": [
    "tracks_copy['The Weeknd'] = ['The Hills']"
   ]
  },
  {
   "cell_type": "code",
   "execution_count": null,
   "id": "898ccbda",
   "metadata": {},
   "outputs": [],
   "source": [
    "tracks_copy"
   ]
  },
  {
   "cell_type": "markdown",
   "id": "021d5359",
   "metadata": {
    "slideshow": {
     "slide_type": "fragment"
    }
   },
   "source": [
    "But wait..."
   ]
  },
  {
   "cell_type": "code",
   "execution_count": null,
   "id": "3378391b",
   "metadata": {},
   "outputs": [],
   "source": [
    "tracks"
   ]
  },
  {
   "cell_type": "markdown",
   "id": "aafe19e6",
   "metadata": {},
   "source": [
    "`tracks` was changed too! 😱"
   ]
  },
  {
   "cell_type": "markdown",
   "id": "f49cad30",
   "metadata": {
    "slideshow": {
     "slide_type": "slide"
    }
   },
   "source": [
    "### Mutability\n",
    "\n",
    "Below, `food` and `drink` are two names for the same dictionary. We can make changes to the dictionary using either `food` or `drink`. **This is because dictionaries are mutable!**"
   ]
  },
  {
   "cell_type": "code",
   "execution_count": null,
   "id": "58f23421",
   "metadata": {},
   "outputs": [],
   "source": [
    "food = {\n",
    "    'Taco Stand': 'Carne Asada Fries',\n",
    "    'CAVA': 'Chicken Bowl',\n",
    "    'Padadak': 'Soy Garlic Wings'\n",
    "}\n",
    "\n",
    "drink = food"
   ]
  },
  {
   "cell_type": "code",
   "execution_count": null,
   "id": "7e04e655",
   "metadata": {},
   "outputs": [],
   "source": [
    "food['Taco Stand'] = 'California Burrito'"
   ]
  },
  {
   "cell_type": "code",
   "execution_count": null,
   "id": "1ab87373",
   "metadata": {},
   "outputs": [],
   "source": [
    "drink['McDonalds'] = 'Diet Coke'"
   ]
  },
  {
   "cell_type": "code",
   "execution_count": null,
   "id": "e8ce655b",
   "metadata": {},
   "outputs": [],
   "source": [
    "food"
   ]
  },
  {
   "cell_type": "code",
   "execution_count": null,
   "id": "882f9e8d",
   "metadata": {},
   "outputs": [],
   "source": [
    "drink"
   ]
  },
  {
   "cell_type": "markdown",
   "id": "065e25b6",
   "metadata": {
    "slideshow": {
     "slide_type": "fragment"
    }
   },
   "source": [
    "Only one dictionary was created above, not two.\n",
    "\n",
    "Below, we ask Python for the \"addresses\" of `food` and `drink` in memory."
   ]
  },
  {
   "cell_type": "code",
   "execution_count": null,
   "id": "524cffa4",
   "metadata": {},
   "outputs": [],
   "source": [
    "id(food)"
   ]
  },
  {
   "cell_type": "code",
   "execution_count": null,
   "id": "0e700b97",
   "metadata": {},
   "outputs": [],
   "source": [
    "id(drink)"
   ]
  },
  {
   "cell_type": "markdown",
   "id": "a28bea7a",
   "metadata": {},
   "source": [
    "We get the same address both times, meaning that `food` and `drink` are really just different labels for the same dictionary."
   ]
  },
  {
   "cell_type": "markdown",
   "id": "b2971b53",
   "metadata": {
    "slideshow": {
     "slide_type": "slide"
    }
   },
   "source": [
    "<h3><span style='color:purple'>Activity</span></h3>\n",
    "\n",
    "What values does `dog` contain after running the following lines of code?\n",
    "\n",
    "```py\n",
    "cat = [2, 3]\n",
    "dog = cat\n",
    "cat[0] = [5]\n",
    "```\n",
    "\n",
    "**Try and answer WITHOUT running any code.**"
   ]
  },
  {
   "cell_type": "code",
   "execution_count": null,
   "id": "cae75369",
   "metadata": {},
   "outputs": [],
   "source": []
  },
  {
   "cell_type": "code",
   "execution_count": null,
   "id": "fd4d0f0c",
   "metadata": {},
   "outputs": [],
   "source": []
  },
  {
   "cell_type": "markdown",
   "id": "853f9547",
   "metadata": {
    "slideshow": {
     "slide_type": "slide"
    }
   },
   "source": [
    "<h3><span style='color:purple'>Activity (followup)</span></h3>\n",
    "\n",
    "What values does `dog` contain after running the following lines of code?\n",
    "\n",
    "```py\n",
    "cat = [2, 3]\n",
    "dog = cat\n",
    "cat = [5, 6]\n",
    "```\n",
    "\n",
    "**Try and answer WITHOUT running any code.**"
   ]
  },
  {
   "cell_type": "code",
   "execution_count": null,
   "id": "123c24e2",
   "metadata": {},
   "outputs": [],
   "source": []
  },
  {
   "cell_type": "code",
   "execution_count": null,
   "id": "7b127a54",
   "metadata": {},
   "outputs": [],
   "source": []
  },
  {
   "cell_type": "markdown",
   "id": "4e11e50f",
   "metadata": {
    "slideshow": {
     "slide_type": "slide"
    }
   },
   "source": [
    "### Mutability and function arguments\n",
    "\n",
    "When a mutable input is passed into a function, the function has the ability to change the input's values **in the notebook, outside of the function's scope!**"
   ]
  },
  {
   "cell_type": "markdown",
   "id": "c3ef1bcd",
   "metadata": {
    "slideshow": {
     "slide_type": "fragment"
    }
   },
   "source": [
    "In the example below, what happens to `nums` after `appender(nums)` is called?"
   ]
  },
  {
   "cell_type": "code",
   "execution_count": null,
   "id": "67793dd6",
   "metadata": {},
   "outputs": [],
   "source": [
    "nums = [8, 4, 5]"
   ]
  },
  {
   "cell_type": "code",
   "execution_count": null,
   "id": "0dbd76e8",
   "metadata": {},
   "outputs": [],
   "source": [
    "def appender(values):\n",
    "    values.append(99)"
   ]
  },
  {
   "cell_type": "code",
   "execution_count": null,
   "id": "29f7ad9e",
   "metadata": {},
   "outputs": [],
   "source": [
    "appender(nums)"
   ]
  },
  {
   "cell_type": "code",
   "execution_count": null,
   "id": "48810ea1",
   "metadata": {},
   "outputs": [],
   "source": [
    "nums"
   ]
  },
  {
   "cell_type": "markdown",
   "id": "54756bdd",
   "metadata": {
    "slideshow": {
     "slide_type": "fragment"
    }
   },
   "source": [
    "Contrast the above behavior with the behavior of `adder`, specifically when `adder(x)` is called."
   ]
  },
  {
   "cell_type": "code",
   "execution_count": null,
   "id": "dcccc522",
   "metadata": {},
   "outputs": [],
   "source": [
    "x = 5"
   ]
  },
  {
   "cell_type": "code",
   "execution_count": null,
   "id": "211d8580",
   "metadata": {},
   "outputs": [],
   "source": [
    "def adder(n):\n",
    "    n = n + 1000\n",
    "    return n"
   ]
  },
  {
   "cell_type": "code",
   "execution_count": null,
   "id": "4b2abc15",
   "metadata": {},
   "outputs": [],
   "source": [
    "adder(x)"
   ]
  },
  {
   "cell_type": "code",
   "execution_count": null,
   "id": "63c26628",
   "metadata": {},
   "outputs": [],
   "source": [
    "x"
   ]
  },
  {
   "cell_type": "markdown",
   "id": "c9e823d2",
   "metadata": {
    "slideshow": {
     "slide_type": "slide"
    }
   },
   "source": [
    "### Terminology summary\n",
    "\n",
    "The table below summarizes the collections we've seen so far (plus strings, which are not quite \"collections\" but are similar) and their properties.\n",
    "\n",
    "| Type | Iterable? | Sequence? | Mutable? |\n",
    "| --- | --- | --- | --- |\n",
    "| `str` | Yes | Yes | No |\n",
    "| `list` | Yes | Yes | Yes |\n",
    "| `dict` | Yes | No | Yes |\n",
    "| `tuple` | Yes | Yes | No |\n",
    "| `set` | Yes | No | Yes |"
   ]
  }
 ],
 "metadata": {
  "celltoolbar": "Slideshow",
  "kernelspec": {
   "display_name": "Python 3 (ipykernel)",
   "language": "python",
   "name": "python3"
  },
  "language_info": {
   "codemirror_mode": {
    "name": "ipython",
    "version": 3
   },
   "file_extension": ".py",
   "mimetype": "text/x-python",
   "name": "python",
   "nbconvert_exporter": "python",
   "pygments_lexer": "ipython3",
   "version": "3.9.7"
  },
  "livereveal": {
   "scroll": true,
   "transition": "none"
  }
 },
 "nbformat": 4,
 "nbformat_minor": 5
}
