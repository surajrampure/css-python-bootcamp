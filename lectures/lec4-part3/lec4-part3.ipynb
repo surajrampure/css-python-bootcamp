{
 "cells": [
  {
   "cell_type": "markdown",
   "id": "cd79c492",
   "metadata": {
    "slideshow": {
     "slide_type": "slide"
    }
   },
   "source": [
    "# Lecture 4, Part 3 – NumPy\n",
    "\n",
    "## CSS Summer Bootcamp, Week 1 🥾\n",
    "\n",
    "#### Suraj Rampure"
   ]
  },
  {
   "cell_type": "markdown",
   "id": "6edff18a",
   "metadata": {
    "slideshow": {
     "slide_type": "slide"
    }
   },
   "source": [
    "## Review: lists"
   ]
  },
  {
   "cell_type": "markdown",
   "id": "7638a379",
   "metadata": {
    "slideshow": {
     "slide_type": "slide"
    }
   },
   "source": [
    "### Some questions..."
   ]
  },
  {
   "cell_type": "markdown",
   "id": "9cec9500",
   "metadata": {
    "slideshow": {
     "slide_type": "fragment"
    }
   },
   "source": [
    "**Question:** Can a list have values of different types?"
   ]
  },
  {
   "cell_type": "markdown",
   "id": "ffbb6e8b",
   "metadata": {
    "slideshow": {
     "slide_type": "fragment"
    }
   },
   "source": [
    "**Answer:** Sure!"
   ]
  },
  {
   "cell_type": "code",
   "execution_count": null,
   "id": "7204581d",
   "metadata": {},
   "outputs": [],
   "source": [
    "['ucsd', 23, 1998]"
   ]
  },
  {
   "cell_type": "markdown",
   "id": "b452b057",
   "metadata": {
    "slideshow": {
     "slide_type": "fragment"
    }
   },
   "source": [
    "**Question:** What happens if I use the `+` symbol between two lists?"
   ]
  },
  {
   "cell_type": "markdown",
   "id": "2417b3f3",
   "metadata": {
    "slideshow": {
     "slide_type": "fragment"
    }
   },
   "source": [
    "**Answer:** The lists are concatenated."
   ]
  },
  {
   "cell_type": "code",
   "execution_count": null,
   "id": "cac426b1",
   "metadata": {},
   "outputs": [],
   "source": [
    "[3, 4, 5] + [6, 7, 8]"
   ]
  },
  {
   "cell_type": "markdown",
   "id": "5dfcbedc",
   "metadata": {
    "slideshow": {
     "slide_type": "fragment"
    }
   },
   "source": [
    "**Question:** How do I apply some function or operation (e.g. add 5) to every element of a list?"
   ]
  },
  {
   "cell_type": "markdown",
   "id": "49b095f2",
   "metadata": {
    "slideshow": {
     "slide_type": "fragment"
    }
   },
   "source": [
    "**Answer:** Use a `for`-loop and add values one-by-one."
   ]
  },
  {
   "cell_type": "code",
   "execution_count": null,
   "id": "b91e2d84",
   "metadata": {},
   "outputs": [],
   "source": [
    "numbers = [5, 4, 9, 12, 18]\n",
    "new_numbers = []\n",
    "for num in numbers:\n",
    "    new_numbers.append(num + 5)\n",
    "    \n",
    "new_numbers"
   ]
  },
  {
   "cell_type": "markdown",
   "id": "82297586",
   "metadata": {
    "slideshow": {
     "slide_type": "slide"
    }
   },
   "source": [
    "## NumPy"
   ]
  },
  {
   "cell_type": "markdown",
   "id": "4eae3255",
   "metadata": {
    "slideshow": {
     "slide_type": "slide"
    }
   },
   "source": [
    "### NumPy\n",
    "\n",
    "<center><img src='images/numpy.png' width=20%></center>\n",
    "\n",
    "- NumPy (pronounced \"num pie\") is a Python library (module) that provides support for **arrays** and operations on them.\n",
    "- The pandas library, which you will learn about next week, goes hand-in-hand with NumPy.\n",
    "    - NumPy is used heavily in the real world."
   ]
  },
  {
   "cell_type": "code",
   "execution_count": null,
   "id": "d26db56e",
   "metadata": {},
   "outputs": [],
   "source": [
    "import numpy as np"
   ]
  },
  {
   "cell_type": "markdown",
   "id": "4da9dedf",
   "metadata": {
    "slideshow": {
     "slide_type": "slide"
    }
   },
   "source": [
    "### Arrays\n",
    "\n",
    "Think of NumPy arrays (just \"arrays\" from now on) as fancy lists.\n",
    "\n",
    "<center><img src='images/squid.png' width=30%></center>"
   ]
  },
  {
   "cell_type": "markdown",
   "id": "7cd6c9da",
   "metadata": {
    "slideshow": {
     "slide_type": "fragment"
    }
   },
   "source": [
    "To create a new NumPy array from scratch, we first create a list containing the elements we want, and then pass it into the `np.array` function."
   ]
  },
  {
   "cell_type": "code",
   "execution_count": null,
   "id": "2a633fa6",
   "metadata": {},
   "outputs": [],
   "source": [
    "np.array([4, 9, 1, 2])"
   ]
  },
  {
   "cell_type": "code",
   "execution_count": null,
   "id": "20d76a5c",
   "metadata": {},
   "outputs": [],
   "source": [
    "np.array(['how', 'are', 'you'])"
   ]
  },
  {
   "cell_type": "code",
   "execution_count": null,
   "id": "1bda9a13",
   "metadata": {},
   "outputs": [],
   "source": [
    "np.array([])"
   ]
  },
  {
   "cell_type": "markdown",
   "id": "97b68e44",
   "metadata": {
    "slideshow": {
     "slide_type": "slide"
    }
   },
   "source": [
    "<center><img src='images/np-array.png' width=70%></center>"
   ]
  },
  {
   "cell_type": "code",
   "execution_count": null,
   "id": "96400a16",
   "metadata": {
    "slideshow": {
     "slide_type": "slide"
    }
   },
   "outputs": [],
   "source": [
    "numbers = [5, 4, 9, 12, 18]\n",
    "numbers"
   ]
  },
  {
   "cell_type": "code",
   "execution_count": null,
   "id": "4f041844",
   "metadata": {},
   "outputs": [],
   "source": [
    "type(numbers)"
   ]
  },
  {
   "cell_type": "code",
   "execution_count": null,
   "id": "807a6ad5",
   "metadata": {},
   "outputs": [],
   "source": [
    "numbers_arr = np.array(numbers)\n",
    "numbers_arr"
   ]
  },
  {
   "cell_type": "code",
   "execution_count": null,
   "id": "f56bc967",
   "metadata": {},
   "outputs": [],
   "source": [
    "type(numbers_arr)"
   ]
  },
  {
   "cell_type": "markdown",
   "id": "58dbcd92",
   "metadata": {
    "slideshow": {
     "slide_type": "slide"
    }
   },
   "source": [
    "## Operations on every element"
   ]
  },
  {
   "cell_type": "markdown",
   "id": "c874e285",
   "metadata": {
    "slideshow": {
     "slide_type": "slide"
    }
   },
   "source": [
    "### Operations on every element\n",
    "\n",
    "Arrays make it easy to apply an operation to every element, **without needing a `for`-loop**. This behavior is formally known as \"broadcasting\"."
   ]
  },
  {
   "cell_type": "code",
   "execution_count": null,
   "id": "f1206cbc",
   "metadata": {},
   "outputs": [],
   "source": [
    "numbers_arr"
   ]
  },
  {
   "cell_type": "code",
   "execution_count": null,
   "id": "0a93a3ba",
   "metadata": {},
   "outputs": [],
   "source": [
    "numbers_arr * 2"
   ]
  },
  {
   "cell_type": "code",
   "execution_count": null,
   "id": "2ec53a76",
   "metadata": {},
   "outputs": [],
   "source": [
    "numbers_arr - 5"
   ]
  },
  {
   "cell_type": "code",
   "execution_count": null,
   "id": "ecaad554",
   "metadata": {},
   "outputs": [],
   "source": [
    "numbers_arr // 2"
   ]
  },
  {
   "cell_type": "code",
   "execution_count": null,
   "id": "9124b6ba",
   "metadata": {},
   "outputs": [],
   "source": [
    "numbers_arr ** 2 - 1"
   ]
  },
  {
   "cell_type": "code",
   "execution_count": null,
   "id": "9e7b2aa6",
   "metadata": {},
   "outputs": [],
   "source": [
    "numbers_arr > 4"
   ]
  },
  {
   "cell_type": "markdown",
   "id": "e9db182a",
   "metadata": {
    "slideshow": {
     "slide_type": "fragment"
    }
   },
   "source": [
    "When we write an arithmetic expression involving an array and a single number, the result is a new array, containing the result of that arithmetic expression for each element of the array.\n",
    "\n",
    "\n",
    "Not only is this faster for us – we don't have to write out an entire `for`-loop – but it's also faster for the computer. [Read more here](https://towardsdatascience.com/how-fast-numpy-really-is-e9111df44347) (and you'll see more in the lab)."
   ]
  },
  {
   "cell_type": "markdown",
   "id": "9ea45274",
   "metadata": {
    "slideshow": {
     "slide_type": "slide"
    }
   },
   "source": [
    "### More examples: `np.log`, `np.sqrt`, `np.sin`, etc.\n",
    "\n",
    "NumPy has many, many more functions built-in that can be applied to every element of an array."
   ]
  },
  {
   "cell_type": "code",
   "execution_count": null,
   "id": "76d50ec3",
   "metadata": {},
   "outputs": [],
   "source": [
    "numbers_arr"
   ]
  },
  {
   "cell_type": "code",
   "execution_count": null,
   "id": "a8922d86",
   "metadata": {},
   "outputs": [],
   "source": [
    "np.sqrt(numbers_arr)"
   ]
  },
  {
   "cell_type": "code",
   "execution_count": null,
   "id": "57db6456",
   "metadata": {},
   "outputs": [],
   "source": [
    "np.mean(numbers_arr)"
   ]
  },
  {
   "cell_type": "code",
   "execution_count": null,
   "id": "2a53dbdd",
   "metadata": {},
   "outputs": [],
   "source": [
    "np.log(numbers_arr)"
   ]
  },
  {
   "cell_type": "code",
   "execution_count": null,
   "id": "e485a91f",
   "metadata": {},
   "outputs": [],
   "source": [
    "np.sin(numbers_arr)"
   ]
  },
  {
   "cell_type": "code",
   "execution_count": null,
   "id": "3b8deaa2",
   "metadata": {},
   "outputs": [],
   "source": [
    "# np.sqrt can work on individual numbers or arrays\n",
    "np.sqrt(144)"
   ]
  },
  {
   "cell_type": "markdown",
   "id": "72201437",
   "metadata": {
    "slideshow": {
     "slide_type": "slide"
    }
   },
   "source": [
    "<h3><span style='color:purple'>Activity</span></h3>\n",
    "\n",
    "What is the largest value in the `tips_pct` array after running the following lines of code?\n",
    "\n",
    "```py\n",
    "my_tips = [0.15, 0.16, 0.22, 0.39]\n",
    "your_tips = [0.25, 0.19, 0.08]\n",
    "tips = np.array(my_tips + your_tips)\n",
    "tips_pct = 100 * tips\n",
    "```\n",
    "\n",
    "**Try and answer WITHOUT running any code.**"
   ]
  },
  {
   "cell_type": "code",
   "execution_count": null,
   "id": "91317d8f",
   "metadata": {},
   "outputs": [],
   "source": []
  },
  {
   "cell_type": "markdown",
   "id": "cab102d6",
   "metadata": {
    "slideshow": {
     "slide_type": "slide"
    }
   },
   "source": [
    "## Element-wise operations"
   ]
  },
  {
   "cell_type": "markdown",
   "id": "3e060ecf",
   "metadata": {
    "slideshow": {
     "slide_type": "slide"
    }
   },
   "source": [
    "### Element-wise operations\n",
    "\n",
    "- We can apply arithmetic operations to multiple arrays, provided they have the same length. \n",
    "- The result is computed **element-wise**, which means that the arithmetic operation is applied to one pair of elements from each array at a time.\n",
    "- For example, `a + b` is an array whose first element is the sum of the first element of `a` and first element of `b`."
   ]
  },
  {
   "cell_type": "code",
   "execution_count": null,
   "id": "407f6024",
   "metadata": {},
   "outputs": [],
   "source": [
    "a = np.array([1, 2, 3])\n",
    "b = np.array([-4, 5, 9])"
   ]
  },
  {
   "cell_type": "code",
   "execution_count": null,
   "id": "bce073e0",
   "metadata": {},
   "outputs": [],
   "source": [
    "a + b"
   ]
  },
  {
   "cell_type": "code",
   "execution_count": null,
   "id": "107a8fb0",
   "metadata": {},
   "outputs": [],
   "source": [
    "a - 2 * b"
   ]
  },
  {
   "cell_type": "code",
   "execution_count": null,
   "id": "6a45a2ba",
   "metadata": {},
   "outputs": [],
   "source": [
    "a ** 2 + b ** 2"
   ]
  },
  {
   "cell_type": "markdown",
   "id": "e3d1a0fa",
   "metadata": {
    "slideshow": {
     "slide_type": "slide"
    }
   },
   "source": [
    "### Example: Population growth\n",
    "\n",
    "For example, suppose we have two arrays containing the populations of several states in 2021 and 2022. Assume each array contains information about the same states in the same order.\n",
    "\n",
    "We can compute the percent change from 2019 to 2020 like so:"
   ]
  },
  {
   "cell_type": "code",
   "execution_count": null,
   "id": "a905c89f",
   "metadata": {},
   "outputs": [],
   "source": [
    "pop_2021 = np.array([100, 55, 23, 91, 121])\n",
    "pop_2022 = np.array([101, 45, 23, 93, 118])"
   ]
  },
  {
   "cell_type": "code",
   "execution_count": null,
   "id": "ce0fecad",
   "metadata": {},
   "outputs": [],
   "source": [
    "# Change from 2021 to 2022\n",
    "pop_2022 - pop_2021"
   ]
  },
  {
   "cell_type": "code",
   "execution_count": null,
   "id": "e1be6927",
   "metadata": {},
   "outputs": [],
   "source": [
    "# Percent change\n",
    "100 * (pop_2022 - pop_2021) / pop_2021"
   ]
  },
  {
   "cell_type": "markdown",
   "id": "bee1872f",
   "metadata": {
    "slideshow": {
     "slide_type": "slide"
    }
   },
   "source": [
    "<h3><span style='color:purple'>Activity</span></h3>\n",
    "\n",
    "Suppose we run the following three lines of code. Will we run into an error? Why or why not?\n",
    "```py\n",
    "a = np.array([3, 4, 5])\n",
    "b = np.array([7, -4.0, 5])\n",
    "c = (a + b) / (a - b)\n",
    "```\n",
    "\n",
    "**Try and answer WITHOUT running any code.**"
   ]
  },
  {
   "cell_type": "code",
   "execution_count": null,
   "id": "4c99c7cb",
   "metadata": {},
   "outputs": [],
   "source": []
  },
  {
   "cell_type": "markdown",
   "id": "b1a805e5",
   "metadata": {
    "slideshow": {
     "slide_type": "slide"
    }
   },
   "source": [
    "### Example: Harmonic mean\n",
    "\n",
    "On Monday, we defined a function that takes in two numbers as input and returns their `harmonic_mean`."
   ]
  },
  {
   "cell_type": "code",
   "execution_count": null,
   "id": "c39d2f9f",
   "metadata": {},
   "outputs": [],
   "source": [
    "def harmonic_mean(a, b):\n",
    "    return 2 / (1 / a + 1 / b)"
   ]
  },
  {
   "cell_type": "code",
   "execution_count": null,
   "id": "59afcbd7",
   "metadata": {},
   "outputs": [],
   "source": [
    "harmonic_mean(60, 80)"
   ]
  },
  {
   "cell_type": "markdown",
   "id": "f347a584",
   "metadata": {
    "slideshow": {
     "slide_type": "fragment"
    }
   },
   "source": [
    "What happens if we provide arrays as inputs to `harmonic_mean`?"
   ]
  },
  {
   "cell_type": "code",
   "execution_count": null,
   "id": "948fbe04",
   "metadata": {},
   "outputs": [],
   "source": [
    "speed_1 = np.array([60, 20, 30])\n",
    "speed_2 = np.array([40, 50, 60])"
   ]
  },
  {
   "cell_type": "code",
   "execution_count": null,
   "id": "ced00ffe",
   "metadata": {},
   "outputs": [],
   "source": [
    "harmonic_mean(speed_1, speed_2)"
   ]
  },
  {
   "cell_type": "markdown",
   "id": "35d78d4e",
   "metadata": {
    "slideshow": {
     "slide_type": "fragment"
    }
   },
   "source": [
    "Answer: we get back a new array containing 3 harmonic means."
   ]
  },
  {
   "cell_type": "markdown",
   "id": "059c5bdd",
   "metadata": {
    "slideshow": {
     "slide_type": "slide"
    }
   },
   "source": [
    "### Generalized harmonic mean\n",
    "\n",
    "Previously, we saw that the formula for the harmonic mean of two (positive) numbers is\n",
    "\n",
    "$$H(a, b) = \\frac{2}{\\frac{1}{a} + \\frac{1}{b}}$$"
   ]
  },
  {
   "cell_type": "markdown",
   "id": "ad63b451",
   "metadata": {
    "slideshow": {
     "slide_type": "fragment"
    }
   },
   "source": [
    "To compute the harmonic mean of $n$ (positive) numbers, a more general formula is\n",
    "\n",
    "$$H(a_1, a_2, ..., a_n) = \\frac{n}{\\frac{1}{a_1} + \\frac{1}{a_2} + ... + \\frac{1}{a_n}}$$"
   ]
  },
  {
   "cell_type": "code",
   "execution_count": null,
   "id": "9abd811b",
   "metadata": {},
   "outputs": [],
   "source": [
    "numbers_arr"
   ]
  },
  {
   "cell_type": "code",
   "execution_count": null,
   "id": "32a343ec",
   "metadata": {},
   "outputs": [],
   "source": [
    "1 / numbers_arr"
   ]
  },
  {
   "cell_type": "code",
   "execution_count": null,
   "id": "2818c296",
   "metadata": {},
   "outputs": [],
   "source": [
    "np.sum(1 / numbers_arr)"
   ]
  },
  {
   "cell_type": "code",
   "execution_count": null,
   "id": "819c77cb",
   "metadata": {},
   "outputs": [],
   "source": [
    "len(numbers_arr) / np.sum(1 / numbers_arr)"
   ]
  },
  {
   "cell_type": "markdown",
   "id": "764aac1f",
   "metadata": {
    "slideshow": {
     "slide_type": "fragment"
    }
   },
   "source": [
    "Let's define a function that can take in any array of (positive) numbers and return their harmonic mean."
   ]
  },
  {
   "cell_type": "code",
   "execution_count": null,
   "id": "df3f5509",
   "metadata": {},
   "outputs": [],
   "source": [
    "def harmonic_mean_arr(arr):\n",
    "    return len(arr) / np.sum(1 / arr)"
   ]
  },
  {
   "cell_type": "code",
   "execution_count": null,
   "id": "c4d610c4",
   "metadata": {},
   "outputs": [],
   "source": [
    "harmonic_mean_arr(np.array([60, 80]))"
   ]
  },
  {
   "cell_type": "code",
   "execution_count": null,
   "id": "978ffbee",
   "metadata": {},
   "outputs": [],
   "source": [
    "harmonic_mean_arr(np.array([60, 80, 70, 90, 50, 20, 30, 10]))"
   ]
  },
  {
   "cell_type": "markdown",
   "id": "354dd056",
   "metadata": {
    "slideshow": {
     "slide_type": "slide"
    }
   },
   "source": [
    "## Other features of arrays"
   ]
  },
  {
   "cell_type": "markdown",
   "id": "49cf5ef2",
   "metadata": {
    "slideshow": {
     "slide_type": "slide"
    }
   },
   "source": [
    "### Accessing individual elements\n",
    "\n",
    "To access individual elements of an array, we can use the same indexing notation that we’re used to with lists.\n",
    "\n",
    "```py\n",
    "arr[i]\n",
    "```"
   ]
  },
  {
   "cell_type": "code",
   "execution_count": null,
   "id": "1157550e",
   "metadata": {},
   "outputs": [],
   "source": [
    "pop_2022"
   ]
  },
  {
   "cell_type": "code",
   "execution_count": null,
   "id": "aa504503",
   "metadata": {},
   "outputs": [],
   "source": [
    "pop_2022[0]"
   ]
  },
  {
   "cell_type": "code",
   "execution_count": null,
   "id": "a7e30e78",
   "metadata": {},
   "outputs": [],
   "source": [
    "pop_2022[-2]"
   ]
  },
  {
   "cell_type": "markdown",
   "id": "78f3e6af",
   "metadata": {
    "slideshow": {
     "slide_type": "fragment"
    }
   },
   "source": [
    "Arrays also have a `.item` method that lists do not, that (mostly) works the same as \"regular\" indexing."
   ]
  },
  {
   "cell_type": "code",
   "execution_count": null,
   "id": "e245ab88",
   "metadata": {},
   "outputs": [],
   "source": [
    "pop_2022.item(0)"
   ]
  },
  {
   "cell_type": "markdown",
   "id": "26784dae",
   "metadata": {
    "slideshow": {
     "slide_type": "slide"
    }
   },
   "source": [
    "### Automatic type conversion\n",
    "\n",
    "Unlike lists, all elements in an array must be the same type (e.g. all ints, all floats, all strings, all bools).\n",
    "\n",
    "If you create an array from a list whose elements are of different types, NumPy converts all values to the same type when creating the array."
   ]
  },
  {
   "cell_type": "code",
   "execution_count": null,
   "id": "bf769fe9",
   "metadata": {},
   "outputs": [],
   "source": [
    "some_values = np.array([2, 3, 3.5, 4, False])\n",
    "some_values"
   ]
  },
  {
   "cell_type": "code",
   "execution_count": null,
   "id": "38013c60",
   "metadata": {},
   "outputs": [],
   "source": [
    "some_values[0]"
   ]
  },
  {
   "cell_type": "code",
   "execution_count": null,
   "id": "606ad4df",
   "metadata": {},
   "outputs": [],
   "source": [
    "# All converted to strings!\n",
    "other_values = np.array([9, 8, 'hello', -14.5])\n",
    "other_values"
   ]
  },
  {
   "cell_type": "markdown",
   "id": "cf31af53",
   "metadata": {
    "slideshow": {
     "slide_type": "slide"
    }
   },
   "source": [
    "### Array methods\n",
    "\n",
    "Remember, methods are functions that we call with dot syntax. There are several array methods that make it easy to calculate values of interest.\n",
    "\n",
    "Here are some examples. Note that in these examples (but not generally), we can use the equivalent forms\n",
    "\n",
    "```py\n",
    "arr.func_name()\n",
    "```\n",
    "\n",
    "or\n",
    "\n",
    "```py\n",
    "np.func_name(arr)\n",
    "```"
   ]
  },
  {
   "cell_type": "code",
   "execution_count": null,
   "id": "f0bdd74c",
   "metadata": {},
   "outputs": [],
   "source": [
    "pop_2022"
   ]
  },
  {
   "cell_type": "code",
   "execution_count": null,
   "id": "674f0edc",
   "metadata": {},
   "outputs": [],
   "source": [
    "np.sum(pop_2022)"
   ]
  },
  {
   "cell_type": "code",
   "execution_count": null,
   "id": "d4c7a52b",
   "metadata": {},
   "outputs": [],
   "source": [
    "pop_2022.sum()"
   ]
  },
  {
   "cell_type": "code",
   "execution_count": null,
   "id": "cc7064cc",
   "metadata": {},
   "outputs": [],
   "source": [
    "np.prod(pop_2022)"
   ]
  },
  {
   "cell_type": "code",
   "execution_count": null,
   "id": "5bb73c22",
   "metadata": {},
   "outputs": [],
   "source": [
    "pop_2022.mean()"
   ]
  },
  {
   "cell_type": "code",
   "execution_count": null,
   "id": "689bdf44",
   "metadata": {},
   "outputs": [],
   "source": [
    "np.mean(pop_2022)"
   ]
  },
  {
   "cell_type": "markdown",
   "id": "7b34159a",
   "metadata": {
    "slideshow": {
     "slide_type": "slide"
    }
   },
   "source": [
    "### Ranges\n",
    "\n",
    "`np.arange` works very similarly to the `range` function you're already used to, except that it returns an array."
   ]
  },
  {
   "cell_type": "code",
   "execution_count": null,
   "id": "95a9534f",
   "metadata": {},
   "outputs": [],
   "source": [
    "np.arange(10)"
   ]
  },
  {
   "cell_type": "code",
   "execution_count": null,
   "id": "16032bfd",
   "metadata": {},
   "outputs": [],
   "source": [
    "np.arange(3, 13, 3)"
   ]
  },
  {
   "cell_type": "code",
   "execution_count": null,
   "id": "b5654295",
   "metadata": {},
   "outputs": [],
   "source": [
    "# 2^0, 2^1, 2^2, ..., 2^9\n",
    "2 ** np.arange(10)"
   ]
  },
  {
   "cell_type": "code",
   "execution_count": null,
   "id": "71632bde",
   "metadata": {},
   "outputs": [],
   "source": [
    "# 1^2 + 2^2 + 3^2 + ... + 100^2\n",
    "np.sum(np.arange(101) ** 2)"
   ]
  },
  {
   "cell_type": "markdown",
   "id": "879b57de",
   "metadata": {
    "slideshow": {
     "slide_type": "slide"
    }
   },
   "source": [
    "### Append\n",
    "\n",
    "There is no `append` **method** for arrays:"
   ]
  },
  {
   "cell_type": "code",
   "execution_count": null,
   "id": "a6f22c3f",
   "metadata": {},
   "outputs": [],
   "source": [
    "pop_2022"
   ]
  },
  {
   "cell_type": "code",
   "execution_count": null,
   "id": "bfa4ff70",
   "metadata": {},
   "outputs": [],
   "source": [
    "pop_2022.append(500)"
   ]
  },
  {
   "cell_type": "markdown",
   "id": "8eb1b7be",
   "metadata": {
    "slideshow": {
     "slide_type": "fragment"
    }
   },
   "source": [
    "However, there is a `numpy` **function** called `append` that we can use to add elements to the end of an array:"
   ]
  },
  {
   "cell_type": "code",
   "execution_count": null,
   "id": "c0d7b9e3",
   "metadata": {},
   "outputs": [],
   "source": [
    "np.append(pop_2022, 500)"
   ]
  },
  {
   "cell_type": "markdown",
   "id": "d24d11ff",
   "metadata": {
    "slideshow": {
     "slide_type": "fragment"
    }
   },
   "source": [
    "Unlike the list `append` method, `np.append` **doesn't modify** the original array – if you want to make any changes, you need to save them yourself."
   ]
  },
  {
   "cell_type": "code",
   "execution_count": null,
   "id": "e5ccf9f4",
   "metadata": {},
   "outputs": [],
   "source": [
    "pop_2022"
   ]
  },
  {
   "cell_type": "code",
   "execution_count": null,
   "id": "a73051d8",
   "metadata": {},
   "outputs": [],
   "source": [
    "np.append(pop_2022, 500)"
   ]
  },
  {
   "cell_type": "code",
   "execution_count": null,
   "id": "95f16865",
   "metadata": {},
   "outputs": [],
   "source": [
    "pop_2022"
   ]
  },
  {
   "cell_type": "code",
   "execution_count": null,
   "id": "cf3b37a1",
   "metadata": {},
   "outputs": [],
   "source": [
    "pop_2022 = np.append(pop_2022, 500)\n",
    "pop_2022"
   ]
  },
  {
   "cell_type": "markdown",
   "id": "3e19928f",
   "metadata": {
    "slideshow": {
     "slide_type": "slide"
    }
   },
   "source": [
    "### Even more functions...\n",
    "\n",
    "There are far too many functions built into NumPy for us to cover them all in this lecture (or any lecture).\n",
    "\n",
    "Google and the [documentation](https://numpy.org/doc/1.23/user/whatisnumpy.html) are your friends!"
   ]
  },
  {
   "cell_type": "code",
   "execution_count": null,
   "id": "f9e65721",
   "metadata": {},
   "outputs": [],
   "source": [
    "pop_2022"
   ]
  },
  {
   "cell_type": "code",
   "execution_count": null,
   "id": "bdeec8e2",
   "metadata": {},
   "outputs": [],
   "source": [
    "# Cumulative sum: for each element, add all elements so far\n",
    "np.cumsum(pop_2022)"
   ]
  },
  {
   "cell_type": "code",
   "execution_count": null,
   "id": "51f35c8e",
   "metadata": {},
   "outputs": [],
   "source": [
    "# Difference: takes the differences of consecutive elements\n",
    "np.diff(pop_2022)"
   ]
  },
  {
   "cell_type": "code",
   "execution_count": null,
   "id": "71434989",
   "metadata": {},
   "outputs": [],
   "source": [
    "# count_nonzero: counts the number of elements that are not 0\n",
    "np.count_nonzero(np.array([2, 3, 0, -5, 0, 4]))"
   ]
  },
  {
   "cell_type": "markdown",
   "id": "62117cbe",
   "metadata": {
    "slideshow": {
     "slide_type": "slide"
    }
   },
   "source": [
    "## Randomness"
   ]
  },
  {
   "cell_type": "markdown",
   "id": "1f67909a",
   "metadata": {
    "slideshow": {
     "slide_type": "slide"
    }
   },
   "source": [
    "### Randomness\n",
    "\n",
    "The `np.random` submodule contains functions that allow us to generate \"random\" numbers."
   ]
  },
  {
   "cell_type": "markdown",
   "id": "14c15898",
   "metadata": {
    "slideshow": {
     "slide_type": "fragment"
    }
   },
   "source": [
    "One such function is `np.random.random`, which turns a random `float` between 0 and 1."
   ]
  },
  {
   "cell_type": "code",
   "execution_count": null,
   "id": "46afd705",
   "metadata": {},
   "outputs": [],
   "source": [
    "# A single random float\n",
    "np.random.random()"
   ]
  },
  {
   "cell_type": "code",
   "execution_count": null,
   "id": "71ec9ade",
   "metadata": {},
   "outputs": [],
   "source": [
    "# 10 random floats\n",
    "np.random.random(10)"
   ]
  },
  {
   "cell_type": "code",
   "execution_count": null,
   "id": "7e6c7173",
   "metadata": {},
   "outputs": [],
   "source": []
  },
  {
   "cell_type": "markdown",
   "id": "b22c3657",
   "metadata": {
    "slideshow": {
     "slide_type": "slide"
    }
   },
   "source": [
    "Another such function is `np.random.randint`, which returns a random `int` between the two specified endpoints."
   ]
  },
  {
   "cell_type": "code",
   "execution_count": null,
   "id": "631f6e7a",
   "metadata": {},
   "outputs": [],
   "source": [
    "# Like rolling a die!\n",
    "np.random.randint(1, 7)"
   ]
  },
  {
   "cell_type": "code",
   "execution_count": null,
   "id": "360012f3",
   "metadata": {},
   "outputs": [],
   "source": [
    "# Like rolling a die 10 times!\n",
    "np.random.randint(1, 7, size=50)"
   ]
  },
  {
   "cell_type": "code",
   "execution_count": null,
   "id": "c3bad09e",
   "metadata": {},
   "outputs": [],
   "source": []
  },
  {
   "cell_type": "markdown",
   "id": "08c44b2a",
   "metadata": {
    "slideshow": {
     "slide_type": "slide"
    }
   },
   "source": [
    "Another relevant function is `np.random.choice`, which returns a randomly selected element from an array."
   ]
  },
  {
   "cell_type": "code",
   "execution_count": null,
   "id": "4a93a972",
   "metadata": {},
   "outputs": [],
   "source": [
    "# Like flipping a coin!\n",
    "np.random.choice(['Heads', 'Tails'])"
   ]
  },
  {
   "cell_type": "code",
   "execution_count": null,
   "id": "d354f054",
   "metadata": {},
   "outputs": [],
   "source": [
    "# Like flipping a coin, 10 times!\n",
    "np.random.choice(['Heads', 'Tails'], size=10)"
   ]
  },
  {
   "cell_type": "code",
   "execution_count": null,
   "id": "206d792f",
   "metadata": {},
   "outputs": [],
   "source": [
    "# Like flipping a biased coin, 10 times!\n",
    "np.random.choice(['Heads', 'Tails'], size=10, p=[0.65, 0.35])"
   ]
  },
  {
   "cell_type": "code",
   "execution_count": null,
   "id": "0f344462",
   "metadata": {},
   "outputs": [],
   "source": []
  },
  {
   "cell_type": "markdown",
   "id": "1e219aa7",
   "metadata": {
    "slideshow": {
     "slide_type": "slide"
    }
   },
   "source": [
    "### Example: flipping coins\n",
    "\n",
    "Suppose you flip a fair coin 100 times. How many heads would you expect to see?"
   ]
  },
  {
   "cell_type": "markdown",
   "id": "ef90ddd1",
   "metadata": {
    "slideshow": {
     "slide_type": "fragment"
    }
   },
   "source": [
    "<center>50.</center>"
   ]
  },
  {
   "cell_type": "markdown",
   "id": "f3aa0edc",
   "metadata": {
    "slideshow": {
     "slide_type": "fragment"
    }
   },
   "source": [
    "But 45 or 57 wouldn’t be that crazy."
   ]
  },
  {
   "cell_type": "markdown",
   "id": "d3db6540",
   "metadata": {
    "slideshow": {
     "slide_type": "fragment"
    }
   },
   "source": [
    "20? 95? That would be shocking 😱.\n"
   ]
  },
  {
   "cell_type": "markdown",
   "id": "1c0ccbbd",
   "metadata": {
    "slideshow": {
     "slide_type": "slide"
    }
   },
   "source": [
    "**Idea:**\n",
    "1. Flip a coin 100 times. Write down the number of heads.\n",
    "2. Repeat step 1 many times – say, 10,000 times. (How?)\n",
    "3. Look at the range of values we saw in our simulation.\n",
    "\n",
    "<center><img src='images/coin-flip.png' width=50%></center>"
   ]
  },
  {
   "cell_type": "markdown",
   "id": "c6e49ce7",
   "metadata": {
    "slideshow": {
     "slide_type": "slide"
    }
   },
   "source": [
    "### Simulating 100 coin flips, 10000 times"
   ]
  },
  {
   "cell_type": "code",
   "execution_count": null,
   "id": "1d456f44",
   "metadata": {},
   "outputs": [],
   "source": [
    "num_heads_arr = np.array([])\n",
    "\n",
    "for _ in np.arange(10000):\n",
    "    flips = np.random.choice(['Heads', 'Tails'], size=100)\n",
    "    heads = np.count_nonzero(flips == 'Heads')\n",
    "    num_heads_arr = np.append(num_heads_arr, heads)"
   ]
  },
  {
   "cell_type": "code",
   "execution_count": null,
   "id": "064ced91",
   "metadata": {},
   "outputs": [],
   "source": [
    "num_heads_arr"
   ]
  },
  {
   "cell_type": "code",
   "execution_count": null,
   "id": "e3449654",
   "metadata": {},
   "outputs": [],
   "source": [
    "num_heads_arr.mean()"
   ]
  },
  {
   "cell_type": "code",
   "execution_count": null,
   "id": "82e32f93",
   "metadata": {},
   "outputs": [],
   "source": [
    "num_heads_arr.std()"
   ]
  },
  {
   "cell_type": "markdown",
   "id": "89c851c4",
   "metadata": {
    "slideshow": {
     "slide_type": "slide"
    }
   },
   "source": [
    "Let's draw a picture!"
   ]
  },
  {
   "cell_type": "code",
   "execution_count": null,
   "id": "660d3aa3",
   "metadata": {
    "slideshow": {
     "slide_type": "-"
    }
   },
   "outputs": [],
   "source": [
    "import plotly.express as px\n",
    "px.histogram(num_heads_arr)"
   ]
  },
  {
   "cell_type": "markdown",
   "id": "dced9c66",
   "metadata": {
    "slideshow": {
     "slide_type": "fragment"
    }
   },
   "source": [
    "**Observation 👀:** Usually, the number of heads in 100 flips ranged from 40 to 60. Anything outside of that range was rare. Anything lower than 35 or above 65 was extremely rare."
   ]
  },
  {
   "cell_type": "code",
   "execution_count": null,
   "id": "a27cee2f",
   "metadata": {},
   "outputs": [],
   "source": [
    "num_heads_arr.max()"
   ]
  },
  {
   "cell_type": "code",
   "execution_count": null,
   "id": "e2b9bfaf",
   "metadata": {},
   "outputs": [],
   "source": [
    "num_heads_arr.min()"
   ]
  },
  {
   "cell_type": "markdown",
   "id": "a0229a6f",
   "metadata": {
    "slideshow": {
     "slide_type": "slide"
    }
   },
   "source": [
    "### Rare events"
   ]
  },
  {
   "cell_type": "markdown",
   "id": "fcecadb9",
   "metadata": {
    "slideshow": {
     "slide_type": "fragment"
    }
   },
   "source": [
    "**Question:** Of the 10,000 repetitions of our \"experiment\", in how many did we see 65 or more heads?"
   ]
  },
  {
   "cell_type": "markdown",
   "id": "95272b54",
   "metadata": {
    "slideshow": {
     "slide_type": "fragment"
    }
   },
   "source": [
    "**Answer:** Very few!"
   ]
  },
  {
   "cell_type": "code",
   "execution_count": null,
   "id": "ca18f9d8",
   "metadata": {},
   "outputs": [],
   "source": [
    "num_heads_arr"
   ]
  },
  {
   "cell_type": "code",
   "execution_count": null,
   "id": "cf299b57",
   "metadata": {},
   "outputs": [],
   "source": [
    "num_heads_arr >= 65"
   ]
  },
  {
   "cell_type": "code",
   "execution_count": null,
   "id": "724a04ce",
   "metadata": {},
   "outputs": [],
   "source": [
    "np.sum(num_heads_arr >= 65)"
   ]
  },
  {
   "cell_type": "code",
   "execution_count": null,
   "id": "332c98df",
   "metadata": {},
   "outputs": [],
   "source": [
    "num_heads_arr[num_heads_arr >= 65]"
   ]
  },
  {
   "cell_type": "markdown",
   "id": "825ddc01",
   "metadata": {
    "slideshow": {
     "slide_type": "slide"
    }
   },
   "source": [
    "### Boolean indexing\n",
    "\n",
    "What we saw on the previous slide was an example of Boolean indexing:"
   ]
  },
  {
   "cell_type": "code",
   "execution_count": null,
   "id": "b86c4c2b",
   "metadata": {},
   "outputs": [],
   "source": [
    "values = np.array([3, 4, 5, 2, 9])"
   ]
  },
  {
   "cell_type": "code",
   "execution_count": null,
   "id": "89081a84",
   "metadata": {},
   "outputs": [],
   "source": [
    "values >= 4"
   ]
  },
  {
   "cell_type": "markdown",
   "id": "de263517",
   "metadata": {
    "slideshow": {
     "slide_type": "fragment"
    }
   },
   "source": [
    "This allows us to answer questions like..."
   ]
  },
  {
   "cell_type": "markdown",
   "id": "1defc66d",
   "metadata": {
    "slideshow": {
     "slide_type": "fragment"
    }
   },
   "source": [
    "Which values in `values` were at least 4?"
   ]
  },
  {
   "cell_type": "code",
   "execution_count": null,
   "id": "58d7b6e0",
   "metadata": {},
   "outputs": [],
   "source": [
    "values[values >= 4]"
   ]
  },
  {
   "cell_type": "markdown",
   "id": "531ac7fe",
   "metadata": {
    "slideshow": {
     "slide_type": "fragment"
    }
   },
   "source": [
    "**How many** values in `values` were at least 4?"
   ]
  },
  {
   "cell_type": "code",
   "execution_count": null,
   "id": "77a3c2da",
   "metadata": {},
   "outputs": [],
   "source": [
    "np.sum(values >= 4)"
   ]
  },
  {
   "cell_type": "code",
   "execution_count": null,
   "id": "44eaa1c3",
   "metadata": {},
   "outputs": [],
   "source": [
    "np.count_nonzero(values >= 4)"
   ]
  },
  {
   "cell_type": "markdown",
   "id": "d63b6500",
   "metadata": {
    "slideshow": {
     "slide_type": "fragment"
    }
   },
   "source": [
    "**No `for`-loop necessary!**"
   ]
  }
 ],
 "metadata": {
  "celltoolbar": "Slideshow",
  "kernelspec": {
   "display_name": "Python 3 (ipykernel)",
   "language": "python",
   "name": "python3"
  },
  "language_info": {
   "codemirror_mode": {
    "name": "ipython",
    "version": 3
   },
   "file_extension": ".py",
   "mimetype": "text/x-python",
   "name": "python",
   "nbconvert_exporter": "python",
   "pygments_lexer": "ipython3",
   "version": "3.9.7"
  },
  "livereveal": {
   "scroll": true,
   "transition": "none"
  }
 },
 "nbformat": 4,
 "nbformat_minor": 5
}
