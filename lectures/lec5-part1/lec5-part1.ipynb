{
 "cells": [
  {
   "cell_type": "markdown",
   "id": "cd79c492",
   "metadata": {
    "slideshow": {
     "slide_type": "slide"
    }
   },
   "source": [
    "# Lecture 5, Part 1 – More NumPy\n",
    "\n",
    "## CSS Summer Bootcamp, Week 1 🥾\n",
    "\n",
    "#### Suraj Rampure"
   ]
  },
  {
   "cell_type": "code",
   "execution_count": null,
   "id": "0e70917a",
   "metadata": {
    "slideshow": {
     "slide_type": "skip"
    }
   },
   "outputs": [],
   "source": [
    "import numpy as np"
   ]
  },
  {
   "cell_type": "markdown",
   "id": "96fe2baa",
   "metadata": {
    "slideshow": {
     "slide_type": "slide"
    }
   },
   "source": [
    "## 2D Arrays"
   ]
  },
  {
   "cell_type": "markdown",
   "id": "08857e05",
   "metadata": {
    "slideshow": {
     "slide_type": "slide"
    }
   },
   "source": [
    "### Motivation\n",
    "\n",
    "So far, the lists and arrays we've looked at have been flat, or **one-dimensional**."
   ]
  },
  {
   "cell_type": "code",
   "execution_count": null,
   "id": "648ed669",
   "metadata": {},
   "outputs": [],
   "source": [
    "numbers_arr = np.array([4, 5, 1, -2.1, 9])\n",
    "numbers_arr"
   ]
  },
  {
   "cell_type": "markdown",
   "id": "bc35060a",
   "metadata": {
    "slideshow": {
     "slide_type": "fragment"
    }
   },
   "source": [
    "You can think of a 1D array as being a table with **one row and $n$ columns**. What if we want more rows?"
   ]
  },
  {
   "cell_type": "markdown",
   "id": "8c472d89",
   "metadata": {
    "slideshow": {
     "slide_type": "slide"
    }
   },
   "source": [
    "### 2D arrays\n",
    "\n",
    "We can create arrays with multiple rows (i.e. 2D arrays) by passing a **list of lists** to the `np.array` function:"
   ]
  },
  {
   "cell_type": "code",
   "execution_count": null,
   "id": "31bd3387",
   "metadata": {},
   "outputs": [],
   "source": [
    "grid = np.array([[1, 2, 3, 4], \n",
    "                 [5, 6, 7, 8],\n",
    "                 [9, 10, 11, 12]])\n",
    "\n",
    "grid"
   ]
  },
  {
   "cell_type": "markdown",
   "id": "5a487553",
   "metadata": {
    "slideshow": {
     "slide_type": "fragment"
    }
   },
   "source": [
    "Arrays have a `shape` _attribute_, which allows us to check the number of rows and columns they have."
   ]
  },
  {
   "cell_type": "code",
   "execution_count": null,
   "id": "373486ea",
   "metadata": {},
   "outputs": [],
   "source": [
    "grid.shape"
   ]
  },
  {
   "cell_type": "markdown",
   "id": "13625f76",
   "metadata": {
    "slideshow": {
     "slide_type": "slide"
    }
   },
   "source": [
    "### Accessing entries in a 2D array\n",
    "\n",
    "If `arr` is a 2D array, then `arr[i]` is the **row** at position `i`. Row 0 is at the \"top\"."
   ]
  },
  {
   "cell_type": "code",
   "execution_count": null,
   "id": "cc36517c",
   "metadata": {},
   "outputs": [],
   "source": [
    "grid"
   ]
  },
  {
   "cell_type": "code",
   "execution_count": null,
   "id": "6983a4ce",
   "metadata": {},
   "outputs": [],
   "source": [
    "grid[0]"
   ]
  },
  {
   "cell_type": "code",
   "execution_count": null,
   "id": "9e1ba0ee",
   "metadata": {},
   "outputs": [],
   "source": [
    "grid[-1]"
   ]
  },
  {
   "cell_type": "markdown",
   "id": "c7b3c5c5",
   "metadata": {
    "slideshow": {
     "slide_type": "slide"
    }
   },
   "source": [
    "To access a particular entry in the array, we can first index into the row that it's in, then index into the column that it's in.\n",
    "\n",
    "In other words, `arr[i][j]` gives us the element in row `i` and column `j`."
   ]
  },
  {
   "cell_type": "code",
   "execution_count": null,
   "id": "437cd9bc",
   "metadata": {},
   "outputs": [],
   "source": [
    "grid"
   ]
  },
  {
   "cell_type": "code",
   "execution_count": null,
   "id": "f1b470a6",
   "metadata": {},
   "outputs": [],
   "source": [
    "grid[0][2]"
   ]
  },
  {
   "cell_type": "code",
   "execution_count": null,
   "id": "8c36a492",
   "metadata": {},
   "outputs": [],
   "source": [
    "grid[-1][-2]"
   ]
  },
  {
   "cell_type": "markdown",
   "id": "a9361849",
   "metadata": {
    "slideshow": {
     "slide_type": "fragment"
    }
   },
   "source": [
    "A shortcut to the above notation is the following:\n",
    "\n",
    "```py\n",
    "arr[i, j]\n",
    "```\n",
    "\n",
    "where `i` is the position of the **row** of interest and `j` is the position of the **column** of interest."
   ]
  },
  {
   "cell_type": "code",
   "execution_count": null,
   "id": "2ac7447b",
   "metadata": {},
   "outputs": [],
   "source": [
    "grid[0, 2]"
   ]
  },
  {
   "cell_type": "code",
   "execution_count": null,
   "id": "25c075b1",
   "metadata": {},
   "outputs": [],
   "source": [
    "grid[-1, -2]"
   ]
  },
  {
   "cell_type": "markdown",
   "id": "42239a6f",
   "metadata": {
    "slideshow": {
     "slide_type": "slide"
    }
   },
   "source": [
    "Both pieces of syntax can be used for modifying elements in a (2D) array."
   ]
  },
  {
   "cell_type": "code",
   "execution_count": null,
   "id": "8462801c",
   "metadata": {},
   "outputs": [],
   "source": [
    "grid_copy = grid.copy()\n",
    "grid_copy"
   ]
  },
  {
   "cell_type": "code",
   "execution_count": null,
   "id": "b1896fe9",
   "metadata": {},
   "outputs": [],
   "source": [
    "grid_copy[0][0] = 18"
   ]
  },
  {
   "cell_type": "code",
   "execution_count": null,
   "id": "e7edb30c",
   "metadata": {},
   "outputs": [],
   "source": [
    "grid_copy[1, 2] = 100"
   ]
  },
  {
   "cell_type": "code",
   "execution_count": null,
   "id": "79f596d9",
   "metadata": {},
   "outputs": [],
   "source": [
    "grid_copy"
   ]
  },
  {
   "cell_type": "markdown",
   "id": "ecd2dbd7",
   "metadata": {
    "slideshow": {
     "slide_type": "slide"
    }
   },
   "source": [
    "### Slicing\n",
    "\n",
    "The \"shortcut\" syntax, `arr[i, j]`, supports slicing. This allows us to extract a subset of the columns (or even just a single column) from a 2D array.\n",
    "\n",
    "**Remember: We select rows first, then columns!**"
   ]
  },
  {
   "cell_type": "code",
   "execution_count": null,
   "id": "7a844755",
   "metadata": {},
   "outputs": [],
   "source": [
    "grid"
   ]
  },
  {
   "cell_type": "code",
   "execution_count": null,
   "id": "261f6edc",
   "metadata": {},
   "outputs": [],
   "source": [
    "# Rows 0 and 1, columns 2 and 3\n",
    "grid[:2, 2:4]"
   ]
  },
  {
   "cell_type": "code",
   "execution_count": null,
   "id": "aac07937",
   "metadata": {
    "scrolled": true
   },
   "outputs": [],
   "source": [
    "# All rows, only column 1\n",
    "grid[:, 1]"
   ]
  },
  {
   "cell_type": "code",
   "execution_count": null,
   "id": "9e944de6",
   "metadata": {},
   "outputs": [],
   "source": [
    "# All rows, only the last column\n",
    "grid[:, -1]"
   ]
  },
  {
   "cell_type": "markdown",
   "id": "de1c1ec2",
   "metadata": {
    "slideshow": {
     "slide_type": "slide"
    }
   },
   "source": [
    "<h3><span style='color:purple'>Activity</span></h3>\n",
    "\n",
    "Consider the following 2D array.\n",
    "\n",
    "```py\n",
    "vals = np.array([[1, 2, 3, -1],\n",
    "                 [2, -1, 4, 2],\n",
    "                 [0, 0, 1, 9],\n",
    "                 [8, -6, -1, 3],\n",
    "                 [0, 1, 8, 7]])\n",
    "```\n",
    "\n",
    "What do the following evaluate to? Try and determine the answers **WITHOUT** running any code. (Remember, in `arr[i, j]`, we select rows first, then columns!)\n",
    "\n",
    "- `vals[1, 1]`\n",
    "- `vals[1:3, 2:]`\n",
    "- `vals[2, :]`\n",
    "- `vals[:, -2]`"
   ]
  },
  {
   "cell_type": "code",
   "execution_count": null,
   "id": "c667b286",
   "metadata": {},
   "outputs": [],
   "source": []
  },
  {
   "cell_type": "markdown",
   "id": "cf065dcb",
   "metadata": {
    "slideshow": {
     "slide_type": "slide"
    }
   },
   "source": [
    "## Shapes"
   ]
  },
  {
   "cell_type": "markdown",
   "id": "ddcbff87",
   "metadata": {
    "slideshow": {
     "slide_type": "slide"
    }
   },
   "source": [
    "### Shapes\n",
    "\n",
    "As we saw earlier, we can access the shape of an array using `.shape`:"
   ]
  },
  {
   "cell_type": "code",
   "execution_count": null,
   "id": "3e01c5ba",
   "metadata": {},
   "outputs": [],
   "source": [
    "grid.shape"
   ]
  },
  {
   "cell_type": "code",
   "execution_count": null,
   "id": "da762d2e",
   "metadata": {},
   "outputs": [],
   "source": [
    "# All arrays have shapes\n",
    "first_six = np.arange(1, 7)\n",
    "first_six.shape"
   ]
  },
  {
   "cell_type": "markdown",
   "id": "bb3985a9",
   "metadata": {
    "slideshow": {
     "slide_type": "slide"
    }
   },
   "source": [
    "### Reshaping\n",
    "\n",
    "The array `.reshape` method changes the shape of an array. Specifically,\n",
    "\n",
    "```py\n",
    "arr.reshape((r, c))\n",
    "```\n",
    "\n",
    "returns a new array with `r` rows and `c` columns. Think of shapes as tuples!"
   ]
  },
  {
   "cell_type": "code",
   "execution_count": null,
   "id": "531c9185",
   "metadata": {},
   "outputs": [],
   "source": [
    "grid"
   ]
  },
  {
   "cell_type": "code",
   "execution_count": null,
   "id": "f0781cbe",
   "metadata": {},
   "outputs": [],
   "source": [
    "grid.reshape((2, 6))"
   ]
  },
  {
   "cell_type": "code",
   "execution_count": null,
   "id": "480504e5",
   "metadata": {},
   "outputs": [],
   "source": [
    "grid.reshape((6, 2))"
   ]
  },
  {
   "cell_type": "code",
   "execution_count": null,
   "id": "ea3d8dfb",
   "metadata": {},
   "outputs": [],
   "source": [
    "grid.reshape((12,))"
   ]
  },
  {
   "cell_type": "code",
   "execution_count": null,
   "id": "01b6504a",
   "metadata": {},
   "outputs": [],
   "source": [
    "grid.reshape((-1, 1))"
   ]
  },
  {
   "cell_type": "code",
   "execution_count": null,
   "id": "0111a188",
   "metadata": {},
   "outputs": [],
   "source": [
    "grid.reshape((5, 3))"
   ]
  },
  {
   "cell_type": "markdown",
   "id": "0d27ea63",
   "metadata": {
    "slideshow": {
     "slide_type": "slide"
    }
   },
   "source": [
    "### Using shapes as arguments\n",
    "\n",
    "Many NumPy functions accept a \"shape\" argument, which allow you to specify what you want the shape of the output to be."
   ]
  },
  {
   "cell_type": "markdown",
   "id": "e872cbfa",
   "metadata": {
    "slideshow": {
     "slide_type": "fragment"
    }
   },
   "source": [
    "`np.ones(s)` returns an array containing all 1s with shape `s`."
   ]
  },
  {
   "cell_type": "code",
   "execution_count": null,
   "id": "dcc137f0",
   "metadata": {},
   "outputs": [],
   "source": [
    "np.ones(5)"
   ]
  },
  {
   "cell_type": "code",
   "execution_count": null,
   "id": "5499f5cc",
   "metadata": {},
   "outputs": [],
   "source": [
    "np.ones((3, 6))"
   ]
  },
  {
   "cell_type": "markdown",
   "id": "4c8405bb",
   "metadata": {
    "slideshow": {
     "slide_type": "fragment"
    }
   },
   "source": [
    "`np.zeros(s)` returns an array containing all 0s with shape `s`."
   ]
  },
  {
   "cell_type": "code",
   "execution_count": null,
   "id": "6e29d4aa",
   "metadata": {},
   "outputs": [],
   "source": [
    "np.zeros(5)"
   ]
  },
  {
   "cell_type": "code",
   "execution_count": null,
   "id": "2308a7db",
   "metadata": {},
   "outputs": [],
   "source": [
    "np.zeros((3, 6))"
   ]
  },
  {
   "cell_type": "markdown",
   "id": "4c0758a8",
   "metadata": {
    "slideshow": {
     "slide_type": "fragment"
    }
   },
   "source": [
    "Even the `np.random` functions we look at accept shapes."
   ]
  },
  {
   "cell_type": "code",
   "execution_count": null,
   "id": "b8a12406",
   "metadata": {},
   "outputs": [],
   "source": [
    "np.random.choice(['Heads', 'Tails'], size=(4, 3))"
   ]
  },
  {
   "cell_type": "markdown",
   "id": "9e9d6b42",
   "metadata": {
    "slideshow": {
     "slide_type": "slide"
    }
   },
   "source": [
    "<h3><span style='color:purple'>Activity</span></h3>\n",
    "\n",
    "Consider the following 2D array.\n",
    "\n",
    "```py\n",
    "vals = np.array([[1, 2, 3, -1],\n",
    "                 [2, -1, 4, 2],\n",
    "                 [0, 0, 1, 9],\n",
    "                 [8, -6, -1, 3],\n",
    "                 [0, 1, 8, 7]])\n",
    "```\n",
    "\n",
    "Which of the following would result in an error?\n",
    "\n",
    "- `vals.reshape((-1, 1))`\n",
    "- `vals.reshape((10, 2))`\n",
    "- `vals.reshape((5, 4))`\n",
    "- `vals.reshape((6, 3))`"
   ]
  },
  {
   "cell_type": "code",
   "execution_count": null,
   "id": "80e1c8d5",
   "metadata": {},
   "outputs": [],
   "source": []
  },
  {
   "cell_type": "code",
   "execution_count": null,
   "id": "785dbe5c",
   "metadata": {},
   "outputs": [],
   "source": []
  },
  {
   "cell_type": "markdown",
   "id": "94c9e36e",
   "metadata": {
    "slideshow": {
     "slide_type": "slide"
    }
   },
   "source": [
    "### Aside: `.T`\n",
    "\n",
    "If `arr` is an array, then `arr.T` is the **transpose** of that array. That is, it is the result of turning the rows of `arr` into columns, and the columns of `arr` into rows (or \"rotating\" the array)."
   ]
  },
  {
   "cell_type": "code",
   "execution_count": null,
   "id": "7b0ed5cd",
   "metadata": {},
   "outputs": [],
   "source": [
    "grid"
   ]
  },
  {
   "cell_type": "code",
   "execution_count": null,
   "id": "609cfa8f",
   "metadata": {},
   "outputs": [],
   "source": [
    "grid.T"
   ]
  },
  {
   "cell_type": "code",
   "execution_count": null,
   "id": "599d2084",
   "metadata": {},
   "outputs": [],
   "source": []
  },
  {
   "cell_type": "markdown",
   "id": "36823fc0",
   "metadata": {
    "slideshow": {
     "slide_type": "slide"
    }
   },
   "source": [
    "## Axes"
   ]
  },
  {
   "cell_type": "markdown",
   "id": "f871db79",
   "metadata": {
    "slideshow": {
     "slide_type": "slide"
    }
   },
   "source": [
    "### Numerical operations on arrays\n",
    "\n",
    "Yesterday, we looked at several functions/methods that take in an array and output a single number, like `sum` and `mean`."
   ]
  },
  {
   "cell_type": "code",
   "execution_count": null,
   "id": "bb9c8673",
   "metadata": {},
   "outputs": [],
   "source": [
    "first_six"
   ]
  },
  {
   "cell_type": "code",
   "execution_count": null,
   "id": "4d4865c4",
   "metadata": {},
   "outputs": [],
   "source": [
    "np.sum(first_six)"
   ]
  },
  {
   "cell_type": "code",
   "execution_count": null,
   "id": "8599a9a7",
   "metadata": {},
   "outputs": [],
   "source": [
    "np.mean(first_six)"
   ]
  },
  {
   "cell_type": "markdown",
   "id": "3702efa2",
   "metadata": {
    "slideshow": {
     "slide_type": "fragment"
    }
   },
   "source": [
    "How do these work on 2D arrays?"
   ]
  },
  {
   "cell_type": "code",
   "execution_count": null,
   "id": "7cb40aea",
   "metadata": {},
   "outputs": [],
   "source": [
    "grid"
   ]
  },
  {
   "cell_type": "code",
   "execution_count": null,
   "id": "798960e0",
   "metadata": {},
   "outputs": [],
   "source": [
    "np.sum(grid)"
   ]
  },
  {
   "cell_type": "code",
   "execution_count": null,
   "id": "c0fac14f",
   "metadata": {},
   "outputs": [],
   "source": [
    "np.mean(grid)"
   ]
  },
  {
   "cell_type": "markdown",
   "id": "d795019e",
   "metadata": {
    "slideshow": {
     "slide_type": "fragment"
    }
   },
   "source": [
    "They work as expected – they take the sum and mean (respectively) of all elements in the array.\n",
    "\n",
    "But what if we want to take the sum or mean of each column? Or each row?"
   ]
  },
  {
   "cell_type": "markdown",
   "id": "6666aa29",
   "metadata": {
    "slideshow": {
     "slide_type": "slide"
    }
   },
   "source": [
    "### Axes\n",
    "\n",
    "NumPy arrays have **axes**. Instead of an $x$-axis and a $y$-axis, they have **axis 0 (rows)** and **axis 1 (columns)**.\n",
    "\n",
    "<center><img src='images/axis-table.png' width=20%><i>Pretend this is an array, not a table.</i></center>"
   ]
  },
  {
   "cell_type": "markdown",
   "id": "9cde8b01",
   "metadata": {
    "slideshow": {
     "slide_type": "fragment"
    }
   },
   "source": [
    "We can specify which axis we want to perform numerical operations on!\n",
    "\n",
    "<center><img src='images/axis.png' width=40%>Pretend this is an array, not a table.</center>"
   ]
  },
  {
   "cell_type": "code",
   "execution_count": null,
   "id": "6764287c",
   "metadata": {},
   "outputs": [],
   "source": [
    "grid"
   ]
  },
  {
   "cell_type": "code",
   "execution_count": null,
   "id": "ebd8d4c1",
   "metadata": {},
   "outputs": [],
   "source": [
    "# Squeeze axis 0 (the rows) together, to end up with a single row\n",
    "np.sum(grid, axis=0)"
   ]
  },
  {
   "cell_type": "code",
   "execution_count": null,
   "id": "bf7ca8fe",
   "metadata": {},
   "outputs": [],
   "source": [
    "# Squeeze axis 1 (the columns) together, to end up with a single column\n",
    "np.sum(grid, axis=1)"
   ]
  },
  {
   "cell_type": "markdown",
   "id": "b6a8a62f",
   "metadata": {
    "slideshow": {
     "slide_type": "slide"
    }
   },
   "source": [
    "<h3><span style='color:purple'>Activity</span></h3>\n",
    "\n",
    "Consider the following 2D array.\n",
    "\n",
    "```py\n",
    "other_vals = np.array([[1, 2, 3],\n",
    "                       [2, -1, 4],\n",
    "                       [0, 0, 2]])\n",
    "```\n",
    "\n",
    "Determine each of the following **WITHOUT** running any code.\n",
    "\n",
    "```py\n",
    "other_vals.mean(axis=0)\n",
    "\n",
    "other_vals.mean(axis=1)\n",
    "```"
   ]
  },
  {
   "cell_type": "code",
   "execution_count": null,
   "id": "e8d6b2f7",
   "metadata": {},
   "outputs": [],
   "source": []
  },
  {
   "cell_type": "code",
   "execution_count": null,
   "id": "6ce0b1ed",
   "metadata": {},
   "outputs": [],
   "source": []
  },
  {
   "cell_type": "markdown",
   "id": "084b2129",
   "metadata": {
    "slideshow": {
     "slide_type": "slide"
    }
   },
   "source": [
    "## Example: Images"
   ]
  },
  {
   "cell_type": "markdown",
   "id": "c5af184b",
   "metadata": {
    "slideshow": {
     "slide_type": "slide"
    }
   },
   "source": [
    "### Even more axes!\n",
    "\n",
    "NumPy arrays can have arbitrarily many axes, not just 1 or 2."
   ]
  },
  {
   "cell_type": "code",
   "execution_count": null,
   "id": "7b14fa74",
   "metadata": {},
   "outputs": [],
   "source": [
    "grid"
   ]
  },
  {
   "cell_type": "code",
   "execution_count": null,
   "id": "fe972504",
   "metadata": {},
   "outputs": [],
   "source": [
    "grid_3d = grid.reshape((3, 2, 2))\n",
    "grid_3d"
   ]
  },
  {
   "cell_type": "markdown",
   "id": "493532d8",
   "metadata": {},
   "source": [
    "The shape of `grid_3d` is `(3, 2, 2)`. One way to think of this is as being 3 2D arrays, each with 2 rows and 2 columns, stacked on top of each other."
   ]
  },
  {
   "cell_type": "markdown",
   "id": "c5d493f1",
   "metadata": {
    "slideshow": {
     "slide_type": "slide"
    }
   },
   "source": [
    "<center><img src='https://i.stack.imgur.com/Tbe9W.png' width=50%></center>"
   ]
  },
  {
   "cell_type": "markdown",
   "id": "f07dd1b4",
   "metadata": {
    "slideshow": {
     "slide_type": "slide"
    }
   },
   "source": [
    "### Images are arrays!\n",
    "\n",
    "As you saw in the last lab, we use three values to describe color: a red amount, a green amount, and a blue amount. Each can range between 0 and 255.\n",
    "\n",
    "We can store this information in an array – which is how images are stored!"
   ]
  },
  {
   "cell_type": "code",
   "execution_count": null,
   "id": "ced3c927",
   "metadata": {},
   "outputs": [],
   "source": [
    "import skimage.io as skio\n",
    "import matplotlib.pyplot as plt"
   ]
  },
  {
   "cell_type": "code",
   "execution_count": null,
   "id": "60f02065",
   "metadata": {},
   "outputs": [],
   "source": [
    "geisel = skio.imread('images/geisel.jpeg')\n",
    "geisel.shape"
   ]
  },
  {
   "cell_type": "code",
   "execution_count": null,
   "id": "80060ad1",
   "metadata": {},
   "outputs": [],
   "source": [
    "plt.imshow(geisel)\n",
    "plt.axis('off');"
   ]
  },
  {
   "cell_type": "markdown",
   "id": "72ed17ec",
   "metadata": {
    "slideshow": {
     "slide_type": "slide"
    }
   },
   "source": [
    "### Manipulating images\n",
    "\n",
    "In the lab, we saw that we can convert an image to **greyscale** by averaging its red, green, and blue values.\n",
    "\n",
    "We can do that for the entire image at once, using `mean` with the correct `axis` argument!"
   ]
  },
  {
   "cell_type": "code",
   "execution_count": null,
   "id": "5122deb3",
   "metadata": {},
   "outputs": [],
   "source": [
    "geisel"
   ]
  },
  {
   "cell_type": "code",
   "execution_count": null,
   "id": "1cccf411",
   "metadata": {
    "scrolled": true
   },
   "outputs": [],
   "source": [
    "average_geisel = geisel.mean(axis=2)\n",
    "average_geisel.shape"
   ]
  },
  {
   "cell_type": "code",
   "execution_count": null,
   "id": "d9499fed",
   "metadata": {},
   "outputs": [],
   "source": [
    "average_geisel_3d = np.zeros_like(geisel)\n",
    "for i in range(3):\n",
    "    average_geisel_3d[:, :, i] = average_geisel"
   ]
  },
  {
   "cell_type": "code",
   "execution_count": null,
   "id": "1c4f9134",
   "metadata": {},
   "outputs": [],
   "source": [
    "plt.imshow(average_geisel_3d);"
   ]
  },
  {
   "cell_type": "markdown",
   "id": "481938a7",
   "metadata": {
    "slideshow": {
     "slide_type": "slide"
    }
   },
   "source": [
    "### Removing channels\n",
    "\n",
    "If we set the \"green\" and \"blue\" values for each pixel to 0, the result will be an image with only \"red\"!"
   ]
  },
  {
   "cell_type": "code",
   "execution_count": null,
   "id": "625da5b0",
   "metadata": {},
   "outputs": [],
   "source": [
    "red_geisel = geisel.copy()\n",
    "red_geisel[:, :, 1] = 0\n",
    "red_geisel[:, :, 2] = 0"
   ]
  },
  {
   "cell_type": "code",
   "execution_count": null,
   "id": "569ea87b",
   "metadata": {},
   "outputs": [],
   "source": [
    "plt.imshow(red_geisel)\n",
    "plt.axis('off');"
   ]
  },
  {
   "cell_type": "code",
   "execution_count": null,
   "id": "5a26ba08",
   "metadata": {},
   "outputs": [],
   "source": [
    "green_geisel = geisel.copy()\n",
    "green_geisel[:, :, 0] = 0\n",
    "green_geisel[:, :, 2] = 0"
   ]
  },
  {
   "cell_type": "code",
   "execution_count": null,
   "id": "dc6ae119",
   "metadata": {},
   "outputs": [],
   "source": [
    "plt.imshow(green_geisel)\n",
    "plt.axis('off');"
   ]
  },
  {
   "cell_type": "code",
   "execution_count": null,
   "id": "54804ac6",
   "metadata": {},
   "outputs": [],
   "source": [
    "blue_geisel = geisel.copy()\n",
    "blue_geisel[:, :, 0] = 0\n",
    "blue_geisel[:, :, 1] = 0"
   ]
  },
  {
   "cell_type": "code",
   "execution_count": null,
   "id": "c42e19e5",
   "metadata": {},
   "outputs": [],
   "source": [
    "plt.imshow(blue_geisel)\n",
    "plt.axis('off');"
   ]
  },
  {
   "cell_type": "markdown",
   "id": "ce441775",
   "metadata": {
    "slideshow": {
     "slide_type": "slide"
    }
   },
   "source": [
    "## Future preview"
   ]
  },
  {
   "cell_type": "markdown",
   "id": "f3c317bc",
   "metadata": {
    "slideshow": {
     "slide_type": "slide"
    }
   },
   "source": [
    "### NumPy 🤝 linear algebra\n",
    "\n",
    "You'll be covering linear algebra in a few weeks. When you do, know that matrices can be stored as 2D arrays, and that NumPy has countless built-in functions pertinent to linear algebra."
   ]
  },
  {
   "cell_type": "code",
   "execution_count": null,
   "id": "01f5ec07",
   "metadata": {},
   "outputs": [],
   "source": [
    "square = np.array([[3, 1, -2],\n",
    "                   [4, 0, 1/2],\n",
    "                   [-1, 2, 0]])\n",
    "\n",
    "square"
   ]
  },
  {
   "cell_type": "code",
   "execution_count": null,
   "id": "096c1a94",
   "metadata": {},
   "outputs": [],
   "source": [
    "other_square = np.array([[0, 1, -2],\n",
    "                         [-2, 3, 9],\n",
    "                         [1, 4, 2]])\n",
    "\n",
    "other_square"
   ]
  },
  {
   "cell_type": "code",
   "execution_count": null,
   "id": "8bc4d5c5",
   "metadata": {},
   "outputs": [],
   "source": [
    "# Matrix-multiply the two matrices\n",
    "square @ other_square"
   ]
  },
  {
   "cell_type": "code",
   "execution_count": null,
   "id": "d57fd8df",
   "metadata": {},
   "outputs": [],
   "source": [
    "# Element-wise multiply the two matrices\n",
    "square * other_square"
   ]
  },
  {
   "cell_type": "code",
   "execution_count": null,
   "id": "e56113e1",
   "metadata": {},
   "outputs": [],
   "source": [
    "# Multiply a matrix with a vector\n",
    "square @ other_square[:, 0]"
   ]
  },
  {
   "cell_type": "code",
   "execution_count": null,
   "id": "a93bdc0d",
   "metadata": {},
   "outputs": [],
   "source": [
    "# Find the rank of a matrix\n",
    "np.linalg.matrix_rank(square)"
   ]
  },
  {
   "cell_type": "code",
   "execution_count": null,
   "id": "4377d6df",
   "metadata": {},
   "outputs": [],
   "source": [
    "# Compute the \"eigen\"-decomposition of a matrix,\n",
    "# whatever that is\n",
    "np.linalg.eig(square)"
   ]
  }
 ],
 "metadata": {
  "celltoolbar": "Slideshow",
  "kernelspec": {
   "display_name": "Python 3 (ipykernel)",
   "language": "python",
   "name": "python3"
  },
  "language_info": {
   "codemirror_mode": {
    "name": "ipython",
    "version": 3
   },
   "file_extension": ".py",
   "mimetype": "text/x-python",
   "name": "python",
   "nbconvert_exporter": "python",
   "pygments_lexer": "ipython3",
   "version": "3.9.7"
  },
  "livereveal": {
   "scroll": true,
   "transition": "none"
  }
 },
 "nbformat": 4,
 "nbformat_minor": 5
}
