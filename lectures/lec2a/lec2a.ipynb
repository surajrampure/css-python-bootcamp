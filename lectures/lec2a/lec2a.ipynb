{
 "cells": [
  {
   "cell_type": "markdown",
   "id": "cd79c492",
   "metadata": {
    "slideshow": {
     "slide_type": "slide"
    }
   },
   "source": [
    "# Lecture 2A – Lists, Strings, and Conditional Statements\n",
    "\n",
    "## CSS Summer Bootcamp, Week 1 🥾\n",
    "\n",
    "#### Suraj Rampure"
   ]
  },
  {
   "cell_type": "markdown",
   "id": "be399441",
   "metadata": {
    "slideshow": {
     "slide_type": "slide"
    }
   },
   "source": [
    "### Agenda\n",
    "\n",
    "- Lists.\n",
    "- More on strings (and how they're similar to lists).\n",
    "- Conditional statements (i.e. \"if-statements\")."
   ]
  },
  {
   "cell_type": "markdown",
   "id": "18abaf6d",
   "metadata": {
    "slideshow": {
     "slide_type": "slide"
    }
   },
   "source": [
    "## Lists"
   ]
  },
  {
   "cell_type": "markdown",
   "id": "035f12fe",
   "metadata": {
    "slideshow": {
     "slide_type": "slide"
    }
   },
   "source": [
    "### Motivation\n",
    "\n",
    "How would we store the temperatures for each of the first 12 days in the month of July?"
   ]
  },
  {
   "cell_type": "markdown",
   "id": "d6377875",
   "metadata": {
    "slideshow": {
     "slide_type": "fragment"
    }
   },
   "source": [
    "Our best solution right now is to create a separate variable for each day."
   ]
  },
  {
   "cell_type": "code",
   "execution_count": null,
   "id": "8dbdbb98",
   "metadata": {
    "slideshow": {
     "slide_type": "-"
    }
   },
   "outputs": [],
   "source": [
    "temperature_on_jul_01 = 68\n",
    "temperature_on_jul_02 = 72\n",
    "temperature_on_jul_03 = 65\n",
    "temperature_on_jul_04 = 64\n",
    "temperature_on_jul_05 = 62\n",
    "temperature_on_jul_06 = 61\n",
    "temperature_on_jul_07 = 59\n",
    "temperature_on_jul_08 = 64\n",
    "temperature_on_jul_09 = 64\n",
    "temperature_on_jul_10 = 63\n",
    "temperature_on_jul_11 = 65\n",
    "temperature_on_jul_12 = 62"
   ]
  },
  {
   "cell_type": "markdown",
   "id": "96b920cc",
   "metadata": {
    "slideshow": {
     "slide_type": "fragment"
    }
   },
   "source": [
    "This _technically_ allows us to do things like compute the average temperature throughout the first 12 days:\n",
    "\n",
    "```\n",
    "avg_temperature = 1/12 * (\n",
    "    temperature_on_jul_01\n",
    "    + temperature_on_jul_02\n",
    "    + temperature_on_jul_03\n",
    "    + ...)\n",
    "```"
   ]
  },
  {
   "cell_type": "markdown",
   "id": "e971aebd",
   "metadata": {
    "slideshow": {
     "slide_type": "fragment"
    }
   },
   "source": [
    "But it seems like we need a better solution."
   ]
  },
  {
   "cell_type": "markdown",
   "id": "4abbd867",
   "metadata": {
    "slideshow": {
     "slide_type": "slide"
    }
   },
   "source": [
    "## Lists in Python\n",
    "\n",
    "In Python, a list is used to store multiple values in a single value/variable. To create a new list from scratch, we use [square brackets]."
   ]
  },
  {
   "cell_type": "code",
   "execution_count": null,
   "id": "c5e63a57",
   "metadata": {},
   "outputs": [],
   "source": [
    "temperature_list = [68, 72, 65, 64, 62, 61, 59, 64, 64, 63, 65, 62]\n",
    "temperature_list"
   ]
  },
  {
   "cell_type": "markdown",
   "id": "911abb70",
   "metadata": {
    "slideshow": {
     "slide_type": "fragment"
    }
   },
   "source": [
    "**Observations:**\n",
    "- The **order** of the elements in a list matter.\n",
    "- Elements in a list can be repeated."
   ]
  },
  {
   "cell_type": "markdown",
   "id": "c16b1f4a",
   "metadata": {
    "slideshow": {
     "slide_type": "slide"
    }
   },
   "source": [
    "## Lists make working with sequences easy!\n",
    "\n",
    "To find the average temperature, we just need to divide the **sum of the temperatures** by the **number of temperatures** recorded:"
   ]
  },
  {
   "cell_type": "code",
   "execution_count": null,
   "id": "366bd5ba",
   "metadata": {},
   "outputs": [],
   "source": [
    "temperature_list"
   ]
  },
  {
   "cell_type": "code",
   "execution_count": null,
   "id": "6e45a82a",
   "metadata": {},
   "outputs": [],
   "source": [
    "sum(temperature_list) / len(temperature_list)"
   ]
  },
  {
   "cell_type": "markdown",
   "id": "6859881a",
   "metadata": {},
   "source": [
    "Note that the code would not change whether we had 3 temperatures or 30000!"
   ]
  },
  {
   "cell_type": "markdown",
   "id": "db577486",
   "metadata": {
    "slideshow": {
     "slide_type": "slide"
    }
   },
   "source": [
    "### Types\n",
    "\n",
    "The `type` of a list is... `list`."
   ]
  },
  {
   "cell_type": "code",
   "execution_count": null,
   "id": "e46e9590",
   "metadata": {},
   "outputs": [],
   "source": [
    "temperature_list"
   ]
  },
  {
   "cell_type": "code",
   "execution_count": null,
   "id": "5660d864",
   "metadata": {},
   "outputs": [],
   "source": [
    "type(temperature_list)"
   ]
  },
  {
   "cell_type": "markdown",
   "id": "cbaf09bf",
   "metadata": {
    "slideshow": {
     "slide_type": "fragment"
    }
   },
   "source": [
    "Within a list, you can store elements of different types – Python lists are **heterogenous**."
   ]
  },
  {
   "cell_type": "code",
   "execution_count": null,
   "id": "7af8d7b9",
   "metadata": {},
   "outputs": [],
   "source": [
    "mixed_list = [-2, 2.5, 'ucsd', [1, 3]]\n",
    "mixed_list"
   ]
  },
  {
   "cell_type": "markdown",
   "id": "621ff322",
   "metadata": {
    "slideshow": {
     "slide_type": "slide"
    }
   },
   "source": [
    "### Working with lists\n",
    "\n",
    "A variety of functions work on lists."
   ]
  },
  {
   "cell_type": "code",
   "execution_count": null,
   "id": "8db984bf",
   "metadata": {},
   "outputs": [],
   "source": [
    "# length\n",
    "len([9, 2.5, 7])"
   ]
  },
  {
   "cell_type": "code",
   "execution_count": null,
   "id": "fd63de85",
   "metadata": {},
   "outputs": [],
   "source": [
    "# max and min, assuming all elements are of the same \"kind\"\n",
    "max([9, 2.5, 7])"
   ]
  },
  {
   "cell_type": "code",
   "execution_count": null,
   "id": "0df53abb",
   "metadata": {},
   "outputs": [],
   "source": [
    "min(['hello', 'hi', 'abbey'])"
   ]
  },
  {
   "cell_type": "code",
   "execution_count": null,
   "id": "8abd64a6",
   "metadata": {},
   "outputs": [],
   "source": [
    "sum([9, 2.5, 7])"
   ]
  },
  {
   "cell_type": "markdown",
   "id": "857df0c5",
   "metadata": {
    "slideshow": {
     "slide_type": "slide"
    }
   },
   "source": [
    "### Concatenation and repetition\n",
    "\n",
    "Just like with strings, the `+` operation between two lists **concatenates** the lists."
   ]
  },
  {
   "cell_type": "code",
   "execution_count": null,
   "id": "82c42177",
   "metadata": {},
   "outputs": [],
   "source": [
    "[1, 2] + [3, 4]"
   ]
  },
  {
   "cell_type": "code",
   "execution_count": null,
   "id": "4d0507c7",
   "metadata": {},
   "outputs": [],
   "source": [
    "[1, 2] + [3, 4] * 5"
   ]
  },
  {
   "cell_type": "markdown",
   "id": "f5e28cbb",
   "metadata": {
    "slideshow": {
     "slide_type": "slide"
    }
   },
   "source": [
    "### Append\n",
    "\n",
    "We use the `append` **method** to add elements to the end of a list. (It is a method as we call it using \"dot\" notation, i.e. `groceries.append(...)` instead of `append(groceries, ...)`.)"
   ]
  },
  {
   "cell_type": "code",
   "execution_count": null,
   "id": "49d9edec",
   "metadata": {},
   "outputs": [],
   "source": [
    "groceries = ['eggs', 'milk']\n",
    "groceries"
   ]
  },
  {
   "cell_type": "code",
   "execution_count": null,
   "id": "3ea53469",
   "metadata": {},
   "outputs": [],
   "source": [
    "groceries.append('bread')"
   ]
  },
  {
   "cell_type": "code",
   "execution_count": null,
   "id": "13ad7422",
   "metadata": {},
   "outputs": [],
   "source": [
    "groceries"
   ]
  },
  {
   "cell_type": "markdown",
   "id": "41a33dbd",
   "metadata": {
    "slideshow": {
     "slide_type": "fragment"
    }
   },
   "source": [
    "**Important:** Note that `groceries.append('bread')` didn’t return anything, but groceries was modified. We say `append` is **destructive**, because it does something other than return an output."
   ]
  },
  {
   "cell_type": "markdown",
   "id": "8f05f390",
   "metadata": {
    "slideshow": {
     "slide_type": "slide"
    }
   },
   "source": [
    "<h3><span style='color:purple'>Activity</span></h3>\n",
    "\n",
    "Answer the following questions **WITHOUT** running any code.\n",
    "\n",
    "1. Are `[1] + [2]` and `[1 + 2]` the same list?\n",
    "\n",
    "2. What is `sum([4, 5, 9]) / len([4, 5, 9])`?\n",
    "\n",
    "3. After running the following two lines of code, what is the value of `C`?\n",
    "```py\n",
    "C = [4, 0, 2]\n",
    "C = C.append(min(C))\n",
    "```"
   ]
  },
  {
   "cell_type": "markdown",
   "id": "f30037f0",
   "metadata": {
    "slideshow": {
     "slide_type": "slide"
    }
   },
   "source": [
    "## List indexing"
   ]
  },
  {
   "cell_type": "markdown",
   "id": "da89c240",
   "metadata": {
    "slideshow": {
     "slide_type": "slide"
    }
   },
   "source": [
    "### Indexing\n",
    "\n",
    "When people stand in a line, each person has a position.\n",
    "\n",
    "<center><img src='images/position.png' width=50%></center>\n",
    "\n",
    "Similarly, each element of a list has a position – called its index."
   ]
  },
  {
   "cell_type": "markdown",
   "id": "a133861c",
   "metadata": {
    "slideshow": {
     "slide_type": "slide"
    }
   },
   "source": [
    "### Indexes\n",
    "\n",
    "Python, like most programming languages, is 0-indexed. This means that the index of the first element in a list is 0, not 1. (One reason: an element's index represents how far it is from the start of the list.)"
   ]
  },
  {
   "cell_type": "code",
   "execution_count": null,
   "id": "943c016f",
   "metadata": {},
   "outputs": [],
   "source": [
    "nums = [3, 1, 'dog', -9.5, 'ucsd']"
   ]
  },
  {
   "cell_type": "markdown",
   "id": "ea93314f",
   "metadata": {
    "slideshow": {
     "slide_type": "fragment"
    }
   },
   "source": [
    "<center><img src='images/list.png' width=50%>Here, we see the index of each element in <code>nums</code>.</center>"
   ]
  },
  {
   "cell_type": "markdown",
   "id": "9f38fb6d",
   "metadata": {
    "slideshow": {
     "slide_type": "slide"
    }
   },
   "source": [
    "### Indexing\n",
    "\n",
    "We can access an element in a list by using its index.\n",
    "\n",
    "```py\n",
    "list_name[index]\n",
    "```"
   ]
  },
  {
   "cell_type": "code",
   "execution_count": null,
   "id": "732f2fa5",
   "metadata": {},
   "outputs": [],
   "source": [
    "nums"
   ]
  },
  {
   "cell_type": "code",
   "execution_count": null,
   "id": "2b112ea8",
   "metadata": {},
   "outputs": [],
   "source": [
    "nums[0]"
   ]
  },
  {
   "cell_type": "code",
   "execution_count": null,
   "id": "eeb8b724",
   "metadata": {},
   "outputs": [],
   "source": [
    "nums[3]"
   ]
  },
  {
   "cell_type": "code",
   "execution_count": null,
   "id": "7e2514bd",
   "metadata": {},
   "outputs": [],
   "source": [
    "nums[5]"
   ]
  },
  {
   "cell_type": "markdown",
   "id": "c9c544e3",
   "metadata": {
    "slideshow": {
     "slide_type": "fragment"
    }
   },
   "source": [
    "Note that while `nums` has 5 elements, the largest valid index is 4."
   ]
  },
  {
   "cell_type": "markdown",
   "id": "eaa350be",
   "metadata": {
    "slideshow": {
     "slide_type": "slide"
    }
   },
   "source": [
    "### Slicing\n",
    "\n",
    "We can use indexes to create a “slice” of a list. A slice is a new list containing elements from another list.\n",
    "\n",
    "```py\n",
    "list_name[start : stop]\n",
    "```\n",
    "\n",
    "The above slice consists of all elements in list_name starting with index start and ending right before index stop.\n"
   ]
  },
  {
   "cell_type": "code",
   "execution_count": null,
   "id": "5dcddf9f",
   "metadata": {},
   "outputs": [],
   "source": [
    "nums"
   ]
  },
  {
   "cell_type": "code",
   "execution_count": null,
   "id": "6a961dfc",
   "metadata": {},
   "outputs": [],
   "source": [
    "nums[1:3]"
   ]
  },
  {
   "cell_type": "code",
   "execution_count": null,
   "id": "fff9542c",
   "metadata": {},
   "outputs": [],
   "source": [
    "nums[0:4]"
   ]
  },
  {
   "cell_type": "code",
   "execution_count": null,
   "id": "4c7e6d69",
   "metadata": {},
   "outputs": [],
   "source": [
    "# If you don't include 'start', the slice starts at the beginning of the list\n",
    "nums[:4]"
   ]
  },
  {
   "cell_type": "code",
   "execution_count": null,
   "id": "4d190b79",
   "metadata": {},
   "outputs": [],
   "source": [
    "# If you don't include 'stop', the slice starts at the end of the list\n",
    "nums[2:]"
   ]
  },
  {
   "cell_type": "markdown",
   "id": "89b2851c",
   "metadata": {
    "slideshow": {
     "slide_type": "slide"
    }
   },
   "source": [
    "### Negative indexing\n",
    "\n",
    "We can also “count backwards” using negative indexes.\n",
    "- -1 corresponds to the last element in a list.\n",
    "- -2 corresponds to the second last element in a list.\n",
    "- And so on..."
   ]
  },
  {
   "cell_type": "code",
   "execution_count": null,
   "id": "4c040d22",
   "metadata": {},
   "outputs": [],
   "source": [
    "nums"
   ]
  },
  {
   "cell_type": "code",
   "execution_count": null,
   "id": "b8e99902",
   "metadata": {},
   "outputs": [],
   "source": [
    "nums[len(nums) - 1]"
   ]
  },
  {
   "cell_type": "code",
   "execution_count": null,
   "id": "84879bb4",
   "metadata": {},
   "outputs": [],
   "source": [
    "nums[-1]"
   ]
  },
  {
   "cell_type": "code",
   "execution_count": null,
   "id": "f6111deb",
   "metadata": {},
   "outputs": [],
   "source": [
    "nums[-3]"
   ]
  },
  {
   "cell_type": "code",
   "execution_count": null,
   "id": "003adc73",
   "metadata": {},
   "outputs": [],
   "source": [
    "nums[-3:]"
   ]
  },
  {
   "cell_type": "markdown",
   "id": "030130ac",
   "metadata": {
    "slideshow": {
     "slide_type": "slide"
    }
   },
   "source": [
    "<h3><span style='color:purple'>Activity</span></h3>\n",
    "\n",
    "What is the value of `five` after running this code?\n",
    "\n",
    "```py\n",
    "threes = [3, 6, 9, 12, 15]\n",
    "fours = threes[1:4]\n",
    "five = fours[-1] + fours[1]\n",
    "```\n",
    "\n",
    "**Think about what the answer should be WITHOUT running any code.**"
   ]
  },
  {
   "cell_type": "markdown",
   "id": "9868f7f2",
   "metadata": {
    "slideshow": {
     "slide_type": "slide"
    }
   },
   "source": [
    "### `.index`\n",
    "\n",
    "- The `.index` method tells us the position of an item in a list, if it is in the list.\n",
    "- If there are multiple instances, `.index` returns the position of just the first one.\n",
    "- There are many other functions and methods that deal with lists; you’ll pick them up as we go."
   ]
  },
  {
   "cell_type": "code",
   "execution_count": null,
   "id": "7b3da5f1",
   "metadata": {},
   "outputs": [],
   "source": [
    "nums"
   ]
  },
  {
   "cell_type": "code",
   "execution_count": null,
   "id": "269b2949",
   "metadata": {},
   "outputs": [],
   "source": [
    "nums.index('dog')"
   ]
  },
  {
   "cell_type": "code",
   "execution_count": null,
   "id": "7180e35b",
   "metadata": {},
   "outputs": [],
   "source": [
    "nums.index('cat')"
   ]
  },
  {
   "cell_type": "code",
   "execution_count": null,
   "id": "638557fe",
   "metadata": {},
   "outputs": [],
   "source": [
    "# When there are two occurrences of the argument to .index,\n",
    "# what does it return?\n",
    "['a', 'b', 'c', 'b'].index('b')"
   ]
  },
  {
   "cell_type": "markdown",
   "id": "aee75b43",
   "metadata": {
    "slideshow": {
     "slide_type": "slide"
    }
   },
   "source": [
    "## Strings, again"
   ]
  },
  {
   "cell_type": "markdown",
   "id": "d1860225",
   "metadata": {
    "slideshow": {
     "slide_type": "slide"
    }
   },
   "source": [
    "### Strings\n",
    "\n",
    "- Strings are similar to lists: they have indexes as well.\n",
    "- Each element of a string can be thought of as a “character”, which is a string of length 1."
   ]
  },
  {
   "cell_type": "code",
   "execution_count": null,
   "id": "3a2e4528",
   "metadata": {},
   "outputs": [],
   "source": [
    "university = 'uc san diego'"
   ]
  },
  {
   "cell_type": "code",
   "execution_count": null,
   "id": "4523bdb2",
   "metadata": {},
   "outputs": [],
   "source": [
    "list(university)"
   ]
  },
  {
   "cell_type": "code",
   "execution_count": null,
   "id": "2306864d",
   "metadata": {},
   "outputs": [],
   "source": [
    "university[1]"
   ]
  },
  {
   "cell_type": "code",
   "execution_count": null,
   "id": "394a8f49",
   "metadata": {},
   "outputs": [],
   "source": [
    "university[3:6]"
   ]
  },
  {
   "cell_type": "code",
   "execution_count": null,
   "id": "3083c56c",
   "metadata": {},
   "outputs": [],
   "source": [
    "university[-9:]"
   ]
  },
  {
   "cell_type": "code",
   "execution_count": null,
   "id": "49dfdf9a",
   "metadata": {},
   "outputs": [],
   "source": [
    "# What does this do?\n",
    "university[::-1]"
   ]
  },
  {
   "cell_type": "markdown",
   "id": "ea1e8801",
   "metadata": {
    "slideshow": {
     "slide_type": "slide"
    }
   },
   "source": [
    "### String indexing\n",
    "\n",
    "- `.index`, `.rindex`, `.find`, and `.rfind` are all string methods used to locate different characters.\n",
    "- [This link](https://www.w3schools.com/python/python_ref_string.asp) contains documentation for many, many string methods, including the ones above.\n",
    "    - We looked at some in Lecture 1B.\n",
    "    - A large part of learning how to program is learning how to find the help you need online!"
   ]
  },
  {
   "cell_type": "code",
   "execution_count": null,
   "id": "42739eb6",
   "metadata": {},
   "outputs": [],
   "source": [
    "crop = 'alfalfa'"
   ]
  },
  {
   "cell_type": "code",
   "execution_count": null,
   "id": "31b26585",
   "metadata": {},
   "outputs": [],
   "source": [
    "crop.find('f')"
   ]
  },
  {
   "cell_type": "code",
   "execution_count": null,
   "id": "b03546aa",
   "metadata": {},
   "outputs": [],
   "source": [
    "crop.rfind('a')"
   ]
  },
  {
   "cell_type": "code",
   "execution_count": null,
   "id": "6fa07c4f",
   "metadata": {},
   "outputs": [],
   "source": [
    "crop.find('b')"
   ]
  },
  {
   "cell_type": "code",
   "execution_count": null,
   "id": "840eff78",
   "metadata": {},
   "outputs": [],
   "source": [
    "crop.index('b')"
   ]
  },
  {
   "cell_type": "markdown",
   "id": "085373b2",
   "metadata": {
    "slideshow": {
     "slide_type": "slide"
    }
   },
   "source": [
    "### Another method: `split`\n",
    "\n",
    "The `split` method returns a list!"
   ]
  },
  {
   "cell_type": "code",
   "execution_count": null,
   "id": "cb4b01a4",
   "metadata": {},
   "outputs": [],
   "source": [
    "school = 'university of california san diego'"
   ]
  },
  {
   "cell_type": "code",
   "execution_count": null,
   "id": "5f9cf295",
   "metadata": {},
   "outputs": [],
   "source": [
    "school.split()"
   ]
  },
  {
   "cell_type": "code",
   "execution_count": null,
   "id": "87d44d1b",
   "metadata": {},
   "outputs": [],
   "source": [
    "school.split('o')"
   ]
  },
  {
   "cell_type": "markdown",
   "id": "614f1d5f",
   "metadata": {
    "slideshow": {
     "slide_type": "slide"
    }
   },
   "source": [
    "### Immutability\n",
    "\n",
    "- There are some ways in which strings and lists behave differently, though.\n",
    "- Specifically, you can change an element of a list using indexing. You cannot do that for strings. If you want to change any part of a string, you must make a new string.\n",
    "- This is because lists are **mutable**, while strings are **immutable**."
   ]
  },
  {
   "cell_type": "code",
   "execution_count": null,
   "id": "10c4fad9",
   "metadata": {},
   "outputs": [],
   "source": [
    "test_list = [8, 0, 2, 4]\n",
    "test_string = 'zebra'"
   ]
  },
  {
   "cell_type": "code",
   "execution_count": null,
   "id": "d068f39c",
   "metadata": {},
   "outputs": [],
   "source": [
    "test_list[1] = 99"
   ]
  },
  {
   "cell_type": "code",
   "execution_count": null,
   "id": "d1a39f6a",
   "metadata": {},
   "outputs": [],
   "source": [
    "test_list"
   ]
  },
  {
   "cell_type": "code",
   "execution_count": null,
   "id": "4ae08faf",
   "metadata": {},
   "outputs": [],
   "source": [
    "test_string[1] = 'f'"
   ]
  },
  {
   "cell_type": "code",
   "execution_count": null,
   "id": "8ac6c0d9",
   "metadata": {},
   "outputs": [],
   "source": [
    "# Since we can't \"change\" test_string,\n",
    "# we need to make a \"new\" string containing the parts of it\n",
    "# that we wanted\n",
    "test_string[:1] + 'f' + test_string[2:]"
   ]
  },
  {
   "cell_type": "markdown",
   "id": "75b8bcdd",
   "metadata": {
    "slideshow": {
     "slide_type": "slide"
    }
   },
   "source": [
    "## The `bool` type"
   ]
  },
  {
   "cell_type": "markdown",
   "id": "d1d5c9ab",
   "metadata": {
    "slideshow": {
     "slide_type": "slide"
    }
   },
   "source": [
    "### Booleans\n",
    "\n",
    "- `bool` is a data type in Python, just like `int`, `float`, and `str`. \n",
    "    - It stands for \"Boolean\", named after George Boole, an early mathematician.\n",
    "- There are only two possible Boolean values: `True` or `False`.\n",
    "    - Yes or no.\n",
    "    - On or off.\n",
    "    - 1 or 0."
   ]
  },
  {
   "cell_type": "code",
   "execution_count": null,
   "id": "144380ad",
   "metadata": {},
   "outputs": [],
   "source": [
    "x = True"
   ]
  },
  {
   "cell_type": "code",
   "execution_count": null,
   "id": "92bc720d",
   "metadata": {},
   "outputs": [],
   "source": [
    "type(x)"
   ]
  },
  {
   "cell_type": "markdown",
   "id": "bd476cd7",
   "metadata": {
    "slideshow": {
     "slide_type": "slide"
    }
   },
   "source": [
    "### Comparison operators\n",
    "\n",
    "There are 6 **comparison operators** in Python that allow us to compare values:\n",
    "\n",
    "| Operator | Description|\n",
    "| --- | --- |\n",
    "| `<` | Less than |\n",
    "| `<=` | Less than or equal to |\n",
    "| `>` | Greater than |\n",
    "| `>=` | Greater than or equal to |\n",
    "| `==` | Equal to |\n",
    "| `!=` | Not equal to |\n",
    "\n",
    "**Comparisons evalute to `bool`s**."
   ]
  },
  {
   "cell_type": "code",
   "execution_count": null,
   "id": "0878d5df",
   "metadata": {},
   "outputs": [],
   "source": [
    "15 >= 19"
   ]
  },
  {
   "cell_type": "code",
   "execution_count": null,
   "id": "0e1313b0",
   "metadata": {},
   "outputs": [],
   "source": [
    "[1, 2, 3] == [1, 2, 3]"
   ]
  },
  {
   "cell_type": "code",
   "execution_count": null,
   "id": "a39e8418",
   "metadata": {},
   "outputs": [],
   "source": [
    "2 != '2'"
   ]
  },
  {
   "cell_type": "code",
   "execution_count": null,
   "id": "27880176",
   "metadata": {},
   "outputs": [],
   "source": [
    "1 + 0.2 == 1 + 0.1 + 0.1"
   ]
  },
  {
   "cell_type": "markdown",
   "id": "11ec0423",
   "metadata": {
    "slideshow": {
     "slide_type": "slide"
    }
   },
   "source": [
    "### Boolean operators; `not`\n",
    "\n",
    "There are three operators that allow us to perform arithmetic with Booleans – `not`, `and`, and `or`.\n",
    "\n",
    "`not` flips a `True` to a `False`, and a `False` to a `True`."
   ]
  },
  {
   "cell_type": "code",
   "execution_count": null,
   "id": "6e2d978c",
   "metadata": {},
   "outputs": [],
   "source": [
    "is_sunny = True\n",
    "\n",
    "not is_sunny"
   ]
  },
  {
   "cell_type": "markdown",
   "id": "9c089e27",
   "metadata": {
    "slideshow": {
     "slide_type": "slide"
    }
   },
   "source": [
    "### The `and` operator\n",
    "\n",
    "- Placed between two `bool`s.\n",
    "- `True` if **both** are true, otherwise `False`."
   ]
  },
  {
   "cell_type": "code",
   "execution_count": null,
   "id": "42cdbbf2",
   "metadata": {},
   "outputs": [],
   "source": [
    "is_sunny = True\n",
    "is_warm = False\n",
    "\n",
    "is_sunny and is_warm"
   ]
  },
  {
   "cell_type": "markdown",
   "id": "339aba61",
   "metadata": {
    "slideshow": {
     "slide_type": "slide"
    }
   },
   "source": [
    "### The `or` operator\n",
    "\n",
    "- Placed between two `bool`s.\n",
    "- `True` if **at least one** of them is `True`, otherwise `False`."
   ]
  },
  {
   "cell_type": "code",
   "execution_count": null,
   "id": "9e4ae69f",
   "metadata": {},
   "outputs": [],
   "source": [
    "is_sunny = True\n",
    "is_warm = False\n",
    "\n",
    "is_sunny or is_warm"
   ]
  },
  {
   "cell_type": "code",
   "execution_count": null,
   "id": "47afee3d",
   "metadata": {},
   "outputs": [],
   "source": [
    "# Both can be True as well!\n",
    "True or True"
   ]
  },
  {
   "cell_type": "markdown",
   "id": "06dd2dbe",
   "metadata": {
    "slideshow": {
     "slide_type": "slide"
    }
   },
   "source": [
    "### Comparisons and Boolean operators\n",
    "\n",
    "- Remember, comparisons result in Boolean values.\n",
    "- As usual, use **(parentheses)** to make expressions more clear.\n",
    "    - By default, the order of operations is `not`, `and`, `or`."
   ]
  },
  {
   "cell_type": "code",
   "execution_count": null,
   "id": "5abfff7c",
   "metadata": {},
   "outputs": [],
   "source": [
    "first_name = 'king'\n",
    "last_name = 'triton'\n",
    "age = 19\n",
    "\n",
    "first_name == 'triton' and age >= 21"
   ]
  },
  {
   "cell_type": "code",
   "execution_count": null,
   "id": "58454d81",
   "metadata": {},
   "outputs": [],
   "source": [
    "last_name == 'triton' or (first_name == 'triton' and age >= 21)"
   ]
  },
  {
   "cell_type": "code",
   "execution_count": null,
   "id": "a36e4bbb",
   "metadata": {},
   "outputs": [],
   "source": [
    "# Different meaning!\n",
    "(last_name == 'triton' or first_name == 'triton') and age >= 21"
   ]
  },
  {
   "cell_type": "markdown",
   "id": "abff5c19",
   "metadata": {
    "slideshow": {
     "slide_type": "slide"
    }
   },
   "source": [
    "### Be careful!"
   ]
  },
  {
   "cell_type": "code",
   "execution_count": null,
   "id": "6a336bdb",
   "metadata": {},
   "outputs": [],
   "source": [
    "a = True\n",
    "b = False\n",
    "\n",
    "not (a and b)"
   ]
  },
  {
   "cell_type": "code",
   "execution_count": null,
   "id": "a7f40c08",
   "metadata": {},
   "outputs": [],
   "source": [
    "(not a) and (not b)"
   ]
  },
  {
   "cell_type": "markdown",
   "id": "bf9fa056",
   "metadata": {
    "slideshow": {
     "slide_type": "slide"
    }
   },
   "source": [
    "<h3><span style='color:purple'>Activity</span></h3>\n",
    "\n",
    "Suppose we define `a = True` and `b = True`. What does the following expression evaluate to?\n",
    "\n",
    "```py\n",
    "not (((not a) and b) or ((not b) or a))\n",
    "```\n",
    "\n",
    "A. `True`\n",
    "\n",
    "B. `False`\n",
    "\n",
    "C. Could be either one\n",
    "\n",
    "**Think about what the answer should be WITHOUT running any code.**"
   ]
  },
  {
   "cell_type": "markdown",
   "id": "f91963bf",
   "metadata": {
    "slideshow": {
     "slide_type": "slide"
    }
   },
   "source": [
    "### The `in` operator\n",
    "\n",
    "Sometimes, we'll want to check if a particular element is in a list, or a particular **substring** is in a string. The `in` operator can do this for us:"
   ]
  },
  {
   "cell_type": "code",
   "execution_count": null,
   "id": "8137e28f",
   "metadata": {},
   "outputs": [],
   "source": [
    "3 in [1, 2, 3]"
   ]
  },
  {
   "cell_type": "code",
   "execution_count": null,
   "id": "e418f301",
   "metadata": {},
   "outputs": [],
   "source": [
    "'hey' in 'hey my name is'"
   ]
  },
  {
   "cell_type": "code",
   "execution_count": null,
   "id": "547ec641",
   "metadata": {},
   "outputs": [],
   "source": [
    "'dog' in 'hey my name is'"
   ]
  },
  {
   "cell_type": "markdown",
   "id": "ac378043",
   "metadata": {
    "slideshow": {
     "slide_type": "slide"
    }
   },
   "source": [
    "## Conditionals"
   ]
  },
  {
   "cell_type": "markdown",
   "id": "355a39cd",
   "metadata": {
    "slideshow": {
     "slide_type": "slide"
    }
   },
   "source": [
    "### `if`-statements\n",
    "\n",
    "- Often, we'll want to run a block of code only if a particular conditional expression is `True`.\n",
    "- The syntax for this is as follows (don't forget the colon!):\n",
    "\n",
    "\n",
    "```py\n",
    "if <condition>:\n",
    "    <body>\n",
    "```\n",
    "            \n",
    "- Indentation matters!"
   ]
  },
  {
   "cell_type": "code",
   "execution_count": null,
   "id": "0baeb2dd",
   "metadata": {},
   "outputs": [],
   "source": [
    "is_sunny = True\n",
    "\n",
    "if is_sunny:\n",
    "    print('Wear sunglasses.')"
   ]
  },
  {
   "cell_type": "markdown",
   "id": "edb2eab6",
   "metadata": {
    "slideshow": {
     "slide_type": "slide"
    }
   },
   "source": [
    "### `else`\n",
    "\n",
    "`else`: Do something else if the specified condition is `False`."
   ]
  },
  {
   "cell_type": "code",
   "execution_count": null,
   "id": "9a59794a",
   "metadata": {},
   "outputs": [],
   "source": [
    "is_sunny = False\n",
    "\n",
    "if is_sunny:\n",
    "    print('Wear sunglasses.')\n",
    "else:\n",
    "    print('Stay inside.')"
   ]
  },
  {
   "cell_type": "markdown",
   "id": "a22798d9",
   "metadata": {
    "slideshow": {
     "slide_type": "slide"
    }
   },
   "source": [
    "### `elif`\n",
    "\n",
    "- What if we want to check more than one condition? Use `elif`.\n",
    "- `elif`: if the specified condition is `False`, check the next condition.\n",
    "- If that condition is `False`, check the next condition, and so on, until we see a `True` condition.\n",
    "    - After seeing a `True` condition, it evaluates the indented code and stops.\n",
    "- If none of the conditions are `True`, the `else` body is run."
   ]
  },
  {
   "cell_type": "code",
   "execution_count": null,
   "id": "5eec7ea2",
   "metadata": {},
   "outputs": [],
   "source": [
    "is_raining = False\n",
    "is_warm = True\n",
    "is_sunny = True\n",
    "\n",
    "if is_raining:\n",
    "    print('Grab an umbrella.')\n",
    "elif is_warm:\n",
    "    print('Wear shorts.')\n",
    "elif is_sunny:\n",
    "    print('Wear sunglasses.')\n",
    "else:\n",
    "    print('All conditions are false!')"
   ]
  },
  {
   "cell_type": "markdown",
   "id": "e4e14147",
   "metadata": {
    "slideshow": {
     "slide_type": "slide"
    }
   },
   "source": [
    "### Example: sign function\n",
    "\n",
    "Below, complete the implementation of the function `sign`, which takes a single number (`x`) and returns `'positive'` if the number is positive, `'negative'` if the number is negative, and `'neither'` if it is neither."
   ]
  },
  {
   "cell_type": "code",
   "execution_count": null,
   "id": "ea1d6da2",
   "metadata": {},
   "outputs": [],
   "source": [
    "def sign(x):\n",
    "    if x > 0:\n",
    "        return 'positive'\n",
    "    elif x < 0:\n",
    "        return 'negative'\n",
    "    else:\n",
    "        return 'neither'"
   ]
  },
  {
   "cell_type": "code",
   "execution_count": null,
   "id": "10831d1e",
   "metadata": {},
   "outputs": [],
   "source": [
    "sign(7)"
   ]
  },
  {
   "cell_type": "code",
   "execution_count": null,
   "id": "efcbade0",
   "metadata": {},
   "outputs": [],
   "source": [
    "sign(-2)"
   ]
  },
  {
   "cell_type": "code",
   "execution_count": null,
   "id": "dc5f91f5",
   "metadata": {},
   "outputs": [],
   "source": [
    "sign(0)"
   ]
  },
  {
   "cell_type": "markdown",
   "id": "0439dbbd",
   "metadata": {
    "slideshow": {
     "slide_type": "slide"
    }
   },
   "source": [
    "### Example: percentage to letter grade\n",
    "\n",
    "Below, complete the implementation of the function, `grade_converter`, which takes in a percentage grade (`grade`) and returns the corresponding letter grade, according to this table:\n",
    "\n",
    "| Letter | Range |\n",
    "| --- | --- |\n",
    "| A | [90, 100] |\n",
    "| B | [80, 90) |\n",
    "| C | [70, 80) |\n",
    "| D | [60, 70) |\n",
    "| F | [0, 60)"
   ]
  },
  {
   "cell_type": "code",
   "execution_count": null,
   "id": "8161de63",
   "metadata": {},
   "outputs": [],
   "source": [
    "def grade_converter(grade):\n",
    "    if grade >= 90:\n",
    "        return 'A'\n",
    "    elif grade >= 80:\n",
    "        return 'B'\n",
    "    elif grade >= 70:\n",
    "        return 'C'\n",
    "    elif grade >= 60:\n",
    "        return 'D'\n",
    "    else:\n",
    "        return 'F'"
   ]
  },
  {
   "cell_type": "code",
   "execution_count": null,
   "id": "8850bae5",
   "metadata": {},
   "outputs": [],
   "source": [
    "grade_converter(84)"
   ]
  },
  {
   "cell_type": "code",
   "execution_count": null,
   "id": "2d543551",
   "metadata": {},
   "outputs": [],
   "source": [
    "grade_converter(55)"
   ]
  },
  {
   "cell_type": "markdown",
   "id": "f272f71b",
   "metadata": {
    "slideshow": {
     "slide_type": "slide"
    }
   },
   "source": [
    "<h3><span style='color:purple'>Activity</span></h3>\n",
    "\n",
    "```py\n",
    "\n",
    "def mystery(a, b):\n",
    "    if (a + b > 4) and (b > 0):\n",
    "        return 'bear'\n",
    "    elif (a * b >= 4) or (b < 0):\n",
    "        return 'triton'\n",
    "    else:\n",
    "        return 'bruin'\n",
    "```\n",
    "\n",
    "What is returned when `mystery(2, 2)` is called?\n",
    "\n",
    "A. `'bear'`\n",
    "\n",
    "B. `'triton'`\n",
    "\n",
    "C. `'bruin'`\n",
    "\n",
    "D. More than one of the above\n",
    "\n",
    "**Think about what the answer should be WITHOUT running any code.**"
   ]
  },
  {
   "cell_type": "markdown",
   "id": "80b5cd42",
   "metadata": {
    "slideshow": {
     "slide_type": "slide"
    }
   },
   "source": [
    "<center><h3>Break time! 🎉</h3></center>"
   ]
  }
 ],
 "metadata": {
  "kernelspec": {
   "display_name": "Python 3 (ipykernel)",
   "language": "python",
   "name": "python3"
  },
  "language_info": {
   "codemirror_mode": {
    "name": "ipython",
    "version": 3
   },
   "file_extension": ".py",
   "mimetype": "text/x-python",
   "name": "python",
   "nbconvert_exporter": "python",
   "pygments_lexer": "ipython3",
   "version": "3.9.7"
  },
  "livereveal": {
   "scroll": true,
   "transition": "none"
  }
 },
 "nbformat": 4,
 "nbformat_minor": 5
}
